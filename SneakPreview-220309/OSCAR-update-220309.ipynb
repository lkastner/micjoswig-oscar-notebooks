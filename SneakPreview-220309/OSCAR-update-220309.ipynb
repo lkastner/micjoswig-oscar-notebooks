{
 "cells": [
  {
   "cell_type": "markdown",
   "id": "06223cc3",
   "metadata": {},
   "source": [
    "# Sneak Preview: OSCAR 0.8.2-DEV@63551e\n",
    "\n",
    "Tue Mar 8 17:22:25 2022 +0100"
   ]
  },
  {
   "cell_type": "code",
   "execution_count": 1,
   "id": "29bf9398",
   "metadata": {},
   "outputs": [
    {
     "name": "stderr",
     "output_type": "stream",
     "text": [
      "\u001b[32m\u001b[1m    Updating\u001b[22m\u001b[39m registry at `~/.julia/registries/General.toml`\n",
      "\u001b[32m\u001b[1m   Resolving\u001b[22m\u001b[39m package versions...\n",
      "\u001b[32m\u001b[1m  No Changes\u001b[22m\u001b[39m to `/data/polymake/oscar-system/Oscar.jl/Project.toml`\n",
      "\u001b[32m\u001b[1m  No Changes\u001b[22m\u001b[39m to `/data/polymake/oscar-system/Oscar.jl/Manifest.toml`\n",
      "\u001b[32m\u001b[1m  Activating\u001b[22m\u001b[39m project at `/data/polymake/oscar-system/Oscar.jl`\n"
     ]
    }
   ],
   "source": [
    "import Pkg; Pkg.add(\"Revise\"); using Revise; Pkg.activate(\".\"); Pkg.instantiate();"
   ]
  },
  {
   "cell_type": "code",
   "execution_count": 2,
   "id": "bf42a804",
   "metadata": {
    "scrolled": false
   },
   "outputs": [
    {
     "name": "stdout",
     "output_type": "stream",
     "text": [
      " -----    -----    -----      -      -----   \n",
      "|     |  |     |  |     |    | |    |     |  \n",
      "|     |  |        |         |   |   |     |  \n",
      "|     |   -----   |        |     |  |-----   \n",
      "|     |        |  |        |-----|  |   |    \n",
      "|     |  |     |  |     |  |     |  |    |   \n",
      " -----    -----    -----   -     -  -     -  \n",
      "\n",
      "...combining (and extending) ANTIC, GAP, Polymake and Singular\n",
      "Version\u001b[32m 0.8.2-DEV \u001b[39m... \n",
      " ... which comes with absolutely no warranty whatsoever\n",
      "Type: '?Oscar' for more information\n",
      "(c) 2019-2022 by The Oscar Development Team\n"
     ]
    }
   ],
   "source": [
    "using Oscar"
   ]
  },
  {
   "cell_type": "markdown",
   "id": "521e8825",
   "metadata": {},
   "source": [
    "# Polyhedral Complexes and Triangulations of Point Sets\n",
    "\n",
    "(Taylor Brysiewicz & Lars Kastner)"
   ]
  },
  {
   "cell_type": "code",
   "execution_count": 3,
   "id": "b19332db",
   "metadata": {
    "scrolled": true
   },
   "outputs": [
    {
     "data": {
      "text/plain": [
       "A polyhedron in ambient dimension 3"
      ]
     },
     "execution_count": 3,
     "metadata": {},
     "output_type": "execute_result"
    }
   ],
   "source": [
    "c = cube(3,0,1)"
   ]
  },
  {
   "cell_type": "code",
   "execution_count": 4,
   "id": "9b36fdbf",
   "metadata": {},
   "outputs": [
    {
     "data": {
      "text/plain": [
       "74-element Vector{Vector{Vector{Int64}}}:\n",
       " [[1, 2, 3, 5], [2, 3, 4, 5], [2, 4, 5, 6], [3, 4, 5, 7], [4, 5, 6, 7], [4, 6, 7, 8]]\n",
       " [[2, 4, 5, 6], [3, 4, 5, 7], [4, 5, 6, 7], [4, 6, 7, 8], [1, 3, 4, 5], [1, 2, 4, 5]]\n",
       " [[1, 2, 3, 5], [2, 3, 4, 5], [2, 4, 5, 6], [3, 4, 5, 7], [4, 5, 7, 8], [4, 5, 6, 8]]\n",
       " [[1, 2, 3, 5], [4, 6, 7, 8], [2, 3, 5, 6], [3, 5, 6, 7], [2, 3, 4, 6], [3, 4, 6, 7]]\n",
       " [[1, 2, 3, 5], [4, 6, 7, 8], [2, 3, 5, 7], [2, 5, 6, 7], [2, 3, 4, 7], [2, 4, 6, 7]]\n",
       " [[2, 4, 5, 6], [4, 5, 6, 7], [4, 6, 7, 8], [1, 2, 4, 5], [1, 4, 5, 7], [1, 3, 4, 7]]\n",
       " [[3, 4, 5, 7], [4, 5, 6, 7], [4, 6, 7, 8], [1, 3, 4, 5], [1, 4, 5, 6], [1, 2, 4, 6]]\n",
       " [[2, 4, 5, 6], [3, 4, 5, 7], [1, 3, 4, 5], [1, 2, 4, 5], [4, 5, 7, 8], [4, 5, 6, 8]]\n",
       " [[1, 2, 3, 5], [2, 3, 5, 6], [3, 5, 6, 7], [2, 3, 4, 6], [3, 6, 7, 8], [3, 4, 6, 8]]\n",
       " [[4, 6, 7, 8], [3, 5, 6, 7], [2, 3, 4, 6], [3, 4, 6, 7], [1, 3, 5, 6], [1, 2, 3, 6]]\n",
       " [[1, 2, 3, 5], [2, 3, 4, 5], [2, 4, 5, 6], [4, 5, 6, 8], [3, 5, 7, 8], [3, 4, 5, 8]]\n",
       " [[1, 2, 3, 5], [2, 3, 4, 5], [3, 4, 5, 7], [4, 5, 7, 8], [2, 5, 6, 8], [2, 4, 5, 8]]\n",
       " [[4, 6, 7, 8], [2, 5, 6, 7], [2, 3, 4, 7], [2, 4, 6, 7], [1, 2, 5, 7], [1, 2, 3, 7]]\n",
       " ⋮\n",
       " [[2, 5, 6, 8], [1, 5, 7, 8], [1, 2, 5, 8], [1, 2, 4, 8], [1, 3, 4, 8], [1, 3, 7, 8]]\n",
       " [[1, 3, 4, 7], [1, 5, 7, 8], [1, 5, 6, 8], [1, 4, 7, 8], [1, 2, 4, 8], [1, 2, 6, 8]]\n",
       " [[2, 3, 4, 8], [1, 5, 6, 7], [1, 2, 3, 8], [1, 6, 7, 8], [1, 3, 7, 8], [1, 2, 6, 8]]\n",
       " [[1, 2, 4, 6], [1, 5, 7, 8], [1, 5, 6, 8], [1, 4, 6, 8], [1, 3, 4, 8], [1, 3, 7, 8]]\n",
       " [[3, 5, 7, 8], [1, 5, 6, 8], [1, 2, 4, 8], [1, 3, 5, 8], [1, 3, 4, 8], [1, 2, 6, 8]]\n",
       " [[2, 5, 6, 8], [2, 3, 4, 8], [1, 5, 7, 8], [1, 2, 5, 8], [1, 2, 3, 8], [1, 3, 7, 8]]\n",
       " [[3, 5, 7, 8], [2, 3, 4, 8], [1, 5, 6, 8], [1, 3, 5, 8], [1, 2, 3, 8], [1, 2, 6, 8]]\n",
       " [[1, 2, 4, 6], [1, 5, 6, 7], [1, 4, 6, 8], [1, 3, 4, 8], [1, 6, 7, 8], [1, 3, 7, 8]]\n",
       " [[1, 3, 4, 7], [1, 5, 6, 7], [1, 4, 7, 8], [1, 2, 4, 8], [1, 6, 7, 8], [1, 2, 6, 8]]\n",
       " [[2, 3, 4, 8], [1, 5, 7, 8], [1, 5, 6, 8], [1, 2, 3, 8], [1, 3, 7, 8], [1, 2, 6, 8]]\n",
       " [[1, 5, 7, 8], [1, 5, 6, 8], [1, 2, 4, 8], [1, 3, 4, 8], [1, 3, 7, 8], [1, 2, 6, 8]]\n",
       " [[1, 5, 6, 7], [1, 2, 4, 8], [1, 3, 4, 8], [1, 6, 7, 8], [1, 3, 7, 8], [1, 2, 6, 8]]"
      ]
     },
     "execution_count": 4,
     "metadata": {},
     "output_type": "execute_result"
    }
   ],
   "source": [
    "regular_triangulations(c)"
   ]
  },
  {
   "cell_type": "markdown",
   "id": "faf82155",
   "metadata": {},
   "source": [
    "# Toric Varieties\n",
    "\n",
    "(Martin Bies & Lars Kastner; Example by Simon Telen)"
   ]
  },
  {
   "cell_type": "code",
   "execution_count": 5,
   "id": "b5bece03",
   "metadata": {},
   "outputs": [
    {
     "data": {
      "text/plain": [
       "A normal toric variety"
      ]
     },
     "execution_count": 5,
     "metadata": {},
     "output_type": "execute_result"
    }
   ],
   "source": [
    "P = convex_hull([0 0; 3 -1; 2 2; 1 2]);\n",
    "X = NormalToricVariety(P)"
   ]
  },
  {
   "cell_type": "code",
   "execution_count": 6,
   "id": "41888049",
   "metadata": {},
   "outputs": [
    {
     "data": {
      "text/plain": [
       "4-element Vector{AffineNormalToricVariety}:\n",
       " A normal, affine toric variety\n",
       " A normal, affine toric variety\n",
       " A normal, affine toric variety\n",
       " A normal, affine toric variety"
      ]
     },
     "execution_count": 6,
     "metadata": {},
     "output_type": "execute_result"
    }
   ],
   "source": [
    "C = affine_open_covering(X)"
   ]
  },
  {
   "cell_type": "code",
   "execution_count": 7,
   "id": "c98443d9",
   "metadata": {
    "scrolled": true
   },
   "outputs": [
    {
     "data": {
      "text/plain": [
       "true"
      ]
     },
     "execution_count": 7,
     "metadata": {},
     "output_type": "execute_result"
    }
   ],
   "source": [
    "isnormal(C[1])"
   ]
  },
  {
   "cell_type": "code",
   "execution_count": 8,
   "id": "b4b1eed9",
   "metadata": {},
   "outputs": [
    {
     "data": {
      "text/plain": [
       "4-element SubObjectIterator{RayVector{fmpq}}:\n",
       " [1, -1//2]\n",
       " [0, -1]\n",
       " [-1, -1//3]\n",
       " [1, 3]"
      ]
     },
     "execution_count": 8,
     "metadata": {},
     "output_type": "execute_result"
    }
   ],
   "source": [
    "rays(fan(X))"
   ]
  },
  {
   "cell_type": "code",
   "execution_count": 9,
   "id": "771c688e",
   "metadata": {
    "scrolled": true
   },
   "outputs": [
    {
     "data": {
      "text/html": [
       "$\\text{Abelian Group with Invariants: }Z^2$"
      ],
      "text/plain": [
       "GrpAb: Z^2"
      ]
     },
     "execution_count": 9,
     "metadata": {},
     "output_type": "execute_result"
    }
   ],
   "source": [
    "picard_group(X)"
   ]
  },
  {
   "cell_type": "markdown",
   "id": "ba629704",
   "metadata": {},
   "source": [
    "# Algebraic Topology\n",
    "\n",
    "(Thomas Breuer, Max Horn & M.J.)"
   ]
  },
  {
   "cell_type": "code",
   "execution_count": 10,
   "id": "79722ae0",
   "metadata": {
    "scrolled": true
   },
   "outputs": [
    {
     "data": {
      "text/plain": [
       "Abstract simplicial complex of dimension 3 on 16 vertices"
      ]
     },
     "execution_count": 10,
     "metadata": {},
     "output_type": "execute_result"
    }
   ],
   "source": [
    "P = SimplicialComplex([[1,2,4,9],[1,2,4,15],[1,2,6,14],[1,2,6,15],[1,2,9,14],[1,3,4,12],[1,3,4,15],[1,3,7,10],[1,3,7,12],[1,3,10,15],[1,4,9,12],[1,5,6,13],[1,5,6,14],[1,5,8,11],[1,5,8,13],[1,5,11,14],[1,6,13,15],[1,7,8,10],[1,7,8,11],[1,7,11,12],[1,8,10,13],[1,9,11,12],[1,9,11,14],[1,10,13,15],[2,3,5,10],[2,3,5,11],[2,3,7,10],[2,3,7,13],[2,3,11,13],[2,4,9,13],[2,4,11,13],[2,4,11,15],[2,5,8,11],[2,5,8,12],[2,5,10,12],[2,6,10,12],[2,6,10,14],[2,6,12,15],[2,7,9,13],[2,7,9,14],[2,7,10,14],[2,8,11,15],[2,8,12,15],[3,4,5,14],[3,4,5,15],[3,4,12,14],[3,5,10,15],[3,5,11,14],[3,7,12,13],[3,11,13,14],[3,12,13,14],[4,5,6,7],[4,5,6,14],[4,5,7,15],[4,6,7,11],[4,6,10,11],[4,6,10,14],[4,7,11,15],[4,8,9,12],[4,8,9,13],[4,8,10,13],[4,8,10,14],[4,8,12,14],[4,10,11,13],[5,6,7,13],[5,7,9,13],[5,7,9,15],[5,8,9,12],[5,8,9,13],[5,9,10,12],[5,9,10,15],[6,7,11,12],[6,7,12,13],[6,10,11,12],[6,12,13,15],[7,8,10,14],[7,8,11,15],[7,8,14,15],[7,9,14,15],[8,12,14,15],[9,10,11,12],[9,10,11,16],[9,10,15,16],[9,11,14,16],[9,14,15,16],[10,11,13,16],[10,13,15,16],[11,13,14,16],[12,13,14,15],[13,14,15,16]])"
   ]
  },
  {
   "cell_type": "code",
   "execution_count": 11,
   "id": "0e860601",
   "metadata": {},
   "outputs": [
    {
     "data": {
      "text/plain": [
       "4-element Vector{Int64}:\n",
       "  16\n",
       " 106\n",
       " 180\n",
       "  90"
      ]
     },
     "execution_count": 11,
     "metadata": {},
     "output_type": "execute_result"
    }
   ],
   "source": [
    "f_vector(P)"
   ]
  },
  {
   "cell_type": "code",
   "execution_count": 12,
   "id": "52881d0d",
   "metadata": {},
   "outputs": [
    {
     "data": {
      "text/plain": [
       "4-element Vector{GrpAbFinGen}:\n",
       " GrpAb: Z/1\n",
       " GrpAb: Z/1\n",
       " GrpAb: Z/1\n",
       " (General) abelian group with relation matrix\n",
       "[1]"
      ]
     },
     "execution_count": 12,
     "metadata": {},
     "output_type": "execute_result"
    }
   ],
   "source": [
    "[ homology(P,k) for k in [0,1,2,3] ]"
   ]
  },
  {
   "cell_type": "code",
   "execution_count": 13,
   "id": "8b483023",
   "metadata": {},
   "outputs": [
    {
     "data": {
      "text/html": [
       "$120$"
      ],
      "text/latex": [
       "120"
      ],
      "text/plain": [
       "120"
      ]
     },
     "execution_count": 13,
     "metadata": {},
     "output_type": "execute_result"
    }
   ],
   "source": [
    "pi_1 = fundamental_group(P)\n",
    "order(pi_1)"
   ]
  },
  {
   "cell_type": "code",
   "execution_count": 14,
   "id": "01e00e39",
   "metadata": {},
   "outputs": [
    {
     "data": {
      "text/plain": [
       "\"SL(2,5)\""
      ]
     },
     "execution_count": 14,
     "metadata": {},
     "output_type": "execute_result"
    }
   ],
   "source": [
    "describe(pi_1)"
   ]
  },
  {
   "cell_type": "code",
   "execution_count": 15,
   "id": "3f7422d2",
   "metadata": {},
   "outputs": [
    {
     "data": {
      "text/plain": [
       "(Quotient of Multivariate Polynomial Ring in 16 variables x1, x2, x3, x4, ..., x16 over Rational Field by ideal(x1*x16, x2*x16, x4*x16, x6*x9, x6*x8, x6*x16, x3*x9, x3*x6, x3*x8, x3*x16, x12*x16, x7*x16, x5*x16, x8*x16, x1*x2*x3, x1*x2*x12, x1*x2*x7, x1*x2*x10, x1*x2*x5, x1*x2*x13, x1*x2*x8, x1*x2*x11, x1*x4*x6, x1*x4*x14, x1*x4*x7, x1*x4*x10, x1*x4*x5, x1*x4*x13, x1*x4*x8, x1*x4*x11, x2*x4*x6, x2*x4*x14, x2*x4*x5, x2*x4*x10, x2*x4*x7, x2*x4*x8, x2*x4*x12, x1*x9*x15, x1*x9*x10, x1*x9*x13, x2*x9*x15, x2*x9*x10, x2*x9*x11, x2*x9*x12, x4*x9*x15, x4*x9*x11, x4*x9*x14, x4*x9*x10, x1*x6*x12, x1*x6*x7, x1*x6*x10, x1*x6*x11, x2*x6*x11, x2*x6*x7, x2*x6*x13, x1*x14*x15, x2*x14*x15, x6*x14*x15, x1*x3*x14, x1*x3*x5, x1*x3*x13, x1*x3*x11, x3*x4*x13, x3*x4*x11, x3*x4*x7, x3*x4*x10, x1*x12*x15, x1*x12*x14, x1*x12*x13, x3*x12*x15, x4*x12*x15, x4*x12*x13, x1*x7*x9, x1*x7*x15, x1*x7*x14, x1*x7*x13, x3*x7*x15, x3*x7*x11, x3*x7*x14, x1*x10*x14, x1*x10*x12, x1*x10*x11, x3*x10*x12, x3*x10*x11, x3*x10*x13, x3*x10*x14, x7*x10*x12, x7*x10*x11, x7*x10*x13, x7*x10*x15, x7*x12*x15, x7*x12*x14, x9*x12*x14, x9*x12*x13, x9*x12*x15, x1*x5*x9, x1*x5*x15, x1*x5*x12, x1*x5*x7, x1*x5*x10, x5*x6*x15, x5*x6*x10, x5*x6*x12, x5*x6*x11, x1*x13*x14, x5*x13*x14, x5*x13*x15, x6*x13*x14, x5*x14*x15, x1*x8*x9, x1*x8*x15, x1*x8*x14, x1*x8*x12, x5*x8*x14, x5*x8*x10, x5*x8*x15, x1*x11*x15, x1*x11*x13, x5*x11*x13, x5*x11*x12, x5*x11*x15, x8*x11*x13, x8*x11*x12, x8*x11*x14, x8*x13*x15, x8*x13*x14, x11*x14*x15, x7*x8*x12, x7*x8*x13, x7*x8*x9, x8*x10*x15, x8*x10*x12, x8*x10*x11, x7*x11*x13, x7*x11*x14, x11*x12*x15, x11*x12*x14, x11*x12*x13, x10*x13*x14, x9*x11*x13, x9*x11*x15, x2*x3*x4, x2*x3*x15, x2*x3*x14, x2*x3*x12, x2*x5*x9, x2*x5*x15, x2*x5*x6, x2*x5*x14, x2*x5*x7, x2*x5*x13, x3*x5*x12, x3*x5*x7, x3*x5*x13, x2*x10*x15, x2*x10*x11, x2*x10*x13, x5*x10*x13, x5*x10*x14, x5*x10*x11, x2*x11*x14, x2*x11*x12, x3*x11*x12, x3*x11*x15, x2*x7*x15, x2*x7*x11, x2*x7*x8, x2*x7*x12, x2*x13*x15, x2*x13*x14, x3*x13*x15, x7*x13*x14, x7*x13*x15, x11*x13*x15, x4*x13*x15, x4*x13*x14, x9*x13*x14, x9*x13*x15, x9*x13*x16, x4*x11*x12, x4*x11*x14, x11*x15*x16, x2*x8*x9, x2*x8*x14, x2*x8*x10, x2*x8*x13, x2*x12*x14, x2*x12*x13, x5*x12*x15, x5*x12*x14, x5*x12*x13, x8*x12*x13, x10*x12*x15, x10*x12*x14, x10*x12*x13, x6*x10*x15, x6*x10*x13, x6*x12*x14, x10*x14*x15, x10*x14*x16, x7*x9*x12, x7*x9*x11, x7*x9*x10, x4*x5*x9, x4*x5*x12, x4*x5*x13, x4*x5*x11, x4*x5*x10, x4*x5*x8, x3*x14*x15, x4*x14*x15, x4*x6*x15, x4*x6*x12, x4*x6*x13, x4*x7*x9, x4*x7*x12, x4*x7*x13, x4*x7*x14, x4*x7*x10, x4*x7*x8, x5*x7*x10, x5*x7*x12, x5*x7*x8, x5*x7*x11, x5*x7*x14, x6*x7*x14, x6*x7*x15, x6*x7*x10, x6*x11*x14, x6*x11*x15, x6*x11*x13, x4*x10*x15, x4*x10*x12, x10*x11*x15, x10*x11*x14, x4*x8*x15, x4*x8*x11, x8*x9*x14, x8*x9*x11, x8*x9*x15, x8*x9*x10, x5*x9*x14, x5*x9*x11, x9*x10*x14, x9*x10*x13), Map from\n",
       "Multivariate Polynomial Ring in 16 variables x1, x2, x3, x4, ..., x16 over Rational Field to Quotient of Multivariate Polynomial Ring in 16 variables x1, x2, x3, x4, ..., x16 over Rational Field by ideal(x1*x16, x2*x16, x4*x16, x6*x9, x6*x8, x6*x16, x3*x9, x3*x6, x3*x8, x3*x16, x12*x16, x7*x16, x5*x16, x8*x16, x1*x2*x3, x1*x2*x12, x1*x2*x7, x1*x2*x10, x1*x2*x5, x1*x2*x13, x1*x2*x8, x1*x2*x11, x1*x4*x6, x1*x4*x14, x1*x4*x7, x1*x4*x10, x1*x4*x5, x1*x4*x13, x1*x4*x8, x1*x4*x11, x2*x4*x6, x2*x4*x14, x2*x4*x5, x2*x4*x10, x2*x4*x7, x2*x4*x8, x2*x4*x12, x1*x9*x15, x1*x9*x10, x1*x9*x13, x2*x9*x15, x2*x9*x10, x2*x9*x11, x2*x9*x12, x4*x9*x15, x4*x9*x11, x4*x9*x14, x4*x9*x10, x1*x6*x12, x1*x6*x7, x1*x6*x10, x1*x6*x11, x2*x6*x11, x2*x6*x7, x2*x6*x13, x1*x14*x15, x2*x14*x15, x6*x14*x15, x1*x3*x14, x1*x3*x5, x1*x3*x13, x1*x3*x11, x3*x4*x13, x3*x4*x11, x3*x4*x7, x3*x4*x10, x1*x12*x15, x1*x12*x14, x1*x12*x13, x3*x12*x15, x4*x12*x15, x4*x12*x13, x1*x7*x9, x1*x7*x15, x1*x7*x14, x1*x7*x13, x3*x7*x15, x3*x7*x11, x3*x7*x14, x1*x10*x14, x1*x10*x12, x1*x10*x11, x3*x10*x12, x3*x10*x11, x3*x10*x13, x3*x10*x14, x7*x10*x12, x7*x10*x11, x7*x10*x13, x7*x10*x15, x7*x12*x15, x7*x12*x14, x9*x12*x14, x9*x12*x13, x9*x12*x15, x1*x5*x9, x1*x5*x15, x1*x5*x12, x1*x5*x7, x1*x5*x10, x5*x6*x15, x5*x6*x10, x5*x6*x12, x5*x6*x11, x1*x13*x14, x5*x13*x14, x5*x13*x15, x6*x13*x14, x5*x14*x15, x1*x8*x9, x1*x8*x15, x1*x8*x14, x1*x8*x12, x5*x8*x14, x5*x8*x10, x5*x8*x15, x1*x11*x15, x1*x11*x13, x5*x11*x13, x5*x11*x12, x5*x11*x15, x8*x11*x13, x8*x11*x12, x8*x11*x14, x8*x13*x15, x8*x13*x14, x11*x14*x15, x7*x8*x12, x7*x8*x13, x7*x8*x9, x8*x10*x15, x8*x10*x12, x8*x10*x11, x7*x11*x13, x7*x11*x14, x11*x12*x15, x11*x12*x14, x11*x12*x13, x10*x13*x14, x9*x11*x13, x9*x11*x15, x2*x3*x4, x2*x3*x15, x2*x3*x14, x2*x3*x12, x2*x5*x9, x2*x5*x15, x2*x5*x6, x2*x5*x14, x2*x5*x7, x2*x5*x13, x3*x5*x12, x3*x5*x7, x3*x5*x13, x2*x10*x15, x2*x10*x11, x2*x10*x13, x5*x10*x13, x5*x10*x14, x5*x10*x11, x2*x11*x14, x2*x11*x12, x3*x11*x12, x3*x11*x15, x2*x7*x15, x2*x7*x11, x2*x7*x8, x2*x7*x12, x2*x13*x15, x2*x13*x14, x3*x13*x15, x7*x13*x14, x7*x13*x15, x11*x13*x15, x4*x13*x15, x4*x13*x14, x9*x13*x14, x9*x13*x15, x9*x13*x16, x4*x11*x12, x4*x11*x14, x11*x15*x16, x2*x8*x9, x2*x8*x14, x2*x8*x10, x2*x8*x13, x2*x12*x14, x2*x12*x13, x5*x12*x15, x5*x12*x14, x5*x12*x13, x8*x12*x13, x10*x12*x15, x10*x12*x14, x10*x12*x13, x6*x10*x15, x6*x10*x13, x6*x12*x14, x10*x14*x15, x10*x14*x16, x7*x9*x12, x7*x9*x11, x7*x9*x10, x4*x5*x9, x4*x5*x12, x4*x5*x13, x4*x5*x11, x4*x5*x10, x4*x5*x8, x3*x14*x15, x4*x14*x15, x4*x6*x15, x4*x6*x12, x4*x6*x13, x4*x7*x9, x4*x7*x12, x4*x7*x13, x4*x7*x14, x4*x7*x10, x4*x7*x8, x5*x7*x10, x5*x7*x12, x5*x7*x8, x5*x7*x11, x5*x7*x14, x6*x7*x14, x6*x7*x15, x6*x7*x10, x6*x11*x14, x6*x11*x15, x6*x11*x13, x4*x10*x15, x4*x10*x12, x10*x11*x15, x10*x11*x14, x4*x8*x15, x4*x8*x11, x8*x9*x14, x8*x9*x11, x8*x9*x15, x8*x9*x10, x5*x9*x14, x5*x9*x11, x9*x10*x14, x9*x10*x13) defined by a julia-function with inverse)"
      ]
     },
     "execution_count": 15,
     "metadata": {},
     "output_type": "execute_result"
    }
   ],
   "source": [
    "stanley_reisner_ring(P)"
   ]
  },
  {
   "cell_type": "markdown",
   "id": "3fd4c31a",
   "metadata": {},
   "source": [
    "# Real Algebraic Number Fields\n",
    "\n",
    "(Tommy Hofmann & Claus Fieker)"
   ]
  },
  {
   "cell_type": "code",
   "execution_count": 16,
   "id": "a09f8e3e",
   "metadata": {},
   "outputs": [],
   "source": [
    "Qx, x = QQ[\"x\"];"
   ]
  },
  {
   "cell_type": "code",
   "execution_count": 17,
   "id": "13ebc81f",
   "metadata": {},
   "outputs": [],
   "source": [
    "K, phi = embedded_number_field(x^2 - x - 1, 1.618, \"phi\");"
   ]
  },
  {
   "cell_type": "code",
   "execution_count": 18,
   "id": "893ea6f0",
   "metadata": {
    "scrolled": true
   },
   "outputs": [
    {
     "data": {
      "text/html": [
       "phi"
      ],
      "text/latex": [
       "\\mathop{\\mathrm{phi}}"
      ],
      "text/plain": [
       "phi (1.62)"
      ]
     },
     "execution_count": 18,
     "metadata": {},
     "output_type": "execute_result"
    }
   ],
   "source": [
    "(phi+1) // phi"
   ]
  },
  {
   "cell_type": "code",
   "execution_count": 19,
   "id": "25ff0219",
   "metadata": {},
   "outputs": [
    {
     "data": {
      "text/plain": [
       "true"
      ]
     },
     "execution_count": 19,
     "metadata": {},
     "output_type": "execute_result"
    }
   ],
   "source": [
    "phi < 1.61804"
   ]
  },
  {
   "cell_type": "markdown",
   "id": "5e4b2bcd",
   "metadata": {},
   "source": [
    "# Invariant Theory\n",
    "\n",
    "(Wolfram Decker & Johannes Schmitt)"
   ]
  },
  {
   "cell_type": "code",
   "execution_count": 20,
   "id": "0c722fff",
   "metadata": {},
   "outputs": [
    {
     "data": {
      "text/plain": [
       "(Cyclotomic field of order 3, a)"
      ]
     },
     "execution_count": 20,
     "metadata": {},
     "output_type": "execute_result"
    }
   ],
   "source": [
    "K, a = CyclotomicField(3, \"a\")"
   ]
  },
  {
   "cell_type": "code",
   "execution_count": 21,
   "id": "241acc34",
   "metadata": {},
   "outputs": [
    {
     "data": {
      "text/html": [
       "$\\begin{bmatrix}0&0&1\\\\\n",
       "1&0&0\\\\\n",
       "0&1&0\\end{bmatrix}$"
      ],
      "text/latex": [
       "\\begin{array}{ccc}\n",
       "0 & 0 & 1 \\\\\n",
       "1 & 0 & 0 \\\\\n",
       "0 & 1 & 0\n",
       "\\end{array}"
      ],
      "text/plain": [
       "[0   0   1]\n",
       "[1   0   0]\n",
       "[0   1   0]"
      ]
     },
     "execution_count": 21,
     "metadata": {},
     "output_type": "execute_result"
    }
   ],
   "source": [
    "M1 = matrix(K, [0 0 1; 1 0 0; 0 1 0])"
   ]
  },
  {
   "cell_type": "code",
   "execution_count": 22,
   "id": "523fec48",
   "metadata": {},
   "outputs": [
    {
     "data": {
      "text/html": [
       "$\\begin{bmatrix}1&0&0\\\\\n",
       "0&a&0\\\\\n",
       "0&0&-a - 1\\end{bmatrix}$"
      ],
      "text/latex": [
       "\\begin{array}{ccc}\n",
       "1 & 0 & 0 \\\\\n",
       "0 & a & 0 \\\\\n",
       "0 & 0 & -a - 1\n",
       "\\end{array}"
      ],
      "text/plain": [
       "[1   0        0]\n",
       "[0   a        0]\n",
       "[0   0   -a - 1]"
      ]
     },
     "execution_count": 22,
     "metadata": {},
     "output_type": "execute_result"
    }
   ],
   "source": [
    "M2 = matrix(K, [1 0 0; 0 a 0; 0 0 -a-1])"
   ]
  },
  {
   "cell_type": "code",
   "execution_count": 23,
   "id": "3d0d6d07",
   "metadata": {},
   "outputs": [
    {
     "data": {
      "text/plain": [
       "Matrix group of degree 3 over K"
      ]
     },
     "execution_count": 23,
     "metadata": {},
     "output_type": "execute_result"
    }
   ],
   "source": [
    "G = MatrixGroup(3, K, [ M1, M2 ])"
   ]
  },
  {
   "cell_type": "code",
   "execution_count": 24,
   "id": "74a3cf90",
   "metadata": {},
   "outputs": [
    {
     "data": {
      "text/plain": [
       "Invariant ring of\n",
       "Matrix group of degree 3 over K\n",
       "with generators\n",
       "AbstractAlgebra.Generic.MatSpaceElem{nf_elem}[[0 0 1; 1 0 0; 0 1 0], [1 0 0; 0 a 0; 0 0 -a-1]]"
      ]
     },
     "execution_count": 24,
     "metadata": {},
     "output_type": "execute_result"
    }
   ],
   "source": [
    "IR = invariant_ring(G)"
   ]
  },
  {
   "cell_type": "code",
   "execution_count": 25,
   "id": "ca9ff90d",
   "metadata": {},
   "outputs": [
    {
     "data": {
      "text/plain": [
       "3-element Vector{MPolyElem_dec{nf_elem, AbstractAlgebra.Generic.MPoly{nf_elem}}}:\n",
       " x_{1}*x_{2}*x_{3}\n",
       " x_{1}^3 + x_{2}^3 + x_{3}^3\n",
       " x_{1}^3*x_{2}^3 + x_{1}^3*x_{3}^3 + x_{2}^3*x_{3}^3"
      ]
     },
     "execution_count": 25,
     "metadata": {},
     "output_type": "execute_result"
    }
   ],
   "source": [
    "primary_invariants(IR)"
   ]
  },
  {
   "cell_type": "code",
   "execution_count": 26,
   "id": "d57a75a3",
   "metadata": {},
   "outputs": [
    {
     "data": {
      "text/plain": [
       "2-element Vector{MPolyElem_dec{nf_elem, AbstractAlgebra.Generic.MPoly{nf_elem}}}:\n",
       " 1\n",
       " x_{1}^6*x_{3}^3 + x_{1}^3*x_{2}^6 + x_{2}^3*x_{3}^6"
      ]
     },
     "execution_count": 26,
     "metadata": {},
     "output_type": "execute_result"
    }
   ],
   "source": [
    "secondary_invariants(IR)"
   ]
  },
  {
   "cell_type": "markdown",
   "id": "ec9c9483",
   "metadata": {},
   "source": [
    "# Current Development (selection)\n",
    "\n",
    "* tropical geometry (Marta Panizzut, Yue Ren and others)\n",
    "* matroids (Lukas Kühne & Benjamin Schröter)\n",
    "* schemes and blow-ups (Janko Böhm & Matthias Zach)\n",
    "* irreducible representations of solvable groups (Thomas Breuer)"
   ]
  },
  {
   "cell_type": "markdown",
   "id": "28676d81",
   "metadata": {},
   "source": [
    "# PS: (Not Only) Eye Candy\n",
    "\n",
    "(Alexej Jordan)"
   ]
  },
  {
   "cell_type": "code",
   "execution_count": 27,
   "id": "11a8ce5d",
   "metadata": {},
   "outputs": [
    {
     "data": {
      "text/plain": [
       "5-element SubObjectIterator{AffineHalfspace{fmpq}} over the Halfspaces of R^2 described by:\n",
       "-x₁ ≦ 1\n",
       "-x₁ + x₂ ≦ 1\n",
       "x₁ - 2*x₂ ≦ 1\n",
       "x₁ ≦ 1\n",
       "x₂ ≦ 1\n"
      ]
     },
     "execution_count": 27,
     "metadata": {},
     "output_type": "execute_result"
    }
   ],
   "source": [
    "points = [1 0; 1 1; 0 1; -1 0; -1 -1];\n",
    "P = convex_hull(points);\n",
    "facets(P)"
   ]
  },
  {
   "cell_type": "markdown",
   "id": "2bc3d851",
   "metadata": {},
   "source": [
    "# PPS: Almost Recent (= 3 Months Old)\n",
    "\n",
    "(Benjamin Lorenz, Andreas Paffenholz and others)"
   ]
  },
  {
   "cell_type": "code",
   "execution_count": 28,
   "id": "2dca3164",
   "metadata": {},
   "outputs": [
    {
     "data": {
      "text/plain": [
       "47-element Vector{fmpq_poly}:\n",
       " 46//3*x^4 + 92//3*x^3 + 139//6*x^2 + 47//6*x + 1\n",
       " 93//4*x^4 + 93//2*x^3 + 133//4*x^2 + 10*x + 1\n",
       " 239//12*x^4 + 239//6*x^3 + 349//12*x^2 + 55//6*x + 1\n",
       " 463//24*x^4 + 463//12*x^3 + 677//24*x^2 + 107//12*x + 1\n",
       " 191//12*x^4 + 191//6*x^3 + 289//12*x^2 + 49//6*x + 1\n",
       " 62//3*x^4 + 124//3*x^3 + 179//6*x^2 + 55//6*x + 1\n",
       " 415//24*x^4 + 415//12*x^3 + 617//24*x^2 + 101//12*x + 1\n",
       " 433//24*x^4 + 433//12*x^3 + 635//24*x^2 + 101//12*x + 1\n",
       " 50//3*x^4 + 100//3*x^3 + 149//6*x^2 + 49//6*x + 1\n",
       " 337//24*x^4 + 337//12*x^3 + 515//24*x^2 + 89//12*x + 1\n",
       " 123//8*x^4 + 123//4*x^3 + 185//8*x^2 + 31//4*x + 1\n",
       " 385//24*x^4 + 385//12*x^3 + 575//24*x^2 + 95//12*x + 1\n",
       " 163//12*x^4 + 163//6*x^3 + 251//12*x^2 + 22//3*x + 1\n",
       " ⋮\n",
       " 16*x^4 + 32*x^3 + 24*x^2 + 8*x + 1\n",
       " 16*x^4 + 32*x^3 + 24*x^2 + 8*x + 1\n",
       " 50//3*x^4 + 100//3*x^3 + 149//6*x^2 + 49//6*x + 1\n",
       " 347//24*x^4 + 347//12*x^3 + 529//24*x^2 + 91//12*x + 1\n",
       " 149//8*x^4 + 149//4*x^3 + 219//8*x^2 + 35//4*x + 1\n",
       " 415//24*x^4 + 415//12*x^3 + 617//24*x^2 + 101//12*x + 1\n",
       " 367//24*x^4 + 367//12*x^3 + 557//24*x^2 + 95//12*x + 1\n",
       " 63//4*x^4 + 63//2*x^3 + 95//4*x^2 + 8*x + 1\n",
       " 46//3*x^4 + 92//3*x^3 + 139//6*x^2 + 47//6*x + 1\n",
       " 16*x^4 + 32*x^3 + 24*x^2 + 8*x + 1\n",
       " 44//3*x^4 + 88//3*x^3 + 67//3*x^2 + 23//3*x + 1\n",
       " 16*x^4 + 32*x^3 + 24*x^2 + 8*x + 1"
      ]
     },
     "execution_count": 28,
     "metadata": {},
     "output_type": "execute_result"
    }
   ],
   "source": [
    "db = Polymake.Polydb.get_db();\n",
    "collection = db[\"Polytopes.Lattice.SmoothReflexive\"];\n",
    "query = Dict(\"DIM\"=>4, \"N_FACETS\"=>8);\n",
    "results = Polymake.Polydb.find(collection, query);\n",
    "[ ehrhart_polynomial(Polyhedron(P)) for P in results ]"
   ]
  },
  {
   "cell_type": "code",
   "execution_count": null,
   "id": "78cc5dff",
   "metadata": {},
   "outputs": [],
   "source": []
  }
 ],
 "metadata": {
  "kernelspec": {
   "display_name": "Julia 1.7.2",
   "language": "julia",
   "name": "julia-1.7"
  },
  "language_info": {
   "file_extension": ".jl",
   "mimetype": "application/julia",
   "name": "julia",
   "version": "1.7.2"
  }
 },
 "nbformat": 4,
 "nbformat_minor": 5
}
