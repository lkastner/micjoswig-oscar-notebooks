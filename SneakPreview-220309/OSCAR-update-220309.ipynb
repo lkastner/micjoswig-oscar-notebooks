{
 "cells": [
  {
   "cell_type": "markdown",
   "id": "06223cc3",
   "metadata": {},
   "source": [
    "# Sneak Preview: OSCAR 0.8.2-DEV@63551e\n",
    "\n",
    "Tue Mar 8 17:22:25 2022 +0100\n",
    "\n",
    "By now v0.8.2 has been released."
   ]
  },
  {
   "cell_type": "code",
   "execution_count": 1,
   "id": "bf42a804",
   "metadata": {},
   "outputs": [
    {
     "name": "stdout",
     "output_type": "stream",
     "text": [
      "  ___   ____   ____    _    ____\n",
      " / _ \\ / ___| / ___|  / \\  |  _ \\   |  Combining ANTIC, GAP, Polymake, Singular\n",
      "| | | |\\___ \\| |     / _ \\ | |_) |  |  Type \"?Oscar\" for more information\n",
      "| |_| | ___) | |___ / ___ \\|  _ <   |  Manual: https://docs.oscar-system.org\n",
      " \\___/ |____/ \\____/_/   \\_\\_| \\_\\  |  Version 1.0.0\n"
     ]
    }
   ],
   "source": [
    "using Oscar"
   ]
  },
  {
   "cell_type": "markdown",
   "id": "521e8825",
   "metadata": {},
   "source": [
    "# Polyhedral Complexes and Triangulations of Point Sets\n",
    "\n",
    "(Taylor Brysiewicz & Lars Kastner)"
   ]
  },
  {
   "cell_type": "code",
   "execution_count": 2,
   "id": "b19332db",
   "metadata": {
    "scrolled": true
   },
   "outputs": [
    {
     "data": {
      "text/plain": [
       "Polytope in ambient dimension 3"
      ]
     },
     "execution_count": 2,
     "metadata": {},
     "output_type": "execute_result"
    }
   ],
   "source": [
    "c = cube(3,0,1)"
   ]
  },
  {
   "cell_type": "code",
   "execution_count": 3,
   "id": "9b36fdbf",
   "metadata": {},
   "outputs": [
    {
     "data": {
      "text/plain": [
       "74-element Vector{Vector{Vector{Int64}}}:\n",
       " [[1, 2, 3, 5], [2, 3, 4, 5], [2, 4, 5, 6], [3, 4, 5, 7], [4, 5, 6, 7], [4, 6, 7, 8]]\n",
       " [[1, 2, 4, 5], [1, 3, 4, 5], [2, 4, 5, 6], [3, 4, 5, 7], [4, 5, 6, 7], [4, 6, 7, 8]]\n",
       " [[1, 2, 3, 5], [2, 3, 4, 5], [2, 4, 5, 6], [3, 4, 5, 7], [4, 5, 6, 8], [4, 5, 7, 8]]\n",
       " [[1, 2, 3, 5], [2, 3, 4, 6], [2, 3, 5, 6], [3, 4, 6, 7], [3, 5, 6, 7], [4, 6, 7, 8]]\n",
       " [[1, 2, 3, 5], [2, 3, 4, 7], [2, 3, 5, 7], [2, 4, 6, 7], [2, 5, 6, 7], [4, 6, 7, 8]]\n",
       " [[1, 2, 4, 5], [1, 3, 4, 7], [1, 4, 5, 7], [2, 4, 5, 6], [4, 5, 6, 7], [4, 6, 7, 8]]\n",
       " [[1, 2, 4, 6], [1, 3, 4, 5], [1, 4, 5, 6], [3, 4, 5, 7], [4, 5, 6, 7], [4, 6, 7, 8]]\n",
       " [[1, 2, 4, 5], [1, 3, 4, 5], [2, 4, 5, 6], [3, 4, 5, 7], [4, 5, 6, 8], [4, 5, 7, 8]]\n",
       " [[1, 2, 3, 5], [2, 3, 4, 6], [2, 3, 5, 6], [3, 4, 6, 8], [3, 5, 6, 7], [3, 6, 7, 8]]\n",
       " [[1, 2, 3, 6], [1, 3, 5, 6], [2, 3, 4, 6], [3, 4, 6, 7], [3, 5, 6, 7], [4, 6, 7, 8]]\n",
       " [[1, 2, 3, 5], [2, 3, 4, 5], [2, 4, 5, 6], [3, 4, 5, 8], [3, 5, 7, 8], [4, 5, 6, 8]]\n",
       " [[1, 2, 3, 5], [2, 3, 4, 5], [2, 4, 5, 8], [2, 5, 6, 8], [3, 4, 5, 7], [4, 5, 7, 8]]\n",
       " [[1, 2, 3, 7], [1, 2, 5, 7], [2, 3, 4, 7], [2, 4, 6, 7], [2, 5, 6, 7], [4, 6, 7, 8]]\n",
       " ⋮\n",
       " [[1, 2, 4, 8], [1, 2, 5, 8], [1, 3, 4, 8], [1, 3, 7, 8], [1, 5, 7, 8], [2, 5, 6, 8]]\n",
       " [[1, 2, 4, 8], [1, 2, 6, 8], [1, 3, 4, 7], [1, 4, 7, 8], [1, 5, 6, 8], [1, 5, 7, 8]]\n",
       " [[1, 2, 3, 8], [1, 2, 6, 8], [1, 3, 7, 8], [1, 5, 6, 7], [1, 6, 7, 8], [2, 3, 4, 8]]\n",
       " [[1, 2, 4, 6], [1, 3, 4, 8], [1, 3, 7, 8], [1, 4, 6, 8], [1, 5, 6, 8], [1, 5, 7, 8]]\n",
       " [[1, 2, 4, 8], [1, 2, 6, 8], [1, 3, 4, 8], [1, 3, 5, 8], [1, 5, 6, 8], [3, 5, 7, 8]]\n",
       " [[1, 2, 3, 8], [1, 2, 5, 8], [1, 3, 7, 8], [1, 5, 7, 8], [2, 3, 4, 8], [2, 5, 6, 8]]\n",
       " [[1, 2, 3, 8], [1, 2, 6, 8], [1, 3, 5, 8], [1, 5, 6, 8], [2, 3, 4, 8], [3, 5, 7, 8]]\n",
       " [[1, 2, 4, 6], [1, 3, 4, 8], [1, 3, 7, 8], [1, 4, 6, 8], [1, 5, 6, 7], [1, 6, 7, 8]]\n",
       " [[1, 2, 4, 8], [1, 2, 6, 8], [1, 3, 4, 7], [1, 4, 7, 8], [1, 5, 6, 7], [1, 6, 7, 8]]\n",
       " [[1, 2, 3, 8], [1, 2, 6, 8], [1, 3, 7, 8], [1, 5, 6, 8], [1, 5, 7, 8], [2, 3, 4, 8]]\n",
       " [[1, 2, 4, 8], [1, 2, 6, 8], [1, 3, 4, 8], [1, 3, 7, 8], [1, 5, 6, 8], [1, 5, 7, 8]]\n",
       " [[1, 2, 4, 8], [1, 2, 6, 8], [1, 3, 4, 8], [1, 3, 7, 8], [1, 5, 6, 7], [1, 6, 7, 8]]"
      ]
     },
     "execution_count": 3,
     "metadata": {},
     "output_type": "execute_result"
    }
   ],
   "source": [
    "regular_triangulations(c)"
   ]
  },
  {
   "cell_type": "markdown",
   "id": "faf82155",
   "metadata": {},
   "source": [
    "# Toric Varieties\n",
    "\n",
    "(Martin Bies & Lars Kastner; Example by Simon Telen)"
   ]
  },
  {
   "cell_type": "code",
   "execution_count": 4,
   "id": "b5bece03",
   "metadata": {},
   "outputs": [
    {
     "data": {
      "text/plain": [
       "Normal toric variety"
      ]
     },
     "execution_count": 4,
     "metadata": {},
     "output_type": "execute_result"
    }
   ],
   "source": [
    "P = convex_hull([0 0; 3 -1; 2 2; 1 2]);\n",
    "X = normal_toric_variety(P)"
   ]
  },
  {
   "cell_type": "code",
   "execution_count": 5,
   "id": "41888049",
   "metadata": {},
   "outputs": [
    {
     "data": {
      "text/plain": [
       "4-element Vector{AffineNormalToricVariety}:\n",
       " Normal toric variety\n",
       " Normal toric variety\n",
       " Normal toric variety\n",
       " Normal toric variety"
      ]
     },
     "execution_count": 5,
     "metadata": {},
     "output_type": "execute_result"
    }
   ],
   "source": [
    "C = affine_open_covering(X)"
   ]
  },
  {
   "cell_type": "code",
   "execution_count": 6,
   "id": "c98443d9",
   "metadata": {
    "scrolled": true
   },
   "outputs": [
    {
     "data": {
      "text/plain": [
       "true"
      ]
     },
     "execution_count": 6,
     "metadata": {},
     "output_type": "execute_result"
    }
   ],
   "source": [
    "is_normal(C[1])"
   ]
  },
  {
   "cell_type": "code",
   "execution_count": 7,
   "id": "b4b1eed9",
   "metadata": {},
   "outputs": [
    {
     "data": {
      "text/plain": [
       "4-element SubObjectIterator{RayVector{QQFieldElem}}:\n",
       " [1, -1//2]\n",
       " [0, -1]\n",
       " [-1, -1//3]\n",
       " [1, 3]"
      ]
     },
     "execution_count": 7,
     "metadata": {},
     "output_type": "execute_result"
    }
   ],
   "source": [
    "rays(polyhedral_fan(X))"
   ]
  },
  {
   "cell_type": "code",
   "execution_count": 8,
   "id": "771c688e",
   "metadata": {
    "scrolled": true
   },
   "outputs": [
    {
     "data": {
      "text/plain": [
       "Z^2"
      ]
     },
     "execution_count": 8,
     "metadata": {},
     "output_type": "execute_result"
    }
   ],
   "source": [
    "picard_group(X)"
   ]
  },
  {
   "cell_type": "markdown",
   "id": "ba629704",
   "metadata": {},
   "source": [
    "# Algebraic Topology\n",
    "\n",
    "(Thomas Breuer, Max Horn & M.J.)"
   ]
  },
  {
   "cell_type": "code",
   "execution_count": 9,
   "id": "79722ae0",
   "metadata": {
    "scrolled": true
   },
   "outputs": [
    {
     "data": {
      "text/plain": [
       "Abstract simplicial complex of dimension 3 on 16 vertices"
      ]
     },
     "execution_count": 9,
     "metadata": {},
     "output_type": "execute_result"
    }
   ],
   "source": [
    "P = simplicial_complex([[1,2,4,9],[1,2,4,15],[1,2,6,14],[1,2,6,15],[1,2,9,14],[1,3,4,12],[1,3,4,15],[1,3,7,10],[1,3,7,12],[1,3,10,15],[1,4,9,12],[1,5,6,13],[1,5,6,14],[1,5,8,11],[1,5,8,13],[1,5,11,14],[1,6,13,15],[1,7,8,10],[1,7,8,11],[1,7,11,12],[1,8,10,13],[1,9,11,12],[1,9,11,14],[1,10,13,15],[2,3,5,10],[2,3,5,11],[2,3,7,10],[2,3,7,13],[2,3,11,13],[2,4,9,13],[2,4,11,13],[2,4,11,15],[2,5,8,11],[2,5,8,12],[2,5,10,12],[2,6,10,12],[2,6,10,14],[2,6,12,15],[2,7,9,13],[2,7,9,14],[2,7,10,14],[2,8,11,15],[2,8,12,15],[3,4,5,14],[3,4,5,15],[3,4,12,14],[3,5,10,15],[3,5,11,14],[3,7,12,13],[3,11,13,14],[3,12,13,14],[4,5,6,7],[4,5,6,14],[4,5,7,15],[4,6,7,11],[4,6,10,11],[4,6,10,14],[4,7,11,15],[4,8,9,12],[4,8,9,13],[4,8,10,13],[4,8,10,14],[4,8,12,14],[4,10,11,13],[5,6,7,13],[5,7,9,13],[5,7,9,15],[5,8,9,12],[5,8,9,13],[5,9,10,12],[5,9,10,15],[6,7,11,12],[6,7,12,13],[6,10,11,12],[6,12,13,15],[7,8,10,14],[7,8,11,15],[7,8,14,15],[7,9,14,15],[8,12,14,15],[9,10,11,12],[9,10,11,16],[9,10,15,16],[9,11,14,16],[9,14,15,16],[10,11,13,16],[10,13,15,16],[11,13,14,16],[12,13,14,15],[13,14,15,16]])"
   ]
  },
  {
   "cell_type": "code",
   "execution_count": 10,
   "id": "0e860601",
   "metadata": {},
   "outputs": [
    {
     "data": {
      "text/plain": [
       "4-element Vector{Int64}:\n",
       "  16\n",
       " 106\n",
       " 180\n",
       "  90"
      ]
     },
     "execution_count": 10,
     "metadata": {},
     "output_type": "execute_result"
    }
   ],
   "source": [
    "f_vector(P)"
   ]
  },
  {
   "cell_type": "code",
   "execution_count": 11,
   "id": "52881d0d",
   "metadata": {},
   "outputs": [
    {
     "data": {
      "text/plain": [
       "4-element Vector{FinGenAbGroup}:\n",
       " Z\n",
       " Z/1\n",
       " Z/1\n",
       " Z"
      ]
     },
     "execution_count": 11,
     "metadata": {},
     "output_type": "execute_result"
    }
   ],
   "source": [
    "[ homology(P,k) for k in [0,1,2,3] ]"
   ]
  },
  {
   "cell_type": "code",
   "execution_count": 12,
   "id": "8b483023",
   "metadata": {},
   "outputs": [
    {
     "data": {
      "text/plain": [
       "120"
      ]
     },
     "execution_count": 12,
     "metadata": {},
     "output_type": "execute_result"
    }
   ],
   "source": [
    "pi_1 = fundamental_group(P)\n",
    "order(pi_1)"
   ]
  },
  {
   "cell_type": "code",
   "execution_count": 13,
   "id": "01e00e39",
   "metadata": {},
   "outputs": [
    {
     "data": {
      "text/plain": [
       "\"SL(2,5)\""
      ]
     },
     "execution_count": 13,
     "metadata": {},
     "output_type": "execute_result"
    }
   ],
   "source": [
    "describe(pi_1)"
   ]
  },
  {
   "cell_type": "code",
   "execution_count": 14,
   "id": "3f7422d2",
   "metadata": {},
   "outputs": [
    {
     "data": {
      "text/plain": [
       "(Quotient of multivariate polynomial ring by ideal with 245 generators, Map: multivariate polynomial ring -> quotient of multivariate polynomial ring)"
      ]
     },
     "execution_count": 14,
     "metadata": {},
     "output_type": "execute_result"
    }
   ],
   "source": [
    "stanley_reisner_ring(P)"
   ]
  },
  {
   "cell_type": "markdown",
   "id": "3fd4c31a",
   "metadata": {},
   "source": [
    "# Real Algebraic Number Fields\n",
    "\n",
    "(Tommy Hofmann & Claus Fieker)"
   ]
  },
  {
   "cell_type": "code",
   "execution_count": 15,
   "id": "a09f8e3e",
   "metadata": {},
   "outputs": [],
   "source": [
    "Qx, x = QQ[\"x\"];"
   ]
  },
  {
   "cell_type": "code",
   "execution_count": 16,
   "id": "13ebc81f",
   "metadata": {},
   "outputs": [],
   "source": [
    "K, phi = embedded_number_field(x^2 - x - 1, 1.618, \"phi\");"
   ]
  },
  {
   "cell_type": "code",
   "execution_count": 17,
   "id": "893ea6f0",
   "metadata": {
    "scrolled": true
   },
   "outputs": [
    {
     "data": {
      "text/plain": [
       "phi (1.62)"
      ]
     },
     "execution_count": 17,
     "metadata": {},
     "output_type": "execute_result"
    }
   ],
   "source": [
    "(phi+1) // phi"
   ]
  },
  {
   "cell_type": "code",
   "execution_count": 18,
   "id": "25ff0219",
   "metadata": {},
   "outputs": [
    {
     "data": {
      "text/plain": [
       "true"
      ]
     },
     "execution_count": 18,
     "metadata": {},
     "output_type": "execute_result"
    }
   ],
   "source": [
    "phi < 1.61804"
   ]
  },
  {
   "cell_type": "markdown",
   "id": "5e4b2bcd",
   "metadata": {},
   "source": [
    "# Invariant Theory\n",
    "\n",
    "(Wolfram Decker & Johannes Schmitt)"
   ]
  },
  {
   "cell_type": "code",
   "execution_count": 19,
   "id": "0c722fff",
   "metadata": {},
   "outputs": [
    {
     "data": {
      "text/plain": [
       "(Cyclotomic field of order 3, a)"
      ]
     },
     "execution_count": 19,
     "metadata": {},
     "output_type": "execute_result"
    }
   ],
   "source": [
    "K, a = cyclotomic_field(3, \"a\")"
   ]
  },
  {
   "cell_type": "code",
   "execution_count": 20,
   "id": "241acc34",
   "metadata": {},
   "outputs": [
    {
     "data": {
      "text/plain": [
       "[0   0   1]\n",
       "[1   0   0]\n",
       "[0   1   0]"
      ]
     },
     "execution_count": 20,
     "metadata": {},
     "output_type": "execute_result"
    }
   ],
   "source": [
    "M1 = matrix(K, [0 0 1; 1 0 0; 0 1 0])"
   ]
  },
  {
   "cell_type": "code",
   "execution_count": 21,
   "id": "523fec48",
   "metadata": {},
   "outputs": [
    {
     "data": {
      "text/plain": [
       "[1   0        0]\n",
       "[0   a        0]\n",
       "[0   0   -a - 1]"
      ]
     },
     "execution_count": 21,
     "metadata": {},
     "output_type": "execute_result"
    }
   ],
   "source": [
    "M2 = matrix(K, [1 0 0; 0 a 0; 0 0 -a-1])"
   ]
  },
  {
   "cell_type": "code",
   "execution_count": 22,
   "id": "3d0d6d07",
   "metadata": {},
   "outputs": [
    {
     "data": {
      "text/plain": [
       "Matrix group of degree 3\n",
       "  over cyclotomic field of order 3"
      ]
     },
     "execution_count": 22,
     "metadata": {},
     "output_type": "execute_result"
    }
   ],
   "source": [
    "G = matrix_group(3, K, [ M1, M2 ])"
   ]
  },
  {
   "cell_type": "code",
   "execution_count": 23,
   "id": "74a3cf90",
   "metadata": {},
   "outputs": [
    {
     "data": {
      "text/plain": [
       "Invariant ring\n",
       "  of matrix group of degree 3 over K"
      ]
     },
     "execution_count": 23,
     "metadata": {},
     "output_type": "execute_result"
    }
   ],
   "source": [
    "IR = invariant_ring(G)"
   ]
  },
  {
   "cell_type": "code",
   "execution_count": 24,
   "id": "ca9ff90d",
   "metadata": {},
   "outputs": [
    {
     "data": {
      "text/plain": [
       "3-element Vector{MPolyDecRingElem{AbsSimpleNumFieldElem, AbstractAlgebra.Generic.MPoly{AbsSimpleNumFieldElem}}}:\n",
       " x[1]*x[2]*x[3]\n",
       " x[1]^3 + x[2]^3 + x[3]^3\n",
       " x[1]^3*x[2]^3 + x[1]^3*x[3]^3 + x[2]^3*x[3]^3"
      ]
     },
     "execution_count": 24,
     "metadata": {},
     "output_type": "execute_result"
    }
   ],
   "source": [
    "primary_invariants(IR)"
   ]
  },
  {
   "cell_type": "code",
   "execution_count": 25,
   "id": "d57a75a3",
   "metadata": {},
   "outputs": [
    {
     "data": {
      "text/plain": [
       "2-element Vector{MPolyDecRingElem{AbsSimpleNumFieldElem, AbstractAlgebra.Generic.MPoly{AbsSimpleNumFieldElem}}}:\n",
       " 1\n",
       " x[1]^3*x[2]^6 + x[1]^6*x[3]^3 + x[2]^3*x[3]^6"
      ]
     },
     "execution_count": 25,
     "metadata": {},
     "output_type": "execute_result"
    }
   ],
   "source": [
    "secondary_invariants(IR)"
   ]
  },
  {
   "cell_type": "markdown",
   "id": "ec9c9483",
   "metadata": {},
   "source": [
    "# Current Development (selection)\n",
    "\n",
    "* tropical geometry (Marta Panizzut, Yue Ren and others)\n",
    "* matroids (Lukas Kühne & Benjamin Schröter)\n",
    "* schemes and blow-ups (Janko Böhm & Matthias Zach)\n",
    "* irreducible representations of solvable groups (Thomas Breuer, Claus Fieker, Max Horn)"
   ]
  },
  {
   "cell_type": "markdown",
   "id": "28676d81",
   "metadata": {},
   "source": [
    "# PS: (Not Only) Eye Candy\n",
    "\n",
    "(Alexej Jordan)"
   ]
  },
  {
   "cell_type": "code",
   "execution_count": 26,
   "id": "11a8ce5d",
   "metadata": {},
   "outputs": [
    {
     "data": {
      "text/plain": [
       "5-element SubObjectIterator{AffineHalfspace{QQFieldElem}} over the Halfspaces of R^2 described by:\n",
       "-x_1 <= 1\n",
       "-x_1 + x_2 <= 1\n",
       "x_1 - 2*x_2 <= 1\n",
       "x_1 <= 1\n",
       "x_2 <= 1\n"
      ]
     },
     "execution_count": 26,
     "metadata": {},
     "output_type": "execute_result"
    }
   ],
   "source": [
    "points = [1 0; 1 1; 0 1; -1 0; -1 -1];\n",
    "P = convex_hull(points);\n",
    "facets(P)"
   ]
  },
  {
   "cell_type": "markdown",
   "id": "2bc3d851",
   "metadata": {},
   "source": [
    "# PPS: Almost Recent (= 3 Months Old)\n",
    "\n",
    "(Benjamin Lorenz, Andreas Paffenholz and others)"
   ]
  },
  {
   "cell_type": "code",
   "execution_count": 27,
   "id": "2dca3164",
   "metadata": {},
   "outputs": [
    {
     "ename": "LoadError",
     "evalue": "MethodError: no method matching Polyhedron(::Polymake.LibPolymake.BigObjectAllocated)",
     "output_type": "error",
     "traceback": [
      "MethodError: no method matching Polyhedron(::Polymake.LibPolymake.BigObjectAllocated)",
      "",
      "Stacktrace:",
      " [1] (::var\"#3#4\")(P::Polymake.LibPolymake.BigObjectAllocated)",
      "   @ Main ./none:0",
      " [2] iterate",
      "   @ ./generator.jl:47 [inlined]",
      " [3] grow_to!",
      "   @ ./array.jl:907 [inlined]",
      " [4] collect(itr::Base.Generator{Polymake.Polydb.Cursor{Polymake.LibPolymake.BigObject}, var\"#3#4\"})",
      "   @ Base ./array.jl:831",
      " [5] top-level scope",
      "   @ In[27]:5"
     ]
    }
   ],
   "source": [
    "db = Polymake.Polydb.get_db();\n",
    "collection = db[\"Polytopes.Lattice.SmoothReflexive\"];\n",
    "query = Dict(\"DIM\"=>4, \"N_FACETS\"=>8);\n",
    "results = Polymake.Polydb.find(collection, query);\n",
    "[ ehrhart_polynomial(Polyhedron(P)) for P in results ]"
   ]
  }
 ],
 "metadata": {
  "kernelspec": {
   "display_name": "Julia 1.10.1",
   "language": "julia",
   "name": "julia-1.10"
  },
  "language_info": {
   "file_extension": ".jl",
   "mimetype": "application/julia",
   "name": "julia",
   "version": "1.10.1"
  }
 },
 "nbformat": 4,
 "nbformat_minor": 5
}
