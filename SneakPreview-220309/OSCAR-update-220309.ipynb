{
 "cells": [
  {
   "cell_type": "markdown",
   "id": "06223cc3",
   "metadata": {},
   "source": [
    "# Sneak Preview: OSCAR 0.8.2-DEV@74088b"
   ]
  },
  {
   "cell_type": "code",
   "execution_count": 1,
   "id": "29bf9398",
   "metadata": {},
   "outputs": [
    {
     "name": "stderr",
     "output_type": "stream",
     "text": [
      "\u001b[32m\u001b[1m    Updating\u001b[22m\u001b[39m registry at `~/.julia/registries/General.toml`\n",
      "\u001b[32m\u001b[1m   Resolving\u001b[22m\u001b[39m package versions...\n",
      "\u001b[32m\u001b[1m  No Changes\u001b[22m\u001b[39m to `/cache/polymake/oscar-system/Oscar.jl/Project.toml`\n",
      "\u001b[32m\u001b[1m  No Changes\u001b[22m\u001b[39m to `/cache/polymake/oscar-system/Oscar.jl/Manifest.toml`\n",
      "\u001b[32m\u001b[1m  Activating\u001b[22m\u001b[39m project at `/cache/polymake/oscar-system/Oscar.jl`\n"
     ]
    }
   ],
   "source": [
    "import Pkg; Pkg.add(\"Revise\"); using Revise; Pkg.activate(\".\"); Pkg.instantiate();"
   ]
  },
  {
   "cell_type": "code",
   "execution_count": 2,
   "id": "bf42a804",
   "metadata": {
    "scrolled": false
   },
   "outputs": [
    {
     "name": "stdout",
     "output_type": "stream",
     "text": [
      " -----    -----    -----      -      -----   \n",
      "|     |  |     |  |     |    | |    |     |  \n",
      "|     |  |        |         |   |   |     |  \n",
      "|     |   -----   |        |     |  |-----   \n",
      "|     |        |  |        |-----|  |   |    \n",
      "|     |  |     |  |     |  |     |  |    |   \n",
      " -----    -----    -----   -     -  -     -  \n",
      "\n",
      "...combining (and extending) ANTIC, GAP, Polymake and Singular\n",
      "Version\u001b[32m 0.8.2-DEV \u001b[39m... \n",
      " ... which comes with absolutely no warranty whatsoever\n",
      "Type: '?Oscar' for more information\n",
      "(c) 2019-2022 by The Oscar Development Team\n"
     ]
    }
   ],
   "source": [
    "using Oscar"
   ]
  },
  {
   "cell_type": "markdown",
   "id": "521e8825",
   "metadata": {},
   "source": [
    "# Polyhedral Complexes and Triangulations of Point Sets\n",
    "\n",
    "(Taylor Brysiewicz & Lars Kastner)"
   ]
  },
  {
   "cell_type": "code",
   "execution_count": 3,
   "id": "b19332db",
   "metadata": {
    "scrolled": true
   },
   "outputs": [
    {
     "data": {
      "text/plain": [
       "A polyhedron in ambient dimension 2"
      ]
     },
     "execution_count": 3,
     "metadata": {},
     "output_type": "execute_result"
    }
   ],
   "source": [
    "c = cube(2,0,1)"
   ]
  },
  {
   "cell_type": "code",
   "execution_count": 4,
   "id": "9b36fdbf",
   "metadata": {},
   "outputs": [
    {
     "data": {
      "text/plain": [
       "2-element Vector{Vector{Vector{Int64}}}:\n",
       " [[1, 2, 3], [2, 3, 4]]\n",
       " [[1, 3, 4], [1, 2, 4]]"
      ]
     },
     "execution_count": 4,
     "metadata": {},
     "output_type": "execute_result"
    }
   ],
   "source": [
    "regular_triangulations(c)"
   ]
  },
  {
   "cell_type": "markdown",
   "id": "ba629704",
   "metadata": {},
   "source": [
    "# Algebraic Topology\n",
    "\n",
    "(Thomas Breuer, Max Horn & M.J.)"
   ]
  },
  {
   "cell_type": "code",
   "execution_count": 5,
   "id": "79722ae0",
   "metadata": {
    "scrolled": true
   },
   "outputs": [
    {
     "data": {
      "text/plain": [
       "Abstract simplicial complex of dimension 3 on 16 vertices"
      ]
     },
     "execution_count": 5,
     "metadata": {},
     "output_type": "execute_result"
    }
   ],
   "source": [
    "P = SimplicialComplex([[1,2,4,9],[1,2,4,15],[1,2,6,14],[1,2,6,15],[1,2,9,14],[1,3,4,12],[1,3,4,15],[1,3,7,10],[1,3,7,12],[1,3,10,15],[1,4,9,12],[1,5,6,13],[1,5,6,14],[1,5,8,11],[1,5,8,13],[1,5,11,14],[1,6,13,15],[1,7,8,10],[1,7,8,11],[1,7,11,12],[1,8,10,13],[1,9,11,12],[1,9,11,14],[1,10,13,15],[2,3,5,10],[2,3,5,11],[2,3,7,10],[2,3,7,13],[2,3,11,13],[2,4,9,13],[2,4,11,13],[2,4,11,15],[2,5,8,11],[2,5,8,12],[2,5,10,12],[2,6,10,12],[2,6,10,14],[2,6,12,15],[2,7,9,13],[2,7,9,14],[2,7,10,14],[2,8,11,15],[2,8,12,15],[3,4,5,14],[3,4,5,15],[3,4,12,14],[3,5,10,15],[3,5,11,14],[3,7,12,13],[3,11,13,14],[3,12,13,14],[4,5,6,7],[4,5,6,14],[4,5,7,15],[4,6,7,11],[4,6,10,11],[4,6,10,14],[4,7,11,15],[4,8,9,12],[4,8,9,13],[4,8,10,13],[4,8,10,14],[4,8,12,14],[4,10,11,13],[5,6,7,13],[5,7,9,13],[5,7,9,15],[5,8,9,12],[5,8,9,13],[5,9,10,12],[5,9,10,15],[6,7,11,12],[6,7,12,13],[6,10,11,12],[6,12,13,15],[7,8,10,14],[7,8,11,15],[7,8,14,15],[7,9,14,15],[8,12,14,15],[9,10,11,12],[9,10,11,16],[9,10,15,16],[9,11,14,16],[9,14,15,16],[10,11,13,16],[10,13,15,16],[11,13,14,16],[12,13,14,15],[13,14,15,16]])"
   ]
  },
  {
   "cell_type": "code",
   "execution_count": 6,
   "id": "0e860601",
   "metadata": {},
   "outputs": [
    {
     "data": {
      "text/plain": [
       "4-element Vector{Int64}:\n",
       "  16\n",
       " 106\n",
       " 180\n",
       "  90"
      ]
     },
     "execution_count": 6,
     "metadata": {},
     "output_type": "execute_result"
    }
   ],
   "source": [
    "f_vector(P)"
   ]
  },
  {
   "cell_type": "code",
   "execution_count": 7,
   "id": "52881d0d",
   "metadata": {},
   "outputs": [
    {
     "data": {
      "text/plain": [
       "4-element Vector{GrpAbFinGen}:\n",
       " GrpAb: Z/1\n",
       " GrpAb: Z/1\n",
       " GrpAb: Z/1\n",
       " (General) abelian group with relation matrix\n",
       "[1]"
      ]
     },
     "execution_count": 7,
     "metadata": {},
     "output_type": "execute_result"
    }
   ],
   "source": [
    "[ homology(P,k) for k in [0,1,2,3] ]"
   ]
  },
  {
   "cell_type": "code",
   "execution_count": 8,
   "id": "8b483023",
   "metadata": {},
   "outputs": [
    {
     "data": {
      "text/html": [
       "$120$"
      ],
      "text/latex": [
       "120"
      ],
      "text/plain": [
       "120"
      ]
     },
     "execution_count": 8,
     "metadata": {},
     "output_type": "execute_result"
    }
   ],
   "source": [
    "pi_1 = fundamental_group(P)\n",
    "order(pi_1)"
   ]
  },
  {
   "cell_type": "code",
   "execution_count": 9,
   "id": "01e00e39",
   "metadata": {},
   "outputs": [
    {
     "data": {
      "text/plain": [
       "\"SL(2,5)\""
      ]
     },
     "execution_count": 9,
     "metadata": {},
     "output_type": "execute_result"
    }
   ],
   "source": [
    "describe(pi_1)"
   ]
  },
  {
   "cell_type": "code",
   "execution_count": 10,
   "id": "3f7422d2",
   "metadata": {},
   "outputs": [
    {
     "data": {
      "text/plain": [
       "(Quotient of Multivariate Polynomial Ring in 16 variables x1, x2, x3, x4, ..., x16 over Rational Field by ideal(x1*x16, x2*x16, x4*x16, x6*x9, x6*x8, x6*x16, x3*x9, x3*x6, x3*x8, x3*x16, x12*x16, x7*x16, x5*x16, x8*x16, x1*x2*x3, x1*x2*x12, x1*x2*x7, x1*x2*x10, x1*x2*x5, x1*x2*x13, x1*x2*x8, x1*x2*x11, x1*x4*x6, x1*x4*x14, x1*x4*x7, x1*x4*x10, x1*x4*x5, x1*x4*x13, x1*x4*x8, x1*x4*x11, x2*x4*x6, x2*x4*x14, x2*x4*x5, x2*x4*x10, x2*x4*x7, x2*x4*x8, x2*x4*x12, x1*x9*x15, x1*x9*x10, x1*x9*x13, x2*x9*x15, x2*x9*x10, x2*x9*x11, x2*x9*x12, x4*x9*x15, x4*x9*x11, x4*x9*x14, x4*x9*x10, x1*x6*x12, x1*x6*x7, x1*x6*x10, x1*x6*x11, x2*x6*x11, x2*x6*x7, x2*x6*x13, x1*x14*x15, x2*x14*x15, x6*x14*x15, x1*x3*x14, x1*x3*x5, x1*x3*x13, x1*x3*x11, x3*x4*x13, x3*x4*x11, x3*x4*x7, x3*x4*x10, x1*x12*x15, x1*x12*x14, x1*x12*x13, x3*x12*x15, x4*x12*x15, x4*x12*x13, x1*x7*x9, x1*x7*x15, x1*x7*x14, x1*x7*x13, x3*x7*x15, x3*x7*x11, x3*x7*x14, x1*x10*x14, x1*x10*x12, x1*x10*x11, x3*x10*x12, x3*x10*x11, x3*x10*x13, x3*x10*x14, x7*x10*x12, x7*x10*x11, x7*x10*x13, x7*x10*x15, x7*x12*x15, x7*x12*x14, x9*x12*x14, x9*x12*x13, x9*x12*x15, x1*x5*x9, x1*x5*x15, x1*x5*x12, x1*x5*x7, x1*x5*x10, x5*x6*x15, x5*x6*x10, x5*x6*x12, x5*x6*x11, x1*x13*x14, x5*x13*x14, x5*x13*x15, x6*x13*x14, x5*x14*x15, x1*x8*x9, x1*x8*x15, x1*x8*x14, x1*x8*x12, x5*x8*x14, x5*x8*x10, x5*x8*x15, x1*x11*x15, x1*x11*x13, x5*x11*x13, x5*x11*x12, x5*x11*x15, x8*x11*x13, x8*x11*x12, x8*x11*x14, x8*x13*x15, x8*x13*x14, x11*x14*x15, x7*x8*x12, x7*x8*x13, x7*x8*x9, x8*x10*x15, x8*x10*x12, x8*x10*x11, x7*x11*x13, x7*x11*x14, x11*x12*x15, x11*x12*x14, x11*x12*x13, x10*x13*x14, x9*x11*x13, x9*x11*x15, x2*x3*x4, x2*x3*x15, x2*x3*x14, x2*x3*x12, x2*x5*x9, x2*x5*x15, x2*x5*x6, x2*x5*x14, x2*x5*x7, x2*x5*x13, x3*x5*x12, x3*x5*x7, x3*x5*x13, x2*x10*x15, x2*x10*x11, x2*x10*x13, x5*x10*x13, x5*x10*x14, x5*x10*x11, x2*x11*x14, x2*x11*x12, x3*x11*x12, x3*x11*x15, x2*x7*x15, x2*x7*x11, x2*x7*x8, x2*x7*x12, x2*x13*x15, x2*x13*x14, x3*x13*x15, x7*x13*x14, x7*x13*x15, x11*x13*x15, x4*x13*x15, x4*x13*x14, x9*x13*x14, x9*x13*x15, x9*x13*x16, x4*x11*x12, x4*x11*x14, x11*x15*x16, x2*x8*x9, x2*x8*x14, x2*x8*x10, x2*x8*x13, x2*x12*x14, x2*x12*x13, x5*x12*x15, x5*x12*x14, x5*x12*x13, x8*x12*x13, x10*x12*x15, x10*x12*x14, x10*x12*x13, x6*x10*x15, x6*x10*x13, x6*x12*x14, x10*x14*x15, x10*x14*x16, x7*x9*x12, x7*x9*x11, x7*x9*x10, x4*x5*x9, x4*x5*x12, x4*x5*x13, x4*x5*x11, x4*x5*x10, x4*x5*x8, x3*x14*x15, x4*x14*x15, x4*x6*x15, x4*x6*x12, x4*x6*x13, x4*x7*x9, x4*x7*x12, x4*x7*x13, x4*x7*x14, x4*x7*x10, x4*x7*x8, x5*x7*x10, x5*x7*x12, x5*x7*x8, x5*x7*x11, x5*x7*x14, x6*x7*x14, x6*x7*x15, x6*x7*x10, x6*x11*x14, x6*x11*x15, x6*x11*x13, x4*x10*x15, x4*x10*x12, x10*x11*x15, x10*x11*x14, x4*x8*x15, x4*x8*x11, x8*x9*x14, x8*x9*x11, x8*x9*x15, x8*x9*x10, x5*x9*x14, x5*x9*x11, x9*x10*x14, x9*x10*x13), Map from\n",
       "Multivariate Polynomial Ring in 16 variables x1, x2, x3, x4, ..., x16 over Rational Field to Quotient of Multivariate Polynomial Ring in 16 variables x1, x2, x3, x4, ..., x16 over Rational Field by ideal(x1*x16, x2*x16, x4*x16, x6*x9, x6*x8, x6*x16, x3*x9, x3*x6, x3*x8, x3*x16, x12*x16, x7*x16, x5*x16, x8*x16, x1*x2*x3, x1*x2*x12, x1*x2*x7, x1*x2*x10, x1*x2*x5, x1*x2*x13, x1*x2*x8, x1*x2*x11, x1*x4*x6, x1*x4*x14, x1*x4*x7, x1*x4*x10, x1*x4*x5, x1*x4*x13, x1*x4*x8, x1*x4*x11, x2*x4*x6, x2*x4*x14, x2*x4*x5, x2*x4*x10, x2*x4*x7, x2*x4*x8, x2*x4*x12, x1*x9*x15, x1*x9*x10, x1*x9*x13, x2*x9*x15, x2*x9*x10, x2*x9*x11, x2*x9*x12, x4*x9*x15, x4*x9*x11, x4*x9*x14, x4*x9*x10, x1*x6*x12, x1*x6*x7, x1*x6*x10, x1*x6*x11, x2*x6*x11, x2*x6*x7, x2*x6*x13, x1*x14*x15, x2*x14*x15, x6*x14*x15, x1*x3*x14, x1*x3*x5, x1*x3*x13, x1*x3*x11, x3*x4*x13, x3*x4*x11, x3*x4*x7, x3*x4*x10, x1*x12*x15, x1*x12*x14, x1*x12*x13, x3*x12*x15, x4*x12*x15, x4*x12*x13, x1*x7*x9, x1*x7*x15, x1*x7*x14, x1*x7*x13, x3*x7*x15, x3*x7*x11, x3*x7*x14, x1*x10*x14, x1*x10*x12, x1*x10*x11, x3*x10*x12, x3*x10*x11, x3*x10*x13, x3*x10*x14, x7*x10*x12, x7*x10*x11, x7*x10*x13, x7*x10*x15, x7*x12*x15, x7*x12*x14, x9*x12*x14, x9*x12*x13, x9*x12*x15, x1*x5*x9, x1*x5*x15, x1*x5*x12, x1*x5*x7, x1*x5*x10, x5*x6*x15, x5*x6*x10, x5*x6*x12, x5*x6*x11, x1*x13*x14, x5*x13*x14, x5*x13*x15, x6*x13*x14, x5*x14*x15, x1*x8*x9, x1*x8*x15, x1*x8*x14, x1*x8*x12, x5*x8*x14, x5*x8*x10, x5*x8*x15, x1*x11*x15, x1*x11*x13, x5*x11*x13, x5*x11*x12, x5*x11*x15, x8*x11*x13, x8*x11*x12, x8*x11*x14, x8*x13*x15, x8*x13*x14, x11*x14*x15, x7*x8*x12, x7*x8*x13, x7*x8*x9, x8*x10*x15, x8*x10*x12, x8*x10*x11, x7*x11*x13, x7*x11*x14, x11*x12*x15, x11*x12*x14, x11*x12*x13, x10*x13*x14, x9*x11*x13, x9*x11*x15, x2*x3*x4, x2*x3*x15, x2*x3*x14, x2*x3*x12, x2*x5*x9, x2*x5*x15, x2*x5*x6, x2*x5*x14, x2*x5*x7, x2*x5*x13, x3*x5*x12, x3*x5*x7, x3*x5*x13, x2*x10*x15, x2*x10*x11, x2*x10*x13, x5*x10*x13, x5*x10*x14, x5*x10*x11, x2*x11*x14, x2*x11*x12, x3*x11*x12, x3*x11*x15, x2*x7*x15, x2*x7*x11, x2*x7*x8, x2*x7*x12, x2*x13*x15, x2*x13*x14, x3*x13*x15, x7*x13*x14, x7*x13*x15, x11*x13*x15, x4*x13*x15, x4*x13*x14, x9*x13*x14, x9*x13*x15, x9*x13*x16, x4*x11*x12, x4*x11*x14, x11*x15*x16, x2*x8*x9, x2*x8*x14, x2*x8*x10, x2*x8*x13, x2*x12*x14, x2*x12*x13, x5*x12*x15, x5*x12*x14, x5*x12*x13, x8*x12*x13, x10*x12*x15, x10*x12*x14, x10*x12*x13, x6*x10*x15, x6*x10*x13, x6*x12*x14, x10*x14*x15, x10*x14*x16, x7*x9*x12, x7*x9*x11, x7*x9*x10, x4*x5*x9, x4*x5*x12, x4*x5*x13, x4*x5*x11, x4*x5*x10, x4*x5*x8, x3*x14*x15, x4*x14*x15, x4*x6*x15, x4*x6*x12, x4*x6*x13, x4*x7*x9, x4*x7*x12, x4*x7*x13, x4*x7*x14, x4*x7*x10, x4*x7*x8, x5*x7*x10, x5*x7*x12, x5*x7*x8, x5*x7*x11, x5*x7*x14, x6*x7*x14, x6*x7*x15, x6*x7*x10, x6*x11*x14, x6*x11*x15, x6*x11*x13, x4*x10*x15, x4*x10*x12, x10*x11*x15, x10*x11*x14, x4*x8*x15, x4*x8*x11, x8*x9*x14, x8*x9*x11, x8*x9*x15, x8*x9*x10, x5*x9*x14, x5*x9*x11, x9*x10*x14, x9*x10*x13) defined by a julia-function with inverse)"
      ]
     },
     "execution_count": 10,
     "metadata": {},
     "output_type": "execute_result"
    }
   ],
   "source": [
    "stanley_reisner_ring(P)"
   ]
  },
  {
   "cell_type": "markdown",
   "id": "3fd4c31a",
   "metadata": {},
   "source": [
    "# Real Algebraic Number Fields\n",
    "\n",
    "(Tommy Hofmann & Claus Fieker)"
   ]
  },
  {
   "cell_type": "code",
   "execution_count": 11,
   "id": "a09f8e3e",
   "metadata": {},
   "outputs": [],
   "source": [
    "Qx, x = QQ[\"x\"];"
   ]
  },
  {
   "cell_type": "code",
   "execution_count": 12,
   "id": "13ebc81f",
   "metadata": {},
   "outputs": [],
   "source": [
    "K, phi = Oscar.Hecke.embedded_number_field(x^2 - x - 1, 1.618, \"phi\");"
   ]
  },
  {
   "cell_type": "code",
   "execution_count": 13,
   "id": "893ea6f0",
   "metadata": {
    "scrolled": true
   },
   "outputs": [
    {
     "data": {
      "text/html": [
       "phi"
      ],
      "text/latex": [
       "\\mathop{\\mathrm{phi}}"
      ],
      "text/plain": [
       "phi\n",
       "1.62"
      ]
     },
     "execution_count": 13,
     "metadata": {},
     "output_type": "execute_result"
    }
   ],
   "source": [
    "(phi+1) // phi"
   ]
  },
  {
   "cell_type": "code",
   "execution_count": 14,
   "id": "47100868",
   "metadata": {},
   "outputs": [
    {
     "data": {
      "text/plain": [
       "false"
      ]
     },
     "execution_count": 14,
     "metadata": {},
     "output_type": "execute_result"
    }
   ],
   "source": [
    "phi < 161802//100000"
   ]
  },
  {
   "cell_type": "markdown",
   "id": "ec9c9483",
   "metadata": {},
   "source": [
    "# Current Development (selection)\n",
    "\n",
    "* toric varieties (Martin Bies & Lars Kastner)\n",
    "* tropical geometry (Marta Panizzut, Yue Ren and others)\n",
    "* matroids (Lukas Kühne & Benjamin Schröter)\n",
    "* sheaves and blow-ups (Janko Böhm & Matthias Zach)\n",
    "* irreducible representations of solvable groups (Thomas Breuer)\n",
    "* invariant theory (Wolfram Decker & Johannes Schmitt)"
   ]
  },
  {
   "cell_type": "markdown",
   "id": "28676d81",
   "metadata": {},
   "source": [
    "# PS: (Not Only) Eye Candy\n",
    "\n",
    "(Alexej Jordan)"
   ]
  },
  {
   "cell_type": "code",
   "execution_count": 15,
   "id": "11a8ce5d",
   "metadata": {},
   "outputs": [
    {
     "data": {
      "text/plain": [
       "5-element SubObjectIterator{AffineHalfspace{fmpq}} over the Halfspaces of R^2 described by:\n",
       "-x₁ ≦ 1\n",
       "-x₁ + x₂ ≦ 1\n",
       "x₁ - 2*x₂ ≦ 1\n",
       "x₁ ≦ 1\n",
       "x₂ ≦ 1\n"
      ]
     },
     "execution_count": 15,
     "metadata": {},
     "output_type": "execute_result"
    }
   ],
   "source": [
    "points = [1 0; 1 1; 0 1; -1 0; -1 -1];\n",
    "P = convex_hull(points);\n",
    "facets(P)"
   ]
  },
  {
   "cell_type": "markdown",
   "id": "2bc3d851",
   "metadata": {},
   "source": [
    "# PPS: Almost Recent (= 3 Months Old)\n",
    "\n",
    "(Benjamin Lorenz, Andreas Paffenholz and others)"
   ]
  },
  {
   "cell_type": "code",
   "execution_count": 16,
   "id": "2dca3164",
   "metadata": {},
   "outputs": [
    {
     "data": {
      "text/plain": [
       "4-element Vector{fmpq_poly}:\n",
       " 31//3*x^3 + 31//2*x^2 + 43//6*x + 1\n",
       " 9*x^3 + 27//2*x^2 + 13//2*x + 1\n",
       " 28//3*x^3 + 14*x^2 + 20//3*x + 1\n",
       " 9*x^3 + 27//2*x^2 + 13//2*x + 1"
      ]
     },
     "execution_count": 16,
     "metadata": {},
     "output_type": "execute_result"
    }
   ],
   "source": [
    "db = Polymake.Polydb.get_db();\n",
    "collection = db[\"Polytopes.Lattice.SmoothReflexive\"];\n",
    "query = Dict(\"DIM\"=>3, \"N_FACETS\"=>5);\n",
    "results = Polymake.Polydb.find(collection, query);\n",
    "[ ehrhart_polynomial(Polyhedron(P)) for P in results ]"
   ]
  },
  {
   "cell_type": "code",
   "execution_count": null,
   "id": "2b02aa0f",
   "metadata": {},
   "outputs": [],
   "source": []
  }
 ],
 "metadata": {
  "kernelspec": {
   "display_name": "Julia 1.7.2",
   "language": "julia",
   "name": "julia-1.7"
  },
  "language_info": {
   "file_extension": ".jl",
   "mimetype": "application/julia",
   "name": "julia",
   "version": "1.7.2"
  }
 },
 "nbformat": 4,
 "nbformat_minor": 5
}
