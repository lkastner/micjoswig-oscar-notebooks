{
 "cells": [
  {
   "cell_type": "markdown",
   "metadata": {},
   "source": [
    "# Recognizing Manifolds\n",
    "\n",
    "This is about combinatorial topology in [Oscar](http://oscar-system.org).\n",
    "\n",
    "Author: [Michael Joswig](https://page.math.tu-berlin.de/~joswig/)"
   ]
  },
  {
   "cell_type": "code",
   "execution_count": 1,
   "metadata": {},
   "outputs": [
    {
     "name": "stdout",
     "output_type": "stream",
     "text": [
      " -----    -----    -----      -      -----   \n",
      "|     |  |     |  |     |    | |    |     |  \n",
      "|     |  |        |         |   |   |     |  \n",
      "|     |   -----   |        |     |  |-----   \n",
      "|     |        |  |        |-----|  |   |    \n",
      "|     |  |     |  |     |  |     |  |    |   \n",
      " -----    -----    -----   -     -  -     -  \n",
      "\n",
      "...combining (and extending) ANTIC, GAP, Polymake and Singular\n",
      "Version\u001b[32m 0.9.0 \u001b[39m... \n",
      " ... which comes with absolutely no warranty whatsoever\n",
      "Type: '?Oscar' for more information\n",
      "(c) 2019-2022 by The Oscar Development Team\n"
     ]
    }
   ],
   "source": [
    "using Oscar"
   ]
  },
  {
   "cell_type": "markdown",
   "metadata": {},
   "source": [
    "Casella and Kühnel, <i>Topology</i> <b>40</b> (2001), found a 16-vertex triangulation of a K3 surface, and this is the minimum number.  While there are many K3 surfaces which are distinct as algebraic varieties, topologically they are all the same."
   ]
  },
  {
   "cell_type": "code",
   "execution_count": 2,
   "metadata": {
    "scrolled": true
   },
   "outputs": [
    {
     "data": {
      "text/plain": [
       "Abstract simplicial complex of dimension 4 on 16 vertices"
      ]
     },
     "execution_count": 2,
     "metadata": {},
     "output_type": "execute_result"
    }
   ],
   "source": [
    "K3 = SimplicialComplex([[0,1,2,3,7],[0,1,2,3,11],[0,1,2,7,11],[0,1,3,4,9],[0,1,3,4,13],[0,1,3,5,11],[0,1,3,5,13],[0,1,3,7,9],[0,1,4,6,12],[0,1,4,6,14],[0,1,4,9,11],[0,1,4,11,12],[0,1,4,13,14],[0,1,5,6,8],[0,1,5,6,12],[0,1,5,8,14],[0,1,5,11,12],[0,1,5,13,14],[0,1,6,8,10],[0,1,6,10,15],[0,1,6,14,15],[0,1,7,9,11],[0,1,8,10,14],[0,1,10,14,15],[0,2,3,6,8],[0,2,3,6,10],[0,2,3,7,8],[0,2,3,10,12],[0,2,3,11,12],[0,2,4,5,8],[0,2,4,5,10],[0,2,4,7,8],[0,2,4,7,10],[0,2,5,8,14],[0,2,5,9,10],[0,2,5,9,15],[0,2,5,13,14],[0,2,5,13,15],[0,2,6,8,9],[0,2,6,9,10],[0,2,7,10,12],[0,2,7,11,12],[0,2,8,9,14],[0,2,9,13,14],[0,2,9,13,15],[0,3,4,7,9],[0,3,4,7,13],[0,3,5,6,8],[0,3,5,6,12],[0,3,5,7,8],[0,3,5,7,13],[0,3,5,11,12],[0,3,6,10,15],[0,3,6,12,14],[0,3,6,14,15],[0,3,10,12,15],[0,3,12,14,15],[0,4,5,7,8],[0,4,5,7,13],[0,4,5,9,10],[0,4,5,9,15],[0,4,5,13,15],[0,4,6,11,12],[0,4,6,11,14],[0,4,7,9,10],[0,4,9,11,15],[0,4,11,13,14],[0,4,11,13,15],[0,6,7,11,12],[0,6,7,11,14],[0,6,7,12,14],[0,6,8,9,13],[0,6,8,10,13],[0,6,9,10,13],[0,7,9,10,12],[0,7,9,11,15],[0,7,9,12,15],[0,7,11,14,15],[0,7,12,14,15],[0,8,9,13,14],[0,8,10,11,14],[0,8,10,11,15],[0,8,10,12,13],[0,8,10,12,15],[0,8,11,13,14],[0,8,11,13,15],[0,8,12,13,15],[0,9,10,12,13],[0,9,12,13,15],[0,10,11,14,15],[1,2,3,6,7],[1,2,3,6,11],[1,2,4,5,8],[1,2,4,5,12],[1,2,4,8,15],[1,2,4,12,15],[1,2,5,8,14],[1,2,5,12,14],[1,2,6,7,13],[1,2,6,11,13],[1,2,7,9,13],[1,2,7,9,14],[1,2,7,11,14],[1,2,8,10,13],[1,2,8,10,14],[1,2,8,12,13],[1,2,8,12,15],[1,2,9,12,13],[1,2,9,12,14],[1,2,10,11,13],[1,2,10,11,14],[1,3,4,6,9],[1,3,4,6,13],[1,3,5,11,14],[1,3,5,13,14],[1,3,6,7,15],[1,3,6,9,15],[1,3,6,11,13],[1,3,7,8,12],[1,3,7,8,15],[1,3,7,9,12],[1,3,8,9,12],[1,3,8,9,15],[1,3,10,11,13],[1,3,10,11,14],[1,3,10,13,14],[1,4,5,7,8],[1,4,5,7,15],[1,4,5,9,10],[1,4,5,9,15],[1,4,5,10,12],[1,4,6,9,10],[1,4,6,10,12],[1,4,6,13,14],[1,4,7,8,15],[1,4,9,11,15],[1,4,11,12,15],[1,5,6,8,10],[1,5,6,10,12],[1,5,7,8,10],[1,5,7,10,15],[1,5,9,10,15],[1,5,11,12,14],[1,6,7,13,15],[1,6,9,10,15],[1,6,13,14,15],[1,7,8,10,13],[1,7,8,12,13],[1,7,9,11,14],[1,7,9,12,13],[1,7,10,13,15],[1,8,9,11,12],[1,8,9,11,15],[1,8,11,12,15],[1,9,11,12,14],[1,10,13,14,15],[2,3,4,5,10],[2,3,4,5,14],[2,3,4,10,15],[2,3,4,14,15],[2,3,5,9,10],[2,3,5,9,11],[2,3,5,11,15],[2,3,5,13,14],[2,3,5,13,15],[2,3,6,7,8],[2,3,6,9,10],[2,3,6,9,11],[2,3,10,12,15],[2,3,11,12,15],[2,3,13,14,15],[2,4,5,12,14],[2,4,6,12,13],[2,4,6,12,15],[2,4,6,13,14],[2,4,6,14,15],[2,4,7,8,11],[2,4,7,10,11],[2,4,8,10,11],[2,4,8,10,15],[2,4,9,12,13],[2,4,9,12,14],[2,4,9,13,14],[2,5,6,7,9],[2,5,6,7,15],[2,5,6,9,11],[2,5,6,11,15],[2,5,7,9,15],[2,6,7,8,9],[2,6,7,13,15],[2,6,11,12,13],[2,6,11,12,15],[2,6,13,14,15],[2,7,8,9,14],[2,7,8,11,14],[2,7,9,13,15],[2,7,10,11,12],[2,8,10,11,14],[2,8,10,12,13],[2,8,10,12,15],[2,10,11,12,13],[3,4,5,10,14],[3,4,6,9,13],[3,4,7,9,12],[3,4,7,10,11],[3,4,7,10,14],[3,4,7,11,13],[3,4,7,12,14],[3,4,8,9,12],[3,4,8,9,13],[3,4,8,10,11],[3,4,8,10,15],[3,4,8,11,13],[3,4,8,12,14],[3,4,8,14,15],[3,5,6,8,12],[3,5,7,8,12],[3,5,7,12,13],[3,5,9,10,14],[3,5,9,11,14],[3,5,11,12,15],[3,5,12,13,15],[3,6,7,8,15],[3,6,8,12,14],[3,6,8,14,15],[3,6,9,10,15],[3,6,9,11,13],[3,7,10,11,13],[3,7,10,13,14],[3,7,12,13,14],[3,8,9,10,11],[3,8,9,10,15],[3,8,9,11,13],[3,9,10,11,14],[3,12,13,14,15],[4,5,6,7,11],[4,5,6,7,15],[4,5,6,11,15],[4,5,7,11,13],[4,5,10,12,14],[4,5,11,13,15],[4,6,7,8,11],[4,6,7,8,15],[4,6,8,11,14],[4,6,8,14,15],[4,6,9,10,13],[4,6,10,12,13],[4,6,11,12,15],[4,7,9,10,12],[4,7,10,12,14],[4,8,9,12,14],[4,8,9,13,14],[4,8,11,13,14],[4,9,10,12,13],[5,6,7,9,14],[5,6,7,10,11],[5,6,7,10,14],[5,6,8,9,12],[5,6,8,9,13],[5,6,8,10,13],[5,6,9,11,13],[5,6,9,12,14],[5,6,10,11,13],[5,6,10,12,14],[5,7,8,10,13],[5,7,8,12,13],[5,7,9,14,15],[5,7,10,11,13],[5,7,10,14,15],[5,8,9,11,12],[5,8,9,11,13],[5,8,11,12,15],[5,8,11,13,15],[5,8,12,13,15],[5,9,10,14,15],[5,9,11,12,14],[6,7,8,9,14],[6,7,8,11,14],[6,7,10,11,12],[6,7,10,12,14],[6,8,9,12,14],[6,10,11,12,13],[7,9,11,14,15],[7,9,12,13,15],[7,10,13,14,15],[7,12,13,14,15],[8,9,10,11,15],[9,10,11,14,15]])"
   ]
  },
  {
   "cell_type": "markdown",
   "metadata": {},
   "source": [
    "We now give a computational proof that this simplicial complex is indeed a K3 surface.  This first appeared in Joswig, Proc. ICMS, Beijing (2002); see also Spreer & Kühnel, <i>Exp. Math.</i> <b>20</b> (2011).\n",
    "\n",
    "In general, it is undecidable to check if a space is simply connected or not.  However, here it happens that all possible triangles are there.  That argument was used in the three articles mentioned above to show that the space is simply connected.  OSCAR can certify this directly, without relying on that combinatorial trick, and despite undecidability in general."
   ]
  },
  {
   "cell_type": "code",
   "execution_count": 3,
   "metadata": {},
   "outputs": [
    {
     "data": {
      "text/plain": [
       "\"1\""
      ]
     },
     "execution_count": 3,
     "metadata": {},
     "output_type": "execute_result"
    }
   ],
   "source": [
    "describe(fundamental_group(K3))"
   ]
  },
  {
   "cell_type": "markdown",
   "metadata": {},
   "source": [
    "Another tricky thing is to check whether a given space is a manifold.  OSCAR (via polymake) employs a heuristic method by Joswig, Lofano, Lutz & Tsuruga, <i>J. Appl. Comput. Topol.</i>, [published online: 19 May 2022](https://link.springer.com/article/10.1007/s41468-022-00092-8).  The idea is to provide certificates (e.g., via discrete Morse theory) to show that the link of each face is a sphere (of the proper dimension).  Note that also sphere recognition is undecidable in general."
   ]
  },
  {
   "cell_type": "code",
   "execution_count": 4,
   "metadata": {},
   "outputs": [
    {
     "data": {
      "text/plain": [
       "true"
      ]
     },
     "execution_count": 4,
     "metadata": {},
     "output_type": "execute_result"
    }
   ],
   "source": [
    "Oscar.pm_object(K3).MANIFOLD"
   ]
  },
  {
   "cell_type": "markdown",
   "metadata": {},
   "source": [
    "Now we know that the given space is a simply connected 4-manifold.\n",
    "\n",
    "The (reduced) cohomology looks like it should (rank 22 in degree 2 and rank 1 in degree 4).  In particular, wee see that the only nontrivial contribution to the cohomology multiplication can come from products of 2-cocycles.  Note that we employ reduced cohomology, whence the 0th cohomology group is trivial."
   ]
  },
  {
   "cell_type": "code",
   "execution_count": 5,
   "metadata": {
    "scrolled": true
   },
   "outputs": [
    {
     "data": {
      "text/plain": [
       "5-element Vector{GrpAbFinGen}:\n",
       " GrpAb: Z/1\n",
       " GrpAb: Z/1\n",
       " GrpAb: Z^22\n",
       " GrpAb: Z/1\n",
       " GrpAb: Z"
      ]
     },
     "execution_count": 5,
     "metadata": {},
     "output_type": "execute_result"
    }
   ],
   "source": [
    "[ cohomology(K3, i) for i in 0:4 ]"
   ]
  },
  {
   "cell_type": "markdown",
   "metadata": {},
   "source": [
    "From the above we recognize that the multiplication in the cohomology algebra is fully determined by an integral quadratic form, on $Z^{22}$, known as the <i>intersection form</i> of the 4-manifold."
   ]
  },
  {
   "cell_type": "code",
   "execution_count": 6,
   "metadata": {},
   "outputs": [
    {
     "data": {
      "text/plain": [
       "PropertyValue wrapping polymake::topaz::IntersectionForm\n",
       "0 3 19"
      ]
     },
     "execution_count": 6,
     "metadata": {},
     "output_type": "execute_result"
    }
   ],
   "source": [
    "Oscar.pm_object(K3).INTERSECTION_FORM"
   ]
  },
  {
   "cell_type": "markdown",
   "metadata": {},
   "source": [
    "So we obtain an even intersection form of signature $(3,19)$. By a celebrated result of Freedman, <i>J. Differential Geom.</i> <b>17</b>,3 (1982) this characterizes the K3-surface."
   ]
  }
 ],
 "metadata": {
  "kernelspec": {
   "display_name": "Julia 1.7.3",
   "language": "julia",
   "name": "julia-1.7"
  },
  "language_info": {
   "file_extension": ".jl",
   "mimetype": "application/julia",
   "name": "julia",
   "version": "1.7.3"
  }
 },
 "nbformat": 4,
 "nbformat_minor": 2
}
