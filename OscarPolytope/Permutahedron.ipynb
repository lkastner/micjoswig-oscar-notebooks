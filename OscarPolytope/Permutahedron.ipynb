{
 "cells": [
  {
   "cell_type": "code",
   "execution_count": 1,
   "metadata": {},
   "outputs": [
    {
     "name": "stdout",
     "output_type": "stream",
     "text": [
      "\n",
      "Welcome to Nemo version 0.18.2\n",
      "\n",
      "Nemo comes with absolutely no warranty whatsoever\n",
      "\n",
      "Singular.jl, based on\n",
      "                     SINGULAR                                 /\n",
      " A Computer Algebra System for Polynomial Computations       /  Singular.jl: 0.4.2\n",
      "                                                           0<   Singular   : 2.3.1-4\n",
      " by: W. Decker, G.-M. Greuel, G. Pfister, H. Schoenemann     \\\n",
      "FB Mathematik der Universitaet, D-67653 Kaiserslautern        \\\n",
      "     \n"
     ]
    },
    {
     "name": "stderr",
     "output_type": "stream",
     "text": [
      "┌ Warning: Setting `POLYMAKE_CONFIG` to use a custom polymake installation is no longer supported. Please use `Overrides.toml` to override `polymake_jll` and `libpolymake_julia_jll`.\n",
      "└ @ Polymake /home/joswig/.julia/packages/Polymake/8UhBd/src/Polymake.jl:93\n"
     ]
    },
    {
     "name": "stdout",
     "output_type": "stream",
     "text": [
      "polymake version 4.2\n",
      "Copyright (c) 1997-2020\n",
      "Ewgenij Gawrilow, Michael Joswig, and the polymake team\n",
      "Technische Universität Berlin, Germany\n",
      "https://polymake.org\n",
      "\n",
      "This is free software licensed under GPL; see the source for copying conditions.\n",
      "There is NO warranty; not even for MERCHANTABILITY or FITNESS FOR A PARTICULAR PURPOSE.\n",
      "\n",
      " ┌───────┐   GAP 4.11.0 of 29-Feb-2020\n",
      " │  GAP  │   https://www.gap-system.org\n",
      " └───────┘   Architecture: x86_64-pc-linux-gnu-julia64-kv7-v1.5\n",
      " Configuration:  gmp 6.2.1, Julia GC, Julia 1.5.3, readline\n",
      " Loading the library and packages ...\n",
      " Packages:   AClib 1.3.2, Alnuth 3.1.2, AtlasRep 2.1.0, AutoDoc 2019.09.04, \n",
      "             AutPGrp 1.10.2, CRISP 1.4.5, Cryst 4.1.23, CrystCat 1.1.9, \n",
      "             CTblLib 1.2.2, FactInt 1.6.3, FGA 1.4.0, GAPDoc 1.6.3, \n",
      "             IRREDSOL 1.4, LAGUNA 3.9.3, Polenta 1.3.9, Polycyclic 2.15.1, \n",
      "             PrimGrp 3.4.0, RadiRoot 2.8, ResClasses 4.7.2, SmallGrp 1.4.1, \n",
      "             Sophus 1.24, SpinSym 1.5.2, TomLib 1.2.9, TransGrp 2.0.5, \n",
      "             utils 0.69\n",
      " Try '??help' for help. See also '?copyright', '?cite' and '?authors'\n",
      "\n",
      "Welcome to \n",
      "\n",
      "\u001b[31m    _    _           _\u001b[39m\n",
      "\u001b[31m   | |  | |         | |\u001b[39m\n",
      "\u001b[31m   | |__| | ___  ___| | _____\u001b[39m\n",
      "\u001b[31m   |  __  |/ _ \\/ __| |/ / _ \\\u001b[39m\n",
      "\u001b[31m   | |  | |  __/ (__|   <  __/\u001b[39m\n",
      "\u001b[31m   |_|  |_|\\___|\\___|_|\\_\\___|\u001b[39m\n",
      "\u001b[31m    \u001b[39m\n",
      "Version"
     ]
    },
    {
     "data": {
      "text/html": [
       "$\\require{action}$"
      ]
     },
     "metadata": {},
     "output_type": "display_data"
    },
    {
     "name": "stdout",
     "output_type": "stream",
     "text": [
      "\u001b[32m 0.8.5 \u001b[39m... \n",
      " ... which comes with absolutely no warranty whatsoever\n",
      "(c) 2015-2020 by Claus Fieker, Tommy Hofmann and Carlo Sircana\n",
      "\n",
      " -----    -----    -----      -      -----   \n",
      "|     |  |     |  |     |    | |    |     |  \n",
      "|     |  |        |         |   |   |     |  \n",
      "|     |   -----   |        |     |  |-----   \n",
      "|     |        |  |        |-----|  |   |    \n",
      "|     |  |     |  |     |  |     |  |    |   \n",
      " -----    -----    -----   -     -  -     -  \n",
      "\n",
      "...combining (and extending) ANTIC, GAP, Polymake and Singular\n",
      "Version\u001b[32m 0.5.0 \u001b[39m... \n",
      " ... which comes with absolutely no warranty whatsoever\n",
      "Type: '?Oscar' for more information\n",
      "(c) 2019-2020 by The Oscar Development Team\n"
     ]
    },
    {
     "data": {
      "text/plain": [
       "Polymake"
      ]
     },
     "execution_count": 1,
     "metadata": {},
     "output_type": "execute_result"
    }
   ],
   "source": [
    "using OscarPolytope\n",
    "import Oscar\n",
    "const pm = OscarPolytope.Polymake"
   ]
  },
  {
   "cell_type": "code",
   "execution_count": 2,
   "metadata": {},
   "outputs": [],
   "source": [
    "using Combinatorics"
   ]
  },
  {
   "cell_type": "code",
   "execution_count": 3,
   "metadata": {},
   "outputs": [],
   "source": [
    "C = collect(permutations([0 1 2 3]))\n",
    "M = reshape(vcat(C...),4,24)';"
   ]
  },
  {
   "cell_type": "code",
   "execution_count": 4,
   "metadata": {},
   "outputs": [
    {
     "data": {
      "text/plain": [
       "A Polyhedron of dimension 3"
      ]
     },
     "execution_count": 4,
     "metadata": {},
     "output_type": "execute_result"
    }
   ],
   "source": [
    "P = convex_hull(M)"
   ]
  },
  {
   "cell_type": "code",
   "execution_count": 5,
   "metadata": {},
   "outputs": [
    {
     "data": {
      "text/html": [
       "$4$"
      ],
      "text/latex": [
       "4"
      ],
      "text/plain": [
       "4"
      ]
     },
     "execution_count": 5,
     "metadata": {},
     "output_type": "execute_result"
    }
   ],
   "source": [
    "ambient_dim(P)"
   ]
  },
  {
   "cell_type": "code",
   "execution_count": 6,
   "metadata": {},
   "outputs": [
    {
     "data": {
      "text/plain": [
       "OscarPolytope.PolyhedronFacetPolyhedronIterator(A Polyhedron of dimension 3)"
      ]
     },
     "execution_count": 6,
     "metadata": {},
     "output_type": "execute_result"
    }
   ],
   "source": [
    "F = facets(P; as = :polyhedra)"
   ]
  },
  {
   "cell_type": "code",
   "execution_count": 7,
   "metadata": {},
   "outputs": [
    {
     "name": "stderr",
     "output_type": "stream",
     "text": [
      "polymake: used package cdd\n",
      "  cddlib\n",
      "  Implementation of the double description method of Motzkin et al.\n",
      "  Copyright by Komei Fukuda.\n",
      "  http://www-oldurls.inf.ethz.ch/personal/fukudak/cdd_home/\n",
      "\n",
      "polymake: used package lrs\n",
      "  Implementation of the reverse search algorithm of Avis and Fukuda.\n",
      "  Copyright by David Avis.\n",
      "  http://cgm.cs.mcgill.ca/~avis/C/lrs.html\n",
      "\n",
      "polymake: used package ppl\n",
      "  The Parma Polyhedra Library ([[wiki:external_software#PPL]]): A C++ library for convex polyhedra\n",
      "  and other numerical abstractions.\n",
      "  http://www.cs.unipr.it/ppl/\n",
      "\n"
     ]
    },
    {
     "data": {
      "text/html": [
       "[$6$, $6$, $4$, $6$, $4$, $4$, $6$, $4$, $6$, $6$, $4$, $6$, $6$, $4$]"
      ],
      "text/plain": [
       "14-element Array{Int64,1}:\n",
       " 6\n",
       " 6\n",
       " 4\n",
       " 6\n",
       " 4\n",
       " 4\n",
       " 6\n",
       " 4\n",
       " 6\n",
       " 6\n",
       " 4\n",
       " 6\n",
       " 6\n",
       " 4"
      ]
     },
     "execution_count": 7,
     "metadata": {},
     "output_type": "execute_result"
    }
   ],
   "source": [
    "n_vertices.(F)"
   ]
  },
  {
   "cell_type": "code",
   "execution_count": null,
   "metadata": {},
   "outputs": [],
   "source": []
  }
 ],
 "metadata": {
  "kernelspec": {
   "display_name": "Julia 1.5.3",
   "language": "julia",
   "name": "julia-1.5"
  },
  "language_info": {
   "file_extension": ".jl",
   "mimetype": "application/julia",
   "name": "julia",
   "version": "1.5.3"
  }
 },
 "nbformat": 4,
 "nbformat_minor": 4
}
