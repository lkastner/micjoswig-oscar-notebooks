{
 "cells": [
  {
   "cell_type": "markdown",
   "metadata": {},
   "source": [
    "This is the software companion to the paper [Computing Galois groups of Ehrhart polynomials in OSCAR](https://www.mat.univie.ac.at/~slc/wpapers/FPSAC2022/87.pdf) by [Claus Fieker](https://www.mathematik.uni-kl.de/~fieker/en/publications.html),\n",
    "[Tommy Hofmann](https://www.thofma.com/) and\n",
    "[Michael Joswig](https://page.math.tu-berlin.de/~joswig/). "
   ]
  },
  {
   "cell_type": "markdown",
   "metadata": {},
   "source": [
    "This notebook was originally written for version 0.8.2 of OSCAR (18 Mar 2022), but now we are using v1.1.0-DEV.  To run this code [install Julia and OSCAR](https://www.oscar-system.org/install/), start the Julia interpreter."
   ]
  },
  {
   "cell_type": "code",
   "execution_count": 1,
   "metadata": {
    "scrolled": true
   },
   "outputs": [
    {
     "name": "stderr",
     "output_type": "stream",
     "text": [
      "\u001b[32m\u001b[1m  Activating\u001b[22m\u001b[39m project at `/home/joswig/oscar-system/Oscar.jl`\n"
     ]
    },
    {
     "name": "stdout",
     "output_type": "stream",
     "text": [
      "  ___   ____   ____    _    ____\n",
      " / _ \\ / ___| / ___|  / \\  |  _ \\   |  Combining ANTIC, GAP, Polymake, Singular\n",
      "| | | |\\___ \\| |     / _ \\ | |_) |  |  Type \"?Oscar\" for more information\n",
      "| |_| | ___) | |___ / ___ \\|  _ <   |  Manual: https://docs.oscar-system.org\n",
      " \\___/ |____/ \\____/_/   \\_\\_| \\_\\  |  1.1.0-DEV #master 4e26157 2024-05-21\n"
     ]
    }
   ],
   "source": [
    "import Pkg; Pkg.activate(\"/home/joswig/oscar-system/Oscar.jl\");\n",
    "\n",
    "using Oscar"
   ]
  },
  {
   "cell_type": "markdown",
   "metadata": {},
   "source": [
    "The Ehrhart polynomial of the cube factors into linear factors, whence the Galois group is trivial.  Here we show it for the 3-cube, but this generalizes to arbitrary dimensions.\n",
    "\n",
    "Due to Julia's just-in-time compilation the command below will take a while upon first computation."
   ]
  },
  {
   "cell_type": "code",
   "execution_count": 2,
   "metadata": {},
   "outputs": [
    {
     "name": "stdout",
     "output_type": "stream",
     "text": [
      "factor(LC) = 1 * (2*x + 1)^2\n"
     ]
    },
    {
     "data": {
      "text/plain": [
       "(Permutation group of degree 2 and order 1, Galois context for 2*x + 1 and prime 3)"
      ]
     },
     "execution_count": 2,
     "metadata": {},
     "output_type": "execute_result"
    }
   ],
   "source": [
    "C = cube(2)\n",
    "\n",
    "LC = ehrhart_polynomial(C)\n",
    "@show factor(LC)\n",
    "\n",
    "galois_group(LC)"
   ]
  },
  {
   "cell_type": "markdown",
   "metadata": {},
   "source": [
    "The Fano simplices exist in all dimensions, they have the origin as the unique interior lattice point."
   ]
  },
  {
   "cell_type": "code",
   "execution_count": 3,
   "metadata": {},
   "outputs": [
    {
     "data": {
      "text/plain": [
       "Polytope in ambient dimension 14"
      ]
     },
     "execution_count": 3,
     "metadata": {},
     "output_type": "execute_result"
    }
   ],
   "source": [
    "S = fano_simplex(14)"
   ]
  },
  {
   "cell_type": "markdown",
   "metadata": {},
   "source": [
    "The normal toric variety associated with the face fan is smooth; in fact, it is a projective space."
   ]
  },
  {
   "cell_type": "code",
   "execution_count": 4,
   "metadata": {},
   "outputs": [
    {
     "data": {
      "text/plain": [
       "true"
      ]
     },
     "execution_count": 4,
     "metadata": {},
     "output_type": "execute_result"
    }
   ],
   "source": [
    "is_smooth(normal_toric_variety(face_fan(S)))"
   ]
  },
  {
   "cell_type": "markdown",
   "metadata": {},
   "source": [
    "Here we are interested in the Galois group of the Ehrhart polynomial.  This is our first non-trivial example."
   ]
  },
  {
   "cell_type": "code",
   "execution_count": 5,
   "metadata": {},
   "outputs": [
    {
     "data": {
      "text/plain": [
       "(Permutation group of degree 14 and order 645120, Galois context for 15*x^14 + 105*x^13 + 24115*x^12 + 143325*x^11 + 7724717*x^10 + 37312275*x^9 + 725938785*x^8 + 2681453775*x^7 + 21964438496*x^6 + 56663366760*x^5 + 201186840400*x^4 + 310989260400*x^3 + 429952217472*x^2 + 283465647360*x + 87178291200 and prime 59)"
      ]
     },
     "execution_count": 5,
     "metadata": {},
     "output_type": "execute_result"
    }
   ],
   "source": [
    "galois_group(ehrhart_polynomial(S))"
   ]
  },
  {
   "cell_type": "markdown",
   "metadata": {},
   "source": [
    "The Ehrhart polynomials of the Fano simplices are known.  Here we give a closed form description. "
   ]
  },
  {
   "cell_type": "code",
   "execution_count": 6,
   "metadata": {},
   "outputs": [
    {
     "data": {
      "text/plain": [
       "LS (generic function with 1 method)"
      ]
     },
     "execution_count": 6,
     "metadata": {},
     "output_type": "execute_result"
    }
   ],
   "source": [
    "Qt, t = QQ[\"t\"]\n",
    "\n",
    "LS(d) = binomial(t+d+1,d+1) - binomial(t,d+1)"
   ]
  },
  {
   "cell_type": "markdown",
   "metadata": {},
   "source": [
    "Here is the case $d=6$, normalized to rendering the coefficients integral."
   ]
  },
  {
   "cell_type": "code",
   "execution_count": 7,
   "metadata": {},
   "outputs": [
    {
     "data": {
      "text/plain": [
       "7*t^6 + 21*t^5 + 385*t^4 + 735*t^3 + 2128*t^2 + 1764*t + 720"
      ]
     },
     "execution_count": 7,
     "metadata": {},
     "output_type": "execute_result"
    }
   ],
   "source": [
    "factorial(6) * LS(6)"
   ]
  },
  {
   "cell_type": "markdown",
   "metadata": {},
   "source": [
    "Its roots lie on the *critical line* $\\operatorname{Re}(z)=-1/2$."
   ]
  },
  {
   "cell_type": "code",
   "execution_count": 8,
   "metadata": {},
   "outputs": [
    {
     "data": {
      "text/plain": [
       "6-element Vector{QQBarFieldElem}:\n",
       " Root -0.500000 + 0.446648*im of 7x^6 + 21x^5 + 385x^4 + 735x^3 + 2128x^2 + 1764x + 720\n",
       " Root -0.500000 - 0.446648*im of 7x^6 + 21x^5 + 385x^4 + 735x^3 + 2128x^2 + 1764x + 720\n",
       " Root -0.500000 + 2.15772*im of 7x^6 + 21x^5 + 385x^4 + 735x^3 + 2128x^2 + 1764x + 720\n",
       " Root -0.500000 - 2.15772*im of 7x^6 + 21x^5 + 385x^4 + 735x^3 + 2128x^2 + 1764x + 720\n",
       " Root -0.500000 + 6.81137*im of 7x^6 + 21x^5 + 385x^4 + 735x^3 + 2128x^2 + 1764x + 720\n",
       " Root -0.500000 - 6.81137*im of 7x^6 + 21x^5 + 385x^4 + 735x^3 + 2128x^2 + 1764x + 720"
      ]
     },
     "execution_count": 8,
     "metadata": {},
     "output_type": "execute_result"
    }
   ],
   "source": [
    "roots(QQBarField(), LS(6))"
   ]
  },
  {
   "cell_type": "markdown",
   "metadata": {},
   "source": [
    "In this case the structure of Galois group can be recognized.  Note that one group occurs under many names."
   ]
  },
  {
   "cell_type": "code",
   "execution_count": 9,
   "metadata": {},
   "outputs": [
    {
     "data": {
      "text/plain": [
       "\"C2 x S4\""
      ]
     },
     "execution_count": 9,
     "metadata": {},
     "output_type": "execute_result"
    }
   ],
   "source": [
    "describe(galois_group(LS(6))[1])"
   ]
  },
  {
   "cell_type": "markdown",
   "metadata": {},
   "source": [
    "OSCAR provides access to the database [polyDB](https://db.polymake.org).  Among other objects it comprises the complete list of smooth Fano polytopes of dimension $\\leq 8$.\n",
    "\n",
    "Notice, however, that OSCAR defines toric varieties from lattice polytopes through normal fans by default.  Hence all \"smooth\" polytopes are necessarily simple.\n",
    "\n",
    "Our goal is to provide a tally of orders of Galois groups of Ehrhart polynomials of the polars of all $6$-dimensional polytopes from that collection."
   ]
  },
  {
   "cell_type": "code",
   "execution_count": 10,
   "metadata": {},
   "outputs": [],
   "source": [
    "db = Polymake.Polydb.get_db();\n",
    "collection = db[\"Polytopes.Lattice.SmoothReflexive\"];\n",
    "query = Dict(\"DIM\"=>6);\n",
    "results = Polymake.Polydb.find(collection, query);"
   ]
  },
  {
   "cell_type": "markdown",
   "metadata": {},
   "source": [
    "We collect the polars of those polytopes and their Ehrhart polynomials.  While the polytopes come from the database, their polars, and the Ehrhart polynomials of the polars are actually computed, so this is a nontrivial computation.\n",
    "\n",
    "Timings on 12-core AMD Ryzen 9 5900X (openSUSE Leap 15.5); force the use of normaliz for computing Ehrhart polynomials. "
   ]
  },
  {
   "cell_type": "code",
   "execution_count": 11,
   "metadata": {},
   "outputs": [
    {
     "name": "stdout",
     "output_type": "stream",
     "text": [
      " 67.490974 seconds (82.77 M allocations: 828.421 MiB, 1.31% gc time, 0.25% compilation time)\n"
     ]
    },
    {
     "data": {
      "text/plain": [
       "(7622,)"
      ]
     },
     "execution_count": 11,
     "metadata": {},
     "output_type": "execute_result"
    }
   ],
   "source": [
    "PP6 = [ polarize(polyhedron(P)) for P in results ]\n",
    "\n",
    "@time E6 = Polymake.prefer(\"libnormaliz\") do\n",
    "  [ ehrhart_polynomial(P) for P in PP6 ];\n",
    "end\n",
    "\n",
    "size(E6)"
   ]
  },
  {
   "cell_type": "markdown",
   "metadata": {},
   "source": [
    "Here is the final statistics, which is a multiset of orders of 7622 Galois groups.  This is the most costly computation in this notebook."
   ]
  },
  {
   "cell_type": "code",
   "execution_count": 12,
   "metadata": {},
   "outputs": [
    {
     "data": {
      "text/plain": [
       "MSet{ZZRingElem} with 7622 elements:\n",
       "  4  : 623\n",
       "  16 : 310\n",
       "  6\n",
       "  12 : 44\n",
       "  8  : 22\n",
       "  48 : 6622"
      ]
     },
     "execution_count": 12,
     "metadata": {},
     "output_type": "execute_result"
    }
   ],
   "source": [
    "MSet([order(galois_group(e)[1]) for e in E6])"
   ]
  },
  {
   "cell_type": "markdown",
   "metadata": {},
   "source": [
    "Above we had mentioned the critical line $\\operatorname{Re}(z)=-1/2$."
   ]
  },
  {
   "cell_type": "code",
   "execution_count": 13,
   "metadata": {},
   "outputs": [
    {
     "data": {
      "text/plain": [
       "on_critical_line (generic function with 1 method)"
      ]
     },
     "execution_count": 13,
     "metadata": {},
     "output_type": "execute_result"
    }
   ],
   "source": [
    "function on_critical_line(L)    \n",
    "    for z in roots(QQBarField(), L)\n",
    "        if real(z) != -1//2\n",
    "            return false\n",
    "        end\n",
    "    end\n",
    "    return true\n",
    "end"
   ]
  },
  {
   "cell_type": "markdown",
   "metadata": {},
   "source": [
    "The following command duplicates what we already saw above."
   ]
  },
  {
   "cell_type": "code",
   "execution_count": 14,
   "metadata": {},
   "outputs": [
    {
     "data": {
      "text/plain": [
       "true"
      ]
     },
     "execution_count": 14,
     "metadata": {},
     "output_type": "execute_result"
    }
   ],
   "source": [
    "on_critical_line(LS(6))"
   ]
  },
  {
   "cell_type": "markdown",
   "metadata": {},
   "source": [
    "Hegedüs and Kasprzyk (2011) showed that there are exactly four types of polars of smooth Fano $6$-polytopes such that the zeros of their Ehrhart polynomials do not lie on the critical line.\n",
    "\n",
    "Let's find them (i.e., their indices)."
   ]
  },
  {
   "cell_type": "code",
   "execution_count": 15,
   "metadata": {},
   "outputs": [
    {
     "data": {
      "text/plain": [
       "4-element Vector{Any}:\n",
       "  721\n",
       "  804\n",
       " 2617\n",
       " 3155"
      ]
     },
     "execution_count": 15,
     "metadata": {},
     "output_type": "execute_result"
    }
   ],
   "source": [
    "function check_critical_line(EE)\n",
    "    idx = 1\n",
    "    non_critical = []\n",
    "    for e in EE\n",
    "        if !on_critical_line(e)\n",
    "            push!(non_critical, idx)\n",
    "        end\n",
    "        idx+=1\n",
    "    end\n",
    "    return non_critical\n",
    "end\n",
    "\n",
    "NC6 = check_critical_line(E6)"
   ]
  },
  {
   "cell_type": "markdown",
   "metadata": {},
   "source": [
    "And these are their Galois groups.  The one with index 3155 is lattice isomorphic to (the polar of) a free sum of del Pezzo polytopes $\\operatorname{DP}(2)\\oplus\\operatorname{DP}(4)$."
   ]
  },
  {
   "cell_type": "code",
   "execution_count": 16,
   "metadata": {},
   "outputs": [
    {
     "name": "stdout",
     "output_type": "stream",
     "text": [
      "ZZRingElem[180, 540, 630, 360, 106, 16]"
     ]
    }
   ],
   "source": [
    "show(f_vector(polarize(del_pezzo_polytope(2)) * polarize(del_pezzo_polytope(4))))"
   ]
  },
  {
   "cell_type": "markdown",
   "metadata": {},
   "source": [
    "It turns out that this is the only (polar of a) smooth Fano polytope whose Ehrhart polynomial has a Galois group of order six; re-check the tally above.  "
   ]
  },
  {
   "cell_type": "code",
   "execution_count": 17,
   "metadata": {},
   "outputs": [
    {
     "data": {
      "text/plain": [
       "4-element Vector{String}:\n",
       " \"C2 x S4\"\n",
       " \"C2 x S4\"\n",
       " \"C2 x S4\"\n",
       " \"S3\""
      ]
     },
     "execution_count": 17,
     "metadata": {},
     "output_type": "execute_result"
    }
   ],
   "source": [
    "[ describe(galois_group(E6[k])[1]) for k in NC6 ]"
   ]
  },
  {
   "cell_type": "markdown",
   "metadata": {},
   "source": [
    "Let's look at the vertices of the polytope with that special Galois group."
   ]
  },
  {
   "cell_type": "code",
   "execution_count": 18,
   "metadata": {},
   "outputs": [
    {
     "data": {
      "text/plain": [
       "16-element SubObjectIterator{PointVector{QQFieldElem}}:\n",
       " [0, 0, 1, 0, 0, -1]\n",
       " [0, 0, -1, 0, 0, 1]\n",
       " [0, 0, 0, -1, 0, 0]\n",
       " [0, 0, 1, 0, 0, 0]\n",
       " [0, 0, 0, 0, 1, 0]\n",
       " [-1, -1, 0, 1, 1, 0]\n",
       " [0, 0, 0, 1, 0, 0]\n",
       " [0, 0, 0, 0, -1, 0]\n",
       " [0, -1, 0, 0, 0, 0]\n",
       " [1, 0, 0, 0, 0, 0]\n",
       " [-1, 0, 0, 0, 0, 0]\n",
       " [0, 0, -1, 0, 0, 0]\n",
       " [0, 1, 0, 0, 0, 0]\n",
       " [0, 0, 0, 0, 0, 1]\n",
       " [1, 1, 0, -1, -1, 0]\n",
       " [0, 0, 0, 0, 0, -1]"
      ]
     },
     "execution_count": 18,
     "metadata": {},
     "output_type": "execute_result"
    }
   ],
   "source": [
    "vertices(PP6[3155])"
   ]
  }
 ],
 "metadata": {
  "kernelspec": {
   "display_name": "Julia 1.10.3",
   "language": "julia",
   "name": "julia-1.10"
  },
  "language_info": {
   "file_extension": ".jl",
   "mimetype": "application/julia",
   "name": "julia",
   "version": "1.10.3"
  }
 },
 "nbformat": 4,
 "nbformat_minor": 5
}
