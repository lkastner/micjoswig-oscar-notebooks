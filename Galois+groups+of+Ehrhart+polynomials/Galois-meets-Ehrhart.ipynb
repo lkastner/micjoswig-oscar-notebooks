{
 "cells": [
  {
   "cell_type": "code",
   "execution_count": 1,
   "id": "29bf9398",
   "metadata": {
    "scrolled": true
   },
   "outputs": [
    {
     "name": "stderr",
     "output_type": "stream",
     "text": [
      "\u001b[32m\u001b[1m    Updating\u001b[22m\u001b[39m registry at `~/.julia/registries/General.toml`\n",
      "\u001b[32m\u001b[1m   Resolving\u001b[22m\u001b[39m package versions...\n",
      "\u001b[32m\u001b[1m  No Changes\u001b[22m\u001b[39m to `/cache/polymake/oscar-system/Oscar.jl/Project.toml`\n",
      "\u001b[32m\u001b[1m  No Changes\u001b[22m\u001b[39m to `/cache/polymake/oscar-system/Oscar.jl/Manifest.toml`\n",
      "\u001b[32m\u001b[1mPrecompiling\u001b[22m\u001b[39m project...\n",
      "\u001b[32m  ✓ \u001b[39mOscar\n",
      "  1 dependency successfully precompiled in 23 seconds (66 already precompiled)\n",
      "\u001b[32m\u001b[1m  Activating\u001b[22m\u001b[39m project at `/cache/polymake/oscar-system/Oscar.jl`\n"
     ]
    }
   ],
   "source": [
    "import Pkg; Pkg.add(\"Revise\"); using Revise; Pkg.activate(\".\"); Pkg.instantiate();"
   ]
  },
  {
   "cell_type": "code",
   "execution_count": 2,
   "id": "bf42a804",
   "metadata": {
    "scrolled": true
   },
   "outputs": [
    {
     "name": "stdout",
     "output_type": "stream",
     "text": [
      " -----    -----    -----      -      -----   \n",
      "|     |  |     |  |     |    | |    |     |  \n",
      "|     |  |        |         |   |   |     |  \n",
      "|     |   -----   |        |     |  |-----   \n",
      "|     |        |  |        |-----|  |   |    \n",
      "|     |  |     |  |     |  |     |  |    |   \n",
      " -----    -----    -----   -     -  -     -  \n",
      "\n",
      "...combining (and extending) ANTIC, GAP, Polymake and Singular\n",
      "Version\u001b[32m 0.8.2-DEV \u001b[39m... \n",
      " ... which comes with absolutely no warranty whatsoever\n",
      "Type: '?Oscar' for more information\n",
      "(c) 2019-2022 by The Oscar Development Team\n"
     ]
    }
   ],
   "source": [
    "using Oscar"
   ]
  },
  {
   "cell_type": "code",
   "execution_count": 3,
   "id": "4d3ba85b",
   "metadata": {},
   "outputs": [
    {
     "data": {
      "text/html": [
       "1 * (2*x + 1)^3"
      ],
      "text/latex": [
       "1 \\cdot \\left(2 x + 1\\right)^{3}"
      ],
      "text/plain": [
       "1 * (2*x + 1)^3"
      ]
     },
     "execution_count": 3,
     "metadata": {},
     "output_type": "execute_result"
    }
   ],
   "source": [
    "C = cube(3)\n",
    "\n",
    "LC = ehrhart_polynomial(C)\n",
    "factor(LC)"
   ]
  },
  {
   "cell_type": "code",
   "execution_count": 4,
   "id": "10670ed8",
   "metadata": {},
   "outputs": [
    {
     "data": {
      "text/plain": [
       "(Group(()), Galois Context for 2*x + 1 and prime 3)"
      ]
     },
     "execution_count": 4,
     "metadata": {},
     "output_type": "execute_result"
    }
   ],
   "source": [
    "galois_group(LC)"
   ]
  },
  {
   "cell_type": "code",
   "execution_count": 5,
   "id": "1eebb982",
   "metadata": {},
   "outputs": [
    {
     "data": {
      "text/plain": [
       "A polyhedron in ambient dimension 14"
      ]
     },
     "execution_count": 5,
     "metadata": {},
     "output_type": "execute_result"
    }
   ],
   "source": [
    "S = fano_simplex(14)"
   ]
  },
  {
   "cell_type": "code",
   "execution_count": 6,
   "id": "9a0227fb",
   "metadata": {},
   "outputs": [
    {
     "name": "stdout",
     "output_type": "stream",
     "text": [
      "  4.803177 seconds (12.17 M allocations: 733.616 MiB, 3.82% gc time, 73.94% compilation time)\n"
     ]
    },
    {
     "data": {
      "text/plain": [
       "(<permutation group of size 645120 with 9 generators>, Galois Context for 15*x^14 + 105*x^13 + 24115*x^12 + 143325*x^11 + 7724717*x^10 + 37312275*x^9 + 725938785*x^8 + 2681453775*x^7 + 21964438496*x^6 + 56663366760*x^5 + 201186840400*x^4 + 310989260400*x^3 + 429952217472*x^2 + 283465647360*x + 87178291200 and prime 59)"
      ]
     },
     "execution_count": 6,
     "metadata": {},
     "output_type": "execute_result"
    }
   ],
   "source": [
    "@time G = galois_group(ehrhart_polynomial(S))"
   ]
  },
  {
   "cell_type": "code",
   "execution_count": 7,
   "id": "f5b737a1",
   "metadata": {},
   "outputs": [
    {
     "data": {
      "text/plain": [
       "(Univariate Polynomial Ring in t over Rational Field, t)"
      ]
     },
     "execution_count": 7,
     "metadata": {},
     "output_type": "execute_result"
    }
   ],
   "source": [
    "Qt, t = QQ[\"t\"]"
   ]
  },
  {
   "cell_type": "code",
   "execution_count": 8,
   "id": "3da99bfd",
   "metadata": {},
   "outputs": [
    {
     "data": {
      "text/plain": [
       "LS (generic function with 1 method)"
      ]
     },
     "execution_count": 8,
     "metadata": {},
     "output_type": "execute_result"
    }
   ],
   "source": [
    "LS(d) = binomial(t+d+1,d+1) - binomial(t,d+1)"
   ]
  },
  {
   "cell_type": "code",
   "execution_count": 9,
   "id": "cba2e7f8",
   "metadata": {},
   "outputs": [
    {
     "data": {
      "text/html": [
       "$7t^{6} + 21t^{5} + 385t^{4} + 735t^{3} + 2128t^{2} + 1764t + 720$"
      ],
      "text/latex": [
       "7 t^{6} + 21 t^{5} + 385 t^{4} + 735 t^{3} + 2128 t^{2} + 1764 t + 720"
      ],
      "text/plain": [
       "7*t^6 + 21*t^5 + 385*t^4 + 735*t^3 + 2128*t^2 + 1764*t + 720"
      ]
     },
     "execution_count": 9,
     "metadata": {},
     "output_type": "execute_result"
    }
   ],
   "source": [
    "factorial(6) * LS(6)"
   ]
  },
  {
   "cell_type": "code",
   "execution_count": 10,
   "id": "4f93ac48",
   "metadata": {},
   "outputs": [
    {
     "data": {
      "text/plain": [
       "6-element Vector{acb}:\n",
       " [-0.50000000000000000000 +/- 1e-25] + [-0.4466484333276384126 +/- 7.42e-20]*im\n",
       " [-0.50000000000000000000 +/- 1e-25] + [0.4466484333276384126 +/- 7.42e-20]*im\n",
       " [-0.5000000000000000000 +/- 5.43e-20] + [-2.157723183499887922 +/- 3.77e-19]*im\n",
       " [-0.50000000000000000000 +/- 1e-25] + [2.157723183499887922 +/- 3.77e-19]*im\n",
       " [-0.5000000000000000000 +/- 5.43e-20] + [-6.811368132790436334 +/- 7.10e-19]*im\n",
       " [-0.5000000000000000000 +/- 5.43e-20] + [6.811368132790436334 +/- 7.10e-19]*im"
      ]
     },
     "execution_count": 10,
     "metadata": {},
     "output_type": "execute_result"
    }
   ],
   "source": [
    "roots(LS(6), ComplexField(64))"
   ]
  },
  {
   "cell_type": "code",
   "execution_count": 11,
   "id": "43dc7734",
   "metadata": {},
   "outputs": [
    {
     "data": {
      "text/plain": [
       "\"C2 x S4\""
      ]
     },
     "execution_count": 11,
     "metadata": {},
     "output_type": "execute_result"
    }
   ],
   "source": [
    "describe(galois_group(LS(6))[1])"
   ]
  },
  {
   "cell_type": "code",
   "execution_count": 12,
   "id": "2dca3164",
   "metadata": {},
   "outputs": [],
   "source": [
    "db = Polymake.Polydb.get_db();\n",
    "collection = db[\"Polytopes.Lattice.SmoothReflexive\"];\n",
    "query = Dict(\"DIM\"=>6);\n",
    "results = Polymake.Polydb.find(collection, query);"
   ]
  },
  {
   "cell_type": "code",
   "execution_count": 13,
   "id": "5cf70424",
   "metadata": {},
   "outputs": [],
   "source": [
    "PP6 = [ polarize(Polyhedron(P)) for P in results ]\n",
    "E6 = [ ehrhart_polynomial(P) for P in PP6 ];"
   ]
  },
  {
   "cell_type": "code",
   "execution_count": 14,
   "id": "ebcac475",
   "metadata": {},
   "outputs": [
    {
     "data": {
      "text/plain": [
       "(7622,)"
      ]
     },
     "execution_count": 14,
     "metadata": {},
     "output_type": "execute_result"
    }
   ],
   "source": [
    "size(E6)"
   ]
  },
  {
   "cell_type": "code",
   "execution_count": 15,
   "id": "1689c0d9",
   "metadata": {},
   "outputs": [
    {
     "data": {
      "text/plain": [
       "OrderedCollections.OrderedDict{Any, Int64} with 6 entries:\n",
       "  4  => 623\n",
       "  6  => 1\n",
       "  8  => 22\n",
       "  12 => 44\n",
       "  16 => 310\n",
       "  48 => 6622"
      ]
     },
     "execution_count": 15,
     "metadata": {},
     "output_type": "execute_result"
    }
   ],
   "source": [
    "sort(MSet(order(galois_group(e)[1]) for e = E6).dict)"
   ]
  },
  {
   "cell_type": "code",
   "execution_count": 16,
   "id": "9d0a4d2d",
   "metadata": {},
   "outputs": [
    {
     "data": {
      "text/plain": [
       "on_critical_line (generic function with 1 method)"
      ]
     },
     "execution_count": 16,
     "metadata": {},
     "output_type": "execute_result"
    }
   ],
   "source": [
    "function on_critical_line(L)    \n",
    "    for z in roots(L, ComplexField(64))\n",
    "        if Float64(real(z)) != -1/2\n",
    "            return false\n",
    "        end\n",
    "    end\n",
    "    return true\n",
    "end"
   ]
  },
  {
   "cell_type": "code",
   "execution_count": 17,
   "id": "496be013",
   "metadata": {},
   "outputs": [
    {
     "data": {
      "text/plain": [
       "true"
      ]
     },
     "execution_count": 17,
     "metadata": {},
     "output_type": "execute_result"
    }
   ],
   "source": [
    "on_critical_line(LS(6))"
   ]
  },
  {
   "cell_type": "code",
   "execution_count": 18,
   "id": "5f74ee59",
   "metadata": {},
   "outputs": [
    {
     "data": {
      "text/plain": [
       "check_critical_line (generic function with 1 method)"
      ]
     },
     "execution_count": 18,
     "metadata": {},
     "output_type": "execute_result"
    }
   ],
   "source": [
    "function check_critical_line(EE)\n",
    "    idx = 1\n",
    "    non_critical = []\n",
    "    for e in EE\n",
    "        if !on_critical_line(e)\n",
    "            push!(non_critical, idx)\n",
    "        end\n",
    "        idx+=1\n",
    "    end\n",
    "    return non_critical\n",
    "end"
   ]
  },
  {
   "cell_type": "code",
   "execution_count": 19,
   "id": "fd1242d6",
   "metadata": {},
   "outputs": [
    {
     "data": {
      "text/plain": [
       "4-element Vector{Any}:\n",
       "  721\n",
       "  804\n",
       " 2617\n",
       " 3155"
      ]
     },
     "execution_count": 19,
     "metadata": {},
     "output_type": "execute_result"
    }
   ],
   "source": [
    "NC6 = check_critical_line(E6)"
   ]
  },
  {
   "cell_type": "code",
   "execution_count": 20,
   "id": "d4adadae",
   "metadata": {},
   "outputs": [
    {
     "data": {
      "text/plain": [
       "4-element Vector{String}:\n",
       " \"C2 x S4\"\n",
       " \"C2 x S4\"\n",
       " \"C2 x S4\"\n",
       " \"S3\""
      ]
     },
     "execution_count": 20,
     "metadata": {},
     "output_type": "execute_result"
    }
   ],
   "source": [
    "[ describe(galois_group(E6[k])[1]) for k in NC6 ]"
   ]
  },
  {
   "cell_type": "code",
   "execution_count": null,
   "id": "1ac1fb0b",
   "metadata": {},
   "outputs": [],
   "source": []
  }
 ],
 "metadata": {
  "kernelspec": {
   "display_name": "Julia 1.7.2",
   "language": "julia",
   "name": "julia-1.7"
  },
  "language_info": {
   "file_extension": ".jl",
   "mimetype": "application/julia",
   "name": "julia",
   "version": "1.7.2"
  }
 },
 "nbformat": 4,
 "nbformat_minor": 5
}
