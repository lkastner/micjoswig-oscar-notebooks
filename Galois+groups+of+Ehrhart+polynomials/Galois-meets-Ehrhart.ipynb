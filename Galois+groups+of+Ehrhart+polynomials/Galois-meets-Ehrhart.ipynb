{
 "cells": [
  {
   "cell_type": "markdown",
   "id": "a36c01af",
   "metadata": {},
   "source": [
    "This is the software companion to the paper [Computing Galois groups of Ehrhart polynomials in OSCAR](https://www.mat.univie.ac.at/~slc/wpapers/FPSAC2022/87.pdf) by [Claus Fieker](https://www.mathematik.uni-kl.de/~fieker/en/publications.html),\n",
    "[Tommy Hofmann](https://www.thofma.com/) and\n",
    "[Michael Joswig](https://page.math.tu-berlin.de/~joswig/). "
   ]
  },
  {
   "cell_type": "markdown",
   "id": "ce84f585",
   "metadata": {},
   "source": [
    "This notebook was originally written for version 0.8.2 of OSCAR (18 Mar 2022), but now we are using v0.14.0 (13 Jan 2024).  To run this code [install Julia and OSCAR](https://www.oscar-system.org/install/), start the Julia interpreter."
   ]
  },
  {
   "cell_type": "code",
   "execution_count": 1,
   "id": "bf42a804",
   "metadata": {
    "scrolled": true
   },
   "outputs": [
    {
     "name": "stdout",
     "output_type": "stream",
     "text": [
      " -----    -----    -----      -      -----   \n",
      "|     |  |     |  |     |    | |    |     |  \n",
      "|     |  |        |         |   |   |     |  \n",
      "|     |   -----   |        |     |  |-----   \n",
      "|     |        |  |        |-----|  |   |    \n",
      "|     |  |     |  |     |  |     |  |    |   \n",
      " -----    -----    -----   -     -  -     -  \n",
      "\n",
      "...combining (and extending) ANTIC, GAP, Polymake and Singular\n",
      "Version\u001b[32m 0.14.0 \u001b[39m... \n",
      " ... which comes with absolutely no warranty whatsoever\n",
      "Type: '?Oscar' for more information\n",
      "(c) 2019-2024 by The OSCAR Development Team\n"
     ]
    }
   ],
   "source": [
    "using Oscar"
   ]
  },
  {
   "cell_type": "markdown",
   "id": "d3092cd9",
   "metadata": {},
   "source": [
    "The Ehrhart polynomial of the cube factors into linear factors, whence the Galois group is trivial.  Here we show it for the 3-cube, but this generalizes to arbitrary dimensions.\n",
    "\n",
    "Due to Julia's just-in-time compilation the command below will take a while upon first computation."
   ]
  },
  {
   "cell_type": "code",
   "execution_count": 2,
   "id": "10670ed8",
   "metadata": {},
   "outputs": [
    {
     "name": "stdout",
     "output_type": "stream",
     "text": [
      "factor(LC) = 1 * (2*x + 1)^3\n"
     ]
    },
    {
     "data": {
      "text/plain": [
       "(Permutation group of degree 3 and order 1, Galois context for 2*x + 1 and prime 3)"
      ]
     },
     "execution_count": 2,
     "metadata": {},
     "output_type": "execute_result"
    }
   ],
   "source": [
    "C = cube(3)\n",
    "\n",
    "LC = ehrhart_polynomial(C)\n",
    "@show factor(LC)\n",
    "\n",
    "galois_group(LC)"
   ]
  },
  {
   "cell_type": "markdown",
   "id": "23bfea8d",
   "metadata": {},
   "source": [
    "The Fano simplices exist in all dimensions, they have the origin as the unique interior lattice point."
   ]
  },
  {
   "cell_type": "code",
   "execution_count": 3,
   "id": "1eebb982",
   "metadata": {},
   "outputs": [
    {
     "data": {
      "text/plain": [
       "Polyhedron in ambient dimension 14"
      ]
     },
     "execution_count": 3,
     "metadata": {},
     "output_type": "execute_result"
    }
   ],
   "source": [
    "S = fano_simplex(14)"
   ]
  },
  {
   "cell_type": "markdown",
   "id": "8ef13bf8",
   "metadata": {},
   "source": [
    "The normal toric variety associated with the face fan is smooth; in fact, it is a projective space."
   ]
  },
  {
   "cell_type": "code",
   "execution_count": 4,
   "id": "91985317",
   "metadata": {},
   "outputs": [
    {
     "data": {
      "text/plain": [
       "true"
      ]
     },
     "execution_count": 4,
     "metadata": {},
     "output_type": "execute_result"
    }
   ],
   "source": [
    "issmooth(NormalToricVariety(face_fan(S)))"
   ]
  },
  {
   "cell_type": "markdown",
   "id": "a619f6b9",
   "metadata": {},
   "source": [
    "Here we are interested in the Galois group of the Ehrhart polynomial.  This is our first non-trivial example.\n",
    "\n",
    "Timings on 16-core AMD Ryzen 9 7950X (6.7.0-0-MANJARO)."
   ]
  },
  {
   "cell_type": "code",
   "execution_count": 5,
   "id": "9a0227fb",
   "metadata": {},
   "outputs": [
    {
     "name": "stdout",
     "output_type": "stream",
     "text": [
      "  3.324457 seconds (7.62 M allocations: 499.650 MiB, 8.87% gc time, 74.30% compilation time)\n"
     ]
    },
    {
     "data": {
      "text/plain": [
       "(Permutation group of degree 14 and order 645120, Galois context for 15*x^14 + 105*x^13 + 24115*x^12 + 143325*x^11 + 7724717*x^10 + 37312275*x^9 + 725938785*x^8 + 2681453775*x^7 + 21964438496*x^6 + 56663366760*x^5 + 201186840400*x^4 + 310989260400*x^3 + 429952217472*x^2 + 283465647360*x + 87178291200 and prime 59)"
      ]
     },
     "execution_count": 5,
     "metadata": {},
     "output_type": "execute_result"
    }
   ],
   "source": [
    "@time G = galois_group(ehrhart_polynomial(S))"
   ]
  },
  {
   "cell_type": "markdown",
   "id": "a832f472",
   "metadata": {},
   "source": [
    "The Ehrhart polynomials of the Fano simplices are known.  Here we give a closed form description. "
   ]
  },
  {
   "cell_type": "code",
   "execution_count": 6,
   "id": "3da99bfd",
   "metadata": {},
   "outputs": [
    {
     "data": {
      "text/plain": [
       "LS (generic function with 1 method)"
      ]
     },
     "execution_count": 6,
     "metadata": {},
     "output_type": "execute_result"
    }
   ],
   "source": [
    "Qt, t = QQ[\"t\"]\n",
    "\n",
    "LS(d) = binomial(t+d+1,d+1) - binomial(t,d+1)"
   ]
  },
  {
   "cell_type": "markdown",
   "id": "6e5ffe21",
   "metadata": {},
   "source": [
    "Here is the case $d=6$, normalized to rendering the coefficients integral."
   ]
  },
  {
   "cell_type": "code",
   "execution_count": 7,
   "id": "cba2e7f8",
   "metadata": {},
   "outputs": [
    {
     "data": {
      "text/plain": [
       "7*t^6 + 21*t^5 + 385*t^4 + 735*t^3 + 2128*t^2 + 1764*t + 720"
      ]
     },
     "execution_count": 7,
     "metadata": {},
     "output_type": "execute_result"
    }
   ],
   "source": [
    "factorial(6) * LS(6)"
   ]
  },
  {
   "cell_type": "markdown",
   "id": "1beacd1c",
   "metadata": {},
   "source": [
    "Its roots lie on the *critical line* $\\operatorname{Re}(z)=-1/2$."
   ]
  },
  {
   "cell_type": "code",
   "execution_count": 8,
   "id": "4f93ac48",
   "metadata": {},
   "outputs": [
    {
     "data": {
      "text/plain": [
       "6-element Vector{ComplexFieldElem}:\n",
       " [-0.50000000 +/- 7.96e-9] + [-0.4466484 +/- 4.15e-8]*im\n",
       " [-0.50000000 +/- 7.93e-9] + [0.4466484 +/- 4.13e-8]*im\n",
       " [-0.5000000 +/- 2.20e-8] + [-2.1577232 +/- 3.82e-8]*im\n",
       " [-0.5000000 +/- 2.20e-8] + [2.1577232 +/- 3.82e-8]*im\n",
       " [-0.5000000 +/- 2.88e-8] + [-6.8113681 +/- 6.26e-8]*im\n",
       " [-0.5000000 +/- 2.78e-8] + [6.8113681 +/- 6.17e-8]*im"
      ]
     },
     "execution_count": 8,
     "metadata": {},
     "output_type": "execute_result"
    }
   ],
   "source": [
    "roots(LS(6), ComplexField())"
   ]
  },
  {
   "cell_type": "markdown",
   "id": "23e1b4cd",
   "metadata": {},
   "source": [
    "In this case the structure of Galois group can be recognized.  Note that one group occurs under many names."
   ]
  },
  {
   "cell_type": "code",
   "execution_count": 9,
   "id": "43dc7734",
   "metadata": {},
   "outputs": [
    {
     "data": {
      "text/plain": [
       "\"C2 x S4\""
      ]
     },
     "execution_count": 9,
     "metadata": {},
     "output_type": "execute_result"
    }
   ],
   "source": [
    "describe(galois_group(LS(6))[1])"
   ]
  },
  {
   "cell_type": "markdown",
   "id": "1a3e9145",
   "metadata": {},
   "source": [
    "OSCAR provides access to the database [polyDB](https://db.polymake.org).  Among other objects it comprises the complete list of smooth Fano polytopes of dimension $\\leq 8$.\n",
    "\n",
    "Notice, however, that OSCAR defines toric varieties from lattice polytopes through normal fans by default.  Hence all \"smooth\" polytopes are necessarily simple.\n",
    "\n",
    "Our goal is to provide a tally of orders of Galois groups of Ehrhart polynomials of the polars of all $6$-dimensional polytopes from that collection."
   ]
  },
  {
   "cell_type": "code",
   "execution_count": 10,
   "id": "2dca3164",
   "metadata": {},
   "outputs": [],
   "source": [
    "db = Polymake.Polydb.get_db();\n",
    "collection = db[\"Polytopes.Lattice.SmoothReflexive\"];\n",
    "query = Dict(\"DIM\"=>6);\n",
    "results = Polymake.Polydb.find(collection, query);"
   ]
  },
  {
   "cell_type": "markdown",
   "id": "91d476dd",
   "metadata": {},
   "source": [
    "We collect the polars of those polytopes and their Ehrhart polynomials.  While the polytopes come from the database, their polars, and the Ehrhart polynomials of the polars are actually computed, so this is a nontrivial computation."
   ]
  },
  {
   "cell_type": "code",
   "execution_count": 11,
   "id": "ebcac475",
   "metadata": {},
   "outputs": [
    {
     "data": {
      "text/plain": [
       "(7622,)"
      ]
     },
     "execution_count": 11,
     "metadata": {},
     "output_type": "execute_result"
    }
   ],
   "source": [
    "PP6 = [ polarize(Polyhedron(P)) for P in results ]\n",
    "E6 = [ ehrhart_polynomial(P) for P in PP6 ];\n",
    "\n",
    "size(E6)"
   ]
  },
  {
   "cell_type": "markdown",
   "id": "c82333bf",
   "metadata": {},
   "source": [
    "Here is the final statistics, which is a multiset of orders of 7622 Galois groups.  This is the most costly computation in this notebook."
   ]
  },
  {
   "cell_type": "code",
   "execution_count": 12,
   "id": "1689c0d9",
   "metadata": {},
   "outputs": [
    {
     "data": {
      "text/plain": [
       "MSet{Any} with 7622 elements:\n",
       "  4  : 623\n",
       "  16 : 310\n",
       "  6\n",
       "  12 : 44\n",
       "  8  : 22\n",
       "  48 : 6622"
      ]
     },
     "execution_count": 12,
     "metadata": {},
     "output_type": "execute_result"
    }
   ],
   "source": [
    "MSet(order(galois_group(e)[1]) for e = E6)"
   ]
  },
  {
   "cell_type": "markdown",
   "id": "4b87430a",
   "metadata": {},
   "source": [
    "Above we had mentioned the critical line $\\operatorname{Re}(z)=-1/2$."
   ]
  },
  {
   "cell_type": "code",
   "execution_count": 13,
   "id": "9d0a4d2d",
   "metadata": {},
   "outputs": [
    {
     "data": {
      "text/plain": [
       "on_critical_line (generic function with 1 method)"
      ]
     },
     "execution_count": 13,
     "metadata": {},
     "output_type": "execute_result"
    }
   ],
   "source": [
    "function on_critical_line(L)    \n",
    "    for z in roots(L, ComplexField())\n",
    "        if real(z) != -1/2\n",
    "            return false\n",
    "        end\n",
    "    end\n",
    "    return true\n",
    "end"
   ]
  },
  {
   "cell_type": "markdown",
   "id": "02a76b02",
   "metadata": {},
   "source": [
    "The following command duplicates what we already saw above."
   ]
  },
  {
   "cell_type": "code",
   "execution_count": 14,
   "id": "496be013",
   "metadata": {},
   "outputs": [
    {
     "data": {
      "text/plain": [
       "true"
      ]
     },
     "execution_count": 14,
     "metadata": {},
     "output_type": "execute_result"
    }
   ],
   "source": [
    "on_critical_line(LS(6))"
   ]
  },
  {
   "cell_type": "markdown",
   "id": "8b4272e8",
   "metadata": {},
   "source": [
    "Hegedüs and Kasprzyk (2011) showed that there are exactly four types of polars of smooth Fano $6$-polytopes such that the zeros of their Ehrhart polynomials do not lie on the critical line.\n",
    "\n",
    "Let's find them (i.e., their indices)."
   ]
  },
  {
   "cell_type": "code",
   "execution_count": 15,
   "id": "fd1242d6",
   "metadata": {},
   "outputs": [
    {
     "data": {
      "text/plain": [
       "4-element Vector{Any}:\n",
       "  721\n",
       "  804\n",
       " 2617\n",
       " 3155"
      ]
     },
     "execution_count": 15,
     "metadata": {},
     "output_type": "execute_result"
    }
   ],
   "source": [
    "function check_critical_line(EE)\n",
    "    idx = 1\n",
    "    non_critical = []\n",
    "    for e in EE\n",
    "        if !on_critical_line(e)\n",
    "            push!(non_critical, idx)\n",
    "        end\n",
    "        idx+=1\n",
    "    end\n",
    "    return non_critical\n",
    "end\n",
    "\n",
    "NC6 = check_critical_line(E6)"
   ]
  },
  {
   "cell_type": "markdown",
   "id": "1a1fa2cf-03d5-432e-8dd4-a340ec9c78d8",
   "metadata": {},
   "source": [
    "And these are their Galois groups.  The one with index 3155 is lattice isomorphic to (the polar of) a free sum of del Pezzo polytopes $\\operatorname{DP}(2)\\oplus\\operatorname{DP}(4)$."
   ]
  },
  {
   "cell_type": "code",
   "execution_count": 16,
   "id": "adbff620-52f5-43fa-bbe5-aeca6455d193",
   "metadata": {},
   "outputs": [
    {
     "data": {
      "text/plain": [
       "6-element Vector{ZZRingElem}:\n",
       " 180\n",
       " 540\n",
       " 630\n",
       " 360\n",
       " 106\n",
       " 16"
      ]
     },
     "execution_count": 16,
     "metadata": {},
     "output_type": "execute_result"
    }
   ],
   "source": [
    "f_vector(polarize(del_pezzo_polytope(2)) * polarize(del_pezzo_polytope(4)))"
   ]
  },
  {
   "cell_type": "markdown",
   "id": "774b2cb0-b5d8-47bf-9a7b-4ad2f07d4e55",
   "metadata": {},
   "source": [
    "It turns out that this is the only (polar of a) smooth Fano polytope whose Ehrhart polynomial has a Galois group of order six; re-check the tally above.  "
   ]
  },
  {
   "cell_type": "code",
   "execution_count": 17,
   "id": "d4adadae",
   "metadata": {},
   "outputs": [
    {
     "data": {
      "text/plain": [
       "4-element Vector{String}:\n",
       " \"C2 x S4\"\n",
       " \"C2 x S4\"\n",
       " \"C2 x S4\"\n",
       " \"S3\""
      ]
     },
     "execution_count": 17,
     "metadata": {},
     "output_type": "execute_result"
    }
   ],
   "source": [
    "[ describe(galois_group(E6[k])[1]) for k in NC6 ]"
   ]
  },
  {
   "cell_type": "markdown",
   "id": "84873319-a9be-45ff-9809-49742f0d832f",
   "metadata": {},
   "source": [
    "Let's look at the vertices of the polytope with that special Galois group."
   ]
  },
  {
   "cell_type": "code",
   "execution_count": 18,
   "id": "2732aaf1-c898-4770-b8cf-f74b01417d68",
   "metadata": {},
   "outputs": [
    {
     "data": {
      "text/plain": [
       "16-element SubObjectIterator{PointVector{QQFieldElem}}:\n",
       " [0, 0, 1, 0, 0, -1]\n",
       " [0, 0, -1, 0, 0, 1]\n",
       " [0, 0, 0, -1, 0, 0]\n",
       " [0, 0, 1, 0, 0, 0]\n",
       " [0, 0, 0, 0, 1, 0]\n",
       " [-1, -1, 0, 1, 1, 0]\n",
       " [0, 0, 0, 1, 0, 0]\n",
       " [0, 0, 0, 0, -1, 0]\n",
       " [0, -1, 0, 0, 0, 0]\n",
       " [1, 0, 0, 0, 0, 0]\n",
       " [-1, 0, 0, 0, 0, 0]\n",
       " [0, 0, -1, 0, 0, 0]\n",
       " [0, 1, 0, 0, 0, 0]\n",
       " [0, 0, 0, 0, 0, 1]\n",
       " [1, 1, 0, -1, -1, 0]\n",
       " [0, 0, 0, 0, 0, -1]"
      ]
     },
     "execution_count": 18,
     "metadata": {},
     "output_type": "execute_result"
    }
   ],
   "source": [
    "vertices(PP6[3155])"
   ]
  }
 ],
 "metadata": {
  "kernelspec": {
   "display_name": "Julia 1.10.0",
   "language": "julia",
   "name": "julia-1.10"
  },
  "language_info": {
   "file_extension": ".jl",
   "mimetype": "application/julia",
   "name": "julia",
   "version": "1.10.0"
  }
 },
 "nbformat": 4,
 "nbformat_minor": 5
}
