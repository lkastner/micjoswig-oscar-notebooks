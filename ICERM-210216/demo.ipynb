{
 "cells": [
  {
   "cell_type": "markdown",
   "metadata": {},
   "source": [
    "# OSCAR 0.5.1 Demo\n",
    "\n",
    "Michael Joswig and The Oscar Development Team\n",
    "\n",
    "[ICERM - Sage/Oscar Days for Combinatorial Algebraic Geometry](https://icerm.brown.edu/programs/sp-s21/w2/), ICERM/online, 15-19 Feb 2021"
   ]
  },
  {
   "cell_type": "code",
   "execution_count": 10,
   "metadata": {},
   "outputs": [
    {
     "name": "stderr",
     "output_type": "stream",
     "text": [
      "\u001b[32m\u001b[1m Activating\u001b[22m\u001b[39m environment at `/data/polymake/oscar-system/oscar-notebooks/ICERM-210216/Project.toml`\n"
     ]
    }
   ],
   "source": [
    "using Pkg; Pkg.activate(\".\")"
   ]
  },
  {
   "cell_type": "code",
   "execution_count": 11,
   "metadata": {
    "scrolled": true
   },
   "outputs": [],
   "source": [
    "using Oscar"
   ]
  },
  {
   "cell_type": "markdown",
   "metadata": {},
   "source": [
    "## Example: Polytope From Group Orbit"
   ]
  },
  {
   "cell_type": "code",
   "execution_count": 12,
   "metadata": {},
   "outputs": [
    {
     "data": {
      "text/plain": [
       "24×4 Array{fmpz,2}:\n",
       " 0  1  2  3\n",
       " 0  1  3  2\n",
       " 0  3  2  1\n",
       " 0  2  3  1\n",
       " 0  3  1  2\n",
       " 0  2  1  3\n",
       " 3  1  2  0\n",
       " 2  1  3  0\n",
       " 1  3  2  0\n",
       " 1  2  3  0\n",
       " 2  3  1  0\n",
       " 3  2  1  0\n",
       " 3  0  2  1\n",
       " 2  0  3  1\n",
       " 1  0  2  3\n",
       " 1  0  3  2\n",
       " 2  0  1  3\n",
       " 3  0  1  2\n",
       " 3  1  0  2\n",
       " 2  1  0  3\n",
       " 1  3  0  2\n",
       " 1  2  0  3\n",
       " 2  3  0  1\n",
       " 3  2  0  1"
      ]
     },
     "execution_count": 12,
     "metadata": {},
     "output_type": "execute_result"
    }
   ],
   "source": [
    "G = symmetric_group(4)\n",
    "x = [0,1,2,3]\n",
    "M = Array(vcat(collect(matrix(ZZ, 1, 4, permuted(x, g)) for g = G)))"
   ]
  },
  {
   "cell_type": "code",
   "execution_count": 13,
   "metadata": {},
   "outputs": [
    {
     "data": {
      "text/plain": [
       "A Polyhedron of dimension 3"
      ]
     },
     "execution_count": 13,
     "metadata": {},
     "output_type": "execute_result"
    }
   ],
   "source": [
    "P = convex_hull(M)"
   ]
  },
  {
   "cell_type": "code",
   "execution_count": 14,
   "metadata": {},
   "outputs": [
    {
     "data": {
      "text/html": [
       "$4$"
      ],
      "text/plain": [
       "4"
      ]
     },
     "execution_count": 14,
     "metadata": {},
     "output_type": "execute_result"
    }
   ],
   "source": [
    "ambient_dim(P)"
   ]
  },
  {
   "cell_type": "code",
   "execution_count": 15,
   "metadata": {},
   "outputs": [
    {
     "data": {
      "text/html": [
       "[$6$, $6$, $4$, $6$, $4$, $4$, $6$, $4$, $6$, $6$, $4$, $6$, $6$, $4$]"
      ],
      "text/plain": [
       "14-element Array{Int64,1}:\n",
       " 6\n",
       " 6\n",
       " 4\n",
       " 6\n",
       " 4\n",
       " 4\n",
       " 6\n",
       " 4\n",
       " 6\n",
       " 6\n",
       " 4\n",
       " 6\n",
       " 6\n",
       " 4"
      ]
     },
     "execution_count": 15,
     "metadata": {},
     "output_type": "execute_result"
    }
   ],
   "source": [
    "F = facets(P; as = :polyhedra)\n",
    "n_vertices.(F)"
   ]
  },
  {
   "cell_type": "markdown",
   "metadata": {},
   "source": [
    "## Example: Galois Groups"
   ]
  },
  {
   "cell_type": "code",
   "execution_count": 16,
   "metadata": {},
   "outputs": [
    {
     "data": {
      "text/plain": [
       "5-element Array{qadic,1}:\n",
       " 583730*1048589^0 + 787380*1048589^1 + 903235*1048589^2 + 589921*1048589^3 + 88635*1048589^4 + 403887*1048589^5 + 372677*1048589^6 + 951114*1048589^7 + 31719*1048589^8 + 433674*1048589^9 + O(1048589^10)\n",
       " (333313*1048589^0 + 332507*1048589^1 + 859848*1048589^2 + 615817*1048589^3 + 524847*1048589^4 + 916840*1048589^5 + 671321*1048589^6 + 644787*1048589^7 + 745453*1048589^8 + 565201*1048589^9 + O(1048589^10))*a + 655516*1048589^0 + 757137*1048589^1 + 763232*1048589^2 + 175390*1048589^3 + 891376*1048589^4 + 590715*1048589^5 + 82785*1048589^6 + 133145*1048589^7 + 740684*1048589^8 + 528669*1048589^9 + O(1048589^10)\n",
       " (715276*1048589^0 + 716081*1048589^1 + 188740*1048589^2 + 432771*1048589^3 + 523741*1048589^4 + 131748*1048589^5 + 377267*1048589^6 + 403801*1048589^7 + 303135*1048589^8 + 483387*1048589^9 + O(1048589^10))*a + 576975*1048589^0 + 770960*1048589^1 + 885101*1048589^2 + 715170*1048589^3 + 1046468*1048589^4 + 995006*1048589^5 + 506705*1048589^6 + 10382*1048589^7 + 95967*1048589^8 + 119635*1048589^9 + O(1048589^10)\n",
       " (641808*1048589^0 + 805075*1048589^1 + 492836*1048589^2 + 1037930*1048589^3 + 837771*1048589^4 + 918775*1048589^5 + 807900*1048589^6 + 1048190*1048589^7 + 219893*1048589^8 + 616621*1048589^9 + O(1048589^10))*a + 419477*1048589^0 + 566070*1048589^1 + 1022543*1048589^2 + 853783*1048589^3 + 877045*1048589^4 + 994949*1048589^5 + 642986*1048589^6 + 200223*1048589^7 + 728044*1048589^8 + 685727*1048589^9 + O(1048589^10)\n",
       " (406781*1048589^0 + 243513*1048589^1 + 555752*1048589^2 + 10658*1048589^3 + 210817*1048589^4 + 129813*1048589^5 + 240688*1048589^6 + 398*1048589^7 + 828695*1048589^8 + 431967*1048589^9 + O(1048589^10))*a + 910069*1048589^0 + 264217*1048589^1 + 620242*1048589^2 + 811499*1048589^3 + 242240*1048589^4 + 161207*1048589^5 + 492022*1048589^6 + 802312*1048589^7 + 500762*1048589^8 + 329471*1048589^9 + O(1048589^10)"
      ]
     },
     "execution_count": 16,
     "metadata": {},
     "output_type": "execute_result"
    }
   ],
   "source": [
    "R, x = PolynomialRing(QQ, \"x\")\n",
    "k, a = number_field(x^5-2)\n",
    "\n",
    "G, C = galois_group(k)\n",
    "roots(C, 10)"
   ]
  },
  {
   "cell_type": "code",
   "execution_count": 8,
   "metadata": {},
   "outputs": [
    {
     "data": {
      "text/plain": [
       "\"C5 : C4\""
      ]
     },
     "execution_count": 8,
     "metadata": {},
     "output_type": "execute_result"
    }
   ],
   "source": [
    "describe(G)"
   ]
  },
  {
   "cell_type": "code",
   "execution_count": 9,
   "metadata": {},
   "outputs": [
    {
     "data": {
      "text/html": [
       "($20$, $3$)"
      ],
      "text/plain": [
       "(20, 3)"
      ]
     },
     "execution_count": 9,
     "metadata": {},
     "output_type": "execute_result"
    }
   ],
   "source": [
    "small_group_identification(G)"
   ]
  },
  {
   "cell_type": "markdown",
   "metadata": {},
   "source": [
    "## Example: GIT-Fans With Symmetry"
   ]
  },
  {
   "cell_type": "code",
   "execution_count": 10,
   "metadata": {},
   "outputs": [],
   "source": [
    "using GITFans"
   ]
  },
  {
   "cell_type": "code",
   "execution_count": 11,
   "metadata": {},
   "outputs": [],
   "source": [
    "Q = [\n",
    "  1  1   0   0   0 ;\n",
    "  1  0   1   1   0 ;\n",
    "  1  0   1   0   1 ;\n",
    "  1  0   0   1   1 ;\n",
    "  0  1   0   0  -1 ;\n",
    "  0  1   0  -1   0 ;\n",
    "  0  1  -1   0   0 ;\n",
    "  0  0   1   0   0 ;\n",
    "  0  0   0   1   0 ;\n",
    "  0  0   0   0   1 ];\n",
    "\n",
    "n = size(Q, 1)\n",
    "Qt, T = PolynomialRing(QQ, :T => 1:n)\n",
    "D = free_abelian_group(size(Q,2))\n",
    "w = [D(Q[i, :]) for i = 1:n]\n",
    "R = grade(Qt, w)\n",
    "\n",
    "a = ideal(R, [\n",
    "     T[5]*T[10] - T[6]*T[9] + T[7]*T[8],\n",
    "     T[1]*T[9]  - T[2]*T[7] + T[4]*T[5],\n",
    "     T[1]*T[8]  - T[2]*T[6] + T[3]*T[5],\n",
    "     T[1]*T[10] - T[3]*T[7] + T[4]*T[6],\n",
    "     T[2]*T[10] - T[3]*T[9] + T[4]*T[8],\n",
    "]);\n",
    "\n",
    "perms_list = [ [1,3,2,4,6,5,7,8,10,9], [5,7,1,6,9,2,8,4,10,3] ];\n",
    "S10 = symmetric_group(n);\n",
    "G, emb = sub([S10(x) for x in perms_list]...);"
   ]
  },
  {
   "cell_type": "code",
   "execution_count": 12,
   "metadata": {},
   "outputs": [
    {
     "data": {
      "text/plain": [
       "pm::Vector<pm::Integer>\n",
       "20 110 240 225 76"
      ]
     },
     "execution_count": 12,
     "metadata": {},
     "output_type": "execute_result"
    }
   ],
   "source": [
    "fanobj = GITFans.git_fan(a, Q, G)\n",
    "fanobj.F_VECTOR"
   ]
  }
 ],
 "metadata": {
  "kernelspec": {
   "display_name": "Julia 1.5.3",
   "language": "julia",
   "name": "julia-1.5"
  },
  "language_info": {
   "file_extension": ".jl",
   "mimetype": "application/julia",
   "name": "julia",
   "version": "1.5.3"
  }
 },
 "nbformat": 4,
 "nbformat_minor": 4
}
