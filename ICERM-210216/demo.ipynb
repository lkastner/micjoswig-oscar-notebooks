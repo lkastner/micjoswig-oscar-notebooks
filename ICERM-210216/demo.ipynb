{
 "cells": [
  {
   "cell_type": "markdown",
   "metadata": {},
   "source": [
    "# OSCAR 0.5.1 Demo\n",
    "\n",
    "Michael Joswig and The Oscar Development Team\n",
    "\n",
    "[ICERM - Sage/Oscar Days for Combinatorial Algebraic Geometry](https://icerm.brown.edu/programs/sp-s21/w2/), ICERM/online, 15-19 Feb 2021"
   ]
  },
  {
   "cell_type": "code",
   "execution_count": 1,
   "metadata": {},
   "outputs": [
    {
     "name": "stderr",
     "output_type": "stream",
     "text": [
      "\u001b[32m\u001b[1m Activating\u001b[22m\u001b[39m environment at `/cache/polymake/oscar-system/oscar-notebooks/ICERM-210216/Project.toml`\n"
     ]
    }
   ],
   "source": [
    "using Pkg; Pkg.activate(\".\")"
   ]
  },
  {
   "cell_type": "code",
   "execution_count": 2,
   "metadata": {
    "scrolled": true
   },
   "outputs": [
    {
     "name": "stdout",
     "output_type": "stream",
     "text": [
      " -----    -----    -----      -      -----   \n",
      "|     |  |     |  |     |    | |    |     |  \n",
      "|     |  |        |         |   |   |     |  \n",
      "|     |   -----   |        |     |  |-----   \n",
      "|     |        |  |        |-----|  |   |    \n",
      "|     |  |     |  |     |  |     |  |    |   \n",
      " -----    -----    -----   -     -  -     -  \n",
      "\n",
      "...combining (and extending) ANTIC, GAP, Polymake and Singular\n",
      "Version\u001b[32m 0.5.1 \u001b[39m... \n",
      " ... which comes with absolutely no warranty whatsoever\n",
      "Type: '?Oscar' for more information\n",
      "(c) 2019-2021 by The Oscar Development Team\n"
     ]
    }
   ],
   "source": [
    "using Oscar"
   ]
  },
  {
   "cell_type": "markdown",
   "metadata": {},
   "source": [
    "## Example: Polytope Basics"
   ]
  },
  {
   "cell_type": "code",
   "execution_count": 3,
   "metadata": {},
   "outputs": [
    {
     "data": {
      "text/plain": [
       "24×4 Array{fmpz,2}:\n",
       " 0  1  2  3\n",
       " 0  1  3  2\n",
       " 0  3  2  1\n",
       " 0  2  3  1\n",
       " 0  3  1  2\n",
       " 0  2  1  3\n",
       " 3  1  2  0\n",
       " 2  1  3  0\n",
       " 1  3  2  0\n",
       " 1  2  3  0\n",
       " ⋮        \n",
       " 1  0  3  2\n",
       " 2  0  1  3\n",
       " 3  0  1  2\n",
       " 3  1  0  2\n",
       " 2  1  0  3\n",
       " 1  3  0  2\n",
       " 1  2  0  3\n",
       " 2  3  0  1\n",
       " 3  2  0  1"
      ]
     },
     "execution_count": 3,
     "metadata": {},
     "output_type": "execute_result"
    }
   ],
   "source": [
    "G = symmetric_group(4)\n",
    "x = [0,1,2,3]\n",
    "M = Array(vcat(collect(matrix(ZZ, 1, 4, permuted(x, g)) for g = G)))"
   ]
  },
  {
   "cell_type": "code",
   "execution_count": 4,
   "metadata": {},
   "outputs": [
    {
     "data": {
      "text/plain": [
       "A Polyhedron of dimension 3"
      ]
     },
     "execution_count": 4,
     "metadata": {},
     "output_type": "execute_result"
    }
   ],
   "source": [
    "P = convex_hull(M)"
   ]
  },
  {
   "cell_type": "code",
   "execution_count": 5,
   "metadata": {},
   "outputs": [
    {
     "data": {
      "text/html": [
       "$4$"
      ],
      "text/plain": [
       "4"
      ]
     },
     "execution_count": 5,
     "metadata": {},
     "output_type": "execute_result"
    }
   ],
   "source": [
    "ambient_dim(P)"
   ]
  },
  {
   "cell_type": "code",
   "execution_count": 6,
   "metadata": {},
   "outputs": [
    {
     "data": {
      "text/plain": [
       "Oscar.PolyhedronFacetPolyhedronIterator(A Polyhedron of dimension 3)"
      ]
     },
     "execution_count": 6,
     "metadata": {},
     "output_type": "execute_result"
    }
   ],
   "source": [
    "F = facets(P; as = :polyhedra)"
   ]
  },
  {
   "cell_type": "code",
   "execution_count": 7,
   "metadata": {},
   "outputs": [
    {
     "data": {
      "text/html": [
       "[$6$, $6$, $4$, $6$, $4$, $4$, $6$, $4$, $6$, $6$, $4$, $6$, $6$, $4$]"
      ],
      "text/plain": [
       "14-element Array{Int64,1}:\n",
       " 6\n",
       " 6\n",
       " 4\n",
       " 6\n",
       " 4\n",
       " 4\n",
       " 6\n",
       " 4\n",
       " 6\n",
       " 6\n",
       " 4\n",
       " 6\n",
       " 6\n",
       " 4"
      ]
     },
     "execution_count": 7,
     "metadata": {},
     "output_type": "execute_result"
    }
   ],
   "source": [
    "n_vertices_per_facet = Oscar.n_vertices.(F)"
   ]
  },
  {
   "cell_type": "code",
   "execution_count": null,
   "metadata": {},
   "outputs": [],
   "source": []
  }
 ],
 "metadata": {
  "kernelspec": {
   "display_name": "Julia 1.5.3",
   "language": "julia",
   "name": "julia-1.5"
  },
  "language_info": {
   "file_extension": ".jl",
   "mimetype": "application/julia",
   "name": "julia",
   "version": "1.5.3"
  }
 },
 "nbformat": 4,
 "nbformat_minor": 4
}
