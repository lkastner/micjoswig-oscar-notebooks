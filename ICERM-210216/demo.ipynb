{
 "cells": [
  {
   "cell_type": "markdown",
   "metadata": {},
   "source": [
    "# OSCAR 0.5.1 Demo (now updated to v1.0)\n",
    "\n",
    "Michael Joswig and The Oscar Development Team\n",
    "\n",
    "[ICERM - Sage/Oscar Days for Combinatorial Algebraic Geometry](https://icerm.brown.edu/programs/sp-s21/w2/), ICERM/online, 15-19 Feb 2021"
   ]
  },
  {
   "cell_type": "code",
   "execution_count": 1,
   "metadata": {
    "scrolled": true
   },
   "outputs": [
    {
     "name": "stdout",
     "output_type": "stream",
     "text": [
      "  ___   ____   ____    _    ____\n",
      " / _ \\ / ___| / ___|  / \\  |  _ \\   |  Combining ANTIC, GAP, Polymake, Singular\n",
      "| | | |\\___ \\| |     / _ \\ | |_) |  |  Type \"?Oscar\" for more information\n",
      "| |_| | ___) | |___ / ___ \\|  _ <   |  Manual: https://docs.oscar-system.org\n",
      " \\___/ |____/ \\____/_/   \\_\\_| \\_\\  |  Version 1.0.0\n"
     ]
    }
   ],
   "source": [
    "using Oscar"
   ]
  },
  {
   "cell_type": "markdown",
   "metadata": {},
   "source": [
    "## Example: Polytope From Group Orbit"
   ]
  },
  {
   "cell_type": "code",
   "execution_count": 5,
   "metadata": {},
   "outputs": [
    {
     "data": {
      "text/plain": [
       "Polyhedron in ambient dimension 4"
      ]
     },
     "execution_count": 5,
     "metadata": {},
     "output_type": "execute_result"
    }
   ],
   "source": [
    "G = symmetric_group(4)\n",
    "x = [0,1,2,3]\n",
    "P = orbit_polytope(x, G)"
   ]
  },
  {
   "cell_type": "code",
   "execution_count": 6,
   "metadata": {},
   "outputs": [
    {
     "data": {
      "text/plain": [
       "3"
      ]
     },
     "execution_count": 6,
     "metadata": {},
     "output_type": "execute_result"
    }
   ],
   "source": [
    "dim(P)"
   ]
  },
  {
   "cell_type": "code",
   "execution_count": 13,
   "metadata": {},
   "outputs": [
    {
     "name": "stdout",
     "output_type": "stream",
     "text": [
      "[6, 6, 4, 6, 4, 4, 6, 4, 6, 6, 4, 6, 6, 4]"
     ]
    }
   ],
   "source": [
    "F = facets(Polyhedron, P)\n",
    "show(n_vertices.(F))"
   ]
  },
  {
   "cell_type": "markdown",
   "metadata": {},
   "source": [
    "## Example: Galois Groups"
   ]
  },
  {
   "cell_type": "code",
   "execution_count": 14,
   "metadata": {},
   "outputs": [
    {
     "data": {
      "text/plain": [
       "5-element Vector{QadicFieldElem}:\n",
       " 15*19^0 + 4*19^1 + 15*19^2 + 6*19^3 + 8*19^4 + 4*19^5 + 9*19^6 + 14*19^7 + 3*19^8 + 10*19^9 + O(19^10)\n",
       " (15*19^0 + 4*19^1 + 19^2 + 19^3 + 16*19^4 + 4*19^5 + 7*19^6 + 9*19^7 + 11*19^9 + O(19^10))*a + 13*19^0 + 10*19^1 + 7*19^2 + 15*19^3 + 16*19^4 + 11*19^5 + 14*19^6 + 13*19^9 + O(19^10)\n",
       " (4*19^0 + 14*19^1 + 17*19^2 + 17*19^3 + 2*19^4 + 14*19^5 + 11*19^6 + 9*19^7 + 18*19^8 + 7*19^9 + O(19^10))*a + 9*19^0 + 4*19^2 + 15*19^3 + 12*19^4 + 17*19^6 + 2*19^7 + 10*19^8 + 4*19^9 + O(19^10)\n",
       " (3*19^0 + 11*19^1 + 12*19^2 + 17*19^3 + 3*19^4 + 4*19^5 + 18*19^6 + 19^7 + 15*19^8 + 12*19^9 + O(19^10))*a + 18*19^0 + 6*19^1 + 14*19^2 + 16*19^3 + 6*19^4 + 10*19^5 + 10*19^6 + 8*19^7 + 5*19^8 + 6*19^9 + O(19^10)\n",
       " (16*19^0 + 7*19^1 + 6*19^2 + 19^3 + 15*19^4 + 14*19^5 + 17*19^7 + 3*19^8 + 6*19^9 + O(19^10))*a + 2*19^0 + 15*19^1 + 15*19^2 + 2*19^3 + 12*19^4 + 10*19^5 + 5*19^6 + 11*19^7 + 18*19^8 + 3*19^9 + O(19^10)"
      ]
     },
     "execution_count": 14,
     "metadata": {},
     "output_type": "execute_result"
    }
   ],
   "source": [
    "R, x = polynomial_ring(QQ, \"x\")\n",
    "k, a = number_field(x^5-2)\n",
    "\n",
    "G, C = galois_group(k)\n",
    "roots(C, 10)"
   ]
  },
  {
   "cell_type": "code",
   "execution_count": 15,
   "metadata": {},
   "outputs": [
    {
     "data": {
      "text/plain": [
       "\"C5 : C4\""
      ]
     },
     "execution_count": 15,
     "metadata": {},
     "output_type": "execute_result"
    }
   ],
   "source": [
    "describe(G)"
   ]
  },
  {
   "cell_type": "code",
   "execution_count": 16,
   "metadata": {},
   "outputs": [
    {
     "data": {
      "text/plain": [
       "(20, 3)"
      ]
     },
     "execution_count": 16,
     "metadata": {},
     "output_type": "execute_result"
    }
   ],
   "source": [
    "small_group_identification(G)"
   ]
  },
  {
   "cell_type": "markdown",
   "metadata": {},
   "source": [
    "## Example: GIT-Fans With Symmetry"
   ]
  },
  {
   "cell_type": "code",
   "execution_count": 17,
   "metadata": {},
   "outputs": [
    {
     "ename": "LoadError",
     "evalue": "ArgumentError: Package GITFans not found in current path.\n- Run `import Pkg; Pkg.add(\"GITFans\")` to install the GITFans package.",
     "output_type": "error",
     "traceback": [
      "ArgumentError: Package GITFans not found in current path.\n- Run `import Pkg; Pkg.add(\"GITFans\")` to install the GITFans package.",
      "",
      "Stacktrace:",
      " [1] macro expansion",
      "   @ ./loading.jl:1772 [inlined]",
      " [2] macro expansion",
      "   @ ./lock.jl:267 [inlined]",
      " [3] __require(into::Module, mod::Symbol)",
      "   @ Base ./loading.jl:1753",
      " [4] #invoke_in_world#3",
      "   @ ./essentials.jl:926 [inlined]",
      " [5] invoke_in_world",
      "   @ ./essentials.jl:923 [inlined]",
      " [6] require(into::Module, mod::Symbol)",
      "   @ Base ./loading.jl:1746"
     ]
    }
   ],
   "source": [
    "using GITFans"
   ]
  },
  {
   "cell_type": "code",
   "execution_count": 19,
   "metadata": {},
   "outputs": [
    {
     "ename": "LoadError",
     "evalue": "MethodError: no method matching ideal(::Tuple{MPolyDecRing{QQFieldElem, QQMPolyRing}, Vector{MPolyDecRingElem{QQFieldElem, QQMPolyRingElem}}}, ::Vector{QQMPolyRingElem})\n\n\u001b[0mClosest candidates are:\n\u001b[0m  ideal(\u001b[91m::Field\u001b[39m, ::Any...)\n\u001b[0m\u001b[90m   @\u001b[39m \u001b[32mHecke\u001b[39m \u001b[90m~/.julia/packages/Hecke/1fdag/src/Misc/\u001b[39m\u001b[90m\u001b[4mPIDIdeal.jl:60\u001b[24m\u001b[39m\n\u001b[0m  ideal(\u001b[91m::LieAlgebra\u001b[39m, ::Vector; is_basis)\n\u001b[0m\u001b[90m   @\u001b[39m \u001b[35mOscar\u001b[39m \u001b[90m~/.julia/packages/Oscar/59YCS/experimental/LieAlgebras/src/\u001b[39m\u001b[90m\u001b[4mLieAlgebraIdeal.jl:275\u001b[24m\u001b[39m\n\u001b[0m  ideal(\u001b[91m::Hecke.AlgAssAbsOrd{S, T}\u001b[39m, ::T) where {S, T}\n\u001b[0m\u001b[90m   @\u001b[39m \u001b[32mHecke\u001b[39m \u001b[90m~/.julia/packages/Hecke/1fdag/src/AlgAssAbsOrd/\u001b[39m\u001b[90m\u001b[4mIdeal.jl:118\u001b[24m\u001b[39m\n\u001b[0m  ...\n",
     "output_type": "error",
     "traceback": [
      "MethodError: no method matching ideal(::Tuple{MPolyDecRing{QQFieldElem, QQMPolyRing}, Vector{MPolyDecRingElem{QQFieldElem, QQMPolyRingElem}}}, ::Vector{QQMPolyRingElem})\n\n\u001b[0mClosest candidates are:\n\u001b[0m  ideal(\u001b[91m::Field\u001b[39m, ::Any...)\n\u001b[0m\u001b[90m   @\u001b[39m \u001b[32mHecke\u001b[39m \u001b[90m~/.julia/packages/Hecke/1fdag/src/Misc/\u001b[39m\u001b[90m\u001b[4mPIDIdeal.jl:60\u001b[24m\u001b[39m\n\u001b[0m  ideal(\u001b[91m::LieAlgebra\u001b[39m, ::Vector; is_basis)\n\u001b[0m\u001b[90m   @\u001b[39m \u001b[35mOscar\u001b[39m \u001b[90m~/.julia/packages/Oscar/59YCS/experimental/LieAlgebras/src/\u001b[39m\u001b[90m\u001b[4mLieAlgebraIdeal.jl:275\u001b[24m\u001b[39m\n\u001b[0m  ideal(\u001b[91m::Hecke.AlgAssAbsOrd{S, T}\u001b[39m, ::T) where {S, T}\n\u001b[0m\u001b[90m   @\u001b[39m \u001b[32mHecke\u001b[39m \u001b[90m~/.julia/packages/Hecke/1fdag/src/AlgAssAbsOrd/\u001b[39m\u001b[90m\u001b[4mIdeal.jl:118\u001b[24m\u001b[39m\n\u001b[0m  ...\n",
      "",
      "Stacktrace:",
      " [1] top-level scope",
      "   @ In[19]:17"
     ]
    }
   ],
   "source": [
    "Q = [\n",
    "  1  1   0   0   0 ;\n",
    "  1  0   1   1   0 ;\n",
    "  1  0   1   0   1 ;\n",
    "  1  0   0   1   1 ;\n",
    "  0  1   0   0  -1 ;\n",
    "  0  1   0  -1   0 ;\n",
    "  0  1  -1   0   0 ;\n",
    "  0  0   1   0   0 ;\n",
    "  0  0   0   1   0 ;\n",
    "  0  0   0   0   1 ];\n",
    "\n",
    "n = size(Q, 1)\n",
    "Qt, T = polynomial_ring(QQ, :T => 1:n)\n",
    "D = free_abelian_group(size(Q,2))\n",
    "w = [D(Q[i, :]) for i = 1:n]\n",
    "R = grade(Qt, w)\n",
    "\n",
    "a = ideal(R, [\n",
    "     T[5]*T[10] - T[6]*T[9] + T[7]*T[8],\n",
    "     T[1]*T[9]  - T[2]*T[7] + T[4]*T[5],\n",
    "     T[1]*T[8]  - T[2]*T[6] + T[3]*T[5],\n",
    "     T[1]*T[10] - T[3]*T[7] + T[4]*T[6],\n",
    "     T[2]*T[10] - T[3]*T[9] + T[4]*T[8],\n",
    "]);\n",
    "\n",
    "perms_list = [ [1,3,2,4,6,5,7,8,10,9], [5,7,1,6,9,2,8,4,10,3] ];\n",
    "S10 = symmetric_group(n);\n",
    "G, emb = sub([S10(x) for x in perms_list]...);"
   ]
  },
  {
   "cell_type": "code",
   "execution_count": 12,
   "metadata": {},
   "outputs": [
    {
     "data": {
      "text/plain": [
       "pm::Vector<pm::Integer>\n",
       "20 110 240 225 76"
      ]
     },
     "execution_count": 12,
     "metadata": {},
     "output_type": "execute_result"
    }
   ],
   "source": [
    "fanobj = GITFans.git_fan(a, Q, G)\n",
    "fanobj.F_VECTOR"
   ]
  }
 ],
 "metadata": {
  "kernelspec": {
   "display_name": "Julia 1.10.1",
   "language": "julia",
   "name": "julia-1.10"
  },
  "language_info": {
   "file_extension": ".jl",
   "mimetype": "application/julia",
   "name": "julia",
   "version": "1.10.1"
  }
 },
 "nbformat": 4,
 "nbformat_minor": 4
}
