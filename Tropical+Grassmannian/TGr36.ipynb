{
 "cells": [
  {
   "cell_type": "code",
   "execution_count": 1,
   "metadata": {},
   "outputs": [
    {
     "name": "stdout",
     "output_type": "stream",
     "text": [
      "  ___   ____   ____    _    ____\n",
      " / _ \\ / ___| / ___|  / \\  |  _ \\   |  Combining ANTIC, GAP, Polymake, Singular\n",
      "| | | |\\___ \\| |     / _ \\ | |_) |  |  Type \"?Oscar\" for more information\n",
      "| |_| | ___) | |___ / ___ \\|  _ <   |  Manual: https://docs.oscar-system.org\n",
      " \\___/ |____/ \\____/_/   \\_\\_| \\_\\  |  Version 1.1.0\n"
     ]
    }
   ],
   "source": [
    "using Oscar"
   ]
  },
  {
   "cell_type": "markdown",
   "metadata": {},
   "source": [
    "# The tropical Grassmannian TGr$(3,6)$\n",
    "\n",
    "The Grassmannian Gr$(k,n)$ is an algebraic variety which parametrizes the $k$-dimensional linear subspaces of an $n$-dimensional vector space, say over the complex numbers.\n",
    "The tropical Grassmannian TGr$(k,n)$ is its tropicalization, and it parametrizes the realizable tropical linear spaces.\n",
    "\n",
    "The investigation of the tropical Grassmannians started with [an article](https://www.degruyter.com/document/doi/10.1515/advg.2004.023/pdf) by Speyer and Sturmfels.\n",
    "Here we recover some of their results.\n",
    "\n",
    "We begin with loading the output for TGr$(3,6)$ of a [computation](https://www.sciencedirect.com/science/article/pii/S0747717123000317) by Bendle, Böhm, Ren and Schröter.\n",
    "That output employs the [MaRDI file format](https://arxiv.org/abs/2309.00465) developed by Della Vecchia, Joswig and Lorenz.\n",
    "In the original Speyer-Sturmfels paper Jensen's software [GFan](https://users-math.au.dk/jensen/software/gfan/gfanmanual0.6.pdf) was used."
   ]
  },
  {
   "cell_type": "code",
   "execution_count": 2,
   "metadata": {},
   "outputs": [
    {
     "data": {
      "text/plain": [
       "Polyhedral fan in ambient dimension 20"
      ]
     },
     "execution_count": 2,
     "metadata": {},
     "output_type": "execute_result"
    }
   ],
   "source": [
    "TGr36 = load(\"TGr36.mrdi\")"
   ]
  },
  {
   "cell_type": "markdown",
   "metadata": {},
   "source": [
    "The ambient dimension is $\\tbinom{n}{k}=20$, but the tropical Grassmannian is smaller.\n",
    "By the way, here we follow the max convention."
   ]
  },
  {
   "cell_type": "code",
   "execution_count": 3,
   "metadata": {},
   "outputs": [
    {
     "data": {
      "text/plain": [
       "10"
      ]
     },
     "execution_count": 3,
     "metadata": {},
     "output_type": "execute_result"
    }
   ],
   "source": [
    "dim(TGr36)"
   ]
  },
  {
   "cell_type": "markdown",
   "metadata": {},
   "source": [
    "And it has an $n$-dimensional lineality space."
   ]
  },
  {
   "cell_type": "code",
   "execution_count": 4,
   "metadata": {},
   "outputs": [
    {
     "data": {
      "text/plain": [
       "6"
      ]
     },
     "execution_count": 4,
     "metadata": {},
     "output_type": "execute_result"
    }
   ],
   "source": [
    "lineality_dim(TGr36)"
   ]
  },
  {
   "cell_type": "markdown",
   "metadata": {},
   "source": [
    "The following output lists the number of cones per dimension.  The lineality space occurs as a list of initial zeros."
   ]
  },
  {
   "cell_type": "code",
   "execution_count": 5,
   "metadata": {},
   "outputs": [
    {
     "name": "stdout",
     "output_type": "stream",
     "text": [
      "ZZRingElem[0, 0, 0, 0, 0, 0, 65, 550, 1395, 1035]"
     ]
    }
   ],
   "source": [
    "show(f_vector(TGr36))"
   ]
  },
  {
   "cell_type": "markdown",
   "metadata": {},
   "source": [
    "We are interested in the topology of the spherical polytopal complex obtained by intersection the fan with the unit sphere.\n",
    "Up to homotopy this can be read off the incidences between the maximal cones and the rays."
   ]
  },
  {
   "cell_type": "code",
   "execution_count": 6,
   "metadata": {},
   "outputs": [
    {
     "data": {
      "text/plain": [
       "Abstract simplicial complex of dimension 3 on 65 vertices"
      ]
     },
     "execution_count": 6,
     "metadata": {},
     "output_type": "execute_result"
    }
   ],
   "source": [
    "K = simplicial_complex(maximal_cones(IncidenceMatrix, TGr36))"
   ]
  },
  {
   "cell_type": "markdown",
   "metadata": {},
   "source": [
    "Of course, we loose one dimension from $10-6=4$ in the process."
   ]
  },
  {
   "cell_type": "code",
   "execution_count": 7,
   "metadata": {},
   "outputs": [
    {
     "data": {
      "text/plain": [
       "3"
      ]
     },
     "execution_count": 7,
     "metadata": {},
     "output_type": "execute_result"
    }
   ],
   "source": [
    "dim(K)"
   ]
  },
  {
   "cell_type": "markdown",
   "metadata": {},
   "source": [
    "The $f$-vector is still the same (except for those zeros), because TGr$(3,6)$ is simplicial."
   ]
  },
  {
   "cell_type": "code",
   "execution_count": 8,
   "metadata": {},
   "outputs": [
    {
     "name": "stdout",
     "output_type": "stream",
     "text": [
      "[65, 550, 1395, 1035]"
     ]
    }
   ],
   "source": [
    "show(f_vector(K))"
   ]
  },
  {
   "cell_type": "markdown",
   "metadata": {},
   "source": [
    "The homology is concentrated in the top dimension."
   ]
  },
  {
   "cell_type": "code",
   "execution_count": 9,
   "metadata": {},
   "outputs": [
    {
     "data": {
      "text/plain": [
       "4-element Vector{FinGenAbGroup}:\n",
       " Z\n",
       " Z/1\n",
       " Z/1\n",
       " Z^126"
      ]
     },
     "execution_count": 9,
     "metadata": {},
     "output_type": "execute_result"
    }
   ],
   "source": [
    "[ homology(K, i) for i in 0:3 ]"
   ]
  }
 ],
 "metadata": {
  "kernelspec": {
   "display_name": "Julia 1.10.4",
   "language": "julia",
   "name": "julia-1.10"
  },
  "language_info": {
   "file_extension": ".jl",
   "mimetype": "application/julia",
   "name": "julia",
   "version": "1.10.4"
  }
 },
 "nbformat": 4,
 "nbformat_minor": 4
}
