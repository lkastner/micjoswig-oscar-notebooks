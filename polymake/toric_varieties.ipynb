{
 "cells": [
  {
   "cell_type": "markdown",
   "id": "332d2282",
   "metadata": {},
   "source": [
    "This is meant to document preliminary access to functionality in toric geometry via Polymake.jl."
   ]
  },
  {
   "cell_type": "code",
   "execution_count": 1,
   "id": "17ac288b",
   "metadata": {},
   "outputs": [
    {
     "name": "stderr",
     "output_type": "stream",
     "text": [
      "\u001b[32m\u001b[1m  Activating\u001b[22m\u001b[39m environment at `/cache/polymake/oscar-system/oscar-notebooks/polymake/Project.toml`\n"
     ]
    }
   ],
   "source": [
    "import Pkg; Pkg.activate(\".\")"
   ]
  },
  {
   "cell_type": "code",
   "execution_count": 2,
   "id": "bb181bb3",
   "metadata": {},
   "outputs": [
    {
     "name": "stdout",
     "output_type": "stream",
     "text": [
      " -----    -----    -----      -      -----   \n",
      "|     |  |     |  |     |    | |    |     |  \n",
      "|     |  |        |         |   |   |     |  \n",
      "|     |   -----   |        |     |  |-----   \n",
      "|     |        |  |        |-----|  |   |    \n",
      "|     |  |     |  |     |  |     |  |    |   \n",
      " -----    -----    -----   -     -  -     -  \n",
      "\n",
      "...combining (and extending) ANTIC, GAP, Polymake and Singular\n",
      "Version\u001b[32m 0.6.0 \u001b[39m... \n",
      " ... which comes with absolutely no warranty whatsoever\n",
      "Type: '?Oscar' for more information\n",
      "(c) 2019-2021 by The Oscar Development Team\n"
     ]
    }
   ],
   "source": [
    "using Oscar\n",
    "const pm = Polymake;"
   ]
  },
  {
   "cell_type": "markdown",
   "id": "237b599f",
   "metadata": {},
   "source": [
    "In <tt>polymake</tt> the toric geometry resides in the application <tt>fulton</tt>.  Here we follow the first few steps of the [tutorial](https://polymake.org/doku.php/user_guide/tutorials/apps_fulton).\n",
    "\n",
    "Oscar v0.6.0 already has cones."
   ]
  },
  {
   "cell_type": "code",
   "execution_count": 3,
   "id": "34807180",
   "metadata": {},
   "outputs": [
    {
     "data": {
      "text/plain": [
       "A polyhedral cone in ambient dimension 2"
      ]
     },
     "execution_count": 3,
     "metadata": {},
     "output_type": "execute_result"
    }
   ],
   "source": [
    "c = positive_hull([-2 1; 1 1])"
   ]
  },
  {
   "cell_type": "markdown",
   "id": "779ed332",
   "metadata": {},
   "source": [
    "These cones have an ordinary <tt>polymake</tt> big object of type <tt>Cone</tt> underneath."
   ]
  },
  {
   "cell_type": "code",
   "execution_count": 4,
   "id": "5764825d",
   "metadata": {},
   "outputs": [
    {
     "data": {
      "text/plain": [
       "pm::Array<pm::Matrix<pm::Integer>>\n",
       "<-2 1\n",
       "-1 1\n",
       "0 1\n",
       "1 1\n",
       ">\n",
       "<>\n"
      ]
     },
     "execution_count": 4,
     "metadata": {},
     "output_type": "execute_result"
    }
   ],
   "source": [
    "c.pm_cone.HILBERT_BASIS_GENERATORS"
   ]
  },
  {
   "cell_type": "markdown",
   "id": "a33bcab5",
   "metadata": {},
   "source": [
    "Here is how to derive the toric ideal (corresponding to the affine toric variety defined by the cone)."
   ]
  },
  {
   "cell_type": "code",
   "execution_count": 5,
   "id": "07956ea6",
   "metadata": {},
   "outputs": [
    {
     "data": {
      "text/html": [
       "<dl> <dt>type</dt><dd> Ideal</dd> </dl>   <details>\n",
       "       <summary style='display:list-item;'>BINOMIAL</summary>\n",
       "       <pre>true</pre>\n",
       "   </details>\n"
      ],
      "text/plain": [
       "type: Ideal\n",
       "\n",
       "BINOMIAL\n",
       "\ttrue\n"
      ]
     },
     "execution_count": 5,
     "metadata": {},
     "output_type": "execute_result"
    }
   ],
   "source": [
    "toric = c.pm_cone.CONE_TORIC_IDEAL"
   ]
  },
  {
   "cell_type": "markdown",
   "id": "b30ba8a5",
   "metadata": {},
   "source": [
    "Yet, currently this does not really work.  In <tt>polymake</tt> that function comes from the interface to <tt>4ti2</tt>, and that's not covered by Polymake.jl."
   ]
  },
  {
   "cell_type": "code",
   "execution_count": 6,
   "id": "5b602056",
   "metadata": {},
   "outputs": [
    {
     "name": "stderr",
     "output_type": "stream",
     "text": [
      "polymake:  WARNING: available properties insufficient to compute 'GENERATORS'\n"
     ]
    }
   ],
   "source": [
    "toric.GENERATORS"
   ]
  },
  {
   "cell_type": "markdown",
   "id": "f383dd0e",
   "metadata": {},
   "source": [
    "However, there is a jll; so that should be possible to fix in finite time."
   ]
  },
  {
   "cell_type": "markdown",
   "id": "5b4bd365",
   "metadata": {},
   "source": [
    "The code below defines another affine toric variety.  Functions like <tt>polarize</tt> need to be pushed up to Oscar."
   ]
  },
  {
   "cell_type": "code",
   "execution_count": 7,
   "id": "4bfd07fc",
   "metadata": {},
   "outputs": [
    {
     "name": "stdout",
     "output_type": "stream",
     "text": [
      "pm::Array<pm::Matrix<pm::Integer>>\n",
      "<0 0 1\n",
      "0 1 0\n",
      "1 0 0\n",
      "1 1 -1\n",
      ">\n",
      "<>\n"
     ]
    }
   ],
   "source": [
    "sigma = positive_hull([1 0 0; 0 1 0; 1 0 1; 0 1 1]);\n",
    "sigmad = pm.polytope.polarize(sigma.pm_cone);\n",
    "print(sigmad.HILBERT_BASIS_GENERATORS)"
   ]
  },
  {
   "cell_type": "markdown",
   "id": "ed92b5fd",
   "metadata": {},
   "source": [
    "Again <tt>4ti2</tt> missing:"
   ]
  },
  {
   "cell_type": "code",
   "execution_count": 8,
   "id": "b9c4647b",
   "metadata": {},
   "outputs": [
    {
     "name": "stdout",
     "output_type": "stream",
     "text": [
      "nothing"
     ]
    },
    {
     "name": "stderr",
     "output_type": "stream",
     "text": [
      "polymake:  WARNING: available properties insufficient to compute 'BINOMIAL_GENERATORS'\n"
     ]
    }
   ],
   "source": [
    "print(sigmad.CONE_TORIC_IDEAL.BINOMIAL_GENERATORS)"
   ]
  },
  {
   "cell_type": "markdown",
   "id": "2780e633",
   "metadata": {},
   "source": [
    "Projective (normal) toric varieties are big objects."
   ]
  },
  {
   "cell_type": "code",
   "execution_count": 9,
   "id": "5926225a",
   "metadata": {},
   "outputs": [
    {
     "data": {
      "text/html": [
       "<dl> <dt>type</dt><dd> NormalToricVariety</dd> </dl>   <details>\n",
       "       <summary style='display:list-item;'>COMPLETE</summary>\n",
       "       <pre>true</pre>\n",
       "   </details>\n",
       "\n",
       "   <details>\n",
       "       <summary style='display:list-item;'>FAN_AMBIENT_DIM</summary>\n",
       "       <pre>2</pre>\n",
       "   </details>\n",
       "\n",
       "   <details>\n",
       "       <summary style='display:list-item;'>FAN_DIM</summary>\n",
       "       <pre>2</pre>\n",
       "   </details>\n",
       "\n",
       "   <details>\n",
       "       <summary style='display:list-item;'>LINEALITY_SPACE</summary>\n",
       "       <pre></pre>\n",
       "   </details>\n",
       "\n",
       "   <details>\n",
       "       <summary style='display:list-item;'>MAXIMAL_CONES</summary>\n",
       "       <pre>{0 1}\n",
       "{1 2}\n",
       "{0 2}</pre>\n",
       "   </details>\n",
       "\n",
       "   <details>\n",
       "       <summary style='display:list-item;'>PROJECTIVE</summary>\n",
       "       <pre>true</pre>\n",
       "   </details>\n",
       "\n",
       "   <details>\n",
       "       <summary style='display:list-item;'>PSEUDO_REGULAR</summary>\n",
       "       <pre>true</pre>\n",
       "   </details>\n",
       "\n",
       "   <details>\n",
       "       <summary style='display:list-item;'>RAYS</summary>\n",
       "       <pre>1 0\n",
       "0 1\n",
       "-1 -1</pre>\n",
       "   </details>\n"
      ],
      "text/plain": [
       "type: NormalToricVariety\n",
       "\n",
       "COMPLETE\n",
       "\ttrue\n",
       "\n",
       "FAN_AMBIENT_DIM\n",
       "\t2\n",
       "\n",
       "FAN_DIM\n",
       "\t2\n",
       "\n",
       "LINEALITY_SPACE\n",
       "\t\n",
       "\n",
       "MAXIMAL_CONES\n",
       "\t{0 1}\n",
       "\t{1 2}\n",
       "\t{0 2}\n",
       "\n",
       "PROJECTIVE\n",
       "\ttrue\n",
       "\n",
       "PSEUDO_REGULAR\n",
       "\ttrue\n",
       "\n",
       "RAYS\n",
       "\t1 0\n",
       "\t0 1\n",
       "\t-1 -1\n"
      ]
     },
     "execution_count": 9,
     "metadata": {},
     "output_type": "execute_result"
    }
   ],
   "source": [
    "PP2 = pm.fulton.NormalToricVariety(pm.fan.normal_fan(pm.polytope.simplex(2)))"
   ]
  },
  {
   "cell_type": "code",
   "execution_count": null,
   "id": "d854837d",
   "metadata": {},
   "outputs": [],
   "source": []
  }
 ],
 "metadata": {
  "kernelspec": {
   "display_name": "Julia 1.6.2",
   "language": "julia",
   "name": "julia-1.6"
  },
  "language_info": {
   "file_extension": ".jl",
   "mimetype": "application/julia",
   "name": "julia",
   "version": "1.6.2"
  }
 },
 "nbformat": 4,
 "nbformat_minor": 5
}
