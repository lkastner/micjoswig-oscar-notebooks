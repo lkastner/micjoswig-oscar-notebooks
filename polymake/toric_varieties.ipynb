{
 "cells": [
  {
   "cell_type": "code",
   "execution_count": 2,
   "id": "17ac288b",
   "metadata": {},
   "outputs": [
    {
     "name": "stderr",
     "output_type": "stream",
     "text": [
      "\u001b[32m\u001b[1m  Activating\u001b[22m\u001b[39m environment at `/cache/polymake/oscar-system/oscar-notebooks/polymake/Project.toml`\n"
     ]
    }
   ],
   "source": [
    "import Pkg; Pkg.activate(\".\")"
   ]
  },
  {
   "cell_type": "code",
   "execution_count": 3,
   "id": "bb181bb3",
   "metadata": {},
   "outputs": [
    {
     "data": {
      "text/plain": [
       "Polymake"
      ]
     },
     "execution_count": 3,
     "metadata": {},
     "output_type": "execute_result"
    }
   ],
   "source": [
    "using Oscar\n",
    "const pm = Polymake"
   ]
  },
  {
   "cell_type": "markdown",
   "id": "237b599f",
   "metadata": {},
   "source": [
    "https://polymake.org/doku.php/user_guide/tutorials/apps_fulton"
   ]
  },
  {
   "cell_type": "code",
   "execution_count": 6,
   "id": "34807180",
   "metadata": {},
   "outputs": [
    {
     "data": {
      "text/plain": [
       "A polyhedral cone in ambient dimension 2"
      ]
     },
     "execution_count": 6,
     "metadata": {},
     "output_type": "execute_result"
    }
   ],
   "source": [
    "c = positive_hull([-2 1; 1 1])"
   ]
  },
  {
   "cell_type": "code",
   "execution_count": 17,
   "id": "5764825d",
   "metadata": {},
   "outputs": [
    {
     "data": {
      "text/plain": [
       "pm::Array<pm::Matrix<pm::Integer>>\n",
       "<-2 1\n",
       "-1 1\n",
       "0 1\n",
       "1 1\n",
       ">\n",
       "<>\n"
      ]
     },
     "execution_count": 17,
     "metadata": {},
     "output_type": "execute_result"
    }
   ],
   "source": [
    "c.pm_cone.HILBERT_BASIS_GENERATORS"
   ]
  },
  {
   "cell_type": "code",
   "execution_count": 18,
   "id": "07956ea6",
   "metadata": {},
   "outputs": [
    {
     "data": {
      "text/html": [
       "<dl> <dt>type</dt><dd> Ideal</dd> </dl>   <details>\n",
       "       <summary style='display:list-item;'>BINOMIAL</summary>\n",
       "       <pre>true</pre>\n",
       "   </details>\n",
       "\n",
       "   <details>\n",
       "       <summary style='display:list-item;'>BINOMIAL_GENERATORS</summary>\n",
       "       <pre>==UNDEF==</pre>\n",
       "   </details>\n",
       "\n",
       "   <details>\n",
       "       <summary style='display:list-item;'>GENERATORS</summary>\n",
       "       <pre>==UNDEF==</pre>\n",
       "   </details>\n"
      ],
      "text/plain": [
       "type: Ideal\n",
       "\n",
       "BINOMIAL\n",
       "\ttrue\n",
       "\n",
       "BINOMIAL_GENERATORS\n",
       "\t==UNDEF==\n",
       "\n",
       "GENERATORS\n",
       "\t==UNDEF==\n"
      ]
     },
     "execution_count": 18,
     "metadata": {},
     "output_type": "execute_result"
    }
   ],
   "source": [
    "toric = c.pm_cone.CONE_TORIC_IDEAL"
   ]
  },
  {
   "cell_type": "code",
   "execution_count": 19,
   "id": "5b602056",
   "metadata": {},
   "outputs": [],
   "source": [
    "toric.GENERATORS"
   ]
  },
  {
   "cell_type": "code",
   "execution_count": 27,
   "id": "4bfd07fc",
   "metadata": {},
   "outputs": [
    {
     "name": "stdout",
     "output_type": "stream",
     "text": [
      "pm::Array<pm::Matrix<pm::Integer>>\n",
      "<0 0 1\n",
      "0 1 0\n",
      "1 0 0\n",
      "1 1 -1\n",
      ">\n",
      "<>\n"
     ]
    }
   ],
   "source": [
    "sigma = positive_hull([1 0 0; 0 1 0; 1 0 1; 0 1 1]);\n",
    "sigmad = pm.polytope.polarize(sigma.pm_cone);\n",
    "print(sigmad.HILBERT_BASIS_GENERATORS)"
   ]
  },
  {
   "cell_type": "code",
   "execution_count": 28,
   "id": "b9c4647b",
   "metadata": {},
   "outputs": [
    {
     "name": "stdout",
     "output_type": "stream",
     "text": [
      "nothing"
     ]
    },
    {
     "name": "stderr",
     "output_type": "stream",
     "text": [
      "polymake:  WARNING: available properties insufficient to compute 'BINOMIAL_GENERATORS'\n"
     ]
    }
   ],
   "source": [
    "print(sigmad.CONE_TORIC_IDEAL.BINOMIAL_GENERATORS)"
   ]
  },
  {
   "cell_type": "code",
   "execution_count": 30,
   "id": "5926225a",
   "metadata": {},
   "outputs": [
    {
     "data": {
      "text/html": [
       "<dl> <dt>type</dt><dd> NormalToricVariety</dd> </dl>   <details>\n",
       "       <summary style='display:list-item;'>COMPLETE</summary>\n",
       "       <pre>true</pre>\n",
       "   </details>\n",
       "\n",
       "   <details>\n",
       "       <summary style='display:list-item;'>FAN_AMBIENT_DIM</summary>\n",
       "       <pre>2</pre>\n",
       "   </details>\n",
       "\n",
       "   <details>\n",
       "       <summary style='display:list-item;'>FAN_DIM</summary>\n",
       "       <pre>2</pre>\n",
       "   </details>\n",
       "\n",
       "   <details>\n",
       "       <summary style='display:list-item;'>LINEALITY_SPACE</summary>\n",
       "       <pre></pre>\n",
       "   </details>\n",
       "\n",
       "   <details>\n",
       "       <summary style='display:list-item;'>MAXIMAL_CONES</summary>\n",
       "       <pre>{0 1}\n",
       "{1 2}\n",
       "{0 2}</pre>\n",
       "   </details>\n",
       "\n",
       "   <details>\n",
       "       <summary style='display:list-item;'>PROJECTIVE</summary>\n",
       "       <pre>true</pre>\n",
       "   </details>\n",
       "\n",
       "   <details>\n",
       "       <summary style='display:list-item;'>PSEUDO_REGULAR</summary>\n",
       "       <pre>true</pre>\n",
       "   </details>\n",
       "\n",
       "   <details>\n",
       "       <summary style='display:list-item;'>RAYS</summary>\n",
       "       <pre>1 0\n",
       "0 1\n",
       "-1 -1</pre>\n",
       "   </details>\n"
      ],
      "text/plain": [
       "type: NormalToricVariety\n",
       "\n",
       "COMPLETE\n",
       "\ttrue\n",
       "\n",
       "FAN_AMBIENT_DIM\n",
       "\t2\n",
       "\n",
       "FAN_DIM\n",
       "\t2\n",
       "\n",
       "LINEALITY_SPACE\n",
       "\t\n",
       "\n",
       "MAXIMAL_CONES\n",
       "\t{0 1}\n",
       "\t{1 2}\n",
       "\t{0 2}\n",
       "\n",
       "PROJECTIVE\n",
       "\ttrue\n",
       "\n",
       "PSEUDO_REGULAR\n",
       "\ttrue\n",
       "\n",
       "RAYS\n",
       "\t1 0\n",
       "\t0 1\n",
       "\t-1 -1\n"
      ]
     },
     "execution_count": 30,
     "metadata": {},
     "output_type": "execute_result"
    }
   ],
   "source": [
    "PP2 = pm.fulton.NormalToricVariety(pm.fan.normal_fan(pm.polytope.simplex(2)))"
   ]
  },
  {
   "cell_type": "code",
   "execution_count": null,
   "id": "d854837d",
   "metadata": {},
   "outputs": [],
   "source": []
  }
 ],
 "metadata": {
  "kernelspec": {
   "display_name": "Julia 1.6.2",
   "language": "julia",
   "name": "julia-1.6"
  },
  "language_info": {
   "file_extension": ".jl",
   "mimetype": "application/julia",
   "name": "julia",
   "version": "1.6.2"
  }
 },
 "nbformat": 4,
 "nbformat_minor": 5
}
