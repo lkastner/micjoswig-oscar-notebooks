{
 "cells": [
  {
   "cell_type": "markdown",
   "metadata": {},
   "source": [
    "# Sequences by Functional Programming\n",
    "Computers in the real world have finitely many states, and so they are restricted to operating on finite sets.\n",
    "Yet these limitations allow for some interpretation.\n",
    "We use basic topics in calculus as guiding examples. \n",
    "\n",
    "## Sequences\n",
    "By definition a <i>sequence</i> of reals is a map from $\\mathbb{N}$ to $\\mathbb{R}$.\n",
    "This can be written as a Julia function quite directly."
   ]
  },
  {
   "cell_type": "code",
   "execution_count": 1,
   "metadata": {},
   "outputs": [
    {
     "data": {
      "text/plain": [
       "#1 (generic function with 1 method)"
      ]
     },
     "execution_count": 1,
     "metadata": {},
     "output_type": "execute_result"
    }
   ],
   "source": [
    "a = (n -> 1/n)"
   ]
  },
  {
   "cell_type": "markdown",
   "metadata": {},
   "source": [
    "This is how to look at some specific coefficients.  In the Julia universe indices start with one; hence we let $\\mathbb{N}=\\{1,2,3\\dots\\}$.  This deviates from our usual course conventions.  The reals are approximated by (64-bit) floating point numbers."
   ]
  },
  {
   "cell_type": "code",
   "execution_count": 2,
   "metadata": {},
   "outputs": [
    {
     "data": {
      "text/plain": [
       "3-element Vector{Float64}:\n",
       " 1.0\n",
       " 0.5\n",
       " 0.3333333333333333"
      ]
     },
     "execution_count": 2,
     "metadata": {},
     "output_type": "execute_result"
    }
   ],
   "source": [
    "map(a, [1,2,3])"
   ]
  },
  {
   "cell_type": "markdown",
   "metadata": {},
   "source": [
    "Now we can write functions which operate on sequences.  Here is the sum of $a$ and $b$."
   ]
  },
  {
   "cell_type": "code",
   "execution_count": 3,
   "metadata": {},
   "outputs": [
    {
     "data": {
      "text/plain": [
       "add (generic function with 1 method)"
      ]
     },
     "execution_count": 3,
     "metadata": {},
     "output_type": "execute_result"
    }
   ],
   "source": [
    "function add(a,b)\n",
    "    return (n -> a(n)+b(n))\n",
    "end"
   ]
  },
  {
   "cell_type": "markdown",
   "metadata": {},
   "source": [
    "Notice that writing functions via function/return/end or in the \"->\" notation does not make a difference in Julia; the user can choose.  Here, we reserve the \"->\" notation for the sequences themselves; these are the (function) objects that we wish to study.\n",
    "\n",
    "We define a second sequence, and combine all of the above."
   ]
  },
  {
   "cell_type": "code",
   "execution_count": 4,
   "metadata": {},
   "outputs": [
    {
     "data": {
      "text/plain": [
       "3-element Vector{Float64}:\n",
       " 2.0\n",
       " 4.5\n",
       " 9.333333333333334"
      ]
     },
     "execution_count": 4,
     "metadata": {},
     "output_type": "execute_result"
    }
   ],
   "source": [
    "b = (n->n^2)\n",
    "map(add(a,b), 1:3)"
   ]
  },
  {
   "cell_type": "markdown",
   "metadata": {},
   "source": [
    "## Series\n",
    "A <i>series</i>, with given coefficients, is the sequence of the partial sums."
   ]
  },
  {
   "cell_type": "code",
   "execution_count": 5,
   "metadata": {},
   "outputs": [
    {
     "data": {
      "text/plain": [
       "series (generic function with 1 method)"
      ]
     },
     "execution_count": 5,
     "metadata": {},
     "output_type": "execute_result"
    }
   ],
   "source": [
    "series(a) = (n -> sum(a,1:n))"
   ]
  },
  {
   "cell_type": "markdown",
   "metadata": {},
   "source": [
    "Series are nothing but ordinary sequences, written in a special way."
   ]
  },
  {
   "cell_type": "code",
   "execution_count": 6,
   "metadata": {},
   "outputs": [
    {
     "data": {
      "text/plain": [
       "3-element Vector{Float64}:\n",
       " 1.0\n",
       " 1.5\n",
       " 1.8333333333333333"
      ]
     },
     "execution_count": 6,
     "metadata": {},
     "output_type": "execute_result"
    }
   ],
   "source": [
    "map(series(a), 1:3)"
   ]
  },
  {
   "cell_type": "markdown",
   "metadata": {},
   "source": [
    "Here are two standard examples which are discussed in every calculus class."
   ]
  },
  {
   "cell_type": "code",
   "execution_count": 7,
   "metadata": {},
   "outputs": [
    {
     "data": {
      "text/plain": [
       "#11 (generic function with 1 method)"
      ]
     },
     "execution_count": 7,
     "metadata": {},
     "output_type": "execute_result"
    }
   ],
   "source": [
    "harmonic_series = series(n->1/n)\n",
    "geometric_series = (q -> series(n->q^n))"
   ]
  },
  {
   "cell_type": "code",
   "execution_count": 8,
   "metadata": {},
   "outputs": [
    {
     "data": {
      "text/plain": [
       "5-element Vector{Float64}:\n",
       " 1.0\n",
       " 1.5\n",
       " 1.8333333333333333\n",
       " 2.083333333333333\n",
       " 2.283333333333333"
      ]
     },
     "execution_count": 8,
     "metadata": {},
     "output_type": "execute_result"
    }
   ],
   "source": [
    "map(harmonic_series, 1:5)"
   ]
  },
  {
   "cell_type": "code",
   "execution_count": 9,
   "metadata": {},
   "outputs": [
    {
     "data": {
      "text/plain": [
       "5-element Vector{Float64}:\n",
       " 0.5\n",
       " 0.75\n",
       " 0.875\n",
       " 0.9375\n",
       " 0.96875"
      ]
     },
     "execution_count": 9,
     "metadata": {},
     "output_type": "execute_result"
    }
   ],
   "source": [
    "map(geometric_series(1/2), 1:5)"
   ]
  },
  {
   "cell_type": "markdown",
   "metadata": {},
   "source": [
    "The harmonic series diverges, while the geometric series converges for any real $q$ with $|q|<1$.  We can see a glimpse of that convergence, but this is not a formal proof.  To the contrary, technically this is an artifact owing to the limits of machine precision."
   ]
  },
  {
   "cell_type": "code",
   "execution_count": 10,
   "metadata": {},
   "outputs": [
    {
     "data": {
      "text/plain": [
       "true"
      ]
     },
     "execution_count": 10,
     "metadata": {},
     "output_type": "execute_result"
    }
   ],
   "source": [
    "geometric_series(1/2)(100)==1"
   ]
  },
  {
   "cell_type": "markdown",
   "metadata": {},
   "source": [
    "## Riemann Series Theorem\n",
    "\n",
    "We consider a sequence $a:\\mathbb{N}\\to\\mathbb{R}$ such that the induced series converges but not absolutely.  Further, let $x\\in\\mathbb{R}$.\n",
    "\n",
    "<b>Theorem.</b>\n",
    "With these assumptions there is a bijection $\\phi:\\mathbb{N}\\to\\mathbb{N}$ such that\n",
    "$\n",
    "\\sum_{n=1}^\\infty a_{\\phi(n)} = x\n",
    "$.\n",
    "\n",
    "Before we will look into a constructive proof of that result, we introduce a standard example."
   ]
  },
  {
   "cell_type": "code",
   "execution_count": 11,
   "metadata": {},
   "outputs": [
    {
     "data": {
      "text/plain": [
       "10-element Vector{Float64}:\n",
       "  1.0\n",
       " -0.5\n",
       "  0.3333333333333333\n",
       " -0.25\n",
       "  0.2\n",
       " -0.16666666666666666\n",
       "  0.14285714285714285\n",
       " -0.125\n",
       "  0.1111111111111111\n",
       " -0.1"
      ]
     },
     "execution_count": 11,
     "metadata": {},
     "output_type": "execute_result"
    }
   ],
   "source": [
    "alternating_harmonic_coeffs = n -> (-1)^(n-1)/n\n",
    "\n",
    "map(alternating_harmonic_coefNowfs, 1:10)"
   ]
  },
  {
   "cell_type": "markdown",
   "metadata": {},
   "source": [
    "The induced series converges $\\ldots$"
   ]
  },
  {
   "cell_type": "code",
   "execution_count": 12,
   "metadata": {},
   "outputs": [
    {
     "data": {
      "text/plain": [
       "10-element Vector{Float64}:\n",
       " 0.6980731694092049\n",
       " 0.6882692478405775\n",
       " 0.6979779857046552\n",
       " 0.6883626010892706\n",
       " 0.6978864106130801\n",
       " 0.6884524483489292\n",
       " 0.6977982427414525\n",
       " 0.6885389834821932\n",
       " 0.6977132954087988\n",
       " 0.6886223863178897"
      ]
     },
     "execution_count": 12,
     "metadata": {},
     "output_type": "execute_result"
    }
   ],
   "source": [
    "map(series(alternating_harmonic_coeffs), 101:110)"
   ]
  },
  {
   "cell_type": "markdown",
   "metadata": {},
   "source": [
    "$\\ldots$ and this is the limit:"
   ]
  },
  {
   "cell_type": "code",
   "execution_count": 13,
   "metadata": {},
   "outputs": [
    {
     "data": {
      "text/plain": [
       "0.6931471805599453"
      ]
     },
     "execution_count": 13,
     "metadata": {},
     "output_type": "execute_result"
    }
   ],
   "source": [
    "log(2)"
   ]
  },
  {
   "cell_type": "markdown",
   "metadata": {},
   "source": [
    "We define two auxiliary function which will be used below.  For a given sequence $a$ and an index $i$ they find the first index $k\\geq i$ such that $a_k>0$ (or $a_k<0$, respectively)."
   ]
  },
  {
   "cell_type": "code",
   "execution_count": 14,
   "metadata": {},
   "outputs": [
    {
     "data": {
      "text/plain": [
       "next_negative_index (generic function with 1 method)"
      ]
     },
     "execution_count": 14,
     "metadata": {},
     "output_type": "execute_result"
    }
   ],
   "source": [
    "function next_positive_index(a,i)\n",
    "    k = i\n",
    "    while a(k)<=0Now\n",
    "        k += 1\n",
    "    end\n",
    "    return k\n",
    "end\n",
    "\n",
    "function next_negative_index(a,i)\n",
    "    k = i\n",
    "    while a(k)>=0\n",
    "        k += 1\n",
    "    end\n",
    "    return k\n",
    "end"
   ]
  },
  {
   "cell_type": "markdown",
   "metadata": {},
   "source": [
    "The functions above and below do <i>not</i> follow traditional rules of pure functional programming; it is an advantage of Julia (and other languages) that functional concepts can be mixed with, e.g., imperative programming.  Here imperative programming yields code which is very close to standard text book proofs in calculus.\n",
    "\n",
    "Now we assume that $a$ and $x$ meet the assumption of the theorem above.  That is, $a$ is a sequence such that the series of partial sums converges but not absolutely, and $x$ is a real number to converge to for the reordering.\n",
    "The function below returns the first $k$ indices of the reordering bijection $\\phi$."
   ]
  },
  {
   "cell_type": "code",
   "execution_count": 15,
   "metadata": {},
   "outputs": [
    {
     "data": {
      "text/plain": [
       "riemann (generic function with 1 method)"
      ]
     },
     "execution_count": 15,
     "metadata": {},
     "output_type": "execute_result"
    }
   ],
   "source": [
    "function riemann(a,x,k)\n",
    "    partialsum = 0\n",
    "    i = 1\n",
    "    ipos,ineg = 1,1 # candidates for next pos/neg index\n",
    "    phi = []\n",
    "    for j = 1:k\n",
    "        if partialsum < x\n",
    "            i = next_positive_index(a,ipos)\n",
    "            ipos = i+1\n",
    "        else\n",
    "            i = next_negative_index(a,ineg)\n",
    "            ineg = i+1\n",
    "        end\n",
    "        push!(phi,i)\n",
    "        partialsum += a(i)\n",
    "    end\n",
    "    return phi\n",
    "end\n"
   ]
  },
  {
   "cell_type": "markdown",
   "metadata": {},
   "source": [
    "This is how the first 100 values of the permutation $\\phi$ look like for the alternating harmonic series."
   ]
  },
  {
   "cell_type": "code",
   "execution_count": 16,
   "metadata": {},
   "outputs": [
    {
     "name": "stdout",
     "output_type": "stream",
     "text": [
      "phi = Any[1, 2, 4, 6, 3, 8, 10, 12, 14, 5, 16, 18, 20, 7, 22, 24, 26, 9, 28, 30, 32, 11, 34, 36, 38, 40, 13, 42, 44, 46, 15, 48, 50, 52, 17, 54, 56, 58, 19, 60, 62, 64, 66, 21, 68, 70, 72, 23, 74, 76, 78, 25, 80, 82, 84, 86, 27, 88, 90, 92, 29, 94, 96, 98, 31, 100, 102, 104, 33, 106, 108, 110, 112, 35, 114, 116, 118, 37, 120, 122, 124, 39, 126, 128, 130, 132, 41, 134, 136, 138, 43, 140, 142, 144, 45, 146, 148, 150, 47, 152]\n"
     ]
    }
   ],
   "source": [
    "phi = riemann(alternating_harmonic_coeffs,0.1,100);\n",
    "@show phi;"
   ]
  },
  {
   "cell_type": "markdown",
   "metadata": {},
   "source": [
    "These are the actual coefficents and their sum."
   ]
  },
  {
   "cell_type": "code",
   "execution_count": 17,
   "metadata": {},
   "outputs": [
    {
     "name": "stdout",
     "output_type": "stream",
     "text": [
      "map(alternating_harmonic_coeffs, phi) = [1.0, -0.5, -0.25, -0.16666666666666666, 0.3333333333333333, -0.125, -0.1, -0.08333333333333333, -0.07142857142857142, 0.2, -0.0625, -0.05555555555555555, -0.05, 0.14285714285714285, -0.045454545454545456, -0.041666666666666664, -0.038461538461538464, 0.1111111111111111, -0.03571428571428571, -0.03333333333333333, -0.03125, 0.09090909090909091, -0.029411764705882353, -0.027777777777777776, -0.02631578947368421, -0.025, 0.07692307692307693, -0.023809523809523808, -0.022727272727272728, -0.021739130434782608, 0.06666666666666667, -0.020833333333333332, -0.02, -0.019230769230769232, 0.058823529411764705, -0.018518518518518517, -0.017857142857142856, -0.017241379310344827, 0.05263157894736842, -0.016666666666666666, -0.016129032258064516, -0.015625, -0.015151515151515152, 0.047619047619047616, -0.014705882352941176, -0.014285714285714285, -0.013888888888888888, 0.043478260869565216, -0.013513513513513514, -0.013157894736842105, -0.01282051282051282, 0.04, -0.0125, -0.012195121951219513, -0.011904761904761904, -0.011627906976744186, 0.037037037037037035, -0.011363636363636364, -0.011111111111111112, -0.010869565217391304, 0.034482758620689655, -0.010638297872340425, -0.010416666666666666, -0.01020408163265306, 0.03225806451612903, -0.01, -0.00980392156862745, -0.009615384615384616, 0.030303030303030304, -0.009433962264150943, -0.009259259259259259, -0.00909090909090909, -0.008928571428571428, 0.02857142857142857, -0.008771929824561403, -0.008620689655172414, -0.00847457627118644, 0.02702702702702703, -0.008333333333333333, -0.00819672131147541, -0.008064516129032258, 0.02564102564102564, -0.007936507936507936, -0.0078125, -0.007692307692307693, -0.007575757575757576, 0.024390243902439025, -0.007462686567164179, -0.007352941176470588, -0.007246376811594203, 0.023255813953488372, -0.007142857142857143, -0.007042253521126761, -0.006944444444444444, 0.022222222222222223, -0.00684931506849315, -0.006756756756756757, -0.006666666666666667, 0.02127659574468085, -0.006578947368421052]\n",
      "sum(alternating_harmonic_coeffs, phi) = 0.11356132354242074\n"
     ]
    }
   ],
   "source": [
    "Now@show map(alternating_harmonic_coeffs, phi);\n",
    "@show sum(alternating_harmonic_coeffs, phi);"
   ]
  },
  {
   "cell_type": "markdown",
   "metadata": {},
   "source": [
    "That's close to $x=0.1$, but not very close.  This is a bit better:"
   ]
  },
  {
   "cell_type": "code",
   "execution_count": 18,
   "metadata": {},
   "outputs": [
    {
     "data": {
      "text/plain": [
       "0.09989073409781402"
      ]
     },
     "execution_count": 18,
     "metadata": {},
     "output_type": "execute_result"
    }
   ],
   "source": [
    "phi = riemann(alternating_harmonic_coeffs,0.1,1000);\n",
    "sum(alternating_harmonic_coeffs, phi)"
   ]
  },
  {
   "cell_type": "markdown",
   "metadata": {},
   "source": [
    "Yet the convergence is quite slow."
   ]
  },
  {
   "cell_type": "code",
   "execution_count": 19,
   "metadata": {},
   "outputs": [
    {
     "data": {
      "text/plain": [
       "0.10018402080765942"
      ]
     },
     "execution_count": 19,
     "metadata": {},
     "output_type": "execute_result"
    }
   ],
   "source": [
    "phi = riemann(alternating_harmonic_coeffs,0.1,10000);\n",
    "sum(alternating_harmonic_coeffs, phi)"
   ]
  },
  {
   "cell_type": "markdown",
   "metadata": {},
   "source": [
    "There are some Julia packages which deal with sequences in some way.  I might add references later."
   ]
  }
 ],
 "metadata": {
  "kernelspec": {
   "display_name": "Julia 1.8.2",
   "language": "julia",
   "name": "julia-1.8"
  },
  "language_info": {
   "file_extension": ".jl",
   "mimetype": "application/julia",
   "name": "julia",
   "version": "1.8.2"
  }
 },
 "nbformat": 4,
 "nbformat_minor": 5
}
