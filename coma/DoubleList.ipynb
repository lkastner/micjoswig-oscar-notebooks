{
 "cells": [
  {
   "cell_type": "code",
   "execution_count": 1,
   "id": "6058f037",
   "metadata": {},
   "outputs": [],
   "source": [
    "mutable struct Node{T}\n",
    "    data::T\n",
    "    prev::Union{Node{T},Nothing}\n",
    "    next::Union{Node{T},Nothing}\n",
    "    \n",
    "    Node(k) = new{typeof(k)}(k, nothing, nothing)\n",
    "end\n",
    "\n",
    "mutable struct DoubleList{T}\n",
    "    head::Union{Node{T},Nothing}\n",
    "    \n",
    "    DoubleList{T}() where T = new{T}(nothing)\n",
    "end"
   ]
  },
  {
   "cell_type": "code",
   "execution_count": 2,
   "id": "ebd66d05",
   "metadata": {},
   "outputs": [
    {
     "data": {
      "text/plain": [
       "Delete (generic function with 1 method)"
      ]
     },
     "execution_count": 2,
     "metadata": {},
     "output_type": "execute_result"
    }
   ],
   "source": [
    "isEmpty(L::DoubleList{T}) where T = isnothing(L.head)\n",
    "\n",
    "function Search(L::DoubleList{T}, k::T) where T\n",
    "    current = L.head\n",
    "    while !isnothing(current)\n",
    "        if current.data == k\n",
    "            return current\n",
    "        end\n",
    "        current = current.next\n",
    "    end\n",
    "    return nothing\n",
    "end\n",
    "\n",
    "function Insert(L::DoubleList{T}, k::T) where T\n",
    "    x = Node(k)\n",
    "    if !isEmpty(L)\n",
    "       L.head.prev = x\n",
    "    end\n",
    "    x.next = L.head\n",
    "    L.head = x\n",
    "    return L\n",
    "end\n",
    "\n",
    "function Delete(L::DoubleList{T}, x::Node{T}) where T\n",
    "    if isnothing(x.prev)\n",
    "        L.head = x.next\n",
    "    else\n",
    "        x.prev.next = x.next\n",
    "    end\n",
    "    if !isnothing(x.next)\n",
    "        x.next.prev = x.prev\n",
    "    end\n",
    "    return L\n",
    "end"
   ]
  },
  {
   "cell_type": "code",
   "execution_count": 3,
   "id": "64d1047c",
   "metadata": {},
   "outputs": [],
   "source": [
    "function Base.show(io::IO, x::Node{T}) where T\n",
    "    print(io, x.data);\n",
    "end\n",
    "\n",
    "function Base.show(io::IO, L::DoubleList{T}) where T\n",
    "    print(io, \"[\");\n",
    "    current = L.head\n",
    "    while !isnothing(current)\n",
    "        print(io, current.data)\n",
    "        if !isnothing(current.next)\n",
    "            print(io, \", \")\n",
    "        end\n",
    "        current = current.next\n",
    "    end\n",
    "    print(io, \"]\")\n",
    "end"
   ]
  },
  {
   "cell_type": "code",
   "execution_count": 4,
   "id": "d84c9069",
   "metadata": {},
   "outputs": [
    {
     "data": {
      "text/plain": [
       "InsertNode (generic function with 1 method)"
      ]
     },
     "execution_count": 4,
     "metadata": {},
     "output_type": "execute_result"
    }
   ],
   "source": [
    "function InsertNode(before::Node{T}, x::Node{T}) where T\n",
    "    after = before.next\n",
    "    before.next = x\n",
    "    x.prev = before\n",
    "    x.next = after\n",
    "    if !isnothing(after)\n",
    "        after.prev = x\n",
    "    end\n",
    "    return x\n",
    "end"
   ]
  },
  {
   "cell_type": "code",
   "execution_count": 5,
   "id": "9884e478",
   "metadata": {},
   "outputs": [
    {
     "data": {
      "text/plain": [
       "[]"
      ]
     },
     "execution_count": 5,
     "metadata": {},
     "output_type": "execute_result"
    }
   ],
   "source": [
    "L = DoubleList{Int}()"
   ]
  },
  {
   "cell_type": "code",
   "execution_count": 6,
   "id": "2abdc847",
   "metadata": {},
   "outputs": [],
   "source": [
    "for i in 1:10\n",
    "    Insert(L,i)\n",
    "end"
   ]
  },
  {
   "cell_type": "code",
   "execution_count": 7,
   "id": "c4e6c754",
   "metadata": {},
   "outputs": [],
   "source": [
    "x = Search(L,6);"
   ]
  },
  {
   "cell_type": "code",
   "execution_count": 8,
   "id": "f243e069",
   "metadata": {},
   "outputs": [
    {
     "name": "stdout",
     "output_type": "stream",
     "text": [
      "x.data = 6\n",
      "x.prev.data = 7\n",
      "x.next.data = 5\n"
     ]
    }
   ],
   "source": [
    "@show x.data\n",
    "@show x.prev.data\n",
    "@show x.next.data;"
   ]
  },
  {
   "cell_type": "code",
   "execution_count": 9,
   "id": "df73b926",
   "metadata": {},
   "outputs": [
    {
     "data": {
      "text/plain": [
       "[10, 9, 8, 7, 5, 4, 3, 2, 1]"
      ]
     },
     "execution_count": 9,
     "metadata": {},
     "output_type": "execute_result"
    }
   ],
   "source": [
    "Delete(L,x)"
   ]
  },
  {
   "cell_type": "code",
   "execution_count": 10,
   "id": "e5c6afdb",
   "metadata": {
    "scrolled": true
   },
   "outputs": [
    {
     "data": {
      "text/plain": [
       "true"
      ]
     },
     "execution_count": 10,
     "metadata": {},
     "output_type": "execute_result"
    }
   ],
   "source": [
    "isnothing(Search(L,6))"
   ]
  },
  {
   "cell_type": "code",
   "execution_count": 11,
   "id": "e71550d8",
   "metadata": {},
   "outputs": [
    {
     "data": {
      "text/plain": [
       "[10, 8, 7, 5, 4, 3, 2, 1]"
      ]
     },
     "execution_count": 11,
     "metadata": {},
     "output_type": "execute_result"
    }
   ],
   "source": [
    "Delete(L,L.head.next)"
   ]
  },
  {
   "cell_type": "code",
   "execution_count": 12,
   "id": "80c03017",
   "metadata": {},
   "outputs": [
    {
     "name": "stdout",
     "output_type": "stream",
     "text": [
      "InsertNode(Search(L, 4), Node(11)) = 11\n",
      "L = [10, 8, 7, 5, 4, 11, 3, 2, 1]\n"
     ]
    }
   ],
   "source": [
    "@show InsertNode(Search(L,4),Node(11))\n",
    "@show L;"
   ]
  }
 ],
 "metadata": {
  "kernelspec": {
   "display_name": "Julia 1.8.5",
   "language": "julia",
   "name": "julia-1.8"
  },
  "language_info": {
   "file_extension": ".jl",
   "mimetype": "application/julia",
   "name": "julia",
   "version": "1.8.5"
  }
 },
 "nbformat": 4,
 "nbformat_minor": 5
}
