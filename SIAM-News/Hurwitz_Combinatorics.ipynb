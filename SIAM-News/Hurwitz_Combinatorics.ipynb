{
 "cells": [
  {
   "cell_type": "markdown",
   "id": "8f1ab912",
   "metadata": {},
   "source": [
    "# Combinatorics of Hurwitz numbers\n",
    "\n",
    "Author: [Victoria Schleis](https://victoriaschleis.github.io/)\n",
    "\n",
    "Based on: Agostini, Markwig, Nollau, Schleis, Sendra, Sturmfels: [Recovery of plane curves from branch points](https://arxiv.org/abs/2205.11287), arXiv:2205.11287.\n",
    "\n",
    "\n",
    "This notebook describes the OSCAR <font color=blue>[Oscar]</font> code used to prove some of the results in the paper above, for the smaller of the two cases discussed. The code necessary for further computations in the larger case can be found on the [mathrepo](https://mathrepo.mis.mpg.de/BranchPoints/monodromy.html). "
   ]
  },
  {
   "cell_type": "code",
   "execution_count": 1,
   "id": "26202a21",
   "metadata": {},
   "outputs": [
    {
     "name": "stdout",
     "output_type": "stream",
     "text": [
      " -----    -----    -----      -      -----   \n",
      "|     |  |     |  |     |    | |    |     |  \n",
      "|     |  |        |         |   |   |     |  \n",
      "|     |   -----   |        |     |  |-----   \n",
      "|     |        |  |        |-----|  |   |    \n",
      "|     |  |     |  |     |  |     |  |    |   \n",
      " -----    -----    -----   -     -  -     -  \n",
      "\n",
      "...combining (and extending) ANTIC, GAP, Polymake and Singular\n",
      "Version\u001b[32m 0.12.0 \u001b[39m... \n",
      " ... which comes with absolutely no warranty whatsoever\n",
      "Type: '?Oscar' for more information\n",
      "(c) 2019-2023 by The OSCAR Development Team\n"
     ]
    }
   ],
   "source": [
    "using Oscar"
   ]
  },
  {
   "cell_type": "markdown",
   "id": "e99b5566",
   "metadata": {},
   "source": [
    "## Theoretical Background \n",
    "\n",
    "Enumerative algebraic geometry is a subfield of algebraic geometry concerned with counting invariants. Enumerative problems include the classical problem of counting how many curves of degree $d$ pass through a collection of points in some space or algebraic variety. \n",
    "\n",
    "### Counting maps of Riemann surfaces: Hurwitz numbers\n",
    "\n",
    "Here, we will count meromorphic maps of compact complex manifolds of dimension 1, called _Riemann Surfaces_ to the projective line $\\mathbb{P}^1$, $f:X\\rightarrow \\mathbb{P}^1$. \n",
    "\n",
    "We fix the genus $g$ of $X$ and the degree $d$ of $f$. For this notebook, we will consider Riemann surfaces of genus 1 and maps of degree 3, in our paper  <font color=blue>[AMNSSS]</font> we further cover the case of genus 3 and degree 4. Maps of Riemann surfaces have a special structure: Outside of a finite set of points (in our case six) called _branch points_, maps of Riemann surfaces are (topological) covers of degree $d$.\n",
    "\n",
    "Thus, outside of the branch points, every point has exactly $d$ preimages, whereas the branch points have less preimages. Since the maps we are considering are meromorphic maps of complex manifolds, locally they can be described as $f=z^k$ around the preimages of points on $\\mathbb{P}^1$. Now, we impose constraints on the $k$ in the local representation: In our concrete problem, we fix the branch points $x_1,\\dots,x_6$ and we require the map to have _simple ramification_ over all $x_i$, i.e. every $x_i$ has two preimages $y_i$ and $w_i$, and the local expression of the holomorphic map is given by $f = z^2$ around one of them, and by $f = z$ around the other. \n",
    "\n",
    "\n",
    "### Monodromy representations\n",
    "\n",
    "Monodromy representations allow us to view the geometric situation described above in a group-theoretic and combinatorial light: The behaviour of the cover around the preimage branch points can be described in terms of permutations by investigating preimages of loops around branch points, associating a transposition to each loop. For details, see <font color=blue>[CM]</font>.\n",
    "\n",
    "Explicitely, a monodromy representation of degree $d$ is a list of permutations $(\\tau_1, \\dots, \\tau_i)$ in $\\mathbb{S}_d$ such that the $\\tau_i$ act transitively on $(1,\\dots,d)$ and $\\tau_d\\circ\\cdots\\circ \\tau_1 = id$, and monodromy representations are in 1-1 correspondence with covers.  \n",
    "\n",
    "For our project, we implemented utility in OSCAR <font color=blue>[Oscar]</font> for constructing and analyzing monodromy representations. For instance, we can check whether a given vector of permutations acts transitively on $(1,2,3)$:"
   ]
  },
  {
   "cell_type": "code",
   "execution_count": 2,
   "id": "036d09c5",
   "metadata": {},
   "outputs": [
    {
     "data": {
      "text/plain": [
       "true"
      ]
     },
     "execution_count": 2,
     "metadata": {},
     "output_type": "execute_result"
    }
   ],
   "source": [
    "function is_monodromy_representation_degree_3(monod::Vector{Perm{Int64}})\n",
    "    for i in 1:length(monod)\n",
    "        if monod[i] == Perm([3,2,1]) || monod[i] ==Perm([1,3,2])\n",
    "            return true\n",
    "        end\n",
    "    end\n",
    "    return false\n",
    "end\n",
    "\n",
    "\n",
    "is_monodromy_representation_degree_3([Perm([2,1,3]),Perm([3,2,1]),Perm([3,2,1]),Perm([3,2,1])])"
   ]
  },
  {
   "cell_type": "markdown",
   "id": "0e0a7e28",
   "metadata": {},
   "source": [
    "The goal of the remainder of this section will be to construct a complete list of monodromy representations of degree 3 and genus 1, using OSCAR <font color=blue>[Oscar]</font> methods for permutations. \n",
    "\n",
    "For this, we will need to count monodromy representations by counting equivalence classes under conjugation by the symmetric group $\\mathbb{S}_3$. We say that the canonical representative of such a class is the lexicographically smallest element, using $(1,2)<(1,3)<(2,3)$. The following function ``canonical_monodromy_representation_degree_3`` takes a monodromy representation of degree 3 and returns the canonical representative under this group action, using two auxiliary functions ``order_number`` and ``swap``. \n",
    "\n",
    "``order_number`` returns the index of a permutation in the ``order_list``. This is necessary to order our permutations lexicographically:"
   ]
  },
  {
   "cell_type": "code",
   "execution_count": 3,
   "id": "983abde5",
   "metadata": {},
   "outputs": [
    {
     "name": "stdout",
     "output_type": "stream",
     "text": [
      "2\n"
     ]
    }
   ],
   "source": [
    "function order_number(a::Perm{Int64}, order_list::Vector{Perm{Int64}})\n",
    "    count = 1\n",
    "    for i in 1:length(order_list)\n",
    "        if order_list[i] == a\n",
    "            return count\n",
    "        end\n",
    "        count+=1\n",
    "    end\n",
    "end\n",
    "transpos_order=[Perm([2,1,3]),Perm([3,2,1]),Perm([1,3,2])]\n",
    "println(order_number(Perm([3,2,1]), transpos_order))"
   ]
  },
  {
   "cell_type": "markdown",
   "id": "eb04cb8a",
   "metadata": {},
   "source": [
    "``swap`` swaps all occurences of the two permutations $a$ and $b$ within the monodromy list. "
   ]
  },
  {
   "cell_type": "code",
   "execution_count": 4,
   "id": "fb21fbc1",
   "metadata": {},
   "outputs": [
    {
     "data": {
      "text/plain": [
       "swap (generic function with 1 method)"
      ]
     },
     "execution_count": 4,
     "metadata": {},
     "output_type": "execute_result"
    }
   ],
   "source": [
    "function swap(monod::Vector{Perm{Int64}},a::Perm{Int64},b::Perm{Int64})\n",
    "    for i in 1:length(monod)        \n",
    "        if monod[i] == a\n",
    "            monod[i] = b\n",
    "        elseif monod[i] == b\n",
    "            monod[i] = a\n",
    "        end\n",
    "    end    \n",
    "    return monod\n",
    "end"
   ]
  },
  {
   "cell_type": "markdown",
   "id": "13e30795",
   "metadata": {},
   "source": [
    "Now, ``canonical_monodromy_representation_degree_3`` computes a canonical representative in the lexicographical ordering by swapping elements of the array successively so that they appear in lexicographical order, while preserving the group orbit."
   ]
  },
  {
   "cell_type": "code",
   "execution_count": 5,
   "id": "c1b6a9df",
   "metadata": {
    "scrolled": true
   },
   "outputs": [
    {
     "name": "stdout",
     "output_type": "stream",
     "text": [
      "Perm{Int64}[(1,2), (1,3), (1,3), (1,3), (1,3), (1,2)]\n",
      "Perm{Int64}[(1,2), (1,3), (1,2), (1,2), (1,2), (1,3)]\n"
     ]
    }
   ],
   "source": [
    "function canonical_monodromy_representation_degree_3(monod::Vector{Perm{Int64}})\n",
    "    transpos_order=[Perm([2,1,3]),Perm([3,2,1]),Perm([1,3,2])]\n",
    "    current_index = 1\n",
    "    m = deepcopy(monod)\n",
    "    for i in 1:length(m)\n",
    "        if order_number(m[i],transpos_order)>current_index\n",
    "            m = swap(m,transpos_order[current_index],m[i])\n",
    "            current_index+=1\n",
    "        elseif order_number(m[i],transpos_order)==current_index\n",
    "            current_index+=1\n",
    "        end\n",
    "    end\n",
    "    return m\n",
    "end\n",
    "# Already a canonical representative\n",
    "v= [Perm([2,1,3]),Perm([3,2,1]),Perm([3,2,1]),Perm([3,2,1]),Perm([3,2,1]),Perm([2,1,3])]\n",
    "println(canonical_monodromy_representation_degree_3(v))\n",
    "\n",
    "# Not a canonical representative\n",
    "w= [Perm([3,2,1]),Perm([2,1,3]),Perm([3,2,1]),Perm([3,2,1]),Perm([3,2,1]),Perm([2,1,3])]\n",
    "println(canonical_monodromy_representation_degree_3(w))"
   ]
  },
  {
   "cell_type": "markdown",
   "id": "9a175f7e",
   "metadata": {},
   "source": [
    "We can use this function now to recursively generate all monodromy representations of degree $3$ using the function ``all_monodromy_reps_degree_3``. \n",
    "\n",
    "``all_monodromy_reps_degree_3`` works by recursively generating monodromy representations. For this, we take an array of permutations of length shorter than the monodromy representation and add new permutations to it, following the lexicographical order. Recall that if an array of permutations $(\\tau_1, \\dots, \\tau_d)$ is a monodromy representation, then $\\tau_d\\circ\\cdots\\circ \\tau_1 = id$. Thus, at length $d-1$, the permutation we need to append needs to be $(\\tau_{d-1}\\circ\\cdots\\circ \\tau_1)^{-1}$. This is what ``monodromy_length_minus_1`` ensures."
   ]
  },
  {
   "cell_type": "code",
   "execution_count": 6,
   "id": "3c7944e7",
   "metadata": {},
   "outputs": [
    {
     "data": {
      "text/plain": [
       "monodromy_length_minus_1 (generic function with 1 method)"
      ]
     },
     "execution_count": 6,
     "metadata": {},
     "output_type": "execute_result"
    }
   ],
   "source": [
    "function monodromy_length_minus_1(already_constructed::Vector{Perm{Int64}})\n",
    "    m = already_constructed[1]\n",
    "    for i in 2:length(already_constructed)\n",
    "        m = m*already_constructed[i]\n",
    "    end\n",
    "    c = permtype(m)\n",
    "    if c[1] == 2\n",
    "        if c[2] == 1\n",
    "            n = [inv(m)]\n",
    "                return (true,cat(already_constructed,n,dims=1))\n",
    "            end\n",
    "        end\n",
    "    return (false,Perm([1,2,3]))             \n",
    "end"
   ]
  },
  {
   "cell_type": "markdown",
   "id": "f6e8f9ea",
   "metadata": {},
   "source": [
    "In ``all_monodromy_reps_internal_degree_3``, we do the main part of the generation of monodromy representations. We recursively add permutations to the array in an ordered way, using upper bounds for which permutations can appear in a canonical representative. If we achieve length $d-1$, we call ``monodromy_length_minus_1`` and construct an appropriate candidate, which we check for being transitive and canonical using the methods described above. If the vector fulfills all these requirements, we have constructed a monodromy representation and add it to the list ``already_constructed``."
   ]
  },
  {
   "cell_type": "code",
   "execution_count": 7,
   "id": "afc87ce1",
   "metadata": {},
   "outputs": [
    {
     "data": {
      "text/plain": [
       "all_monodromy_reps_internal_degree_3 (generic function with 1 method)"
      ]
     },
     "execution_count": 7,
     "metadata": {},
     "output_type": "execute_result"
    }
   ],
   "source": [
    "function all_monodromy_reps_internal_degree_3(already_constructed::Vector{Perm{Int64}}, transpos::Vector{Perm{Int64}},current_length::Int64, wanted_length::Int64, full_monodromy::Vector{Vector{Perm{Int64}}})\n",
    "    upper_bound = min(current_length+1,length(transpos))\n",
    "    for i in 1:upper_bound\n",
    "        already_constructed_temp =deepcopy(already_constructed)\n",
    "        push!(already_constructed_temp,transpos[i])\n",
    "        current_length = length(already_constructed_temp)\n",
    "        if current_length == wanted_length-1\n",
    "            out = monodromy_length_minus_1(already_constructed_temp)\n",
    "            if out[1] && is_monodromy_representation_degree_3(out[2]) && out[2] == canonical_monodromy_representation_degree_3(out[2])\n",
    "                push!(full_monodromy,out[2])\n",
    "            end\n",
    "        elseif current_length > wanted_length-1\n",
    "            return \"ERROR\"\n",
    "        else\n",
    "            all_monodromy_reps_internal_degree_3(already_constructed_temp, transpos,current_length, wanted_length, full_monodromy)\n",
    "        end\n",
    "    end\n",
    "end"
   ]
  },
  {
   "cell_type": "markdown",
   "id": "4009874e",
   "metadata": {},
   "source": [
    "Since all monodromy representations are counted by their canonical representatives, we can assume the first transposition of each monodromy representation to be $(1,2)$. Now, we use the two functions described above and collect their results in a list. "
   ]
  },
  {
   "cell_type": "code",
   "execution_count": 8,
   "id": "2a38bb9a",
   "metadata": {},
   "outputs": [
    {
     "data": {
      "text/plain": [
       "40-element Vector{Vector{Perm{Int64}}}:\n",
       " [(1,2), (1,2), (1,2), (1,2), (1,3), (1,3)]\n",
       " [(1,2), (1,2), (1,2), (1,3), (1,2), (2,3)]\n",
       " [(1,2), (1,2), (1,2), (1,3), (1,3), (1,2)]\n",
       " [(1,2), (1,2), (1,2), (1,3), (2,3), (1,3)]\n",
       " [(1,2), (1,2), (1,3), (1,2), (1,2), (1,3)]\n",
       " [(1,2), (1,2), (1,3), (1,2), (1,3), (2,3)]\n",
       " [(1,2), (1,2), (1,3), (1,2), (2,3), (1,2)]\n",
       " [(1,2), (1,2), (1,3), (1,3), (1,2), (1,2)]\n",
       " [(1,2), (1,2), (1,3), (1,3), (1,3), (1,3)]\n",
       " [(1,2), (1,2), (1,3), (1,3), (2,3), (2,3)]\n",
       " [(1,2), (1,2), (1,3), (2,3), (1,2), (2,3)]\n",
       " [(1,2), (1,2), (1,3), (2,3), (1,3), (1,2)]\n",
       " [(1,2), (1,2), (1,3), (2,3), (2,3), (1,3)]\n",
       " ⋮\n",
       " [(1,2), (1,3), (1,3), (2,3), (1,2), (1,3)]\n",
       " [(1,2), (1,3), (1,3), (2,3), (1,3), (2,3)]\n",
       " [(1,2), (1,3), (1,3), (2,3), (2,3), (1,2)]\n",
       " [(1,2), (1,3), (2,3), (1,2), (1,2), (1,3)]\n",
       " [(1,2), (1,3), (2,3), (1,2), (1,3), (2,3)]\n",
       " [(1,2), (1,3), (2,3), (1,2), (2,3), (1,2)]\n",
       " [(1,2), (1,3), (2,3), (1,3), (1,2), (1,2)]\n",
       " [(1,2), (1,3), (2,3), (1,3), (1,3), (1,3)]\n",
       " [(1,2), (1,3), (2,3), (1,3), (2,3), (2,3)]\n",
       " [(1,2), (1,3), (2,3), (2,3), (1,2), (2,3)]\n",
       " [(1,2), (1,3), (2,3), (2,3), (1,3), (1,2)]\n",
       " [(1,2), (1,3), (2,3), (2,3), (2,3), (1,3)]"
      ]
     },
     "execution_count": 8,
     "metadata": {},
     "output_type": "execute_result"
    }
   ],
   "source": [
    "function all_monodromy_reps_degree_3()\n",
    "    Transpositions = [Perm([2,1,3]),Perm([3,2,1]),Perm([1,3,2])]\n",
    "    already_constructed=[Perm([2,1,3])]\n",
    "    full_monodromy = Vector{Vector{Perm{Int64}}}([])\n",
    "    all_monodromy_reps_internal_degree_3(already_constructed,Transpositions,1,6,full_monodromy)\n",
    "    return full_monodromy\n",
    "end\n",
    "l = all_monodromy_reps_degree_3()"
   ]
  },
  {
   "cell_type": "markdown",
   "id": "b01e8e4d",
   "metadata": {},
   "source": [
    "## Bibliography"
   ]
  },
  {
   "cell_type": "markdown",
   "id": "ab334eeb",
   "metadata": {},
   "source": [
    "<font color=blue>[AMNSSS]</font> Agostini, Markwig, Nollau, Schleis, Sendra, Sturmfels: [Recovery of plane curves from branch points](https://arxiv.org/abs/2205.11287). arXiv:2205.11287 (2022)\n",
    "\n",
    "<font color=blue>[CM]</font> Cavalieri, Miles. Riemann Surfaces and Algebraic Curves: A First Course in Hurwitz Theory. Cambridge University Press (2016). doi:10.1017/CBO9781316569252\n",
    "\n",
    "<font color=blue>[Oscar]</font>\n",
    "    OSCAR -- Open Source Computer Algebra Research system, Version 0.12.0 The OSCAR Team, (2023). (https://www.oscar-system.org)"
   ]
  }
 ],
 "metadata": {
  "kernelspec": {
   "display_name": "Julia 1.8.4",
   "language": "julia",
   "name": "julia-1.8"
  },
  "language_info": {
   "file_extension": ".jl",
   "mimetype": "application/julia",
   "name": "julia",
   "version": "1.8.4"
  }
 },
 "nbformat": 4,
 "nbformat_minor": 5
}
