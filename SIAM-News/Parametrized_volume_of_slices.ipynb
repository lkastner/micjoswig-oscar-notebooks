{
 "cells": [
  {
   "cell_type": "markdown",
   "id": "9d4cb237",
   "metadata": {},
   "source": [
    "# Parametrize the volume of slices"
   ]
  },
  {
   "cell_type": "markdown",
   "id": "f04b9d88",
   "metadata": {},
   "source": [
    "Author: [Chiara Meroni](https://merochia.wixsite.com/chiara-meroni/)\n",
    "\n",
    "updated to v1.0 by Michael Joswig"
   ]
  },
  {
   "cell_type": "markdown",
   "id": "ef369b35",
   "metadata": {},
   "source": [
    "Based on: Berlow, Brandenburg, Meroni, Shankar. [Intersection bodies of polytopes](https://doi.org/10.1007/s13366-022-00621-7). Beiträge zur Algebra und Geometrie, 63, 419-439 (2022)."
   ]
  },
  {
   "cell_type": "markdown",
   "id": "cda6f495",
   "metadata": {},
   "source": [
    "In this notebook we want to compute the volume of linear hyperplane sections of polytopes parametrically. More precisely, fix a polytope $P\\subset \\mathbb{R}^3$. In the example we have an Archimedean solid: the truncated tetrahedron $P$. Given $x \\in \\mathbb{R}^3$, we compute the function\n",
    "$$\n",
    "\\rho(x) = \\frac{1}{\\|x\\|} \\operatorname{vol}( P \\cap x^\\perp)\n",
    "$$\n",
    "where $x^\\perp$ is the hyperplane through the origin orthogonal to $x$. This function is known in convex geometry as the $\\textit{radial function}$ of the intersection body of $P$. It turns out that $\\rho$ is a piecewise rational function, and the pieces are polyhedral cones."
   ]
  },
  {
   "cell_type": "code",
   "execution_count": 1,
   "id": "62c3a18d",
   "metadata": {},
   "outputs": [
    {
     "name": "stdout",
     "output_type": "stream",
     "text": [
      "  ___   ____   ____    _    ____\n",
      " / _ \\ / ___| / ___|  / \\  |  _ \\   |  Combining ANTIC, GAP, Polymake, Singular\n",
      "| | | |\\___ \\| |     / _ \\ | |_) |  |  Type \"?Oscar\" for more information\n",
      "| |_| | ___) | |___ / ___ \\|  _ <   |  Manual: https://docs.oscar-system.org\n",
      " \\___/ |____/ \\____/_/   \\_\\_| \\_\\  |  Version 1.0.0\n"
     ]
    }
   ],
   "source": [
    "using Oscar"
   ]
  },
  {
   "cell_type": "code",
   "execution_count": 2,
   "id": "f324f35b",
   "metadata": {
    "scrolled": true
   },
   "outputs": [
    {
     "data": {
      "text/plain": [
       "Polyhedron in ambient dimension 3"
      ]
     },
     "execution_count": 2,
     "metadata": {},
     "output_type": "execute_result"
    }
   ],
   "source": [
    "P = archimedean_solid(\"truncated_tetrahedron\")"
   ]
  },
  {
   "cell_type": "markdown",
   "id": "69d1ac0e",
   "metadata": {},
   "source": [
    "Compute the associated zonotope $Z(P)$ which is the Minkowski sum of $[-v,v]$ for the vertices $v$ of $P$. The normal fan $\\Sigma$ of $Z(P)$ defines the regions in which the function $\\rho$ is rational."
   ]
  },
  {
   "cell_type": "code",
   "execution_count": 3,
   "id": "345c0716",
   "metadata": {},
   "outputs": [
    {
     "data": {
      "text/plain": [
       "Polyhedral fan in ambient dimension 3"
      ]
     },
     "execution_count": 3,
     "metadata": {},
     "output_type": "execute_result"
    }
   ],
   "source": [
    "Z = sum(convex_hull([-v, v]) for v in vertices(P))\n",
    "Σ = normal_fan(Z)"
   ]
  },
  {
   "cell_type": "markdown",
   "id": "e8232620",
   "metadata": {},
   "source": [
    "In each such maximal cone, the combinatorial type of the section $P\\cap x^\\perp$ does not change, when $x$ varies in a given maximal cone. Our goal is to compute $\\rho$ cone by cone.\n",
    "\n",
    "We start by constructing one point in the interior of each cone, and we collect them in `u_samples`. This specific points are going to determine the combinatorial structure of $P\\cap x^\\perp$ in each cone."
   ]
  },
  {
   "cell_type": "code",
   "execution_count": 4,
   "id": "6d73197c",
   "metadata": {},
   "outputs": [
    {
     "data": {
      "text/plain": [
       "134-element Vector{RayVector{QQFieldElem}}:\n",
       " [-4, -9//2, -27//2]\n",
       " [-2, -4, -12]\n",
       " [-3, -3//2, -19//2]\n",
       " [4, 9//2, -27//2]\n",
       " [3, 3//2, -19//2]\n",
       " [2, 4, -12]\n",
       " [0, 0, -28]\n",
       " [-4, -27//2, -9//2]\n",
       " [-4, -11, -11]\n",
       " [0, -6, -14]\n",
       " [2, -4, -12]\n",
       " [4, 27//20, -27//20]\n",
       " [5, 11//5, -32//5]\n",
       " ⋮\n",
       " [-4, -27//20, 27//20]\n",
       " [-2, 4, 12]\n",
       " [0, 6, 14]\n",
       " [4, 11, 11]\n",
       " [4, 27//2, 9//2]\n",
       " [0, 0, 28]\n",
       " [-2, -4, 12]\n",
       " [-3, -3//2, 19//2]\n",
       " [-4, -9//2, 27//2]\n",
       " [3, 3//2, 19//2]\n",
       " [2, 4, 12]\n",
       " [4, 9//2, 27//2]"
      ]
     },
     "execution_count": 4,
     "metadata": {},
     "output_type": "execute_result"
    }
   ],
   "source": [
    "u_samples = [sum(rays(C)) for C in maximal_cones(Σ)]"
   ]
  },
  {
   "cell_type": "markdown",
   "id": "70b5d1de",
   "metadata": {},
   "source": [
    "For the sake of simplicity, we analyze here the steps to compute the radial function $\\rho$ in the first maximal cone. The same procedure should be applied to every cone of $\\Sigma$ in order to obtain the complete radial function of the intersection body.\n",
    "\n",
    "The vertices of the hyperplane section $P\\cap x^\\perp$ arise as the intersection of the hyperplane with edges of $P$.\n",
    "Therefore, we collect in `good_edges` the edges $e$ of $P$ such that $\\text{dim}(e\\cap x^{\\perp})=0$. These are the edges whose extrema lie in distict halfspaces defined by $x^\\perp$. We identify an edge $e$ with a list $[i,j]$ meaning that the extrema of $e$ are the $i$-th and the $j$-th vertices of the polytope $P$."
   ]
  },
  {
   "cell_type": "code",
   "execution_count": 5,
   "id": "3c5423b9",
   "metadata": {},
   "outputs": [
    {
     "name": "stdout",
     "output_type": "stream",
     "text": [
      "Any[[9, 7], [9, 8], [10, 3], [11, 6]]\n"
     ]
    }
   ],
   "source": [
    "# choose here one specific cone for simplicity\n",
    "u_sample = u_samples[1]\n",
    "\n",
    "# collect the edges intersected by the hyperplane orthogonal to u_sample\n",
    "good_edges = []\n",
    "for edge in edges(edgegraph(P))\n",
    "    v1 = src(edge)\n",
    "    v2 = dst(edge)\n",
    "    first = transpose(Vector(u_sample)) * Vector(vertices(P)[v1])\n",
    "    last = transpose(Vector(u_sample)) * Vector(vertices(P)[v2])\n",
    "    if first * last < 0\n",
    "        push!(good_edges, [v1, v2])\n",
    "    end\n",
    "end\n",
    "println(good_edges)"
   ]
  },
  {
   "cell_type": "markdown",
   "id": "baa1df54",
   "metadata": {},
   "source": [
    "We want to compute now the volume of the section via a triangulation: the volume of $P\\cap x^\\perp$ is the sum of the volumes of the simplices in its triangulation. We require that each simplex has the origin as one of its vertices.\n",
    "Since the hyperplane section is a polygon, the simplices of the triangulation are the convex hull of an edge of $P\\cap x^\\perp$ and the origin. \n",
    "\n",
    "Therefore, we collect in `good_facet_edges` the pairs of edges of $P$ that belong to a common facet; they provide vertices of $P\\cap x^\\perp$ connected by an edge. Again, we identify an edge with the indices of its vertices."
   ]
  },
  {
   "cell_type": "code",
   "execution_count": 6,
   "id": "d0c9b545",
   "metadata": {},
   "outputs": [
    {
     "name": "stdout",
     "output_type": "stream",
     "text": [
      "Any[Any[[9, 8], [11, 6]], Any[[9, 7], [10, 3]], Any[[10, 3], [11, 6]], Any[[9, 7], [9, 8]]]"
     ]
    }
   ],
   "source": [
    "good_facet_edges = []\n",
    "vertex_facet_incidences = vertex_indices(facets(P))\n",
    "nrows, _ = size(vertex_facet_incidences)\n",
    "\n",
    "for i in 1:nrows\n",
    "    facet_as_set = Set(findall(vertex_facet_incidences[i,:]))\n",
    "    intersecting_edges = []\n",
    "    for edge in good_edges\n",
    "        test = length(intersect(Set(edge),facet_as_set))\n",
    "        if test == 2\n",
    "            push!(intersecting_edges, edge)\n",
    "        end\n",
    "    end\n",
    "    if length(intersecting_edges) >= 2\n",
    "        push!(good_facet_edges, intersecting_edges)\n",
    "    end\n",
    "end\n",
    "print(good_facet_edges)"
   ]
  },
  {
   "cell_type": "markdown",
   "id": "8e770d67",
   "metadata": {},
   "source": [
    "A vertex $v$ of $P\\cap x^\\perp$ belonging to the edge with extrema $a,b$ can be written as $\\frac{b⋅x}{(b-a)⋅x}(a - b)+b$. For every pair of edges in `good_facet_edges`, we construct an associated matrix $M$, whose rows are the two vertices of $P\\cap x^\\perp$ identified by the given pair of edges, and the vector $(x_1,\\ldots ,x_3)$. \n",
    "The determinant of $M$ is, up to sign and a factor of $\\frac{1}{2\\|x\\|}$, the volume of the simplex in the triangulation corresponding to this pair of edges of $P$.\n",
    "\n",
    "In order to compute these determinants, we use the fraction field of the polynomial ring $\\mathbb{Q}[x,y,z]$."
   ]
  },
  {
   "cell_type": "code",
   "execution_count": 7,
   "id": "dd1c4180",
   "metadata": {},
   "outputs": [
    {
     "data": {
      "text/plain": [
       "Fraction field\n",
       "  of multivariate polynomial ring in 3 variables over QQ"
      ]
     },
     "execution_count": 7,
     "metadata": {},
     "output_type": "execute_result"
    }
   ],
   "source": [
    "R, (x, y, z) = polynomial_ring(QQ, [\"x\", \"y\", \"z\"])\n",
    "S = fraction_field(R) "
   ]
  },
  {
   "cell_type": "code",
   "execution_count": 8,
   "id": "5e59bd1d",
   "metadata": {},
   "outputs": [
    {
     "data": {
      "text/plain": [
       "[x   y   z]"
      ]
     },
     "execution_count": 8,
     "metadata": {},
     "output_type": "execute_result"
    }
   ],
   "source": [
    "var = S[x y z]"
   ]
  },
  {
   "cell_type": "markdown",
   "id": "e8a74390",
   "metadata": {},
   "source": [
    "We collect the vertices of $P\\cap x^\\perp$ in `Q_vertices`, keeping track of the structure of the hyperplane section, captured in `good_facet_edges`."
   ]
  },
  {
   "cell_type": "code",
   "execution_count": 9,
   "id": "66241863",
   "metadata": {
    "scrolled": true
   },
   "outputs": [
    {
     "data": {
      "text/plain": [
       "4-element Vector{Vector{Vector{AbstractAlgebra.Generic.FracFieldElem{QQMPolyRingElem}}}}:\n",
       " [[(1//3*y - 4//3*z)//(x + z), -1//3, (4//3*x + 1//3*y)//(x + z)], [-y//(x + z), 1, -y//(x + z)]]\n",
       " [[-1//3, (1//3*x - 4//3*z)//(y + z), (1//3*x + 4//3*y)//(y + z)], [1, -x//(y + z), -x//(y + z)]]\n",
       " [[1, -x//(y + z), -x//(y + z)], [-y//(x + z), 1, -y//(x + z)]]\n",
       " [[-1//3, (1//3*x - 4//3*z)//(y + z), (1//3*x + 4//3*y)//(y + z)], [(1//3*y - 4//3*z)//(x + z), -1//3, (4//3*x + 1//3*y)//(x + z)]]"
      ]
     },
     "execution_count": 9,
     "metadata": {},
     "output_type": "execute_result"
    }
   ],
   "source": [
    "vert = [[[vertices(P)[e[1]],vertices(P)[e[2]]] for e in edge_list] for edge_list in good_facet_edges]\n",
    "vert = [[[[S.(j) for j ∈ entries] for entries ∈ v] for v ∈ vv] for vv ∈ vert]\n",
    "Q_vertices = [[((var*v[2])[1] //(var*(v[2]-v[1]))[1]).*(v[1]-v[2]) .+ v[2]  for v ∈ vv] for vv ∈ vert]"
   ]
  },
  {
   "cell_type": "markdown",
   "id": "e0af722e",
   "metadata": {},
   "source": [
    "Finally we compute the determinants of the simplices of our triangulation. We multiply them by their sign to obtain their absolut value inside the given maximal cone, and store it."
   ]
  },
  {
   "cell_type": "code",
   "execution_count": 10,
   "id": "868b1ea6",
   "metadata": {},
   "outputs": [
    {
     "data": {
      "text/plain": [
       "4-element Vector{Any}:\n",
       " (-4//3*x^2 - 4//3*y^2 - 4//3*z^2)//(x + z)\n",
       " (-4//3*x^2 - 4//3*y^2 - 4//3*z^2)//(y + z)\n",
       " (-x^3 - x^2*y - x^2*z - x*y^2 - x*z^2 - y^3 - y^2*z - y*z^2 - z^3)//(x*y + x*z + y*z + z^2)\n",
       " (5//9*x^3 + 5//9*x^2*y - 5//3*x^2*z + 5//9*x*y^2 + 5//9*x*z^2 + 5//9*y^3 - 5//3*y^2*z + 5//9*y*z^2 - 5//3*z^3)//(x*y + x*z + y*z + z^2)"
      ]
     },
     "execution_count": 10,
     "metadata": {},
     "output_type": "execute_result"
    }
   ],
   "source": [
    "determinants = []\n",
    "for simplex ∈ Q_vertices\n",
    "    M = S[simplex[1][1] simplex[1][2] simplex[1][3]; simplex[2][1] simplex[2][2] simplex[2][3]; x y z]\n",
    "    det_M = det(M)\n",
    "    if det != 0\n",
    "        sgn = sign(evaluate(det_M,[u_sample[1],u_sample[2],u_sample[3]]))\n",
    "    end\n",
    "    push!(determinants,sgn*det_M)\n",
    "end\n",
    "determinants"
   ]
  },
  {
   "cell_type": "markdown",
   "id": "8682312d",
   "metadata": {},
   "source": [
    "To conclude, we sum all the absolute values of the determinants multiplied by the factor $\\frac{1}{2 \\|x\\|^2}$ which includes the factor coming from the determinant and the norm in the definition of $\\rho$. In this way we obtain the expression of $\\rho(x)$ for $x$ in the chosen maximal cone."
   ]
  },
  {
   "cell_type": "code",
   "execution_count": 11,
   "id": "fc07c924",
   "metadata": {
    "scrolled": true
   },
   "outputs": [
    {
     "data": {
      "text/plain": [
       "(-8//9*x - 8//9*y - 8//3*z)//(x*y + x*z + y*z + z^2)"
      ]
     },
     "execution_count": 11,
     "metadata": {},
     "output_type": "execute_result"
    }
   ],
   "source": [
    "rho = sum(det for det ∈ determinants)//(2*(x^2+y^2+z^2))"
   ]
  },
  {
   "cell_type": "markdown",
   "id": "187d5c4a",
   "metadata": {},
   "source": [
    "We can repeat the same computation for all maximal cones, in order to obtain the expression of $\\rho(x)$ for all $x\\in \\mathbb{R}^3$."
   ]
  }
 ],
 "metadata": {
  "@webio": {
   "lastCommId": null,
   "lastKernelId": null
  },
  "kernelspec": {
   "display_name": "Julia 1.10.1",
   "language": "julia",
   "name": "julia-1.10"
  },
  "language_info": {
   "file_extension": ".jl",
   "mimetype": "application/julia",
   "name": "julia",
   "version": "1.10.1"
  }
 },
 "nbformat": 4,
 "nbformat_minor": 5
}
