{
 "cells": [
  {
   "cell_type": "markdown",
   "metadata": {},
   "source": [
    "# OSCAR, a Tech Preview (Part II)\n",
    "## Wronski Polynomial Systems\n",
    "\n",
    "* Soprunova & Sottile: Lower bounds for real solutions to sparse polynomial systems, <i>Adv. Math.</i> <b>204</b> (2006).\n",
    "* Kaluba, Lorenz & Timme: Polymake.jl: A new interface to polymake, <a href=\"https://arxiv.org/abs/2003.11381\">arXiv:2003.11381</a>"
   ]
  },
  {
   "cell_type": "code",
   "execution_count": 1,
   "metadata": {},
   "outputs": [
    {
     "data": {
      "text/html": [
       "$\\require{action}$"
      ]
     },
     "metadata": {},
     "output_type": "display_data"
    },
    {
     "name": "stdout",
     "output_type": "stream",
     "text": [
      " -----    -----    -----      -      -----   \n",
      "|     |  |     |  |     |    | |    |     |  \n",
      "|     |  |        |         |   |   |     |  \n",
      "|     |   -----   |        |     |  |-----   \n",
      "|     |        |  |        |-----|  |   |    \n",
      "|     |  |     |  |     |  |     |  |    |   \n",
      " -----    -----    -----   -     -  -     -  \n",
      "\n",
      "...combining (and extending) GAP, Hecke, Nemo, Polymake and Singular\n",
      "Version\u001b[32m 0.2.0 \u001b[39m... \n",
      " ... which comes with absolutely no warranty whatsoever\n",
      "Type: '?Oscar' for more information\n",
      "(c) 2019-2020 by The Oscar Development Team\n"
     ]
    }
   ],
   "source": [
    "using Oscar"
   ]
  },
  {
   "cell_type": "markdown",
   "metadata": {},
   "source": [
    "We will consider certain systems of polynomial equations which require a regular triangulation of a lattice polytope as (part of its) input."
   ]
  },
  {
   "cell_type": "code",
   "execution_count": 2,
   "metadata": {},
   "outputs": [],
   "source": [
    "A = Polymake.polytope.lattice_points(Polymake.polytope.simplex(2,3))\n",
    "λ = [12,3,0,0,8,1,0,9,5,15];\n",
    "F = Polymake.polytope.regular_subdivision(A, λ)\n",
    "TT = Polymake.fan.SubdivisionOfPoints(POINTS = A, MAXIMAL_CELLS = F);"
   ]
  },
  {
   "cell_type": "code",
   "execution_count": 3,
   "metadata": {},
   "outputs": [
    {
     "data": {
      "image/svg+xml": [
       "<?xml version=\"1.0\" encoding=\"UTF-8\" standalone=\"yes\"?>\n",
       "<!DOCTYPE svg PUBLIC \"-//W3C//DTD SVG 1.0//EN\" \"http://www.w3.org/TR/2001/REC-SVG-20010904/DTD/svg10.dtd\">\n",
       "<svg height=\"841pt\" id=\"document\" viewBox=\"0 -615 575 615\" width=\"595pt\" xmlns=\"http://www.w3.org/2000/svg\" xmlns:svg=\"http://www.w3.org/2000/svg\" xmlns:xlink=\"http://www.w3.org/1999/xlink\">\n",
       "\t<title id=\"document_title\">pcom:</title>\n",
       "\t<circle cx=\"35\" cy=\"-53.5\" r=\"2\" style=\"fill: rgb(0,0,0)\" />\n",
       "\t<text font-family=\"Times-Roman\" font-size=\"10\" text-anchor=\"middle\" x=\"35\" y=\"-58.5\">0</text>\n",
       "\t<circle cx=\"35\" cy=\"-228.5\" r=\"2\" style=\"fill: rgb(0,0,0)\" />\n",
       "\t<text font-family=\"Times-Roman\" font-size=\"10\" text-anchor=\"middle\" x=\"35\" y=\"-233.5\">1</text>\n",
       "\t<circle cx=\"35\" cy=\"-403.5\" r=\"2\" style=\"fill: rgb(0,0,0)\" />\n",
       "\t<text font-family=\"Times-Roman\" font-size=\"10\" text-anchor=\"middle\" x=\"35\" y=\"-408.5\">2</text>\n",
       "\t<circle cx=\"35\" cy=\"-578.5\" r=\"2\" style=\"fill: rgb(0,0,0)\" />\n",
       "\t<text font-family=\"Times-Roman\" font-size=\"10\" text-anchor=\"middle\" x=\"35\" y=\"-583.5\">3</text>\n",
       "\t<circle cx=\"210\" cy=\"-53.5\" r=\"2\" style=\"fill: rgb(0,0,0)\" />\n",
       "\t<text font-family=\"Times-Roman\" font-size=\"10\" text-anchor=\"middle\" x=\"210\" y=\"-58.5\">4</text>\n",
       "\t<circle cx=\"210\" cy=\"-228.5\" r=\"2\" style=\"fill: rgb(0,0,0)\" />\n",
       "\t<text font-family=\"Times-Roman\" font-size=\"10\" text-anchor=\"middle\" x=\"210\" y=\"-233.5\">5</text>\n",
       "\t<circle cx=\"210\" cy=\"-403.5\" r=\"2\" style=\"fill: rgb(0,0,0)\" />\n",
       "\t<text font-family=\"Times-Roman\" font-size=\"10\" text-anchor=\"middle\" x=\"210\" y=\"-408.5\">6</text>\n",
       "\t<circle cx=\"385\" cy=\"-53.5\" r=\"2\" style=\"fill: rgb(0,0,0)\" />\n",
       "\t<text font-family=\"Times-Roman\" font-size=\"10\" text-anchor=\"middle\" x=\"385\" y=\"-58.5\">7</text>\n",
       "\t<circle cx=\"385\" cy=\"-228.5\" r=\"2\" style=\"fill: rgb(0,0,0)\" />\n",
       "\t<text font-family=\"Times-Roman\" font-size=\"10\" text-anchor=\"middle\" x=\"385\" y=\"-233.5\">8</text>\n",
       "\t<circle cx=\"560\" cy=\"-53.5\" r=\"2\" style=\"fill: rgb(0,0,0)\" />\n",
       "\t<text font-family=\"Times-Roman\" font-size=\"10\" text-anchor=\"middle\" x=\"560\" y=\"-58.5\">9</text>\n",
       "\t<line stroke=\"rgb(0,0,0)\" stroke-width=\"1\" x1=\"35\" x2=\"35\" y1=\"-228.5\" y2=\"-53.5\" />\n",
       "\t<line stroke=\"rgb(0,0,0)\" stroke-width=\"1\" x1=\"35\" x2=\"35\" y1=\"-403.5\" y2=\"-228.5\" />\n",
       "\t<line stroke=\"rgb(0,0,0)\" stroke-width=\"1\" x1=\"35\" x2=\"35\" y1=\"-578.5\" y2=\"-403.5\" />\n",
       "\t<line stroke=\"rgb(0,0,0)\" stroke-width=\"1\" x1=\"210\" x2=\"35\" y1=\"-53.5\" y2=\"-53.5\" />\n",
       "\t<line stroke=\"rgb(0,0,0)\" stroke-width=\"1\" x1=\"210\" x2=\"35\" y1=\"-53.5\" y2=\"-228.5\" />\n",
       "\t<line stroke=\"rgb(0,0,0)\" stroke-width=\"1\" x1=\"210\" x2=\"35\" y1=\"-228.5\" y2=\"-228.5\" />\n",
       "\t<line stroke=\"rgb(0,0,0)\" stroke-width=\"1\" x1=\"210\" x2=\"35\" y1=\"-228.5\" y2=\"-403.5\" />\n",
       "\t<line stroke=\"rgb(0,0,0)\" stroke-width=\"1\" x1=\"210\" x2=\"210\" y1=\"-228.5\" y2=\"-53.5\" />\n",
       "\t<line stroke=\"rgb(0,0,0)\" stroke-width=\"1\" x1=\"210\" x2=\"35\" y1=\"-403.5\" y2=\"-403.5\" />\n",
       "\t<line stroke=\"rgb(0,0,0)\" stroke-width=\"1\" x1=\"210\" x2=\"35\" y1=\"-403.5\" y2=\"-578.5\" />\n",
       "\t<line stroke=\"rgb(0,0,0)\" stroke-width=\"1\" x1=\"210\" x2=\"210\" y1=\"-403.5\" y2=\"-228.5\" />\n",
       "\t<line stroke=\"rgb(0,0,0)\" stroke-width=\"1\" x1=\"385\" x2=\"210\" y1=\"-53.5\" y2=\"-53.5\" />\n",
       "\t<line stroke=\"rgb(0,0,0)\" stroke-width=\"1\" x1=\"385\" x2=\"210\" y1=\"-53.5\" y2=\"-228.5\" />\n",
       "\t<line stroke=\"rgb(0,0,0)\" stroke-width=\"1\" x1=\"385\" x2=\"210\" y1=\"-228.5\" y2=\"-228.5\" />\n",
       "\t<line stroke=\"rgb(0,0,0)\" stroke-width=\"1\" x1=\"385\" x2=\"210\" y1=\"-228.5\" y2=\"-403.5\" />\n",
       "\t<line stroke=\"rgb(0,0,0)\" stroke-width=\"1\" x1=\"385\" x2=\"385\" y1=\"-228.5\" y2=\"-53.5\" />\n",
       "\t<line stroke=\"rgb(0,0,0)\" stroke-width=\"1\" x1=\"560\" x2=\"385\" y1=\"-53.5\" y2=\"-53.5\" />\n",
       "\t<line stroke=\"rgb(0,0,0)\" stroke-width=\"1\" x1=\"560\" x2=\"385\" y1=\"-53.5\" y2=\"-228.5\" />\n",
       "\t<polygon points=\"35,-53.5 210,-53.5 35,-228.5 \" style=\"fill: rgb(119,236,158); fill-opacity: 0.5; stroke: rgb(0,0,0); stroke-width: 1\" />\n",
       "\t<circle cx=\"35\" cy=\"-53.5\" r=\"2\" style=\"fill: rgb(255,0,0)\" />\n",
       "\t<circle cx=\"35\" cy=\"-228.5\" r=\"2\" style=\"fill: rgb(255,0,0)\" />\n",
       "\t<circle cx=\"210\" cy=\"-53.5\" r=\"2\" style=\"fill: rgb(255,0,0)\" />\n",
       "\t<polygon points=\"210,-53.5 210,-228.5 35,-228.5 \" style=\"fill: rgb(119,236,158); fill-opacity: 0.5; stroke: rgb(0,0,0); stroke-width: 1\" />\n",
       "\t<circle cx=\"35\" cy=\"-228.5\" r=\"2\" style=\"fill: rgb(255,0,0)\" />\n",
       "\t<circle cx=\"210\" cy=\"-53.5\" r=\"2\" style=\"fill: rgb(255,0,0)\" />\n",
       "\t<circle cx=\"210\" cy=\"-228.5\" r=\"2\" style=\"fill: rgb(255,0,0)\" />\n",
       "\t<polygon points=\"35,-228.5 210,-228.5 35,-403.5 \" style=\"fill: rgb(119,236,158); fill-opacity: 0.5; stroke: rgb(0,0,0); stroke-width: 1\" />\n",
       "\t<circle cx=\"35\" cy=\"-228.5\" r=\"2\" style=\"fill: rgb(255,0,0)\" />\n",
       "\t<circle cx=\"35\" cy=\"-403.5\" r=\"2\" style=\"fill: rgb(255,0,0)\" />\n",
       "\t<circle cx=\"210\" cy=\"-228.5\" r=\"2\" style=\"fill: rgb(255,0,0)\" />\n",
       "\t<polygon points=\"210,-228.5 210,-403.5 35,-403.5 \" style=\"fill: rgb(119,236,158); fill-opacity: 0.5; stroke: rgb(0,0,0); stroke-width: 1\" />\n",
       "\t<circle cx=\"35\" cy=\"-403.5\" r=\"2\" style=\"fill: rgb(255,0,0)\" />\n",
       "\t<circle cx=\"210\" cy=\"-228.5\" r=\"2\" style=\"fill: rgb(255,0,0)\" />\n",
       "\t<circle cx=\"210\" cy=\"-403.5\" r=\"2\" style=\"fill: rgb(255,0,0)\" />\n",
       "\t<polygon points=\"35,-403.5 210,-403.5 35,-578.5 \" style=\"fill: rgb(119,236,158); fill-opacity: 0.5; stroke: rgb(0,0,0); stroke-width: 1\" />\n",
       "\t<circle cx=\"35\" cy=\"-403.5\" r=\"2\" style=\"fill: rgb(255,0,0)\" />\n",
       "\t<circle cx=\"35\" cy=\"-578.5\" r=\"2\" style=\"fill: rgb(255,0,0)\" />\n",
       "\t<circle cx=\"210\" cy=\"-403.5\" r=\"2\" style=\"fill: rgb(255,0,0)\" />\n",
       "\t<polygon points=\"210,-53.5 385,-53.5 210,-228.5 \" style=\"fill: rgb(119,236,158); fill-opacity: 0.5; stroke: rgb(0,0,0); stroke-width: 1\" />\n",
       "\t<circle cx=\"210\" cy=\"-53.5\" r=\"2\" style=\"fill: rgb(255,0,0)\" />\n",
       "\t<circle cx=\"210\" cy=\"-228.5\" r=\"2\" style=\"fill: rgb(255,0,0)\" />\n",
       "\t<circle cx=\"385\" cy=\"-53.5\" r=\"2\" style=\"fill: rgb(255,0,0)\" />\n",
       "\t<polygon points=\"385,-53.5 385,-228.5 210,-228.5 \" style=\"fill: rgb(119,236,158); fill-opacity: 0.5; stroke: rgb(0,0,0); stroke-width: 1\" />\n",
       "\t<circle cx=\"210\" cy=\"-228.5\" r=\"2\" style=\"fill: rgb(255,0,0)\" />\n",
       "\t<circle cx=\"385\" cy=\"-53.5\" r=\"2\" style=\"fill: rgb(255,0,0)\" />\n",
       "\t<circle cx=\"385\" cy=\"-228.5\" r=\"2\" style=\"fill: rgb(255,0,0)\" />\n",
       "\t<polygon points=\"210,-228.5 385,-228.5 210,-403.5 \" style=\"fill: rgb(119,236,158); fill-opacity: 0.5; stroke: rgb(0,0,0); stroke-width: 1\" />\n",
       "\t<circle cx=\"210\" cy=\"-228.5\" r=\"2\" style=\"fill: rgb(255,0,0)\" />\n",
       "\t<circle cx=\"210\" cy=\"-403.5\" r=\"2\" style=\"fill: rgb(255,0,0)\" />\n",
       "\t<circle cx=\"385\" cy=\"-228.5\" r=\"2\" style=\"fill: rgb(255,0,0)\" />\n",
       "\t<polygon points=\"385,-53.5 560,-53.5 385,-228.5 \" style=\"fill: rgb(119,236,158); fill-opacity: 0.5; stroke: rgb(0,0,0); stroke-width: 1\" />\n",
       "\t<circle cx=\"385\" cy=\"-53.5\" r=\"2\" style=\"fill: rgb(255,0,0)\" />\n",
       "\t<circle cx=\"385\" cy=\"-228.5\" r=\"2\" style=\"fill: rgb(255,0,0)\" />\n",
       "\t<circle cx=\"560\" cy=\"-53.5\" r=\"2\" style=\"fill: rgb(255,0,0)\" />\n",
       "\t<!--\n",
       "\tGenerated using the Perl SVG Module V2.84\n",
       "\tby Ronan Oger\n",
       "\tInfo: http://www.roitsystems.com/\n",
       "\t-->\n",
       "</svg>"
      ]
     },
     "metadata": {},
     "output_type": "display_data"
    }
   ],
   "source": [
    "Polymake.display_svg(TT)"
   ]
  },
  {
   "cell_type": "markdown",
   "metadata": {},
   "source": [
    "This triangulation is very special in that it is <i>foldable</i> (or \"balanced\"), i.e., the dual graph is bipartite.  This means that the triangles can be colored, say, black and white such that no two triangles of the same color share an edge.  The <i>signature</i> is the absolute difference of the black triangles minus the white triangles (of odd normalized volume)."
   ]
  },
  {
   "cell_type": "code",
   "execution_count": 4,
   "metadata": {},
   "outputs": [
    {
     "name": "stdout",
     "output_type": "stream",
     "text": [
      "T.FOLDABLE = true\n",
      "T.SIGNATURE = 3\n"
     ]
    },
    {
     "data": {
      "text/html": [
       "$3$"
      ],
      "text/plain": [
       "3"
      ]
     },
     "execution_count": 4,
     "metadata": {},
     "output_type": "execute_result"
    }
   ],
   "source": [
    "T = Polymake.topaz.GeometricSimplicialComplex(COORDINATES = A[:,2:end], FACETS = F)\n",
    "@show T.FOLDABLE\n",
    "@show T.SIGNATURE"
   ]
  },
  {
   "cell_type": "markdown",
   "metadata": {},
   "source": [
    "It is a fact that the vertices of a foldable triangulation can be colored by $d+1$ colors (such that vertices of the same color do not share an edge), where $d$ is the dimension.  Here $d=2$."
   ]
  },
  {
   "cell_type": "markdown",
   "metadata": {},
   "source": [
    "This ideal will be relevant later to check a certain condition, involving the triangulation and some lifting function.  The implementation uses HomotopyContinuation and polymake.  the function below is used for converting polynomials."
   ]
  },
  {
   "cell_type": "code",
   "execution_count": 5,
   "metadata": {},
   "outputs": [],
   "source": [
    "using HomotopyContinuation\n",
    "\n",
    "function hc_poly(f, vars)\n",
    "    M = Polymake.monomials_as_matrix(f)\n",
    "    monomials_as_matrix = [prod(vars.^m) for m in eachrow(M)]\n",
    "    coeffs = convert.(Int, Polymake.coefficients_as_vector(f))\n",
    "    sum(map(*, coeffs, monomials_as_matrix))\n",
    "end;"
   ]
  },
  {
   "cell_type": "markdown",
   "metadata": {},
   "source": [
    "Now a <i>Wronski polynomial</i> has the given lattice points as exponents, and only one coefficient per color class of vertices of the triangulation.\n",
    "\n",
    "A <i>Wronski system</i> consists of $d$ Wronski polynomials with respect to the same lattice points and triangulation.  It is assumed that the coefficients are generic."
   ]
  },
  {
   "cell_type": "code",
   "execution_count": 6,
   "metadata": {},
   "outputs": [
    {
     "data": {
      "text/html": [
       "$[x₁³s¹⁵ + s¹² + x₁x₂s + x₂³, x₁²s⁹ + x₂s³ + x₁x₂², x₁s⁸ + x₁²x₂s⁵ + x₂²]$"
      ],
      "text/plain": [
       "3-element Array{DynamicPolynomials.Polynomial{true,Int64},1}:\n",
       " x₁³s¹⁵ + s¹² + x₁x₂s + x₂³\n",
       " x₁²s⁹ + x₂s³ + x₁x₂²      \n",
       " x₁s⁸ + x₁²x₂s⁵ + x₂²      "
      ]
     },
     "execution_count": 6,
     "metadata": {},
     "output_type": "execute_result"
    }
   ],
   "source": [
    "I = Polymake.polytope.wronski_center_ideal(A, λ)\n",
    "@polyvar x[1:2] s;\n",
    "HC_I = [hc_poly(f, [x;s]) for f in I.GENERATORS]"
   ]
  },
  {
   "cell_type": "markdown",
   "metadata": {},
   "source": [
    "The Wronski center ideal is generated by $d+1$, here 3, polynomials which collect the terms of the color classes and a new variable, $s$, for the lifting function."
   ]
  },
  {
   "cell_type": "code",
   "execution_count": 7,
   "metadata": {},
   "outputs": [
    {
     "name": "stdout",
     "output_type": "stream",
     "text": [
      " 26.703006 seconds (94.99 M allocations: 4.764 GiB, 5.55% gc time)\n"
     ]
    },
    {
     "data": {
      "text/plain": [
       "Result{Array{Complex{Float64},1}} with 54 solutions\n",
       "===================================================\n",
       "• 54 non-singular solutions (2 real)\n",
       "• 0 singular solutions (0 real)\n",
       "• 54 paths tracked\n",
       "• random seed: 844449\n"
      ]
     },
     "execution_count": 7,
     "metadata": {},
     "output_type": "execute_result"
    }
   ],
   "source": [
    "@time res = HomotopyContinuation.solve(HC_I; start_system = :polyhedral, only_torus = true)"
   ]
  },
  {
   "cell_type": "markdown",
   "metadata": {},
   "source": [
    "We get 54 complex roots, out of which two are real.  One of the conditions to check asks that there are no real roots between $0$ and $1$.  See the Soprunova-Sottile paper for details."
   ]
  },
  {
   "cell_type": "code",
   "execution_count": 8,
   "metadata": {},
   "outputs": [
    {
     "data": {
      "text/html": [
       "$[[-0.211758, -215.723, 4.41147], [-0.694359, -0.414242, -0.895219]]$"
      ],
      "text/plain": [
       "2-element Array{Array{Float64,1},1}:\n",
       " [-0.21175800954334514, -215.72260079314438, 4.4114705674419215]\n",
       " [-0.6943590430596772, -0.41424188458258815, -0.895218950608218]"
      ]
     },
     "execution_count": 8,
     "metadata": {},
     "output_type": "execute_result"
    }
   ],
   "source": [
    "HomotopyContinuation.real_solutions(res)"
   ]
  },
  {
   "cell_type": "markdown",
   "metadata": {},
   "source": [
    "The main result of Soprunova & Sottile says that, if all the conditions are satisfied, then a Wronski system has at least signature many real solutions."
   ]
  },
  {
   "cell_type": "code",
   "execution_count": 9,
   "metadata": {},
   "outputs": [
    {
     "data": {
      "text/plain": [
       "Result{Array{Complex{Float64},1}} with 9 solutions\n",
       "==================================================\n",
       "• 9 non-singular solutions (3 real)\n",
       "• 0 singular solutions (0 real)\n",
       "• 9 paths tracked\n",
       "• random seed: 507379\n"
      ]
     },
     "execution_count": 9,
     "metadata": {},
     "output_type": "execute_result"
    }
   ],
   "source": [
    "c = Vector{Polymake.Rational}[[19,8,-19], [39,7,42]];\n",
    "W = Polymake.polytope.wronski_system(A, λ, c, 1)\n",
    "HC_W = [hc_poly(f, x) for f in W.GENERATORS];\n",
    "W_res = HomotopyContinuation.solve(HC_W)"
   ]
  },
  {
   "cell_type": "markdown",
   "metadata": {},
   "source": [
    "## Visualization"
   ]
  },
  {
   "cell_type": "code",
   "execution_count": 10,
   "metadata": {},
   "outputs": [
    {
     "name": "stderr",
     "output_type": "stream",
     "text": [
      "┌ Info: Precompiling ImplicitPlots [55ecb840-b828-11e9-1645-43f4a9f9ace7]\n",
      "└ @ Base loading.jl:1273\n",
      "WARNING: Method definition convert(Type{#s55} where #s55<:(Observables.Observable{T} where T), Any) in module Observables at /home/mic/.julia/packages/Observables/0wrF6/src/Observables.jl:52 overwritten in module AbstractPlotting at /home/mic/.julia/packages/AbstractPlotting/B5nOF/src/types.jl:288.\n",
      "  ** incremental compilation may be fatally broken for this module **\n",
      "\n",
      "WARNING: Method definition copy(Observables.Observable{T}) where {T} in module Observables at /home/mic/.julia/packages/Observables/0wrF6/src/Observables.jl:30 overwritten in module AbstractPlotting at /home/mic/.julia/packages/AbstractPlotting/B5nOF/src/interaction/nodes.jl:15.\n",
      "  ** incremental compilation may be fatally broken for this module **\n",
      "\n",
      "ERROR: LoadError: LoadError: MethodError: convert(::Type{Observables.Observable}, ::Observables.Observable{Any}) is ambiguous. Candidates:\n",
      "  convert(::Type{Observables.Observable}, x::Observables.AbstractObservable) in Observables at /home/mic/.julia/packages/Observables/0wrF6/src/Observables.jl:41\n",
      "  convert(::Type{T}, x::T) where T<:Observables.Observable in AbstractPlotting at /home/mic/.julia/packages/AbstractPlotting/B5nOF/src/types.jl:289\n",
      "Possible fix, define\n",
      "  convert(::Type{Observables.Observable}, ::Observables.Observable)\n",
      "Stacktrace:\n",
      " [1] setindex!(::Dict{Symbol,Observables.Observable}, ::Observables.Observable{Any}, ::Symbol) at ./dict.jl:380\n",
      " [2] Dict{Symbol,Observables.Observable}(::Base.Generator{Base.Iterators.Pairs{Symbol,Array{T,1} where T,NTuple{4,Symbol},NamedTuple{(:color, :marker, :linestyle, :side),Tuple{Array{ColorTypes.RGB{Float64},1},Array{Symbol,1},Array{Union{Nothing, Symbol},1},Array{Symbol,1}}}},typeof(AbstractPlotting.node_pairs)}) at ./dict.jl:103\n",
      " [3] #Attributes#6 at /home/mic/.julia/packages/AbstractPlotting/B5nOF/src/types.jl:292 [inlined]\n",
      " [4] (::Core.var\"#kw#Type\")(::NamedTuple{(:color, :marker, :linestyle, :side),Tuple{Array{ColorTypes.RGB{Float64},1},Array{Symbol,1},Array{Union{Nothing, Symbol},1},Array{Symbol,1}}}, ::Type{AbstractPlotting.Attributes}) at ./none:0\n",
      " [5] top-level scope at /home/mic/.julia/packages/AbstractPlotting/B5nOF/src/theming.jl:16\n",
      " [6] include at ./boot.jl:328 [inlined]\n",
      " [7] include_relative(::Module, ::String) at ./loading.jl:1105\n",
      " [8] include at ./Base.jl:31 [inlined]\n",
      " [9] include(::String) at /home/mic/.julia/packages/AbstractPlotting/B5nOF/src/AbstractPlotting.jl:1\n",
      " [10] top-level scope at /home/mic/.julia/packages/AbstractPlotting/B5nOF/src/AbstractPlotting.jl:37\n",
      " [11] include at ./boot.jl:328 [inlined]\n",
      " [12] include_relative(::Module, ::String) at ./loading.jl:1105\n",
      " [13] include(::Module, ::String) at ./Base.jl:31\n",
      " [14] top-level scope at none:2\n",
      " [15] eval at ./boot.jl:330 [inlined]\n",
      " [16] eval(::Expr) at ./client.jl:425\n",
      " [17] top-level scope at ./none:3\n",
      "in expression starting at /home/mic/.julia/packages/AbstractPlotting/B5nOF/src/theming.jl:16\n",
      "in expression starting at /home/mic/.julia/packages/AbstractPlotting/B5nOF/src/AbstractPlotting.jl:37\n",
      "ERROR: LoadError: Failed to precompile AbstractPlotting [537997a7-5e4e-5d89-9595-2241ea00577e] to /home/mic/.julia/compiled/v1.3/AbstractPlotting/6fydZ_JecgB.ji.\n",
      "Stacktrace:\n",
      " [1] error(::String) at ./error.jl:33\n",
      " [2] compilecache(::Base.PkgId, ::String) at ./loading.jl:1283\n",
      " [3] _require(::Base.PkgId) at ./loading.jl:1024\n",
      " [4] require(::Base.PkgId) at ./loading.jl:922\n",
      " [5] require(::Module, ::Symbol) at ./loading.jl:917\n",
      " [6] include at ./boot.jl:328 [inlined]\n",
      " [7] include_relative(::Module, ::String) at ./loading.jl:1105\n",
      " [8] include(::Module, ::String) at ./Base.jl:31\n",
      " [9] top-level scope at none:2\n",
      " [10] eval at ./boot.jl:330 [inlined]\n",
      " [11] eval(::Expr) at ./client.jl:425\n",
      " [12] top-level scope at ./none:3\n",
      "in expression starting at /home/mic/.julia/packages/ImplicitPlots/lu0xj/src/ImplicitPlots.jl:5\n"
     ]
    },
    {
     "ename": "ErrorException",
     "evalue": "Failed to precompile ImplicitPlots [55ecb840-b828-11e9-1645-43f4a9f9ace7] to /home/mic/.julia/compiled/v1.3/ImplicitPlots/oOrKB_JecgB.ji.",
     "output_type": "error",
     "traceback": [
      "Failed to precompile ImplicitPlots [55ecb840-b828-11e9-1645-43f4a9f9ace7] to /home/mic/.julia/compiled/v1.3/ImplicitPlots/oOrKB_JecgB.ji.",
      "",
      "Stacktrace:",
      " [1] error(::String) at ./error.jl:33",
      " [2] compilecache(::Base.PkgId, ::String) at ./loading.jl:1283",
      " [3] _require(::Base.PkgId) at ./loading.jl:1024",
      " [4] require(::Base.PkgId) at ./loading.jl:922",
      " [5] require(::Module, ::Symbol) at ./loading.jl:917",
      " [6] top-level scope at In[10]:1"
     ]
    }
   ],
   "source": [
    "using ImplicitPlots\n",
    "p1 = implicit_plot(HC_W[1])\n",
    "ImplicitPlots.implicit_plot!(p1, HC_W[2]; color=:indianred)"
   ]
  },
  {
   "cell_type": "code",
   "execution_count": null,
   "metadata": {},
   "outputs": [],
   "source": []
  }
 ],
 "metadata": {
  "kernelspec": {
   "display_name": "Julia 1.3.1",
   "language": "julia",
   "name": "julia-1.3"
  },
  "language_info": {
   "file_extension": ".jl",
   "mimetype": "application/julia",
   "name": "julia",
   "version": "1.3.1"
  }
 },
 "nbformat": 4,
 "nbformat_minor": 2
}
