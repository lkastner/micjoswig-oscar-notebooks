{
 "cells": [
  {
   "cell_type": "markdown",
   "metadata": {},
   "source": [
    "# OSCAR, a Tech Preview (Part II)\n",
    "## Wronski Polynomial Systems\n",
    "\n",
    "This example features polytopes and polynomials.  For further details see the following articles (and their references).\n",
    "\n",
    "* Joswig & Ziegler: Foldable triangulations of lattice polygons, <i><a href=\"https://www.jstor.org/stable/10.4169/amer.math.monthly.121.08.706?seq=1\">Amer. Math. Monthly</a></i> <b>121</b>/8 (2014).\n",
    "* Kaluba, Lorenz & Timme: Polymake.jl: A new interface to polymake, <a href=\"https://arxiv.org/abs/2003.11381\">arXiv:2003.11381</a>\n",
    "* Soprunova & Sottile: Lower bounds for real solutions to sparse polynomial systems, <i><a href=\"https://www.sciencedirect.com/science/article/pii/S0001870805001611\">Adv. Math.</a></i> <b>204</b> (2006).\n",
    "\n",
    "Our goal is to illustrate Theorem 3.5 in the article by Soprunova & Sottile by an example."
   ]
  },
  {
   "cell_type": "code",
   "execution_count": 1,
   "metadata": {},
   "outputs": [
    {
     "name": "stderr",
     "output_type": "stream",
     "text": [
      "polymake:  WARNING: Recompiling in /home/mic/.julia/polymake_user/wrappers.0/build/Opt, please be patient...\n"
     ]
    },
    {
     "name": "stdout",
     "output_type": "stream",
     "text": [
      " -----    -----    -----      -      -----   \n",
      "|     |  |     |  |     |    | |    |     |  \n",
      "|     |  |        |         |   |   |     |  \n",
      "|     |   -----   |        |     |  |-----   \n",
      "|     |        |  |        |-----|  |   |    \n",
      "|     |  |     |  |     |  |     |  |    |   \n",
      " -----    -----    -----   -     -  -     -  \n",
      "\n",
      "...combining (and extending) ANTIC, GAP, Polymake and Singular\n",
      "Version\u001b[32m 0.5.1 \u001b[39m... \n",
      " ... which comes with absolutely no warranty whatsoever\n",
      "Type: '?Oscar' for more information\n",
      "(c) 2019-2021 by The Oscar Development Team\n"
     ]
    },
    {
     "data": {
      "text/plain": [
       "Polymake"
      ]
     },
     "execution_count": 1,
     "metadata": {},
     "output_type": "execute_result"
    }
   ],
   "source": [
    "using Oscar\n",
    "const pm=Polymake"
   ]
  },
  {
   "cell_type": "markdown",
   "metadata": {},
   "source": [
    "We will consider certain systems of polynomial equations which require a regular triangulation of a lattice polytope as (part of its) input."
   ]
  },
  {
   "cell_type": "code",
   "execution_count": 2,
   "metadata": {},
   "outputs": [],
   "source": [
    "A = pm.polytope.lattice_points(pm.polytope.simplex(2,3))\n",
    "λ = [12,3,0,0,8,1,0,9,5,15];\n",
    "F = pm.polytope.regular_subdivision(A, λ)\n",
    "TT = pm.fan.SubdivisionOfPoints(POINTS = A, MAXIMAL_CELLS = F);"
   ]
  },
  {
   "cell_type": "code",
   "execution_count": 3,
   "metadata": {},
   "outputs": [
    {
     "data": {
      "image/svg+xml": [
       "<?xml version=\"1.0\" encoding=\"UTF-8\" standalone=\"yes\"?>\n",
       "<!DOCTYPE svg PUBLIC \"-//W3C//DTD SVG 1.0//EN\" \"http://www.w3.org/TR/2001/REC-SVG-20010904/DTD/svg10.dtd\">\n",
       "<svg height=\"841pt\" id=\"document\" viewBox=\"0 -615 575 615\" width=\"595pt\" xmlns=\"http://www.w3.org/2000/svg\" xmlns:svg=\"http://www.w3.org/2000/svg\" xmlns:xlink=\"http://www.w3.org/1999/xlink\">\n",
       "\t<title id=\"document_title\">pcom:</title>\n",
       "\t<circle cx=\"35\" cy=\"-53.5\" r=\"2\" style=\"fill: rgb(0,0,0)\" />\n",
       "\t<text font-family=\"Times-Roman\" font-size=\"10\" text-anchor=\"middle\" x=\"35\" y=\"-58.5\">0</text>\n",
       "\t<circle cx=\"35\" cy=\"-228.5\" r=\"2\" style=\"fill: rgb(0,0,0)\" />\n",
       "\t<text font-family=\"Times-Roman\" font-size=\"10\" text-anchor=\"middle\" x=\"35\" y=\"-233.5\">1</text>\n",
       "\t<circle cx=\"35\" cy=\"-403.5\" r=\"2\" style=\"fill: rgb(0,0,0)\" />\n",
       "\t<text font-family=\"Times-Roman\" font-size=\"10\" text-anchor=\"middle\" x=\"35\" y=\"-408.5\">2</text>\n",
       "\t<circle cx=\"35\" cy=\"-578.5\" r=\"2\" style=\"fill: rgb(0,0,0)\" />\n",
       "\t<text font-family=\"Times-Roman\" font-size=\"10\" text-anchor=\"middle\" x=\"35\" y=\"-583.5\">3</text>\n",
       "\t<circle cx=\"210\" cy=\"-53.5\" r=\"2\" style=\"fill: rgb(0,0,0)\" />\n",
       "\t<text font-family=\"Times-Roman\" font-size=\"10\" text-anchor=\"middle\" x=\"210\" y=\"-58.5\">4</text>\n",
       "\t<circle cx=\"210\" cy=\"-228.5\" r=\"2\" style=\"fill: rgb(0,0,0)\" />\n",
       "\t<text font-family=\"Times-Roman\" font-size=\"10\" text-anchor=\"middle\" x=\"210\" y=\"-233.5\">5</text>\n",
       "\t<circle cx=\"210\" cy=\"-403.5\" r=\"2\" style=\"fill: rgb(0,0,0)\" />\n",
       "\t<text font-family=\"Times-Roman\" font-size=\"10\" text-anchor=\"middle\" x=\"210\" y=\"-408.5\">6</text>\n",
       "\t<circle cx=\"385\" cy=\"-53.5\" r=\"2\" style=\"fill: rgb(0,0,0)\" />\n",
       "\t<text font-family=\"Times-Roman\" font-size=\"10\" text-anchor=\"middle\" x=\"385\" y=\"-58.5\">7</text>\n",
       "\t<circle cx=\"385\" cy=\"-228.5\" r=\"2\" style=\"fill: rgb(0,0,0)\" />\n",
       "\t<text font-family=\"Times-Roman\" font-size=\"10\" text-anchor=\"middle\" x=\"385\" y=\"-233.5\">8</text>\n",
       "\t<circle cx=\"560\" cy=\"-53.5\" r=\"2\" style=\"fill: rgb(0,0,0)\" />\n",
       "\t<text font-family=\"Times-Roman\" font-size=\"10\" text-anchor=\"middle\" x=\"560\" y=\"-58.5\">9</text>\n",
       "\t<line stroke=\"rgb(0,0,0)\" stroke-width=\"1\" x1=\"35\" x2=\"35\" y1=\"-228.5\" y2=\"-53.5\" />\n",
       "\t<line stroke=\"rgb(0,0,0)\" stroke-width=\"1\" x1=\"35\" x2=\"35\" y1=\"-403.5\" y2=\"-228.5\" />\n",
       "\t<line stroke=\"rgb(0,0,0)\" stroke-width=\"1\" x1=\"35\" x2=\"35\" y1=\"-578.5\" y2=\"-403.5\" />\n",
       "\t<line stroke=\"rgb(0,0,0)\" stroke-width=\"1\" x1=\"210\" x2=\"35\" y1=\"-53.5\" y2=\"-53.5\" />\n",
       "\t<line stroke=\"rgb(0,0,0)\" stroke-width=\"1\" x1=\"210\" x2=\"35\" y1=\"-53.5\" y2=\"-228.5\" />\n",
       "\t<line stroke=\"rgb(0,0,0)\" stroke-width=\"1\" x1=\"210\" x2=\"35\" y1=\"-228.5\" y2=\"-228.5\" />\n",
       "\t<line stroke=\"rgb(0,0,0)\" stroke-width=\"1\" x1=\"210\" x2=\"35\" y1=\"-228.5\" y2=\"-403.5\" />\n",
       "\t<line stroke=\"rgb(0,0,0)\" stroke-width=\"1\" x1=\"210\" x2=\"210\" y1=\"-228.5\" y2=\"-53.5\" />\n",
       "\t<line stroke=\"rgb(0,0,0)\" stroke-width=\"1\" x1=\"210\" x2=\"35\" y1=\"-403.5\" y2=\"-403.5\" />\n",
       "\t<line stroke=\"rgb(0,0,0)\" stroke-width=\"1\" x1=\"210\" x2=\"35\" y1=\"-403.5\" y2=\"-578.5\" />\n",
       "\t<line stroke=\"rgb(0,0,0)\" stroke-width=\"1\" x1=\"210\" x2=\"210\" y1=\"-403.5\" y2=\"-228.5\" />\n",
       "\t<line stroke=\"rgb(0,0,0)\" stroke-width=\"1\" x1=\"385\" x2=\"210\" y1=\"-53.5\" y2=\"-53.5\" />\n",
       "\t<line stroke=\"rgb(0,0,0)\" stroke-width=\"1\" x1=\"385\" x2=\"210\" y1=\"-53.5\" y2=\"-228.5\" />\n",
       "\t<line stroke=\"rgb(0,0,0)\" stroke-width=\"1\" x1=\"385\" x2=\"210\" y1=\"-228.5\" y2=\"-228.5\" />\n",
       "\t<line stroke=\"rgb(0,0,0)\" stroke-width=\"1\" x1=\"385\" x2=\"210\" y1=\"-228.5\" y2=\"-403.5\" />\n",
       "\t<line stroke=\"rgb(0,0,0)\" stroke-width=\"1\" x1=\"385\" x2=\"385\" y1=\"-228.5\" y2=\"-53.5\" />\n",
       "\t<line stroke=\"rgb(0,0,0)\" stroke-width=\"1\" x1=\"560\" x2=\"385\" y1=\"-53.5\" y2=\"-53.5\" />\n",
       "\t<line stroke=\"rgb(0,0,0)\" stroke-width=\"1\" x1=\"560\" x2=\"385\" y1=\"-53.5\" y2=\"-228.5\" />\n",
       "\t<polygon points=\"35,-53.5 210,-53.5 35,-228.5 \" style=\"fill: rgb(119,236,158); fill-opacity: 0.5; stroke: rgb(0,0,0); stroke-width: 1\" />\n",
       "\t<circle cx=\"35\" cy=\"-53.5\" r=\"2\" style=\"fill: rgb(255,0,0)\" />\n",
       "\t<circle cx=\"35\" cy=\"-228.5\" r=\"2\" style=\"fill: rgb(255,0,0)\" />\n",
       "\t<circle cx=\"210\" cy=\"-53.5\" r=\"2\" style=\"fill: rgb(255,0,0)\" />\n",
       "\t<polygon points=\"210,-53.5 210,-228.5 35,-228.5 \" style=\"fill: rgb(119,236,158); fill-opacity: 0.5; stroke: rgb(0,0,0); stroke-width: 1\" />\n",
       "\t<circle cx=\"35\" cy=\"-228.5\" r=\"2\" style=\"fill: rgb(255,0,0)\" />\n",
       "\t<circle cx=\"210\" cy=\"-53.5\" r=\"2\" style=\"fill: rgb(255,0,0)\" />\n",
       "\t<circle cx=\"210\" cy=\"-228.5\" r=\"2\" style=\"fill: rgb(255,0,0)\" />\n",
       "\t<polygon points=\"35,-228.5 210,-228.5 35,-403.5 \" style=\"fill: rgb(119,236,158); fill-opacity: 0.5; stroke: rgb(0,0,0); stroke-width: 1\" />\n",
       "\t<circle cx=\"35\" cy=\"-228.5\" r=\"2\" style=\"fill: rgb(255,0,0)\" />\n",
       "\t<circle cx=\"35\" cy=\"-403.5\" r=\"2\" style=\"fill: rgb(255,0,0)\" />\n",
       "\t<circle cx=\"210\" cy=\"-228.5\" r=\"2\" style=\"fill: rgb(255,0,0)\" />\n",
       "\t<polygon points=\"210,-228.5 210,-403.5 35,-403.5 \" style=\"fill: rgb(119,236,158); fill-opacity: 0.5; stroke: rgb(0,0,0); stroke-width: 1\" />\n",
       "\t<circle cx=\"35\" cy=\"-403.5\" r=\"2\" style=\"fill: rgb(255,0,0)\" />\n",
       "\t<circle cx=\"210\" cy=\"-228.5\" r=\"2\" style=\"fill: rgb(255,0,0)\" />\n",
       "\t<circle cx=\"210\" cy=\"-403.5\" r=\"2\" style=\"fill: rgb(255,0,0)\" />\n",
       "\t<polygon points=\"35,-403.5 210,-403.5 35,-578.5 \" style=\"fill: rgb(119,236,158); fill-opacity: 0.5; stroke: rgb(0,0,0); stroke-width: 1\" />\n",
       "\t<circle cx=\"35\" cy=\"-403.5\" r=\"2\" style=\"fill: rgb(255,0,0)\" />\n",
       "\t<circle cx=\"35\" cy=\"-578.5\" r=\"2\" style=\"fill: rgb(255,0,0)\" />\n",
       "\t<circle cx=\"210\" cy=\"-403.5\" r=\"2\" style=\"fill: rgb(255,0,0)\" />\n",
       "\t<polygon points=\"210,-53.5 385,-53.5 210,-228.5 \" style=\"fill: rgb(119,236,158); fill-opacity: 0.5; stroke: rgb(0,0,0); stroke-width: 1\" />\n",
       "\t<circle cx=\"210\" cy=\"-53.5\" r=\"2\" style=\"fill: rgb(255,0,0)\" />\n",
       "\t<circle cx=\"210\" cy=\"-228.5\" r=\"2\" style=\"fill: rgb(255,0,0)\" />\n",
       "\t<circle cx=\"385\" cy=\"-53.5\" r=\"2\" style=\"fill: rgb(255,0,0)\" />\n",
       "\t<polygon points=\"385,-53.5 385,-228.5 210,-228.5 \" style=\"fill: rgb(119,236,158); fill-opacity: 0.5; stroke: rgb(0,0,0); stroke-width: 1\" />\n",
       "\t<circle cx=\"210\" cy=\"-228.5\" r=\"2\" style=\"fill: rgb(255,0,0)\" />\n",
       "\t<circle cx=\"385\" cy=\"-53.5\" r=\"2\" style=\"fill: rgb(255,0,0)\" />\n",
       "\t<circle cx=\"385\" cy=\"-228.5\" r=\"2\" style=\"fill: rgb(255,0,0)\" />\n",
       "\t<polygon points=\"210,-228.5 385,-228.5 210,-403.5 \" style=\"fill: rgb(119,236,158); fill-opacity: 0.5; stroke: rgb(0,0,0); stroke-width: 1\" />\n",
       "\t<circle cx=\"210\" cy=\"-228.5\" r=\"2\" style=\"fill: rgb(255,0,0)\" />\n",
       "\t<circle cx=\"210\" cy=\"-403.5\" r=\"2\" style=\"fill: rgb(255,0,0)\" />\n",
       "\t<circle cx=\"385\" cy=\"-228.5\" r=\"2\" style=\"fill: rgb(255,0,0)\" />\n",
       "\t<polygon points=\"385,-53.5 560,-53.5 385,-228.5 \" style=\"fill: rgb(119,236,158); fill-opacity: 0.5; stroke: rgb(0,0,0); stroke-width: 1\" />\n",
       "\t<circle cx=\"385\" cy=\"-53.5\" r=\"2\" style=\"fill: rgb(255,0,0)\" />\n",
       "\t<circle cx=\"385\" cy=\"-228.5\" r=\"2\" style=\"fill: rgb(255,0,0)\" />\n",
       "\t<circle cx=\"560\" cy=\"-53.5\" r=\"2\" style=\"fill: rgb(255,0,0)\" />\n",
       "\t<!--\n",
       "\tGenerated using the Perl SVG Module V2.84\n",
       "\tby Ronan Oger\n",
       "\tInfo: http://www.roitsystems.com/\n",
       "\t-->\n",
       "</svg>"
      ]
     },
     "metadata": {},
     "output_type": "display_data"
    }
   ],
   "source": [
    "pm.display_svg(TT)"
   ]
  },
  {
   "cell_type": "markdown",
   "metadata": {},
   "source": [
    "This triangulation is very special in that it is <i>foldable</i> (or \"balanced\"), i.e., the dual graph is bipartite.  This means that the triangles can be colored, say, black and white such that no two triangles of the same color share an edge.  The <i>signature</i> is the absolute difference of the black triangles minus the white triangles (of odd normalized volume)."
   ]
  },
  {
   "cell_type": "code",
   "execution_count": 4,
   "metadata": {},
   "outputs": [
    {
     "name": "stdout",
     "output_type": "stream",
     "text": [
      "T.FOLDABLE = true\n",
      "T.SIGNATURE = 3\n"
     ]
    },
    {
     "data": {
      "text/html": [
       "$3$"
      ],
      "text/plain": [
       "3"
      ]
     },
     "execution_count": 4,
     "metadata": {},
     "output_type": "execute_result"
    }
   ],
   "source": [
    "T = pm.topaz.GeometricSimplicialComplex(COORDINATES = A[:,2:end], FACETS = F)\n",
    "@show T.FOLDABLE\n",
    "@show T.SIGNATURE"
   ]
  },
  {
   "cell_type": "markdown",
   "metadata": {},
   "source": [
    "It is a fact that the vertices of a foldable triangulation can be colored by $d+1$ colors (such that vertices of the same color do not share an edge), where $d$ is the dimension.  Here $d=2$.\n",
    "\n",
    "The implementation uses HomotopyContinuation and polymake.  The function below is used for converting polynomials."
   ]
  },
  {
   "cell_type": "code",
   "execution_count": 5,
   "metadata": {},
   "outputs": [],
   "source": [
    "import HomotopyContinuation\n",
    "const HC=HomotopyContinuation\n",
    "\n",
    "function hc_poly(f, vars)\n",
    "    M = pm.monomials_as_matrix(f)\n",
    "    monomials_as_matrix = [prod(vars.^m) for m in eachrow(M)]\n",
    "    coeffs = convert.(Int, pm.coefficients_as_vector(f))\n",
    "    sum(map(*, coeffs, monomials_as_matrix))\n",
    "end;"
   ]
  },
  {
   "cell_type": "markdown",
   "metadata": {},
   "source": [
    "Now a <i>Wronski polynomial</i> has the given lattice points as exponents, and only one coefficient per color class of vertices of the triangulation.\n",
    "\n",
    "A <i>Wronski system</i> consists of $d$ Wronski polynomials with respect to the same lattice points and triangulation.  It is assumed that the coefficients are generic.\n",
    "\n",
    "The <i>Wronski center ideal</i> is relevant for checking a necessary condition for that Theorem 3.5 of Soprunova & Sottile.  This involves the triangulation and some lifting function.  "
   ]
  },
  {
   "cell_type": "code",
   "execution_count": 6,
   "metadata": {},
   "outputs": [
    {
     "data": {
      "text/plain": [
       "3-element Array{DynamicPolynomials.Polynomial{true,Int64},1}:\n",
       " x₁³s¹⁵ + s¹² + x₁x₂s + x₂³\n",
       " x₁²s⁹ + x₂s³ + x₁x₂²\n",
       " x₁s⁸ + x₁²x₂s⁵ + x₂²"
      ]
     },
     "execution_count": 6,
     "metadata": {},
     "output_type": "execute_result"
    }
   ],
   "source": [
    "I = pm.polytope.wronski_center_ideal(A, λ)\n",
    "HC.@polyvar x[1:2] s;\n",
    "HC_I = [hc_poly(f, [x;s]) for f in I.GENERATORS]"
   ]
  },
  {
   "cell_type": "markdown",
   "metadata": {},
   "source": [
    "The Wronski center ideal is generated by $d+1$, here 3, polynomials which collect the terms of the color classes and a new variable, $s$, for the lifting function."
   ]
  },
  {
   "cell_type": "code",
   "execution_count": 7,
   "metadata": {},
   "outputs": [
    {
     "name": "stdout",
     "output_type": "stream",
     "text": [
      "\u001b[32mTracking 54 paths... 100%|██████████████████████████████| Time: 0:00:05\u001b[39m\n",
      "\u001b[34m  # paths tracked:                  54\u001b[39m\n",
      "\u001b[34m  # non-singular solutions (real):  54 (2)\u001b[39m\n",
      "\u001b[34m  # singular endpoints (real):      0 (0)\u001b[39m\n",
      "\u001b[34m  # total solutions (real):         54 (2)\u001b[39m\n",
      " 22.855212 seconds (60.34 M allocations: 2.947 GiB, 2.85% gc time)\n"
     ]
    },
    {
     "data": {
      "text/plain": [
       "Result with 54 solutions\n",
       "========================\n",
       "• 54 paths tracked\n",
       "• 54 non-singular solutions (2 real)\n",
       "• random_seed: 0xefb37c3b\n",
       "• start_system: :polyhedral\n"
      ]
     },
     "execution_count": 7,
     "metadata": {},
     "output_type": "execute_result"
    }
   ],
   "source": [
    "@time res = HC.solve(HC_I; start_system = :polyhedral, only_torus = true)"
   ]
  },
  {
   "cell_type": "markdown",
   "metadata": {},
   "source": [
    "We get 54 complex roots, out of which two are real.  One of the conditions to check asks that there are no real roots between $0$ and $1$.  See the Soprunova-Sottile paper for details."
   ]
  },
  {
   "cell_type": "code",
   "execution_count": 8,
   "metadata": {},
   "outputs": [
    {
     "data": {
      "text/plain": [
       "2-element Array{Array{Float64,1},1}:\n",
       " [-0.21175800954334498, -215.7226007931453, 4.411470567441928]\n",
       " [-0.6943590430596772, -0.41424188458258865, -0.8952189506082182]"
      ]
     },
     "execution_count": 8,
     "metadata": {},
     "output_type": "execute_result"
    }
   ],
   "source": [
    "points = HC.real_solutions(res)"
   ]
  },
  {
   "cell_type": "markdown",
   "metadata": {},
   "source": [
    "The main result of Soprunova & Sottile says that, if all the conditions are satisfied, then a Wronski system has at least signature many real solutions.  In this case: 3."
   ]
  },
  {
   "cell_type": "code",
   "execution_count": 9,
   "metadata": {},
   "outputs": [
    {
     "name": "stdout",
     "output_type": "stream",
     "text": [
      "\r",
      "\u001b[32mTracking 9 paths... 100%|███████████████████████████████| Time: 0:00:02\u001b[39m\r\n",
      "\u001b[34m  # paths tracked:                  9\u001b[39m\r\n",
      "\u001b[34m  # non-singular solutions (real):  9 (3)\u001b[39m\r\n",
      "\u001b[34m  # singular endpoints (real):      0 (0)\u001b[39m\r\n",
      "\u001b[34m  # total solutions (real):         9 (3)\u001b[39m\n"
     ]
    },
    {
     "data": {
      "text/plain": [
       "Result with 9 solutions\n",
       "=======================\n",
       "• 9 paths tracked\n",
       "• 9 non-singular solutions (3 real)\n",
       "• random_seed: 0x5b02c35c\n",
       "• start_system: :polyhedral\n"
      ]
     },
     "execution_count": 9,
     "metadata": {},
     "output_type": "execute_result"
    }
   ],
   "source": [
    "c = Vector{pm.Rational}[[19,8,-19], [39,7,42]];\n",
    "W = pm.polytope.wronski_system(A, λ, c, 1)\n",
    "HC_W = [hc_poly(f, x) for f in W.GENERATORS];\n",
    "W_res = HC.solve(HC_W)"
   ]
  },
  {
   "cell_type": "markdown",
   "metadata": {},
   "source": [
    "## Visualization"
   ]
  },
  {
   "cell_type": "markdown",
   "metadata": {},
   "source": [
    "Julia has powerful libraries for visualization.  Here we are using ImplicitPlots to see the three points of intersection,"
   ]
  },
  {
   "cell_type": "code",
   "execution_count": 10,
   "metadata": {},
   "outputs": [
    {
     "data": {
      "image/svg+xml": [
       "<?xml version=\"1.0\" encoding=\"utf-8\"?>\n",
       "<svg xmlns=\"http://www.w3.org/2000/svg\" xmlns:xlink=\"http://www.w3.org/1999/xlink\" width=\"600\" height=\"400\" viewBox=\"0 0 2400 1600\">\n",
       "<defs>\n",
       "  <clipPath id=\"clip200\">\n",
       "    <rect x=\"0\" y=\"0\" width=\"2400\" height=\"1600\"/>\n",
       "  </clipPath>\n",
       "</defs>\n",
       "<path clip-path=\"url(#clip200)\" d=\"\n",
       "M0 1600 L2400 1600 L2400 0 L0 0  Z\n",
       "  \" fill=\"#ffffff\" fill-rule=\"evenodd\" fill-opacity=\"1\"/>\n",
       "<defs>\n",
       "  <clipPath id=\"clip201\">\n",
       "    <rect x=\"480\" y=\"0\" width=\"1681\" height=\"1600\"/>\n",
       "  </clipPath>\n",
       "</defs>\n",
       "<path clip-path=\"url(#clip200)\" d=\"\n",
       "M546.603 1486.45 L1985.81 1486.45 L1985.81 47.2441 L546.603 47.2441  Z\n",
       "  \" fill=\"#ffffff\" fill-rule=\"evenodd\" fill-opacity=\"1\"/>\n",
       "<defs>\n",
       "  <clipPath id=\"clip202\">\n",
       "    <rect x=\"546\" y=\"47\" width=\"1440\" height=\"1440\"/>\n",
       "  </clipPath>\n",
       "</defs>\n",
       "<polyline clip-path=\"url(#clip202)\" style=\"stroke:#000000; stroke-width:2; stroke-opacity:0.1; fill:none\" points=\"\n",
       "  546.603,1486.45 546.603,47.2441 \n",
       "  \"/>\n",
       "<polyline clip-path=\"url(#clip202)\" style=\"stroke:#000000; stroke-width:2; stroke-opacity:0.1; fill:none\" points=\"\n",
       "  906.404,1486.45 906.404,47.2441 \n",
       "  \"/>\n",
       "<polyline clip-path=\"url(#clip202)\" style=\"stroke:#000000; stroke-width:2; stroke-opacity:0.1; fill:none\" points=\"\n",
       "  1266.2,1486.45 1266.2,47.2441 \n",
       "  \"/>\n",
       "<polyline clip-path=\"url(#clip202)\" style=\"stroke:#000000; stroke-width:2; stroke-opacity:0.1; fill:none\" points=\"\n",
       "  1626.01,1486.45 1626.01,47.2441 \n",
       "  \"/>\n",
       "<polyline clip-path=\"url(#clip202)\" style=\"stroke:#000000; stroke-width:2; stroke-opacity:0.1; fill:none\" points=\"\n",
       "  1985.81,1486.45 1985.81,47.2441 \n",
       "  \"/>\n",
       "<polyline clip-path=\"url(#clip200)\" style=\"stroke:#000000; stroke-width:4; stroke-opacity:1; fill:none\" points=\"\n",
       "  546.603,1486.45 1985.81,1486.45 \n",
       "  \"/>\n",
       "<polyline clip-path=\"url(#clip200)\" style=\"stroke:#000000; stroke-width:4; stroke-opacity:1; fill:none\" points=\"\n",
       "  546.603,1486.45 546.603,1469.18 \n",
       "  \"/>\n",
       "<polyline clip-path=\"url(#clip200)\" style=\"stroke:#000000; stroke-width:4; stroke-opacity:1; fill:none\" points=\"\n",
       "  906.404,1486.45 906.404,1469.18 \n",
       "  \"/>\n",
       "<polyline clip-path=\"url(#clip200)\" style=\"stroke:#000000; stroke-width:4; stroke-opacity:1; fill:none\" points=\"\n",
       "  1266.2,1486.45 1266.2,1469.18 \n",
       "  \"/>\n",
       "<polyline clip-path=\"url(#clip200)\" style=\"stroke:#000000; stroke-width:4; stroke-opacity:1; fill:none\" points=\"\n",
       "  1626.01,1486.45 1626.01,1469.18 \n",
       "  \"/>\n",
       "<polyline clip-path=\"url(#clip200)\" style=\"stroke:#000000; stroke-width:4; stroke-opacity:1; fill:none\" points=\"\n",
       "  1985.81,1486.45 1985.81,1469.18 \n",
       "  \"/>\n",
       "<path clip-path=\"url(#clip200)\" d=\"M 0 0 M500.272 1530.29 L529.948 1530.29 L529.948 1534.23 L500.272 1534.23 L500.272 1530.29 Z\" fill=\"#000000\" fill-rule=\"evenodd\" fill-opacity=\"1\" /><path clip-path=\"url(#clip200)\" d=\"M 0 0 M535.064 1512.56 L553.42 1512.56 L553.42 1516.5 L539.346 1516.5 L539.346 1524.97 Q540.365 1524.62 541.383 1524.46 Q542.402 1524.27 543.42 1524.27 Q549.207 1524.27 552.587 1527.44 Q555.966 1530.62 555.966 1536.03 Q555.966 1541.61 552.494 1544.71 Q549.022 1547.79 542.702 1547.79 Q540.527 1547.79 538.258 1547.42 Q536.013 1547.05 533.605 1546.31 L533.605 1541.61 Q535.689 1542.74 537.911 1543.3 Q540.133 1543.86 542.61 1543.86 Q546.614 1543.86 548.952 1541.75 Q551.29 1539.64 551.29 1536.03 Q551.29 1532.42 548.952 1530.31 Q546.614 1528.21 542.61 1528.21 Q540.735 1528.21 538.86 1528.62 Q537.008 1529.04 535.064 1529.92 L535.064 1512.56 Z\" fill=\"#000000\" fill-rule=\"evenodd\" fill-opacity=\"1\" /><path clip-path=\"url(#clip200)\" d=\"M 0 0 M561.036 1541.24 L565.92 1541.24 L565.92 1547.12 L561.036 1547.12 L561.036 1541.24 Z\" fill=\"#000000\" fill-rule=\"evenodd\" fill-opacity=\"1\" /><path clip-path=\"url(#clip200)\" d=\"M 0 0 M580.989 1515.64 Q577.378 1515.64 575.55 1519.2 Q573.744 1522.75 573.744 1529.87 Q573.744 1536.98 575.55 1540.55 Q577.378 1544.09 580.989 1544.09 Q584.624 1544.09 586.429 1540.55 Q588.258 1536.98 588.258 1529.87 Q588.258 1522.75 586.429 1519.2 Q584.624 1515.64 580.989 1515.64 M580.989 1511.93 Q586.799 1511.93 589.855 1516.54 Q592.934 1521.12 592.934 1529.87 Q592.934 1538.6 589.855 1543.21 Q586.799 1547.79 580.989 1547.79 Q575.179 1547.79 572.1 1543.21 Q569.045 1538.6 569.045 1529.87 Q569.045 1521.12 572.1 1516.54 Q575.179 1511.93 580.989 1511.93 Z\" fill=\"#000000\" fill-rule=\"evenodd\" fill-opacity=\"1\" /><path clip-path=\"url(#clip200)\" d=\"M 0 0 M860.872 1530.29 L890.547 1530.29 L890.547 1534.23 L860.872 1534.23 L860.872 1530.29 Z\" fill=\"#000000\" fill-rule=\"evenodd\" fill-opacity=\"1\" /><path clip-path=\"url(#clip200)\" d=\"M 0 0 M899.645 1543.18 L915.964 1543.18 L915.964 1547.12 L894.02 1547.12 L894.02 1543.18 Q896.682 1540.43 901.265 1535.8 Q905.871 1531.15 907.052 1529.81 Q909.297 1527.28 910.177 1525.55 Q911.08 1523.79 911.08 1522.1 Q911.08 1519.34 909.135 1517.61 Q907.214 1515.87 904.112 1515.87 Q901.913 1515.87 899.459 1516.63 Q897.029 1517.4 894.251 1518.95 L894.251 1514.23 Q897.075 1513.09 899.529 1512.51 Q901.983 1511.93 904.02 1511.93 Q909.39 1511.93 912.584 1514.62 Q915.779 1517.31 915.779 1521.8 Q915.779 1523.93 914.969 1525.85 Q914.182 1527.74 912.075 1530.34 Q911.496 1531.01 908.395 1534.23 Q905.293 1537.42 899.645 1543.18 Z\" fill=\"#000000\" fill-rule=\"evenodd\" fill-opacity=\"1\" /><path clip-path=\"url(#clip200)\" d=\"M 0 0 M921.033 1541.24 L925.918 1541.24 L925.918 1547.12 L921.033 1547.12 L921.033 1541.24 Z\" fill=\"#000000\" fill-rule=\"evenodd\" fill-opacity=\"1\" /><path clip-path=\"url(#clip200)\" d=\"M 0 0 M931.033 1512.56 L949.39 1512.56 L949.39 1516.5 L935.316 1516.5 L935.316 1524.97 Q936.334 1524.62 937.353 1524.46 Q938.371 1524.27 939.39 1524.27 Q945.177 1524.27 948.556 1527.44 Q951.936 1530.62 951.936 1536.03 Q951.936 1541.61 948.464 1544.71 Q944.992 1547.79 938.672 1547.79 Q936.496 1547.79 934.228 1547.42 Q931.982 1547.05 929.575 1546.31 L929.575 1541.61 Q931.658 1542.74 933.881 1543.3 Q936.103 1543.86 938.58 1543.86 Q942.584 1543.86 944.922 1541.75 Q947.26 1539.64 947.26 1536.03 Q947.26 1532.42 944.922 1530.31 Q942.584 1528.21 938.58 1528.21 Q936.705 1528.21 934.83 1528.62 Q932.978 1529.04 931.033 1529.92 L931.033 1512.56 Z\" fill=\"#000000\" fill-rule=\"evenodd\" fill-opacity=\"1\" /><path clip-path=\"url(#clip200)\" d=\"M 0 0 M1247.72 1515.64 Q1244.11 1515.64 1242.28 1519.2 Q1240.48 1522.75 1240.48 1529.87 Q1240.48 1536.98 1242.28 1540.55 Q1244.11 1544.09 1247.72 1544.09 Q1251.36 1544.09 1253.16 1540.55 Q1254.99 1536.98 1254.99 1529.87 Q1254.99 1522.75 1253.16 1519.2 Q1251.36 1515.64 1247.72 1515.64 M1247.72 1511.93 Q1253.53 1511.93 1256.59 1516.54 Q1259.67 1521.12 1259.67 1529.87 Q1259.67 1538.6 1256.59 1543.21 Q1253.53 1547.79 1247.72 1547.79 Q1241.91 1547.79 1238.83 1543.21 Q1235.78 1538.6 1235.78 1529.87 Q1235.78 1521.12 1238.83 1516.54 Q1241.91 1511.93 1247.72 1511.93 Z\" fill=\"#000000\" fill-rule=\"evenodd\" fill-opacity=\"1\" /><path clip-path=\"url(#clip200)\" d=\"M 0 0 M1264.73 1541.24 L1269.62 1541.24 L1269.62 1547.12 L1264.73 1547.12 L1264.73 1541.24 Z\" fill=\"#000000\" fill-rule=\"evenodd\" fill-opacity=\"1\" /><path clip-path=\"url(#clip200)\" d=\"M 0 0 M1284.69 1515.64 Q1281.08 1515.64 1279.25 1519.2 Q1277.44 1522.75 1277.44 1529.87 Q1277.44 1536.98 1279.25 1540.55 Q1281.08 1544.09 1284.69 1544.09 Q1288.32 1544.09 1290.13 1540.55 Q1291.96 1536.98 1291.96 1529.87 Q1291.96 1522.75 1290.13 1519.2 Q1288.32 1515.64 1284.69 1515.64 M1284.69 1511.93 Q1290.5 1511.93 1293.55 1516.54 Q1296.63 1521.12 1296.63 1529.87 Q1296.63 1538.6 1293.55 1543.21 Q1290.5 1547.79 1284.69 1547.79 Q1278.88 1547.79 1275.8 1543.21 Q1272.74 1538.6 1272.74 1529.87 Q1272.74 1521.12 1275.8 1516.54 Q1278.88 1511.93 1284.69 1511.93 Z\" fill=\"#000000\" fill-rule=\"evenodd\" fill-opacity=\"1\" /><path clip-path=\"url(#clip200)\" d=\"M 0 0 M1602.67 1543.18 L1618.99 1543.18 L1618.99 1547.12 L1597.05 1547.12 L1597.05 1543.18 Q1599.71 1540.43 1604.29 1535.8 Q1608.9 1531.15 1610.08 1529.81 Q1612.33 1527.28 1613.2 1525.55 Q1614.11 1523.79 1614.11 1522.1 Q1614.11 1519.34 1612.16 1517.61 Q1610.24 1515.87 1607.14 1515.87 Q1604.94 1515.87 1602.49 1516.63 Q1600.06 1517.4 1597.28 1518.95 L1597.28 1514.23 Q1600.1 1513.09 1602.56 1512.51 Q1605.01 1511.93 1607.05 1511.93 Q1612.42 1511.93 1615.61 1514.62 Q1618.81 1517.31 1618.81 1521.8 Q1618.81 1523.93 1618 1525.85 Q1617.21 1527.74 1615.1 1530.34 Q1614.52 1531.01 1611.42 1534.23 Q1608.32 1537.42 1602.67 1543.18 Z\" fill=\"#000000\" fill-rule=\"evenodd\" fill-opacity=\"1\" /><path clip-path=\"url(#clip200)\" d=\"M 0 0 M1624.06 1541.24 L1628.95 1541.24 L1628.95 1547.12 L1624.06 1547.12 L1624.06 1541.24 Z\" fill=\"#000000\" fill-rule=\"evenodd\" fill-opacity=\"1\" /><path clip-path=\"url(#clip200)\" d=\"M 0 0 M1634.06 1512.56 L1652.42 1512.56 L1652.42 1516.5 L1638.34 1516.5 L1638.34 1524.97 Q1639.36 1524.62 1640.38 1524.46 Q1641.4 1524.27 1642.42 1524.27 Q1648.2 1524.27 1651.58 1527.44 Q1654.96 1530.62 1654.96 1536.03 Q1654.96 1541.61 1651.49 1544.71 Q1648.02 1547.79 1641.7 1547.79 Q1639.52 1547.79 1637.26 1547.42 Q1635.01 1547.05 1632.6 1546.31 L1632.6 1541.61 Q1634.69 1542.74 1636.91 1543.3 Q1639.13 1543.86 1641.61 1543.86 Q1645.61 1543.86 1647.95 1541.75 Q1650.29 1539.64 1650.29 1536.03 Q1650.29 1532.42 1647.95 1530.31 Q1645.61 1528.21 1641.61 1528.21 Q1639.73 1528.21 1637.86 1528.62 Q1636.01 1529.04 1634.06 1529.92 L1634.06 1512.56 Z\" fill=\"#000000\" fill-rule=\"evenodd\" fill-opacity=\"1\" /><path clip-path=\"url(#clip200)\" d=\"M 0 0 M1957.6 1512.56 L1975.96 1512.56 L1975.96 1516.5 L1961.88 1516.5 L1961.88 1524.97 Q1962.9 1524.62 1963.92 1524.46 Q1964.94 1524.27 1965.96 1524.27 Q1971.74 1524.27 1975.12 1527.44 Q1978.5 1530.62 1978.5 1536.03 Q1978.5 1541.61 1975.03 1544.71 Q1971.56 1547.79 1965.24 1547.79 Q1963.06 1547.79 1960.8 1547.42 Q1958.55 1547.05 1956.14 1546.31 L1956.14 1541.61 Q1958.23 1542.74 1960.45 1543.3 Q1962.67 1543.86 1965.15 1543.86 Q1969.15 1543.86 1971.49 1541.75 Q1973.83 1539.64 1973.83 1536.03 Q1973.83 1532.42 1971.49 1530.31 Q1969.15 1528.21 1965.15 1528.21 Q1963.27 1528.21 1961.4 1528.62 Q1959.55 1529.04 1957.6 1529.92 L1957.6 1512.56 Z\" fill=\"#000000\" fill-rule=\"evenodd\" fill-opacity=\"1\" /><path clip-path=\"url(#clip200)\" d=\"M 0 0 M1983.57 1541.24 L1988.46 1541.24 L1988.46 1547.12 L1983.57 1547.12 L1983.57 1541.24 Z\" fill=\"#000000\" fill-rule=\"evenodd\" fill-opacity=\"1\" /><path clip-path=\"url(#clip200)\" d=\"M 0 0 M2003.53 1515.64 Q1999.92 1515.64 1998.09 1519.2 Q1996.28 1522.75 1996.28 1529.87 Q1996.28 1536.98 1998.09 1540.55 Q1999.92 1544.09 2003.53 1544.09 Q2007.16 1544.09 2008.97 1540.55 Q2010.79 1536.98 2010.79 1529.87 Q2010.79 1522.75 2008.97 1519.2 Q2007.16 1515.64 2003.53 1515.64 M2003.53 1511.93 Q2009.34 1511.93 2012.39 1516.54 Q2015.47 1521.12 2015.47 1529.87 Q2015.47 1538.6 2012.39 1543.21 Q2009.34 1547.79 2003.53 1547.79 Q1997.72 1547.79 1994.64 1543.21 Q1991.58 1538.6 1991.58 1529.87 Q1991.58 1521.12 1994.64 1516.54 Q1997.72 1511.93 2003.53 1511.93 Z\" fill=\"#000000\" fill-rule=\"evenodd\" fill-opacity=\"1\" /><polyline clip-path=\"url(#clip202)\" style=\"stroke:#000000; stroke-width:2; stroke-opacity:0.1; fill:none\" points=\"\n",
       "  546.603,1486.45 1985.81,1486.45 \n",
       "  \"/>\n",
       "<polyline clip-path=\"url(#clip202)\" style=\"stroke:#000000; stroke-width:2; stroke-opacity:0.1; fill:none\" points=\"\n",
       "  546.603,1126.65 1985.81,1126.65 \n",
       "  \"/>\n",
       "<polyline clip-path=\"url(#clip202)\" style=\"stroke:#000000; stroke-width:2; stroke-opacity:0.1; fill:none\" points=\"\n",
       "  546.603,766.846 1985.81,766.846 \n",
       "  \"/>\n",
       "<polyline clip-path=\"url(#clip202)\" style=\"stroke:#000000; stroke-width:2; stroke-opacity:0.1; fill:none\" points=\"\n",
       "  546.603,407.045 1985.81,407.045 \n",
       "  \"/>\n",
       "<polyline clip-path=\"url(#clip202)\" style=\"stroke:#000000; stroke-width:2; stroke-opacity:0.1; fill:none\" points=\"\n",
       "  546.603,47.2441 1985.81,47.2441 \n",
       "  \"/>\n",
       "<polyline clip-path=\"url(#clip200)\" style=\"stroke:#000000; stroke-width:4; stroke-opacity:1; fill:none\" points=\"\n",
       "  546.603,1486.45 546.603,47.2441 \n",
       "  \"/>\n",
       "<polyline clip-path=\"url(#clip200)\" style=\"stroke:#000000; stroke-width:4; stroke-opacity:1; fill:none\" points=\"\n",
       "  546.603,1486.45 563.873,1486.45 \n",
       "  \"/>\n",
       "<polyline clip-path=\"url(#clip200)\" style=\"stroke:#000000; stroke-width:4; stroke-opacity:1; fill:none\" points=\"\n",
       "  546.603,1126.65 563.873,1126.65 \n",
       "  \"/>\n",
       "<polyline clip-path=\"url(#clip200)\" style=\"stroke:#000000; stroke-width:4; stroke-opacity:1; fill:none\" points=\"\n",
       "  546.603,766.846 563.873,766.846 \n",
       "  \"/>\n",
       "<polyline clip-path=\"url(#clip200)\" style=\"stroke:#000000; stroke-width:4; stroke-opacity:1; fill:none\" points=\"\n",
       "  546.603,407.045 563.873,407.045 \n",
       "  \"/>\n",
       "<polyline clip-path=\"url(#clip200)\" style=\"stroke:#000000; stroke-width:4; stroke-opacity:1; fill:none\" points=\"\n",
       "  546.603,47.2441 563.873,47.2441 \n",
       "  \"/>\n",
       "<path clip-path=\"url(#clip200)\" d=\"M 0 0 M417.941 1486.9 L447.617 1486.9 L447.617 1490.83 L417.941 1490.83 L417.941 1486.9 Z\" fill=\"#000000\" fill-rule=\"evenodd\" fill-opacity=\"1\" /><path clip-path=\"url(#clip200)\" d=\"M 0 0 M452.733 1469.17 L471.089 1469.17 L471.089 1473.1 L457.015 1473.1 L457.015 1481.58 Q458.034 1481.23 459.052 1481.07 Q460.071 1480.88 461.089 1480.88 Q466.876 1480.88 470.256 1484.05 Q473.636 1487.22 473.636 1492.64 Q473.636 1498.22 470.163 1501.32 Q466.691 1504.4 460.372 1504.4 Q458.196 1504.4 455.927 1504.03 Q453.682 1503.66 451.275 1502.92 L451.275 1498.22 Q453.358 1499.35 455.58 1499.91 Q457.802 1500.46 460.279 1500.46 Q464.284 1500.46 466.622 1498.36 Q468.96 1496.25 468.96 1492.64 Q468.96 1489.03 466.622 1486.92 Q464.284 1484.82 460.279 1484.82 Q458.404 1484.82 456.529 1485.23 Q454.677 1485.65 452.733 1486.53 L452.733 1469.17 Z\" fill=\"#000000\" fill-rule=\"evenodd\" fill-opacity=\"1\" /><path clip-path=\"url(#clip200)\" d=\"M 0 0 M478.705 1497.85 L483.589 1497.85 L483.589 1503.73 L478.705 1503.73 L478.705 1497.85 Z\" fill=\"#000000\" fill-rule=\"evenodd\" fill-opacity=\"1\" /><path clip-path=\"url(#clip200)\" d=\"M 0 0 M498.659 1472.25 Q495.047 1472.25 493.219 1475.81 Q491.413 1479.35 491.413 1486.48 Q491.413 1493.59 493.219 1497.15 Q495.047 1500.7 498.659 1500.7 Q502.293 1500.7 504.098 1497.15 Q505.927 1493.59 505.927 1486.48 Q505.927 1479.35 504.098 1475.81 Q502.293 1472.25 498.659 1472.25 M498.659 1468.54 Q504.469 1468.54 507.524 1473.15 Q510.603 1477.73 510.603 1486.48 Q510.603 1495.21 507.524 1499.82 Q504.469 1504.4 498.659 1504.4 Q492.848 1504.4 489.77 1499.82 Q486.714 1495.21 486.714 1486.48 Q486.714 1477.73 489.77 1473.15 Q492.848 1468.54 498.659 1468.54 Z\" fill=\"#000000\" fill-rule=\"evenodd\" fill-opacity=\"1\" /><path clip-path=\"url(#clip200)\" d=\"M 0 0 M419.539 1127.1 L449.214 1127.1 L449.214 1131.03 L419.539 1131.03 L419.539 1127.1 Z\" fill=\"#000000\" fill-rule=\"evenodd\" fill-opacity=\"1\" /><path clip-path=\"url(#clip200)\" d=\"M 0 0 M458.312 1139.99 L474.631 1139.99 L474.631 1143.93 L452.687 1143.93 L452.687 1139.99 Q455.349 1137.24 459.932 1132.61 Q464.538 1127.95 465.719 1126.61 Q467.964 1124.09 468.844 1122.35 Q469.747 1120.59 469.747 1118.9 Q469.747 1116.15 467.802 1114.41 Q465.881 1112.68 462.779 1112.68 Q460.58 1112.68 458.126 1113.44 Q455.696 1114.2 452.918 1115.76 L452.918 1111.03 Q455.742 1109.9 458.196 1109.32 Q460.649 1108.74 462.686 1108.74 Q468.057 1108.74 471.251 1111.43 Q474.446 1114.11 474.446 1118.6 Q474.446 1120.73 473.636 1122.65 Q472.848 1124.55 470.742 1127.14 Q470.163 1127.82 467.061 1131.03 Q463.96 1134.23 458.312 1139.99 Z\" fill=\"#000000\" fill-rule=\"evenodd\" fill-opacity=\"1\" /><path clip-path=\"url(#clip200)\" d=\"M 0 0 M479.7 1138.05 L484.585 1138.05 L484.585 1143.93 L479.7 1143.93 L479.7 1138.05 Z\" fill=\"#000000\" fill-rule=\"evenodd\" fill-opacity=\"1\" /><path clip-path=\"url(#clip200)\" d=\"M 0 0 M489.7 1109.37 L508.057 1109.37 L508.057 1113.3 L493.983 1113.3 L493.983 1121.77 Q495.001 1121.43 496.02 1121.27 Q497.038 1121.08 498.057 1121.08 Q503.844 1121.08 507.223 1124.25 Q510.603 1127.42 510.603 1132.84 Q510.603 1138.42 507.131 1141.52 Q503.658 1144.6 497.339 1144.6 Q495.163 1144.6 492.895 1144.23 Q490.649 1143.86 488.242 1143.12 L488.242 1138.42 Q490.325 1139.55 492.547 1140.11 Q494.77 1140.66 497.246 1140.66 Q501.251 1140.66 503.589 1138.56 Q505.927 1136.45 505.927 1132.84 Q505.927 1129.23 503.589 1127.12 Q501.251 1125.01 497.246 1125.01 Q495.371 1125.01 493.497 1125.43 Q491.645 1125.85 489.7 1126.73 L489.7 1109.37 Z\" fill=\"#000000\" fill-rule=\"evenodd\" fill-opacity=\"1\" /><path clip-path=\"url(#clip200)\" d=\"M 0 0 M461.691 752.645 Q458.08 752.645 456.251 756.209 Q454.446 759.751 454.446 766.881 Q454.446 773.987 456.251 777.552 Q458.08 781.094 461.691 781.094 Q465.325 781.094 467.131 777.552 Q468.96 773.987 468.96 766.881 Q468.96 759.751 467.131 756.209 Q465.325 752.645 461.691 752.645 M461.691 748.941 Q467.501 748.941 470.557 753.547 Q473.636 758.131 473.636 766.881 Q473.636 775.608 470.557 780.214 Q467.501 784.797 461.691 784.797 Q455.881 784.797 452.802 780.214 Q449.747 775.608 449.747 766.881 Q449.747 758.131 452.802 753.547 Q455.881 748.941 461.691 748.941 Z\" fill=\"#000000\" fill-rule=\"evenodd\" fill-opacity=\"1\" /><path clip-path=\"url(#clip200)\" d=\"M 0 0 M478.705 778.246 L483.589 778.246 L483.589 784.126 L478.705 784.126 L478.705 778.246 Z\" fill=\"#000000\" fill-rule=\"evenodd\" fill-opacity=\"1\" /><path clip-path=\"url(#clip200)\" d=\"M 0 0 M498.659 752.645 Q495.047 752.645 493.219 756.209 Q491.413 759.751 491.413 766.881 Q491.413 773.987 493.219 777.552 Q495.047 781.094 498.659 781.094 Q502.293 781.094 504.098 777.552 Q505.927 773.987 505.927 766.881 Q505.927 759.751 504.098 756.209 Q502.293 752.645 498.659 752.645 M498.659 748.941 Q504.469 748.941 507.524 753.547 Q510.603 758.131 510.603 766.881 Q510.603 775.608 507.524 780.214 Q504.469 784.797 498.659 784.797 Q492.848 784.797 489.77 780.214 Q486.714 775.608 486.714 766.881 Q486.714 758.131 489.77 753.547 Q492.848 748.941 498.659 748.941 Z\" fill=\"#000000\" fill-rule=\"evenodd\" fill-opacity=\"1\" /><path clip-path=\"url(#clip200)\" d=\"M 0 0 M458.312 420.39 L474.631 420.39 L474.631 424.325 L452.687 424.325 L452.687 420.39 Q455.349 417.635 459.932 413.006 Q464.538 408.353 465.719 407.01 Q467.964 404.487 468.844 402.751 Q469.747 400.992 469.747 399.302 Q469.747 396.547 467.802 394.811 Q465.881 393.075 462.779 393.075 Q460.58 393.075 458.126 393.839 Q455.696 394.603 452.918 396.154 L452.918 391.432 Q455.742 390.297 458.196 389.719 Q460.649 389.14 462.686 389.14 Q468.057 389.14 471.251 391.825 Q474.446 394.51 474.446 399.001 Q474.446 401.131 473.636 403.052 Q472.848 404.95 470.742 407.543 Q470.163 408.214 467.061 411.432 Q463.96 414.626 458.312 420.39 Z\" fill=\"#000000\" fill-rule=\"evenodd\" fill-opacity=\"1\" /><path clip-path=\"url(#clip200)\" d=\"M 0 0 M479.7 418.445 L484.585 418.445 L484.585 424.325 L479.7 424.325 L479.7 418.445 Z\" fill=\"#000000\" fill-rule=\"evenodd\" fill-opacity=\"1\" /><path clip-path=\"url(#clip200)\" d=\"M 0 0 M489.7 389.765 L508.057 389.765 L508.057 393.7 L493.983 393.7 L493.983 402.172 Q495.001 401.825 496.02 401.663 Q497.038 401.478 498.057 401.478 Q503.844 401.478 507.223 404.649 Q510.603 407.82 510.603 413.237 Q510.603 418.816 507.131 421.918 Q503.658 424.996 497.339 424.996 Q495.163 424.996 492.895 424.626 Q490.649 424.256 488.242 423.515 L488.242 418.816 Q490.325 419.95 492.547 420.506 Q494.77 421.061 497.246 421.061 Q501.251 421.061 503.589 418.955 Q505.927 416.848 505.927 413.237 Q505.927 409.626 503.589 407.52 Q501.251 405.413 497.246 405.413 Q495.371 405.413 493.497 405.83 Q491.645 406.246 489.7 407.126 L489.7 389.765 Z\" fill=\"#000000\" fill-rule=\"evenodd\" fill-opacity=\"1\" /><path clip-path=\"url(#clip200)\" d=\"M 0 0 M452.733 29.9641 L471.089 29.9641 L471.089 33.8993 L457.015 33.8993 L457.015 42.3714 Q458.034 42.0242 459.052 41.8622 Q460.071 41.677 461.089 41.677 Q466.876 41.677 470.256 44.8483 Q473.636 48.0196 473.636 53.4362 Q473.636 59.0149 470.163 62.1167 Q466.691 65.1954 460.372 65.1954 Q458.196 65.1954 455.927 64.825 Q453.682 64.4547 451.275 63.7139 L451.275 59.0149 Q453.358 60.1491 455.58 60.7047 Q457.802 61.2602 460.279 61.2602 Q464.284 61.2602 466.622 59.1538 Q468.96 57.0473 468.96 53.4362 Q468.96 49.8251 466.622 47.7186 Q464.284 45.6122 460.279 45.6122 Q458.404 45.6122 456.529 46.0288 Q454.677 46.4455 452.733 47.3251 L452.733 29.9641 Z\" fill=\"#000000\" fill-rule=\"evenodd\" fill-opacity=\"1\" /><path clip-path=\"url(#clip200)\" d=\"M 0 0 M478.705 58.6445 L483.589 58.6445 L483.589 64.5241 L478.705 64.5241 L478.705 58.6445 Z\" fill=\"#000000\" fill-rule=\"evenodd\" fill-opacity=\"1\" /><path clip-path=\"url(#clip200)\" d=\"M 0 0 M498.659 33.0428 Q495.047 33.0428 493.219 36.6076 Q491.413 40.1492 491.413 47.2788 Q491.413 54.3853 493.219 57.9501 Q495.047 61.4917 498.659 61.4917 Q502.293 61.4917 504.098 57.9501 Q505.927 54.3853 505.927 47.2788 Q505.927 40.1492 504.098 36.6076 Q502.293 33.0428 498.659 33.0428 M498.659 29.3391 Q504.469 29.3391 507.524 33.9456 Q510.603 38.5289 510.603 47.2788 Q510.603 56.0056 507.524 60.6121 Q504.469 65.1954 498.659 65.1954 Q492.848 65.1954 489.77 60.6121 Q486.714 56.0056 486.714 47.2788 Q486.714 38.5289 489.77 33.9456 Q492.848 29.3391 498.659 29.3391 Z\" fill=\"#000000\" fill-rule=\"evenodd\" fill-opacity=\"1\" /><polyline clip-path=\"url(#clip202)\" style=\"stroke:#1e90ff; stroke-width:4; stroke-opacity:1; fill:none\" points=\"\n",
       "  1814.31,1486.45 1812.67,1483.93 1811.95,1482.84 1809.58,1479.23 1809.06,1478.44 1807.2,1475.63 1805.46,1472.95 1804.84,1472.02 1802.47,1468.41 1801.85,1467.46 \n",
       "  1800.09,1464.81 1798.24,1461.97 1797.73,1461.2 1795.36,1457.59 1794.63,1456.48 1792.99,1453.98 1791.03,1450.99 1790.62,1450.38 1788.25,1446.77 1787.42,1445.5 \n",
       "  1785.88,1443.16 1783.81,1440.01 1783.51,1439.56 1781.14,1435.95 1780.21,1434.52 1778.77,1432.34 1776.6,1429.03 1776.4,1428.74 1774.03,1425.13 1772.99,1423.54 \n",
       "  1771.66,1421.52 1769.39,1418.05 1769.29,1417.91 1766.92,1414.31 1765.78,1412.55 1764.55,1410.7 1762.19,1407.09 1762.17,1407.07 1759.81,1403.49 1758.56,1401.57 \n",
       "  1757.44,1399.88 1755.08,1396.27 1754.96,1396.09 1752.7,1392.67 1751.35,1390.59 1750.33,1389.06 1747.97,1385.45 1747.74,1385.1 1745.6,1381.84 1744.14,1379.61 \n",
       "  1743.23,1378.24 1740.86,1374.63 1740.53,1374.12 1738.49,1371.02 1736.92,1368.63 1736.12,1367.42 1733.75,1363.81 1733.31,1363.14 1731.38,1360.2 1729.71,1357.65 \n",
       "  1729.01,1356.59 1726.64,1352.99 1726.1,1352.16 1724.27,1349.38 1722.49,1346.67 1721.9,1345.77 1719.53,1342.17 1718.89,1341.18 1717.16,1338.56 1715.28,1335.69 \n",
       "  1714.79,1334.95 1712.42,1331.35 1711.67,1330.2 1710.05,1327.74 1708.07,1324.71 1707.68,1324.13 1705.31,1320.52 1704.46,1319.22 1702.94,1316.92 1700.85,1313.73 \n",
       "  1700.57,1313.31 1698.2,1309.7 1697.24,1308.24 1695.83,1306.1 1693.64,1302.75 1693.46,1302.49 1691.09,1298.88 1690.03,1297.26 1688.72,1295.28 1686.42,1291.78 \n",
       "  1686.35,1291.67 1683.97,1288.06 1682.82,1286.28 1681.6,1284.45 1679.24,1280.85 1679.21,1280.8 1676.86,1277.24 1675.6,1275.31 1674.49,1273.63 1672.12,1270.03 \n",
       "  1672,1269.83 1669.75,1266.42 1668.39,1264.34 1667.38,1262.81 1665.01,1259.21 1664.78,1258.86 1662.63,1255.6 1661.17,1253.37 1660.26,1251.99 1657.89,1248.38 \n",
       "  1657.57,1247.89 1655.51,1244.78 1653.96,1242.4 1653.14,1241.17 1650.77,1237.56 1650.35,1236.92 1648.39,1233.96 1646.75,1231.44 1646.02,1230.35 1643.65,1226.74 \n",
       "  1643.14,1225.96 1641.27,1223.13 1639.53,1220.48 1638.9,1219.53 1636.53,1215.92 1635.93,1215 1634.15,1212.31 1632.32,1209.52 1631.78,1208.71 1629.4,1205.1 \n",
       "  1628.71,1204.04 1627.02,1201.49 1625.1,1198.57 1624.65,1197.89 1622.27,1194.28 1621.5,1193.09 1619.89,1190.67 1617.89,1187.62 1617.52,1187.06 1615.14,1183.46 \n",
       "  1614.28,1182.14 1612.76,1179.85 1610.68,1176.68 1610.38,1176.24 1608,1172.64 1607.07,1171.21 1605.62,1169.03 1603.46,1165.74 1603.25,1165.42 1600.86,1161.82 \n",
       "  1599.85,1160.27 1598.48,1158.21 1596.25,1154.82 1596.1,1154.6 1593.71,1150.99 1592.64,1149.35 1591.33,1147.39 1589.03,1143.9 1588.95,1143.78 1586.56,1140.17 \n",
       "  1585.43,1138.44 1584.17,1136.57 1581.82,1133 1581.79,1132.96 1579.4,1129.35 1578.21,1127.54 1577.01,1125.75 1574.63,1122.14 1574.61,1122.1 1572.23,1118.53 \n",
       "  1571,1116.65 1569.84,1114.92 1567.45,1111.32 1567.39,1111.22 1565.05,1107.71 1563.78,1105.78 1562.66,1104.1 1560.27,1100.5 1560.18,1100.36 1557.86,1096.89 \n",
       "  1556.57,1094.92 1555.47,1093.28 1553.07,1089.67 1552.96,1089.51 1550.66,1086.07 1549.36,1084.09 1548.26,1082.46 1545.86,1078.85 1545.75,1078.69 1543.44,1075.25 \n",
       "  1542.14,1073.27 1541.04,1071.64 1538.63,1068.03 1538.54,1067.89 1536.21,1064.43 1534.93,1062.49 1533.79,1060.82 1531.38,1057.21 1531.32,1057.12 1528.96,1053.6 \n",
       "  1527.71,1051.73 1526.53,1050 1524.11,1046.39 1524.11,1046.38 1521.68,1042.78 1520.5,1041.01 1519.24,1039.18 1516.89,1035.68 1516.82,1035.57 1514.37,1031.96 \n",
       "  1513.29,1030.34 1511.93,1028.36 1509.68,1025.02 1509.49,1024.75 1507.03,1021.14 1506.07,1019.71 1504.57,1017.53 1502.47,1014.42 1502.12,1013.93 1499.65,1010.32 \n",
       "  1498.86,1009.14 1497.18,1006.71 1495.25,1003.88 1494.71,1003.11 1492.23,999.499 1491.64,998.632 1489.73,995.892 1488.04,993.406 1487.24,992.285 1484.75,988.678 \n",
       "  1484.43,988.209 1482.23,985.071 1480.82,983.02 1479.71,981.464 1477.22,977.878 1477.2,977.857 1474.65,974.25 1473.61,972.735 1472.11,970.643 1470,967.641 \n",
       "  1469.56,967.036 1466.99,963.429 1466.39,962.57 1464.41,959.822 1462.79,957.533 1461.82,956.215 1459.22,952.608 1459.18,952.549 1456.59,949.001 1455.57,947.578 \n",
       "  1453.95,945.394 1451.97,942.668 1451.3,941.787 1448.63,938.18 1448.36,937.808 1445.92,934.573 1444.75,932.983 1443.2,930.966 1441.15,928.228 1440.46,927.359 \n",
       "  1437.7,923.752 1437.54,923.539 1434.88,920.145 1433.93,918.894 1432.04,916.538 1430.32,914.331 1429.17,912.931 1426.72,909.855 1426.27,909.324 1423.32,905.717 \n",
       "  1423.11,905.457 1420.3,902.109 1419.5,901.135 1417.23,898.502 1415.9,896.915 1414.1,894.895 1412.29,892.803 1410.9,891.288 1408.68,888.804 1407.61,887.681 \n",
       "  1405.08,884.925 1404.24,884.074 1401.47,881.172 1400.75,880.467 1397.86,877.553 1397.12,876.86 1394.25,874.076 1393.34,873.253 1390.65,870.75 1389.36,869.646 \n",
       "  1387.04,867.583 1385.15,866.039 1383.43,864.588 1380.64,862.432 1379.83,861.775 1376.22,859.142 1375.74,858.825 1372.61,856.677 1370.24,855.218 1369.01,854.426 \n",
       "  1365.4,852.367 1363.9,851.611 1361.79,850.504 1358.18,848.852 1356.03,848.004 1354.58,847.405 1350.97,846.148 1347.36,845.113 1344.24,844.397 1343.76,844.282 \n",
       "  1340.15,843.624 1336.54,843.165 1332.93,842.897 1329.33,842.81 1325.72,842.897 1322.11,843.151 1318.51,843.565 1314.9,844.132 1313.57,844.397 1311.29,844.826 \n",
       "  1307.69,845.642 1304.08,846.59 1300.47,847.666 1299.45,848.004 1296.86,848.822 1293.26,850.076 1289.65,851.44 1289.23,851.611 1286.04,852.849 1282.44,854.349 \n",
       "  1280.47,855.218 1278.83,855.911 1275.22,857.52 1272.45,858.825 1271.62,859.199 1268.01,860.895 1264.89,862.432 1264.4,862.66 1260.79,864.424 1257.62,866.039 \n",
       "  1257.19,866.25 1253.58,868.065 1250.54,869.646 1249.97,869.931 1246.37,871.782 1243.58,873.253 1242.76,873.67 1239.15,875.543 1236.68,876.86 1235.55,877.439 \n",
       "  1231.94,879.322 1229.79,880.467 1228.33,881.214 1224.72,883.096 1222.88,884.074 1221.12,884.975 1217.51,886.845 1215.92,887.681 1213.9,888.702 1210.3,890.552 \n",
       "  1208.88,891.288 1206.69,892.381 1203.08,894.202 1201.72,894.895 1199.47,895.997 1195.87,897.781 1194.42,898.502 1192.26,899.538 1188.65,901.279 1186.94,902.109 \n",
       "  1185.05,902.994 1181.44,904.685 1179.24,905.717 1177.83,906.356 1174.23,907.99 1171.29,909.324 1170.62,909.616 1167.01,911.187 1163.4,912.758 1163.01,912.931 \n",
       "  1159.8,914.269 1156.19,915.767 1154.32,916.538 1152.58,917.23 1148.98,918.65 1145.37,920.061 1145.15,920.145 1141.76,921.402 1138.16,922.725 1135.32,923.752 \n",
       "  1134.55,924.019 1130.94,925.25 1127.33,926.459 1124.59,927.359 1123.73,927.631 1120.12,928.738 1116.51,929.816 1112.91,930.862 1112.53,930.966 1109.3,931.833 \n",
       "  1105.69,932.763 1102.09,933.652 1098.48,934.499 1098.14,934.573 1094.87,935.266 1091.26,935.98 1087.66,936.643 1084.05,937.248 1080.44,937.793 1077.53,938.18 \n",
       "  1076.84,938.269 1073.23,938.659 1069.62,938.978 1066.01,939.219 1062.41,939.377 1058.8,939.447 1055.19,939.422 1051.59,939.296 1047.98,939.059 1044.37,938.705 \n",
       "  1040.77,938.225 1040.5,938.18 1037.16,937.575 1033.55,936.765 1029.94,935.785 1026.34,934.621 1026.21,934.573 1022.73,933.167 1019.12,931.472 1018.17,930.966 \n",
       "  1015.52,929.407 1012.45,927.359 1011.91,926.957 1008.3,923.946 1008.09,923.752 1004.7,920.179 1004.67,920.145 1001.95,916.538 1001.09,915.198 999.757,912.931 \n",
       "  997.983,909.324 997.481,908.089 996.595,905.717 995.52,902.109 994.707,898.502 994.132,894.895 993.874,892.304 993.781,891.288 993.633,887.681 993.659,884.074 \n",
       "  993.846,880.467 993.874,880.172 994.196,876.86 994.687,873.253 995.308,869.646 996.047,866.039 996.893,862.432 997.481,860.203 997.854,858.825 998.935,855.218 \n",
       "  1000.1,851.611 1001.09,848.743 1001.35,848.004 1002.72,844.397 1004.14,840.79 1004.7,839.467 1005.67,837.183 1007.27,833.576 1008.3,831.326 1008.94,829.969 \n",
       "  1010.69,826.362 1011.91,823.925 1012.51,822.755 1014.4,819.148 1015.52,817.062 1016.35,815.541 1018.36,811.934 1019.12,810.599 1020.45,808.327 1022.57,804.72 \n",
       "  1022.73,804.447 1024.78,801.113 1026.34,798.58 1027.02,797.506 1029.31,793.899 1029.94,792.92 1031.67,790.292 1033.55,787.444 1034.06,786.685 1036.51,783.078 \n",
       "  1037.16,782.129 1039.01,779.471 1040.77,776.951 1041.54,775.864 1044.11,772.257 1044.37,771.884 1046.73,768.649 1047.98,766.934 1049.38,765.042 1051.59,762.061 \n",
       "  1052.06,761.435 1054.78,757.828 1055.19,757.27 1057.53,754.221 1058.8,752.55 1060.31,750.614 1062.41,747.881 1063.1,747.007 1065.9,743.4 1066.01,743.256 \n",
       "  1068.75,739.793 1069.62,738.678 1071.61,736.186 1073.23,734.124 1074.47,732.579 1076.84,729.586 1077.33,728.972 1080.2,725.365 1080.44,725.06 1083.09,721.758 \n",
       "  1084.05,720.537 1085.97,718.151 1087.66,716.002 1088.83,714.544 1091.26,711.442 1091.67,710.937 1094.5,707.33 1094.87,706.849 1097.32,703.723 1098.48,702.208 \n",
       "  1100.11,700.116 1102.09,697.498 1102.85,696.509 1105.55,692.902 1105.69,692.703 1108.23,689.295 1109.3,687.795 1110.84,685.688 1112.91,682.749 1113.39,682.081 \n",
       "  1115.88,678.474 1116.51,677.522 1118.31,674.867 1120.12,672.067 1120.65,671.26 1122.93,667.653 1123.73,666.313 1125.11,664.046 1127.19,660.439 1127.33,660.172 \n",
       "  1129.2,656.832 1130.94,653.487 1131.08,653.225 1132.89,649.618 1134.55,646.022 1134.55,646.011 1136.15,642.404 1137.6,638.797 1138.16,637.293 1138.95,635.189 \n",
       "  1140.19,631.582 1141.29,627.975 1141.76,626.246 1142.29,624.368 1143.18,620.761 1143.94,617.154 1144.59,613.547 1145.12,609.94 1145.37,607.823 1145.55,606.333 \n",
       "  1145.87,602.726 1146.09,599.119 1146.21,595.512 1146.22,591.905 1146.14,588.298 1145.96,584.691 1145.7,581.084 1145.37,577.797 1145.34,577.477 1144.91,573.87 \n",
       "  1144.4,570.263 1143.82,566.656 1143.15,563.049 1142.41,559.442 1141.76,556.554 1141.61,555.835 1140.75,552.228 1139.83,548.621 1138.84,545.014 1138.16,542.685 \n",
       "  1137.8,541.407 1136.71,537.8 1135.57,534.193 1134.55,531.156 1134.37,530.586 1133.14,526.979 1131.85,523.372 1130.94,520.934 1130.52,519.765 1129.17,516.158 \n",
       "  1127.76,512.551 1127.33,511.521 1126.32,508.944 1124.85,505.337 1123.73,502.692 1123.34,501.729 1121.8,498.122 1120.22,494.515 1120.12,494.287 1118.64,490.908 \n",
       "  1117.01,487.301 1116.51,486.252 1115.36,483.694 1113.68,480.087 1112.91,478.479 1111.98,476.48 1110.26,472.873 1109.3,470.929 1108.51,469.266 1106.74,465.659 \n",
       "  1105.69,463.568 1104.96,462.052 1103.15,458.445 1102.09,456.368 1101.33,454.838 1099.49,451.231 1098.48,449.308 1097.63,447.624 1095.75,444.017 1094.87,442.368 \n",
       "  1093.86,440.41 1091.95,436.803 1091.26,435.533 1090.04,433.196 1088.1,429.589 1087.66,428.79 1086.16,425.982 1084.19,422.375 1084.05,422.127 1082.23,418.768 \n",
       "  1080.44,415.548 1080.23,415.161 1078.25,411.554 1076.84,409.043 1076.24,407.947 1074.22,404.34 1073.23,402.593 1072.2,400.733 1070.16,397.126 1069.62,396.193 \n",
       "  1068.12,393.519 1066.06,389.912 1066.01,389.836 1064,386.305 1062.41,383.546 1061.93,382.698 1059.85,379.091 1058.8,377.294 1057.77,375.484 1055.67,371.877 \n",
       "  1055.19,371.072 1053.57,368.269 1051.59,364.884 1051.46,364.662 1049.35,361.055 1047.98,358.746 1047.23,357.448 1045.1,353.841 1044.37,352.629 1042.97,350.234 \n",
       "  1040.82,346.627 1040.77,346.531 1038.69,343.02 1037.16,340.48 1036.53,339.413 1034.38,335.806 1033.55,334.446 1032.22,332.199 1030.05,328.592 1029.94,328.425 \n",
       "  1027.88,324.985 1026.34,322.443 1025.71,321.378 1023.53,317.771 1022.73,316.475 1021.34,314.164 1019.15,310.557 1019.12,310.516 1016.96,306.95 1015.52,304.595 \n",
       "  1014.76,303.343 1012.56,299.736 1011.91,298.681 1010.36,296.129 1008.3,292.777 1008.15,292.522 1005.94,288.915 1004.7,286.904 1003.73,285.308 1001.51,281.701 \n",
       "  1001.09,281.032 999.289,278.094 997.481,275.179 997.061,274.487 994.836,270.88 993.874,269.343 992.606,267.273 990.367,263.666 990.267,263.507 988.137,260.059 \n",
       "  986.66,257.699 985.896,256.452 983.653,252.845 983.053,251.893 981.412,249.238 979.446,246.096 979.16,245.631 976.915,242.024 975.839,240.318 974.663,238.417 \n",
       "  972.405,234.809 972.232,234.538 970.153,231.202 968.625,228.779 967.893,227.595 965.632,223.988 965.018,223.023 963.372,220.381 961.411,217.273 961.103,216.774 \n",
       "  958.839,213.167 957.804,211.539 956.571,209.56 954.295,205.953 954.197,205.8 952.028,202.346 950.59,200.083 949.752,198.739 947.474,195.132 946.983,194.364 \n",
       "  945.199,191.525 943.376,188.654 942.917,187.918 940.637,184.311 939.769,182.954 938.356,180.704 936.162,177.25 936.066,177.097 933.785,173.49 932.555,171.566 \n",
       "  931.497,169.883 929.205,166.276 928.948,165.876 926.919,162.669 925.341,160.201 924.625,159.062 922.332,155.455 921.734,154.526 920.039,151.848 918.127,148.855 \n",
       "  917.74,148.241 915.445,144.634 914.52,143.195 913.148,141.027 910.913,137.529 910.844,137.42 908.548,133.813 907.306,131.881 906.245,130.206 903.939,126.599 \n",
       "  903.699,126.226 901.639,122.992 900.092,120.585 899.332,119.385 897.025,115.778 896.485,114.942 894.72,112.171 892.877,109.304 892.409,108.564 890.101,104.957 \n",
       "  889.27,103.672 887.792,101.349 885.663,98.0376 885.477,97.7425 883.168,94.1354 882.056,92.4165 880.854,90.5284 878.536,86.9214 878.449,86.7874 876.225,83.3144 \n",
       "  874.842,81.174 873.909,79.7073 871.59,76.1003 871.235,75.5547 869.275,72.4933 867.628,69.944 866.955,68.8863 864.635,65.2792 864.021,64.3337 862.317,61.6722 \n",
       "  860.414,58.7256 859.994,58.0652 857.674,54.4581 856.807,53.1239 855.352,50.8511 853.2,47.5183 853.026,47.2441 \n",
       "  \"/>\n",
       "<polyline clip-path=\"url(#clip202)\" style=\"stroke:#ff0000; stroke-width:4; stroke-opacity:1; fill:none\" points=\"\n",
       "  546.603,257.269 550.21,259.748 550.666,260.059 553.817,262.231 555.915,263.666 557.424,264.711 561.031,267.188 561.156,267.273 564.638,269.671 566.407,270.88 \n",
       "  568.245,272.151 571.649,274.487 571.852,274.628 575.459,277.11 576.901,278.094 579.066,279.59 582.145,281.701 582.673,282.067 586.28,284.548 587.396,285.308 \n",
       "  589.887,287.028 592.644,288.915 593.494,289.505 597.101,291.983 597.893,292.522 600.708,294.464 603.143,296.129 604.315,296.941 607.922,299.418 608.391,299.736 \n",
       "  611.529,301.898 613.645,303.343 615.136,304.376 618.743,306.85 618.891,306.95 622.35,309.331 624.148,310.557 625.957,311.809 629.394,314.164 629.565,314.282 \n",
       "  633.172,316.763 634.652,317.771 636.779,319.24 639.902,321.378 640.386,321.714 643.993,324.192 645.158,324.985 647.6,326.67 650.411,328.592 651.207,329.144 \n",
       "  654.814,331.621 655.665,332.199 658.421,334.099 660.921,335.806 662.028,336.573 665.635,339.048 666.174,339.413 669.242,341.526 671.433,343.02 672.849,344.001 \n",
       "  676.456,346.473 676.684,346.627 680.063,348.952 681.945,350.234 683.67,351.427 687.196,353.841 687.277,353.898 690.884,356.377 692.459,357.448 694.491,358.852 \n",
       "  697.713,361.055 698.098,361.323 701.705,363.8 702.975,364.662 705.312,366.276 708.231,368.269 708.919,368.747 712.526,371.222 713.49,371.877 716.133,373.699 \n",
       "  718.749,375.484 719.74,376.171 723.347,378.644 724.007,379.091 726.954,381.12 729.269,382.698 730.561,383.593 734.168,386.064 734.524,386.305 737.775,388.542 \n",
       "  739.789,389.912 741.382,391.015 744.989,393.484 745.041,393.519 748.596,395.962 750.308,397.126 752.203,398.436 755.563,400.733 755.81,400.905 759.417,403.382 \n",
       "  760.828,404.34 763.025,405.857 766.085,407.947 766.632,408.327 770.239,410.802 771.347,411.554 773.846,413.278 776.606,415.161 777.453,415.749 781.06,418.222 \n",
       "  781.865,418.768 784.667,420.699 787.126,422.375 788.274,423.171 791.881,425.643 792.382,425.982 795.488,428.121 797.644,429.589 799.095,430.595 802.702,433.065 \n",
       "  802.896,433.196 806.309,435.544 808.161,436.803 809.916,438.019 813.41,440.41 813.523,440.489 817.13,442.969 818.674,444.017 820.737,445.446 823.924,447.624 \n",
       "  824.344,447.917 827.951,450.396 829.183,451.231 831.558,452.874 834.434,454.838 835.165,455.348 838.772,457.826 839.687,458.445 842.379,460.306 844.938,462.052 \n",
       "  845.986,462.782 849.593,465.259 850.185,465.659 853.2,467.742 855.436,469.266 856.807,470.221 860.414,472.697 860.675,472.873 864.021,475.184 865.926,476.48 \n",
       "  867.628,477.665 871.158,480.087 871.235,480.141 874.842,482.631 876.406,483.694 878.449,485.116 881.636,487.301 882.056,487.596 885.663,490.085 886.874,490.908 \n",
       "  889.27,492.575 892.102,494.515 892.877,495.059 896.485,497.549 897.329,498.122 900.092,500.044 902.553,501.729 903.699,502.533 907.306,505.024 907.766,505.337 \n",
       "  910.913,507.524 912.986,508.944 914.52,510.02 918.127,512.511 918.184,512.551 921.734,515.019 923.398,516.158 925.341,517.521 928.588,519.765 928.948,520.02 \n",
       "  932.555,522.53 933.784,523.372 936.162,525.041 938.966,526.979 939.769,527.548 943.376,530.062 944.142,530.586 946.983,532.583 949.312,534.193 950.59,535.1 \n",
       "  954.197,537.617 954.464,537.8 957.804,540.15 959.622,541.407 961.411,542.679 964.752,545.014 965.018,545.205 968.625,547.747 969.887,548.621 972.232,550.291 \n",
       "  975,552.228 975.839,552.833 979.446,555.382 980.1,555.835 983.053,557.943 985.192,559.442 986.66,560.502 990.252,563.049 990.267,563.06 993.874,565.642 \n",
       "  995.319,566.656 997.481,568.223 1000.35,570.263 1001.09,570.804 1004.7,573.397 1005.37,573.87 1008.3,576.004 1010.37,577.477 1011.91,578.612 1015.33,581.084 \n",
       "  1015.52,581.222 1019.12,583.858 1020.29,584.691 1022.73,586.5 1025.21,588.298 1026.34,589.146 1029.94,591.799 1030.09,591.905 1033.55,594.482 1034.96,595.512 \n",
       "  1037.16,597.171 1039.79,599.119 1040.77,599.868 1044.37,602.579 1044.57,602.726 1047.98,605.321 1049.34,606.333 1051.59,608.076 1054.05,609.94 1055.19,610.843 \n",
       "  1058.7,613.547 1058.8,613.626 1062.41,616.448 1063.33,617.154 1066.01,619.292 1067.9,620.761 1069.62,622.158 1072.41,624.368 1073.23,625.046 1076.84,627.962 \n",
       "  1076.85,627.975 1080.44,630.931 1081.25,631.582 1084.05,633.934 1085.58,635.189 1087.66,636.973 1089.83,638.797 1091.26,640.054 1094.01,642.404 1094.87,643.182 \n",
       "  1098.1,646.011 1098.48,646.362 1102.09,649.603 1102.1,649.618 1105.69,652.923 1106.03,653.225 1109.3,656.316 1109.86,656.832 1112.91,659.793 1113.59,660.439 \n",
       "  1116.51,663.365 1117.21,664.046 1120.12,667.044 1120.73,667.653 1123.73,670.847 1124.13,671.26 1127.33,674.791 1127.4,674.867 1130.57,678.474 1130.94,678.923 \n",
       "  1133.61,682.081 1134.55,683.261 1136.52,685.688 1138.16,687.835 1139.3,689.295 1141.76,692.688 1141.92,692.902 1144.43,696.509 1145.37,697.968 1146.79,700.116 \n",
       "  1148.98,703.698 1148.99,703.723 1151.08,707.33 1152.58,710.176 1153,710.937 1154.79,714.544 1156.19,717.657 1156.42,718.151 1157.93,721.758 1159.28,725.365 \n",
       "  1159.8,726.925 1160.5,728.972 1161.59,732.579 1162.54,736.186 1163.35,739.793 1163.4,740.064 1164.06,743.4 1164.65,747.007 1165.13,750.614 1165.5,754.221 \n",
       "  1165.76,757.828 1165.93,761.435 1166.02,765.042 1166.03,768.649 1165.97,772.257 1165.84,775.864 1165.66,779.471 1165.42,783.078 1165.14,786.685 1164.83,790.292 \n",
       "  1164.48,793.899 1164.11,797.506 1163.72,801.113 1163.4,803.909 1163.32,804.72 1162.93,808.327 1162.53,811.934 1162.15,815.541 1161.77,819.148 1161.41,822.755 \n",
       "  1161.06,826.362 1160.74,829.969 1160.45,833.576 1160.2,837.183 1159.98,840.79 1159.8,844.397 1159.8,844.527 1159.68,848.004 1159.6,851.611 1159.58,855.218 \n",
       "  1159.61,858.825 1159.7,862.432 1159.8,864.89 1159.85,866.039 1160.07,869.646 1160.37,873.253 1160.74,876.86 1161.19,880.467 1161.71,884.074 1162.32,887.681 \n",
       "  1163.02,891.288 1163.4,893.055 1163.82,894.895 1164.74,898.502 1165.75,902.109 1166.87,905.717 1167.01,906.141 1168.14,909.324 1169.53,912.931 1170.62,915.552 \n",
       "  1171.05,916.538 1172.75,920.145 1174.23,923.067 1174.59,923.752 1176.64,927.359 1177.83,929.318 1178.88,930.966 1181.34,934.573 1181.44,934.711 1184.09,938.18 \n",
       "  1185.05,939.363 1187.12,941.787 1188.65,943.481 1190.49,945.394 1192.26,947.143 1194.26,949.001 1195.87,950.414 1198.52,952.608 1199.47,953.354 1203.08,955.998 \n",
       "  1203.4,956.215 1206.69,958.347 1209.14,959.822 1210.3,960.485 1213.9,962.391 1216.03,963.429 1217.51,964.11 1221.12,965.633 1224.72,967.019 1224.77,967.036 \n",
       "  1228.33,968.204 1231.94,969.262 1235.55,970.198 1237.51,970.643 1239.15,970.995 1242.76,971.66 1246.37,972.219 1249.97,972.675 1253.58,973.034 1257.19,973.298 \n",
       "  1260.79,973.474 1264.4,973.566 1268.01,973.578 1271.62,973.516 1275.22,973.385 1278.83,973.191 1282.44,972.938 1286.04,972.631 1289.65,972.278 1293.26,971.881 \n",
       "  1296.86,971.448 1300.47,970.982 1302.95,970.643 1304.08,970.483 1307.69,969.946 1311.29,969.391 1314.9,968.825 1318.51,968.252 1322.11,967.678 1325.72,967.106 \n",
       "  1326.16,967.036 1329.33,966.519 1332.93,965.942 1336.54,965.382 1340.15,964.843 1343.76,964.328 1347.36,963.842 1350.64,963.429 1350.97,963.386 1354.58,962.949 \n",
       "  1358.18,962.552 1361.79,962.198 1365.4,961.888 1369.01,961.626 1372.61,961.412 1376.22,961.25 1379.83,961.14 1383.43,961.084 1387.04,961.084 1390.65,961.139 \n",
       "  1394.25,961.252 1397.86,961.422 1401.47,961.65 1405.08,961.937 1408.68,962.283 1412.29,962.688 1415.9,963.152 1417.79,963.429 1419.5,963.667 1423.11,964.232 \n",
       "  1426.72,964.853 1430.32,965.532 1433.93,966.268 1437.43,967.036 1437.54,967.059 1441.15,967.883 1444.75,968.762 1448.36,969.695 1451.82,970.643 1451.97,970.68 \n",
       "  1455.57,971.693 1459.18,972.757 1462.79,973.872 1463.95,974.25 1466.39,975.018 1470,976.205 1473.61,977.439 1474.77,977.857 1477.22,978.702 1480.82,980.002 \n",
       "  1484.43,981.348 1484.73,981.464 1488.04,982.712 1491.64,984.118 1494,985.071 1495.25,985.557 1498.86,987.019 1502.47,988.524 1502.82,988.678 1506.07,990.042 \n",
       "  1509.68,991.598 1511.22,992.285 1513.29,993.176 1516.89,994.781 1519.32,995.892 1520.5,996.414 1524.11,998.065 1527.17,999.499 1527.71,999.749 1531.32,1001.44 \n",
       "  1534.79,1003.11 1534.93,1003.17 1538.54,1004.91 1542.14,1006.68 1542.21,1006.71 1545.75,1008.45 1549.36,1010.26 1549.47,1010.32 1552.96,1012.08 1556.57,1013.92 \n",
       "  1556.58,1013.93 1560.18,1015.77 1563.56,1017.53 1563.78,1017.65 1567.39,1019.53 1570.43,1021.14 1571,1021.43 1574.61,1023.35 1577.2,1024.75 1578.21,1025.28 \n",
       "  1581.82,1027.23 1583.87,1028.36 1585.43,1029.19 1589.03,1031.16 1590.47,1031.96 1592.64,1033.14 1596.25,1035.14 1597,1035.57 1599.85,1037.15 1603.46,1039.18 \n",
       "  1603.46,1039.18 1607.07,1041.2 1609.84,1042.78 1610.68,1043.25 1614.28,1045.3 1616.16,1046.39 1617.89,1047.37 1621.5,1049.44 1622.44,1050 1625.1,1051.52 \n",
       "  1628.68,1053.6 1628.71,1053.62 1632.32,1055.72 1634.85,1057.21 1635.93,1057.83 1639.53,1059.95 1640.99,1060.82 1643.14,1062.07 1646.75,1064.21 1647.1,1064.43 \n",
       "  1650.35,1066.35 1653.15,1068.03 1653.96,1068.51 1657.57,1070.66 1659.18,1071.64 1661.17,1072.83 1664.78,1075 1665.18,1075.25 1668.39,1077.18 1671.14,1078.85 \n",
       "  1672,1079.37 1675.6,1081.56 1677.07,1082.46 1679.21,1083.75 1682.82,1085.96 1682.99,1086.07 1686.42,1088.17 1688.86,1089.67 1690.03,1090.38 1693.64,1092.61 \n",
       "  1694.72,1093.28 1697.24,1094.83 1700.56,1096.89 1700.85,1097.07 1704.46,1099.3 1706.37,1100.5 1708.07,1101.54 1711.67,1103.79 1712.16,1104.1 1715.28,1106.04 \n",
       "  1717.93,1107.71 1718.89,1108.3 1722.49,1110.56 1723.69,1111.32 1726.1,1112.82 1729.43,1114.92 1729.71,1115.1 1733.31,1117.37 1735.14,1118.53 1736.92,1119.64 \n",
       "  1740.53,1121.93 1740.85,1122.14 1744.14,1124.21 1746.53,1125.75 1747.74,1126.5 1751.35,1128.8 1752.21,1129.35 1754.96,1131.09 1757.87,1132.96 1758.56,1133.4 \n",
       "  1762.17,1135.7 1763.51,1136.57 1765.78,1138 1769.15,1140.17 1769.39,1140.32 1772.99,1142.63 1774.77,1143.78 1776.6,1144.95 1780.21,1147.27 1780.38,1147.39 \n",
       "  1783.81,1149.59 1785.98,1150.99 1787.42,1151.92 1791.03,1154.25 1791.57,1154.6 1794.63,1156.58 1797.14,1158.21 1798.24,1158.91 1801.85,1161.25 1802.71,1161.82 \n",
       "  1805.46,1163.59 1808.27,1165.42 1809.06,1165.93 1812.67,1168.28 1813.81,1169.03 1816.28,1170.62 1819.35,1172.64 1819.88,1172.98 1823.49,1175.33 1824.88,1176.24 \n",
       "  1827.1,1177.68 1830.41,1179.85 1830.7,1180.04 1834.31,1182.4 1835.92,1183.46 1837.92,1184.76 1841.43,1187.06 1841.53,1187.13 1845.13,1189.49 1846.92,1190.67 \n",
       "  1848.74,1191.86 1852.35,1194.23 1852.42,1194.28 1855.95,1196.6 1857.9,1197.89 1859.56,1198.97 1863.17,1201.35 1863.38,1201.49 1866.77,1203.72 1868.85,1205.1 \n",
       "  1870.38,1206.1 1873.99,1208.48 1874.32,1208.71 1877.6,1210.86 1879.78,1212.31 1881.2,1213.25 1884.81,1215.64 1885.23,1215.92 1888.42,1218.02 1890.68,1219.53 \n",
       "  1892.02,1220.41 1895.63,1222.8 1896.12,1223.13 1899.24,1225.19 1901.56,1226.74 1902.85,1227.59 1906.45,1229.99 1906.99,1230.35 1910.06,1232.38 1912.42,1233.96 \n",
       "  1913.67,1234.78 1917.27,1237.18 1917.84,1237.56 1920.88,1239.58 1923.26,1241.17 1924.49,1241.98 1928.09,1244.39 1928.67,1244.78 1931.7,1246.79 1934.08,1248.38 \n",
       "  1935.31,1249.2 1938.92,1251.61 1939.48,1251.99 1942.52,1254.01 1944.88,1255.6 1946.13,1256.42 1949.74,1258.84 1950.28,1259.21 1953.34,1261.25 1955.67,1262.81 \n",
       "  1956.95,1263.66 1960.56,1266.08 1961.06,1266.42 1964.16,1268.49 1966.44,1270.03 1967.77,1270.91 1971.38,1273.33 1971.83,1273.63 1974.99,1275.75 1977.2,1277.24 \n",
       "  1978.59,1278.17 1982.2,1280.59 1982.58,1280.85 1985.81,1283.01 \n",
       "  \"/>\n",
       "</svg>\n"
      ]
     },
     "execution_count": 10,
     "metadata": {},
     "output_type": "execute_result"
    }
   ],
   "source": [
    "using ImplicitPlots, Plots\n",
    "p = plot(legend=false);\n",
    "\n",
    "implicit_plot!(p, HC_W[1]);\n",
    "implicit_plot!(p, HC_W[2]; linecolor=:red);\n",
    "p"
   ]
  }
 ],
 "metadata": {
  "kernelspec": {
   "display_name": "Julia 1.5.3",
   "language": "julia",
   "name": "julia-1.5"
  },
  "language_info": {
   "file_extension": ".jl",
   "mimetype": "application/julia",
   "name": "julia",
   "version": "1.5.3"
  }
 },
 "nbformat": 4,
 "nbformat_minor": 2
}
