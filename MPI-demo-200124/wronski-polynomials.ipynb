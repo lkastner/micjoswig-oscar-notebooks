{
 "cells": [
  {
   "cell_type": "markdown",
   "metadata": {},
   "source": [
    "# OSCAR, a Tech Preview (Part II)\n",
    "## Wronski Polynomial Systems\n",
    "\n",
    "* Soprunova & Sottile: Lower bounds for real solutions to sparse polynomial systems, <i>Adv. Math.</i> <b>204</b> (2006).\n",
    "* Kaluba, Lorenz & Timme: Polymake.jl: A new interface to polymake, <a href=\"https://arxiv.org/abs/2003.11381\">arXiv:2003.11381</a>"
   ]
  },
  {
   "cell_type": "code",
   "execution_count": 1,
   "metadata": {},
   "outputs": [
    {
     "data": {
      "text/html": [
       "$\\require{action}$"
      ]
     },
     "metadata": {},
     "output_type": "display_data"
    },
    {
     "name": "stdout",
     "output_type": "stream",
     "text": [
      " -----    -----    -----      -      -----   \n",
      "|     |  |     |  |     |    | |    |     |  \n",
      "|     |  |        |         |   |   |     |  \n",
      "|     |   -----   |        |     |  |-----   \n",
      "|     |        |  |        |-----|  |   |    \n",
      "|     |  |     |  |     |  |     |  |    |   \n",
      " -----    -----    -----   -     -  -     -  \n",
      "\n",
      "...combining (and extending) GAP, Hecke, Nemo, Polymake and Singular\n",
      "Version\u001b[32m 0.2.0 \u001b[39m... \n",
      " ... which comes with absolutely no warranty whatsoever\n",
      "Type: '?Oscar' for more information\n",
      "(c) 2019-2020 by The Oscar Development Team\n"
     ]
    }
   ],
   "source": [
    "using Oscar"
   ]
  },
  {
   "cell_type": "markdown",
   "metadata": {},
   "source": [
    "We will consider certain systems of polynomial equations which require a regular triangulation of a lattice polytope as (part of its) input."
   ]
  },
  {
   "cell_type": "code",
   "execution_count": 2,
   "metadata": {},
   "outputs": [],
   "source": [
    "A = Polymake.polytope.lattice_points(Polymake.polytope.simplex(2,3))\n",
    "λ = [12,3,0,0,8,1,0,9,5,15];\n",
    "F = Polymake.polytope.regular_subdivision(A, λ)\n",
    "TT = Polymake.fan.SubdivisionOfPoints(POINTS = A, MAXIMAL_CELLS = F);"
   ]
  },
  {
   "cell_type": "code",
   "execution_count": 3,
   "metadata": {},
   "outputs": [
    {
     "data": {
      "image/svg+xml": [
       "<?xml version=\"1.0\" encoding=\"UTF-8\" standalone=\"yes\"?>\n",
       "<!DOCTYPE svg PUBLIC \"-//W3C//DTD SVG 1.0//EN\" \"http://www.w3.org/TR/2001/REC-SVG-20010904/DTD/svg10.dtd\">\n",
       "<svg height=\"841pt\" id=\"document\" viewBox=\"0 -615 575 615\" width=\"595pt\" xmlns=\"http://www.w3.org/2000/svg\" xmlns:svg=\"http://www.w3.org/2000/svg\" xmlns:xlink=\"http://www.w3.org/1999/xlink\">\n",
       "\t<title id=\"document_title\">pcom:</title>\n",
       "\t<circle cx=\"35\" cy=\"-53.5\" r=\"2\" style=\"fill: rgb(0,0,0)\" />\n",
       "\t<text font-family=\"Times-Roman\" font-size=\"10\" text-anchor=\"middle\" x=\"35\" y=\"-58.5\">0</text>\n",
       "\t<circle cx=\"35\" cy=\"-228.5\" r=\"2\" style=\"fill: rgb(0,0,0)\" />\n",
       "\t<text font-family=\"Times-Roman\" font-size=\"10\" text-anchor=\"middle\" x=\"35\" y=\"-233.5\">1</text>\n",
       "\t<circle cx=\"35\" cy=\"-403.5\" r=\"2\" style=\"fill: rgb(0,0,0)\" />\n",
       "\t<text font-family=\"Times-Roman\" font-size=\"10\" text-anchor=\"middle\" x=\"35\" y=\"-408.5\">2</text>\n",
       "\t<circle cx=\"35\" cy=\"-578.5\" r=\"2\" style=\"fill: rgb(0,0,0)\" />\n",
       "\t<text font-family=\"Times-Roman\" font-size=\"10\" text-anchor=\"middle\" x=\"35\" y=\"-583.5\">3</text>\n",
       "\t<circle cx=\"210\" cy=\"-53.5\" r=\"2\" style=\"fill: rgb(0,0,0)\" />\n",
       "\t<text font-family=\"Times-Roman\" font-size=\"10\" text-anchor=\"middle\" x=\"210\" y=\"-58.5\">4</text>\n",
       "\t<circle cx=\"210\" cy=\"-228.5\" r=\"2\" style=\"fill: rgb(0,0,0)\" />\n",
       "\t<text font-family=\"Times-Roman\" font-size=\"10\" text-anchor=\"middle\" x=\"210\" y=\"-233.5\">5</text>\n",
       "\t<circle cx=\"210\" cy=\"-403.5\" r=\"2\" style=\"fill: rgb(0,0,0)\" />\n",
       "\t<text font-family=\"Times-Roman\" font-size=\"10\" text-anchor=\"middle\" x=\"210\" y=\"-408.5\">6</text>\n",
       "\t<circle cx=\"385\" cy=\"-53.5\" r=\"2\" style=\"fill: rgb(0,0,0)\" />\n",
       "\t<text font-family=\"Times-Roman\" font-size=\"10\" text-anchor=\"middle\" x=\"385\" y=\"-58.5\">7</text>\n",
       "\t<circle cx=\"385\" cy=\"-228.5\" r=\"2\" style=\"fill: rgb(0,0,0)\" />\n",
       "\t<text font-family=\"Times-Roman\" font-size=\"10\" text-anchor=\"middle\" x=\"385\" y=\"-233.5\">8</text>\n",
       "\t<circle cx=\"560\" cy=\"-53.5\" r=\"2\" style=\"fill: rgb(0,0,0)\" />\n",
       "\t<text font-family=\"Times-Roman\" font-size=\"10\" text-anchor=\"middle\" x=\"560\" y=\"-58.5\">9</text>\n",
       "\t<line stroke=\"rgb(0,0,0)\" stroke-width=\"1\" x1=\"35\" x2=\"35\" y1=\"-228.5\" y2=\"-53.5\" />\n",
       "\t<line stroke=\"rgb(0,0,0)\" stroke-width=\"1\" x1=\"35\" x2=\"35\" y1=\"-403.5\" y2=\"-228.5\" />\n",
       "\t<line stroke=\"rgb(0,0,0)\" stroke-width=\"1\" x1=\"35\" x2=\"35\" y1=\"-578.5\" y2=\"-403.5\" />\n",
       "\t<line stroke=\"rgb(0,0,0)\" stroke-width=\"1\" x1=\"210\" x2=\"35\" y1=\"-53.5\" y2=\"-53.5\" />\n",
       "\t<line stroke=\"rgb(0,0,0)\" stroke-width=\"1\" x1=\"210\" x2=\"35\" y1=\"-53.5\" y2=\"-228.5\" />\n",
       "\t<line stroke=\"rgb(0,0,0)\" stroke-width=\"1\" x1=\"210\" x2=\"35\" y1=\"-228.5\" y2=\"-228.5\" />\n",
       "\t<line stroke=\"rgb(0,0,0)\" stroke-width=\"1\" x1=\"210\" x2=\"35\" y1=\"-228.5\" y2=\"-403.5\" />\n",
       "\t<line stroke=\"rgb(0,0,0)\" stroke-width=\"1\" x1=\"210\" x2=\"210\" y1=\"-228.5\" y2=\"-53.5\" />\n",
       "\t<line stroke=\"rgb(0,0,0)\" stroke-width=\"1\" x1=\"210\" x2=\"35\" y1=\"-403.5\" y2=\"-403.5\" />\n",
       "\t<line stroke=\"rgb(0,0,0)\" stroke-width=\"1\" x1=\"210\" x2=\"35\" y1=\"-403.5\" y2=\"-578.5\" />\n",
       "\t<line stroke=\"rgb(0,0,0)\" stroke-width=\"1\" x1=\"210\" x2=\"210\" y1=\"-403.5\" y2=\"-228.5\" />\n",
       "\t<line stroke=\"rgb(0,0,0)\" stroke-width=\"1\" x1=\"385\" x2=\"210\" y1=\"-53.5\" y2=\"-53.5\" />\n",
       "\t<line stroke=\"rgb(0,0,0)\" stroke-width=\"1\" x1=\"385\" x2=\"210\" y1=\"-53.5\" y2=\"-228.5\" />\n",
       "\t<line stroke=\"rgb(0,0,0)\" stroke-width=\"1\" x1=\"385\" x2=\"210\" y1=\"-228.5\" y2=\"-228.5\" />\n",
       "\t<line stroke=\"rgb(0,0,0)\" stroke-width=\"1\" x1=\"385\" x2=\"210\" y1=\"-228.5\" y2=\"-403.5\" />\n",
       "\t<line stroke=\"rgb(0,0,0)\" stroke-width=\"1\" x1=\"385\" x2=\"385\" y1=\"-228.5\" y2=\"-53.5\" />\n",
       "\t<line stroke=\"rgb(0,0,0)\" stroke-width=\"1\" x1=\"560\" x2=\"385\" y1=\"-53.5\" y2=\"-53.5\" />\n",
       "\t<line stroke=\"rgb(0,0,0)\" stroke-width=\"1\" x1=\"560\" x2=\"385\" y1=\"-53.5\" y2=\"-228.5\" />\n",
       "\t<polygon points=\"35,-53.5 210,-53.5 35,-228.5 \" style=\"fill: rgb(119,236,158); fill-opacity: 0.5; stroke: rgb(0,0,0); stroke-width: 1\" />\n",
       "\t<circle cx=\"35\" cy=\"-53.5\" r=\"2\" style=\"fill: rgb(255,0,0)\" />\n",
       "\t<circle cx=\"35\" cy=\"-228.5\" r=\"2\" style=\"fill: rgb(255,0,0)\" />\n",
       "\t<circle cx=\"210\" cy=\"-53.5\" r=\"2\" style=\"fill: rgb(255,0,0)\" />\n",
       "\t<polygon points=\"210,-53.5 210,-228.5 35,-228.5 \" style=\"fill: rgb(119,236,158); fill-opacity: 0.5; stroke: rgb(0,0,0); stroke-width: 1\" />\n",
       "\t<circle cx=\"35\" cy=\"-228.5\" r=\"2\" style=\"fill: rgb(255,0,0)\" />\n",
       "\t<circle cx=\"210\" cy=\"-53.5\" r=\"2\" style=\"fill: rgb(255,0,0)\" />\n",
       "\t<circle cx=\"210\" cy=\"-228.5\" r=\"2\" style=\"fill: rgb(255,0,0)\" />\n",
       "\t<polygon points=\"35,-228.5 210,-228.5 35,-403.5 \" style=\"fill: rgb(119,236,158); fill-opacity: 0.5; stroke: rgb(0,0,0); stroke-width: 1\" />\n",
       "\t<circle cx=\"35\" cy=\"-228.5\" r=\"2\" style=\"fill: rgb(255,0,0)\" />\n",
       "\t<circle cx=\"35\" cy=\"-403.5\" r=\"2\" style=\"fill: rgb(255,0,0)\" />\n",
       "\t<circle cx=\"210\" cy=\"-228.5\" r=\"2\" style=\"fill: rgb(255,0,0)\" />\n",
       "\t<polygon points=\"210,-228.5 210,-403.5 35,-403.5 \" style=\"fill: rgb(119,236,158); fill-opacity: 0.5; stroke: rgb(0,0,0); stroke-width: 1\" />\n",
       "\t<circle cx=\"35\" cy=\"-403.5\" r=\"2\" style=\"fill: rgb(255,0,0)\" />\n",
       "\t<circle cx=\"210\" cy=\"-228.5\" r=\"2\" style=\"fill: rgb(255,0,0)\" />\n",
       "\t<circle cx=\"210\" cy=\"-403.5\" r=\"2\" style=\"fill: rgb(255,0,0)\" />\n",
       "\t<polygon points=\"35,-403.5 210,-403.5 35,-578.5 \" style=\"fill: rgb(119,236,158); fill-opacity: 0.5; stroke: rgb(0,0,0); stroke-width: 1\" />\n",
       "\t<circle cx=\"35\" cy=\"-403.5\" r=\"2\" style=\"fill: rgb(255,0,0)\" />\n",
       "\t<circle cx=\"35\" cy=\"-578.5\" r=\"2\" style=\"fill: rgb(255,0,0)\" />\n",
       "\t<circle cx=\"210\" cy=\"-403.5\" r=\"2\" style=\"fill: rgb(255,0,0)\" />\n",
       "\t<polygon points=\"210,-53.5 385,-53.5 210,-228.5 \" style=\"fill: rgb(119,236,158); fill-opacity: 0.5; stroke: rgb(0,0,0); stroke-width: 1\" />\n",
       "\t<circle cx=\"210\" cy=\"-53.5\" r=\"2\" style=\"fill: rgb(255,0,0)\" />\n",
       "\t<circle cx=\"210\" cy=\"-228.5\" r=\"2\" style=\"fill: rgb(255,0,0)\" />\n",
       "\t<circle cx=\"385\" cy=\"-53.5\" r=\"2\" style=\"fill: rgb(255,0,0)\" />\n",
       "\t<polygon points=\"385,-53.5 385,-228.5 210,-228.5 \" style=\"fill: rgb(119,236,158); fill-opacity: 0.5; stroke: rgb(0,0,0); stroke-width: 1\" />\n",
       "\t<circle cx=\"210\" cy=\"-228.5\" r=\"2\" style=\"fill: rgb(255,0,0)\" />\n",
       "\t<circle cx=\"385\" cy=\"-53.5\" r=\"2\" style=\"fill: rgb(255,0,0)\" />\n",
       "\t<circle cx=\"385\" cy=\"-228.5\" r=\"2\" style=\"fill: rgb(255,0,0)\" />\n",
       "\t<polygon points=\"210,-228.5 385,-228.5 210,-403.5 \" style=\"fill: rgb(119,236,158); fill-opacity: 0.5; stroke: rgb(0,0,0); stroke-width: 1\" />\n",
       "\t<circle cx=\"210\" cy=\"-228.5\" r=\"2\" style=\"fill: rgb(255,0,0)\" />\n",
       "\t<circle cx=\"210\" cy=\"-403.5\" r=\"2\" style=\"fill: rgb(255,0,0)\" />\n",
       "\t<circle cx=\"385\" cy=\"-228.5\" r=\"2\" style=\"fill: rgb(255,0,0)\" />\n",
       "\t<polygon points=\"385,-53.5 560,-53.5 385,-228.5 \" style=\"fill: rgb(119,236,158); fill-opacity: 0.5; stroke: rgb(0,0,0); stroke-width: 1\" />\n",
       "\t<circle cx=\"385\" cy=\"-53.5\" r=\"2\" style=\"fill: rgb(255,0,0)\" />\n",
       "\t<circle cx=\"385\" cy=\"-228.5\" r=\"2\" style=\"fill: rgb(255,0,0)\" />\n",
       "\t<circle cx=\"560\" cy=\"-53.5\" r=\"2\" style=\"fill: rgb(255,0,0)\" />\n",
       "\t<!--\n",
       "\tGenerated using the Perl SVG Module V2.84\n",
       "\tby Ronan Oger\n",
       "\tInfo: http://www.roitsystems.com/\n",
       "\t-->\n",
       "</svg>"
      ]
     },
     "metadata": {},
     "output_type": "display_data"
    }
   ],
   "source": [
    "Polymake.display_svg(TT)"
   ]
  },
  {
   "cell_type": "markdown",
   "metadata": {},
   "source": [
    "This triangulation is very special in that it is <i>foldable</i> (or \"balanced\"), i.e., the dual graph is bipartite.  This means that the triangles can be colored, say, black and white such that no two triangles of the same color share an edge.  The <i>signature</i> is the absolute difference of the black triangles minus the white triangles (of odd normalized volume)."
   ]
  },
  {
   "cell_type": "code",
   "execution_count": 4,
   "metadata": {},
   "outputs": [
    {
     "name": "stdout",
     "output_type": "stream",
     "text": [
      "T.FOLDABLE = true\n",
      "T.SIGNATURE = 3\n"
     ]
    },
    {
     "data": {
      "text/html": [
       "$3$"
      ],
      "text/plain": [
       "3"
      ]
     },
     "execution_count": 4,
     "metadata": {},
     "output_type": "execute_result"
    }
   ],
   "source": [
    "T = Polymake.topaz.GeometricSimplicialComplex(COORDINATES = A[:,2:end], FACETS = F)\n",
    "@show T.FOLDABLE\n",
    "@show T.SIGNATURE"
   ]
  },
  {
   "cell_type": "markdown",
   "metadata": {},
   "source": [
    "This ideal will be relevant later to check a certain condition, involving the triangulation and some lifting function.  The implementation uses HomotopyContinuation and polymake."
   ]
  },
  {
   "cell_type": "code",
   "execution_count": 5,
   "metadata": {},
   "outputs": [],
   "source": [
    "using HomotopyContinuation\n",
    "\n",
    "function hc_poly(f, vars)\n",
    "    M = Polymake.monomials_as_matrix(f)\n",
    "    monomials_as_matrix = [prod(vars.^m) for m in eachrow(M)]\n",
    "    coeffs = Int.(Polymake.coefficients_as_vector(f))\n",
    "    sum(map(*, coeffs, monomials_as_matrix))\n",
    "end;"
   ]
  },
  {
   "cell_type": "code",
   "execution_count": 6,
   "metadata": {},
   "outputs": [
    {
     "ename": "MethodError",
     "evalue": "MethodError: no method matching Int64(::Polymake.RationalAllocated)\nClosest candidates are:\n  Int64(::T) where T<:Number at boot.jl:718\n  Int64(!Matched::Union{Bool, Int32, Int64, UInt32, UInt64, UInt8, Int128, Int16, Int8, UInt128, UInt16}) at boot.jl:710\n  Int64(!Matched::Ptr) at boot.jl:720\n  ...",
     "output_type": "error",
     "traceback": [
      "MethodError: no method matching Int64(::Polymake.RationalAllocated)\nClosest candidates are:\n  Int64(::T) where T<:Number at boot.jl:718\n  Int64(!Matched::Union{Bool, Int32, Int64, UInt32, UInt64, UInt8, Int128, Int16, Int8, UInt128, UInt16}) at boot.jl:710\n  Int64(!Matched::Ptr) at boot.jl:720\n  ...",
      "",
      "Stacktrace:",
      " [1] _broadcast_getindex at ./broadcast.jl:630 [inlined]",
      " [2] getindex at ./broadcast.jl:563 [inlined]",
      " [3] copy at ./broadcast.jl:853 [inlined]",
      " [4] materialize at ./broadcast.jl:819 [inlined]",
      " [5] hc_poly(::Polymake.PolynomialAllocated{Polymake.Rational,CxxWrap.CxxWrapCore.CxxLong}, ::Array{DynamicPolynomials.PolyVar{true},1}) at ./In[5]:6",
      " [6] (::var\"#5#6\")(::Polymake.PolynomialAllocated{Polymake.Rational,CxxWrap.CxxWrapCore.CxxLong}) at ./none:0",
      " [7] iterate at ./generator.jl:47 [inlined]",
      " [8] collect(::Base.Generator{Polymake.ArrayAllocated{Polymake.Polynomial{Polymake.Rational,CxxWrap.CxxWrapCore.CxxLong}},var\"#5#6\"}) at ./array.jl:622",
      " [9] top-level scope at In[6]:3"
     ]
    }
   ],
   "source": [
    "I = Polymake.polytope.wronski_center_ideal(A, λ)\n",
    "@polyvar x[1:2] s;\n",
    "HC_I = [hc_poly(f, [x;s]) for f in I.GENERATORS]"
   ]
  },
  {
   "cell_type": "code",
   "execution_count": null,
   "metadata": {},
   "outputs": [],
   "source": [
    "function wronski_center_ideal(L::AbstractMatrix, λ::AbstractVector)\n",
    "    d = size(L, 2) - 1\n",
    "    N = size(L, 1)\n",
    "    \n",
    "    T = Polymake.topaz.SimplicialComplex(FACETS=Polymake.polytope.regular_subdivision(L, λ))\n",
    "    \n",
    "    proj_orbits = Polymake.common.convert_to{Array{Set{Int}}}(T.PROJ_ORBITS)\n",
    "    \n",
    "    colors = Dict([first(o) => i for (i, o) in enumerate(proj_orbits)])\n",
    "    points_by_color = [Int[] for _ in 0:d]\n",
    "    for (i, c) in enumerate(T.PROJ_DICTIONARY)\n",
    "        push!(points_by_color[colors[c]], i)\n",
    "    end\n",
    "    \n",
    "    vars = [[\"x$i\" for i in 1:d]; \"s\"] # elimination ordering\n",
    "    R, X = Singular.PolynomialRing(Singular.QQ, vars, ordering = :lex)\n",
    "    \n",
    "    # create generators\n",
    "    monomials = [L[:,2:end] λ]\n",
    "    Singular.Ideal(R, map(points_by_color) do pts\n",
    "        M = monomials[pts, :]\n",
    "        sum(prod(X[j]^Int(M[i, j]) for j in 1:d+1) for i in 1:size(M, 1))\n",
    "    end)\n",
    "end"
   ]
  },
  {
   "cell_type": "markdown",
   "metadata": {},
   "source": [
    "It is a fact that the vertices of a foldable triangulation can be colored by $d+1$ colors (such that vertices of the same color do not share an edge), where $d$ is the dimension.  Here $d=2$.\n",
    "\n",
    "Now a <i>Wronski polynomial</i> has the given lattice points as exponents, and only one coefficient per color class of vertices of the triangulation."
   ]
  },
  {
   "cell_type": "code",
   "execution_count": null,
   "metadata": {},
   "outputs": [],
   "source": [
    "function wronski_polynomial(\n",
    "        M, λ, coeffs, s, X;\n",
    "        triangulation = Polymake.topaz.SimplicialComplex(FACETS=Polymake.polytope.regular_subdivision(M, λ))\n",
    ")        \n",
    "    n = size(M, 1)\n",
    "    d = size(M, 2)  - 1\n",
    "    T = triangulation\n",
    "    m = Dict(f[1] => i for (i, f) in enumerate(T.FACETS[1]))\n",
    "    full_coeffs = [s^Int(λ[i]) * coeffs[m[T.PROJ_DICTIONARY[i]]] for (i, λᵢ) in enumerate(λ)]\n",
    "    sum(full_coeffs[i] * prod(X[j]^Int(M[i, j + 1]) for j in 1:d) for i in 1:size(M, 1))\n",
    "end"
   ]
  },
  {
   "cell_type": "markdown",
   "metadata": {},
   "source": [
    "A <i>Wronski system</i> consists of $d$ Wronski polynomials with respect to the same lattice points and triangulation.  It is assumed that the coefficients are generic."
   ]
  },
  {
   "cell_type": "code",
   "execution_count": null,
   "metadata": {},
   "outputs": [],
   "source": [
    "function wronski_system(M, λ, coeffs_vec, s, X;\n",
    "    triangulation = Polymake.topaz.SimplicialComplex(FACETS=Polymake.polytope.regular_subdivision(M, λ))\n",
    ")\n",
    "    map(c -> wronski_polynomial(M, λ, c, s, X; triangulation = triangulation), coeffs)\n",
    "end"
   ]
  },
  {
   "cell_type": "markdown",
   "metadata": {},
   "source": [
    "The Wronski center ideal is generated by $d+1$, here 3, polynomials which collect the terms of the color classes and a new variable, $s$, for the lifting function."
   ]
  },
  {
   "cell_type": "code",
   "execution_count": null,
   "metadata": {},
   "outputs": [],
   "source": [
    "I = wronski_center_ideal(M, λ)\n",
    "Singular.gens(I)"
   ]
  },
  {
   "cell_type": "markdown",
   "metadata": {},
   "source": [
    "We compute a Gröbner basis with respect to the lex-ordering.  As this is an elimination ordering, the first polynomial is the eliminant, which is a univariate polynomial in $s$."
   ]
  },
  {
   "cell_type": "code",
   "execution_count": null,
   "metadata": {},
   "outputs": [],
   "source": [
    "e = first(Singular.gens(Singular.std(I)))"
   ]
  },
  {
   "cell_type": "markdown",
   "metadata": {},
   "source": [
    "Via Nemo we get a univariate polynomial ring with complex coefficients, which are floating point number with arbitrary precision."
   ]
  },
  {
   "cell_type": "code",
   "execution_count": null,
   "metadata": {},
   "outputs": [],
   "source": [
    "CC, s = Nemo.PolynomialRing(ComplexField(256), \"s\")"
   ]
  },
  {
   "cell_type": "markdown",
   "metadata": {},
   "source": [
    "We are interested in toric solutions; hence we may divide the eliminant by $s^{15}$."
   ]
  },
  {
   "cell_type": "code",
   "execution_count": null,
   "metadata": {},
   "outputs": [],
   "source": [
    "c = Rational{BigInt}.(Singular.coeffs(e))\n",
    "exps = last.(Singular.exponent_vectors(e))\n",
    "\n",
    "# Ignore 0 solutions\n",
    "exps .-= minimum(exps)"
   ]
  },
  {
   "cell_type": "markdown",
   "metadata": {},
   "source": [
    "We get 18 complex roots, out of which two are real.  One of the conditions to check asks that there are no real roots between $0$ and $1$.  See the Soprunova-Sottile paper for details."
   ]
  },
  {
   "cell_type": "code",
   "execution_count": null,
   "metadata": {},
   "outputs": [],
   "source": [
    "roots(sum(c.* s.^exps))"
   ]
  },
  {
   "cell_type": "markdown",
   "metadata": {},
   "source": [
    "The main result of their paper says that, if all the conditions are satisfied, then a Wronski system has at least signature many real solutions."
   ]
  },
  {
   "cell_type": "code",
   "execution_count": null,
   "metadata": {},
   "outputs": [],
   "source": [
    "import HomotopyContinuation\n",
    "HomotopyContinuation.@polyvar x[1:2]\n",
    "\n",
    "coeffs = [[19,8,-19],[39,7,42]]\n",
    "W = wronski_system(M, λ, coeffs, 1, x; triangulation = T)"
   ]
  },
  {
   "cell_type": "code",
   "execution_count": null,
   "metadata": {},
   "outputs": [],
   "source": [
    "result = HomotopyContinuation.solve(W)"
   ]
  },
  {
   "cell_type": "code",
   "execution_count": null,
   "metadata": {
    "scrolled": true
   },
   "outputs": [],
   "source": [
    "HomotopyContinuation.real_solutions(result)"
   ]
  },
  {
   "cell_type": "markdown",
   "metadata": {},
   "source": [
    "## Visualization (using Sascha's very fresh code)"
   ]
  },
  {
   "cell_type": "code",
   "execution_count": null,
   "metadata": {},
   "outputs": [],
   "source": [
    "using ImplicitPlots\n",
    "p1 = implicit_plot(W[1])\n",
    "ImplicitPlots.implicit_plot!(p1, W[2]; color=:indianred)"
   ]
  },
  {
   "cell_type": "code",
   "execution_count": null,
   "metadata": {},
   "outputs": [],
   "source": []
  }
 ],
 "metadata": {
  "kernelspec": {
   "display_name": "Julia 1.3.1",
   "language": "julia",
   "name": "julia-1.3"
  },
  "language_info": {
   "file_extension": ".jl",
   "mimetype": "application/julia",
   "name": "julia",
   "version": "1.3.1"
  }
 },
 "nbformat": 4,
 "nbformat_minor": 2
}
